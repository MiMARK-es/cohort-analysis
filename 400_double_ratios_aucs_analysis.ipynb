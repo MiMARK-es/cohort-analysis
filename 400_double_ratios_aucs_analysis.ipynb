{
 "cells": [
  {
   "cell_type": "markdown",
   "metadata": {},
   "source": [
    "# Cohort 400 ratios AUCs analysis (a/c + b/c)\n",
    "\n",
    "### Imports and environment setup\n",
    "\n",
    "- Date of run: 2024-09-16\n",
    "- Environment: python 3.12\n",
    "- Packages required: pandas, numpy, sklearn, statsmodels, seaborn, matplotlib"
   ]
  },
  {
   "cell_type": "code",
   "execution_count": 1,
   "metadata": {},
   "outputs": [],
   "source": [
    "# Include in the environment the code directory with the utils function\n",
    "import sys\n",
    "sys.path.append('../code/')"
   ]
  },
  {
   "cell_type": "code",
   "execution_count": 2,
   "metadata": {},
   "outputs": [],
   "source": [
    "# Library imports\n",
    "import pandas as pd\n",
    "from IPython.display import display, HTML\n",
    "import matplotlib.pyplot as plt\n",
    "import seaborn as sns\n",
    "import numpy as np\n",
    "\n",
    "# Utils imports\n",
    "import cohort_analysis_utils as utils\n",
    "import ms_utils"
   ]
  },
  {
   "cell_type": "code",
   "execution_count": 3,
   "metadata": {},
   "outputs": [],
   "source": [
    "# Remove warnings for readability\n",
    "import warnings\n",
    "warnings.filterwarnings('ignore')\n",
    "\n",
    "# Remove cell printing limits\n",
    "pd.set_option('display.max_rows', None)"
   ]
  },
  {
   "cell_type": "markdown",
   "metadata": {},
   "source": [
    "# Data loading and preprosessing\n",
    "\n",
    "For this analysis, we are going to work with the MS ratios file ─located at [\"data/ms/Womec_targetedDIA_ratio.csv\"](<../data/ms/Womec_targetedDIA_ratio.csv>)─. In the same folders there are files for MS areas, untargeted MS, metadata from the patients and protein data."
   ]
  },
  {
   "cell_type": "code",
   "execution_count": 4,
   "metadata": {},
   "outputs": [],
   "source": [
    "METADATA_PATH = '../data/ms/Womec_DIA_patients.csv'\n",
    "WOMEC_DIA_PATH = '../data/ms/Womec_targetedDIA_ratio.csv'\n",
    "PROTEIN_DATA_PATH = '../data/ms/Womec_DIA_protein_data.csv'\n",
    "\n",
    "# Key field to link the metadata with the WOMEC data\n",
    "KEY_COLUMN = 'filename_womec'\n"
   ]
  },
  {
   "cell_type": "code",
   "execution_count": 5,
   "metadata": {},
   "outputs": [],
   "source": [
    "# Load, harmonize and merge the data with the metadata\n",
    "df_400 = ms_utils.load_data_with_metadata(WOMEC_DIA_PATH, METADATA_PATH, KEY_COLUMN)"
   ]
  },
  {
   "cell_type": "code",
   "execution_count": 6,
   "metadata": {},
   "outputs": [],
   "source": [
    "# Different peptides for the same protein will have the same column name, rename then as _0, _1, _2, etc.\n",
    "df_400 = ms_utils.rename_duplicated_columns(df_400)"
   ]
  },
  {
   "cell_type": "code",
   "execution_count": 7,
   "metadata": {},
   "outputs": [],
   "source": [
    "# Ensure categorical columns are treated as such\n",
    "df_400 = utils.cols_as_category(df_400, {'Condition':{'Benigna': 0, 'EC': 1, 'Sarcoma uterino': 1}})"
   ]
  },
  {
   "cell_type": "code",
   "execution_count": 8,
   "metadata": {},
   "outputs": [],
   "source": [
    "# Define the biomarkers columns\n",
    "BIOMARKERS_400 = list(df_400.columns[17:])"
   ]
  },
  {
   "cell_type": "code",
   "execution_count": 9,
   "metadata": {},
   "outputs": [],
   "source": [
    "# Ensure numerical columns are treated as such\n",
    "df_400 = utils.cols_as_numbers(df_400, BIOMARKERS_400)"
   ]
  },
  {
   "cell_type": "code",
   "execution_count": 10,
   "metadata": {},
   "outputs": [],
   "source": [
    "# We load in a separate dataframe the protein data\n",
    "df_protein_data = pd.read_csv(PROTEIN_DATA_PATH, sep='\\t', index_col='Genes', header=0)"
   ]
  },
  {
   "cell_type": "markdown",
   "metadata": {},
   "source": [
    "# Computing the models"
   ]
  },
  {
   "cell_type": "code",
   "execution_count": 11,
   "metadata": {},
   "outputs": [],
   "source": [
    "# General params\n",
    "RESULTS_PATH = '../data/results/400'"
   ]
  },
  {
   "cell_type": "markdown",
   "metadata": {},
   "source": [
    "We will consider only the biomarkers with at least 100 samples for Benign and Cancer conditions with an individual AUC of at least 0.65"
   ]
  },
  {
   "cell_type": "code",
   "execution_count": 12,
   "metadata": {},
   "outputs": [],
   "source": [
    "# Load the results\n",
    "df_400_results_direct_max_1 = pd.read_csv(f'{RESULTS_PATH}/direct/max_1.csv', sep=',', index_col=0, header=0)"
   ]
  },
  {
   "cell_type": "code",
   "execution_count": 13,
   "metadata": {},
   "outputs": [],
   "source": [
    "# Filter out the models that are not significant\n",
    "BEST_BIOMARKERS = []\n",
    "\n",
    "for biomarker in df_400_results_direct_max_1.index:\n",
    "    if df_400_results_direct_max_1.loc[biomarker, 'AUC'] > 0.7:\n",
    "        # Require the biomarker to appear in at least 100 samples of each condition\n",
    "        if df_400[df_400['Condition'] == 1][biomarker].notna().sum() > 100 and (df_400[df_400['Condition'] == 0][biomarker].notna()).sum() > 100:\n",
    "            BEST_BIOMARKERS.append(biomarker)"
   ]
  },
  {
   "cell_type": "code",
   "execution_count": 14,
   "metadata": {},
   "outputs": [
    {
     "name": "stdout",
     "output_type": "stream",
     "text": [
      "53 biomarkers have an AUC > 0.65 and appear in at least 100 samples of each condition\n"
     ]
    }
   ],
   "source": [
    "print(f\"{len(set([bmk.split('_')[0] for bmk in BEST_BIOMARKERS]))} biomarkers have an AUC > 0.65 and appear in at least 100 samples of each condition\")"
   ]
  },
  {
   "cell_type": "markdown",
   "metadata": {},
   "source": [
    "We will consider for computing biomarker ratios only the relevant biomarkers (those with AUC > 0.65 and 100 for each condition)"
   ]
  },
  {
   "cell_type": "code",
   "execution_count": 15,
   "metadata": {},
   "outputs": [],
   "source": [
    "# This is costly, so is commented out to compute it only once\n",
    "\n",
    "_ = utils.compute_all_models_and_save(df=df_400, \n",
    "                                      biomarkers=BEST_BIOMARKERS, \n",
    "                                      target_col='Condition', \n",
    "                                      methods=['biomarker_ratio'], \n",
    "                                      max_biomarker_count=3,\n",
    "                                      folder_name=RESULTS_PATH,\n",
    "                                      auc_threshold=0.85)"
   ]
  },
  {
   "cell_type": "markdown",
   "metadata": {},
   "source": [
    "# Results\n",
    "\n",
    "Expectedly, as was happening with the usual AUC analysis, the biomarkers ratios with best performance are those with oposite tendencies. But in this scenario, they present slightly smaller AUCs than the classical models."
   ]
  },
  {
   "cell_type": "code",
   "execution_count": 16,
   "metadata": {},
   "outputs": [
    {
     "data": {
      "text/html": [
       "<div>\n",
       "<style scoped>\n",
       "    .dataframe tbody tr th:only-of-type {\n",
       "        vertical-align: middle;\n",
       "    }\n",
       "\n",
       "    .dataframe tbody tr th {\n",
       "        vertical-align: top;\n",
       "    }\n",
       "\n",
       "    .dataframe thead th {\n",
       "        text-align: right;\n",
       "    }\n",
       "</style>\n",
       "<table border=\"1\" class=\"dataframe\">\n",
       "  <thead>\n",
       "    <tr style=\"text-align: right;\">\n",
       "      <th></th>\n",
       "      <th></th>\n",
       "      <th>Biomarker_3</th>\n",
       "      <th>AUC</th>\n",
       "      <th>Sensitivity</th>\n",
       "      <th>Specificity</th>\n",
       "      <th>NPV</th>\n",
       "      <th>PPV</th>\n",
       "      <th>Best_Threshold</th>\n",
       "    </tr>\n",
       "    <tr>\n",
       "      <th>Biomarker_1</th>\n",
       "      <th>Biomarker_2</th>\n",
       "      <th></th>\n",
       "      <th></th>\n",
       "      <th></th>\n",
       "      <th></th>\n",
       "      <th></th>\n",
       "      <th></th>\n",
       "      <th></th>\n",
       "    </tr>\n",
       "  </thead>\n",
       "  <tbody>\n",
       "    <tr>\n",
       "      <th>LDHA_0</th>\n",
       "      <th>NAMPT_1</th>\n",
       "      <td>DCN_1</td>\n",
       "      <td>0.89792</td>\n",
       "      <td>0.95023</td>\n",
       "      <td>0.28369</td>\n",
       "      <td>0.78431</td>\n",
       "      <td>0.67524</td>\n",
       "      <td>0.60606</td>\n",
       "    </tr>\n",
       "    <tr>\n",
       "      <th>NAMPT_1</th>\n",
       "      <th>LDHA_0</th>\n",
       "      <td>DCN_1</td>\n",
       "      <td>0.89792</td>\n",
       "      <td>0.95023</td>\n",
       "      <td>0.28369</td>\n",
       "      <td>0.78431</td>\n",
       "      <td>0.67524</td>\n",
       "      <td>0.60606</td>\n",
       "    </tr>\n",
       "    <tr>\n",
       "      <th>UGDH_2</th>\n",
       "      <th>S100A12</th>\n",
       "      <td>DCN_1</td>\n",
       "      <td>0.89454</td>\n",
       "      <td>0.96154</td>\n",
       "      <td>0.33673</td>\n",
       "      <td>0.82500</td>\n",
       "      <td>0.72917</td>\n",
       "      <td>0.53535</td>\n",
       "    </tr>\n",
       "    <tr>\n",
       "      <th>S100A12</th>\n",
       "      <th>UGDH_2</th>\n",
       "      <td>DCN_1</td>\n",
       "      <td>0.89454</td>\n",
       "      <td>0.96154</td>\n",
       "      <td>0.33673</td>\n",
       "      <td>0.82500</td>\n",
       "      <td>0.72917</td>\n",
       "      <td>0.53535</td>\n",
       "    </tr>\n",
       "    <tr>\n",
       "      <th>TARS1_2</th>\n",
       "      <th>VPS35_0</th>\n",
       "      <td>DCN_1</td>\n",
       "      <td>0.89430</td>\n",
       "      <td>0.95735</td>\n",
       "      <td>0.41860</td>\n",
       "      <td>0.85714</td>\n",
       "      <td>0.72924</td>\n",
       "      <td>0.51515</td>\n",
       "    </tr>\n",
       "    <tr>\n",
       "      <th>VPS35_0</th>\n",
       "      <th>TARS1_2</th>\n",
       "      <td>DCN_1</td>\n",
       "      <td>0.89430</td>\n",
       "      <td>0.95735</td>\n",
       "      <td>0.41860</td>\n",
       "      <td>0.85714</td>\n",
       "      <td>0.72924</td>\n",
       "      <td>0.51515</td>\n",
       "    </tr>\n",
       "    <tr>\n",
       "      <th>TARS1_2</th>\n",
       "      <th>PSMD2</th>\n",
       "      <td>DCN_1</td>\n",
       "      <td>0.89392</td>\n",
       "      <td>0.95755</td>\n",
       "      <td>0.40157</td>\n",
       "      <td>0.85000</td>\n",
       "      <td>0.72760</td>\n",
       "      <td>0.52525</td>\n",
       "    </tr>\n",
       "    <tr>\n",
       "      <th>PSMD2</th>\n",
       "      <th>TARS1_2</th>\n",
       "      <td>DCN_1</td>\n",
       "      <td>0.89392</td>\n",
       "      <td>0.95755</td>\n",
       "      <td>0.40157</td>\n",
       "      <td>0.85000</td>\n",
       "      <td>0.72760</td>\n",
       "      <td>0.52525</td>\n",
       "    </tr>\n",
       "    <tr>\n",
       "      <th>ENO1_0</th>\n",
       "      <th>DCN_1</th>\n",
       "      <td>UGDH_2</td>\n",
       "      <td>0.89283</td>\n",
       "      <td>0.95045</td>\n",
       "      <td>0.33846</td>\n",
       "      <td>0.80000</td>\n",
       "      <td>0.71044</td>\n",
       "      <td>0.21212</td>\n",
       "    </tr>\n",
       "    <tr>\n",
       "      <th>DCN_1</th>\n",
       "      <th>ENO1_0</th>\n",
       "      <td>UGDH_2</td>\n",
       "      <td>0.89283</td>\n",
       "      <td>0.95045</td>\n",
       "      <td>0.33846</td>\n",
       "      <td>0.80000</td>\n",
       "      <td>0.71044</td>\n",
       "      <td>0.21212</td>\n",
       "    </tr>\n",
       "    <tr>\n",
       "      <th>LDHA_0</th>\n",
       "      <th>DCN_1</th>\n",
       "      <td>MPO_0</td>\n",
       "      <td>0.89224</td>\n",
       "      <td>0.95111</td>\n",
       "      <td>0.41497</td>\n",
       "      <td>0.84722</td>\n",
       "      <td>0.71333</td>\n",
       "      <td>0.21212</td>\n",
       "    </tr>\n",
       "    <tr>\n",
       "      <th>DCN_1</th>\n",
       "      <th>LDHA_0</th>\n",
       "      <td>MPO_0</td>\n",
       "      <td>0.89224</td>\n",
       "      <td>0.95111</td>\n",
       "      <td>0.41497</td>\n",
       "      <td>0.84722</td>\n",
       "      <td>0.71333</td>\n",
       "      <td>0.21212</td>\n",
       "    </tr>\n",
       "    <tr>\n",
       "      <th>LDHA_1</th>\n",
       "      <th>NAMPT_1</th>\n",
       "      <td>DCN_1</td>\n",
       "      <td>0.89208</td>\n",
       "      <td>0.95475</td>\n",
       "      <td>0.23571</td>\n",
       "      <td>0.76744</td>\n",
       "      <td>0.66352</td>\n",
       "      <td>0.59596</td>\n",
       "    </tr>\n",
       "    <tr>\n",
       "      <th>NAMPT_1</th>\n",
       "      <th>LDHA_1</th>\n",
       "      <td>DCN_1</td>\n",
       "      <td>0.89208</td>\n",
       "      <td>0.95475</td>\n",
       "      <td>0.23571</td>\n",
       "      <td>0.76744</td>\n",
       "      <td>0.66352</td>\n",
       "      <td>0.59596</td>\n",
       "    </tr>\n",
       "    <tr>\n",
       "      <th>LDHA_0</th>\n",
       "      <th>DCN_1</th>\n",
       "      <td>MMP9_0</td>\n",
       "      <td>0.89198</td>\n",
       "      <td>0.95111</td>\n",
       "      <td>0.34752</td>\n",
       "      <td>0.81667</td>\n",
       "      <td>0.69935</td>\n",
       "      <td>0.19192</td>\n",
       "    </tr>\n",
       "  </tbody>\n",
       "</table>\n",
       "</div>"
      ],
      "text/plain": [
       "                        Biomarker_3      AUC  Sensitivity  Specificity  \\\n",
       "Biomarker_1 Biomarker_2                                                  \n",
       "LDHA_0      NAMPT_1           DCN_1  0.89792      0.95023      0.28369   \n",
       "NAMPT_1     LDHA_0            DCN_1  0.89792      0.95023      0.28369   \n",
       "UGDH_2      S100A12           DCN_1  0.89454      0.96154      0.33673   \n",
       "S100A12     UGDH_2            DCN_1  0.89454      0.96154      0.33673   \n",
       "TARS1_2     VPS35_0           DCN_1  0.89430      0.95735      0.41860   \n",
       "VPS35_0     TARS1_2           DCN_1  0.89430      0.95735      0.41860   \n",
       "TARS1_2     PSMD2             DCN_1  0.89392      0.95755      0.40157   \n",
       "PSMD2       TARS1_2           DCN_1  0.89392      0.95755      0.40157   \n",
       "ENO1_0      DCN_1            UGDH_2  0.89283      0.95045      0.33846   \n",
       "DCN_1       ENO1_0           UGDH_2  0.89283      0.95045      0.33846   \n",
       "LDHA_0      DCN_1             MPO_0  0.89224      0.95111      0.41497   \n",
       "DCN_1       LDHA_0            MPO_0  0.89224      0.95111      0.41497   \n",
       "LDHA_1      NAMPT_1           DCN_1  0.89208      0.95475      0.23571   \n",
       "NAMPT_1     LDHA_1            DCN_1  0.89208      0.95475      0.23571   \n",
       "LDHA_0      DCN_1            MMP9_0  0.89198      0.95111      0.34752   \n",
       "\n",
       "                             NPV      PPV  Best_Threshold  \n",
       "Biomarker_1 Biomarker_2                                    \n",
       "LDHA_0      NAMPT_1      0.78431  0.67524         0.60606  \n",
       "NAMPT_1     LDHA_0       0.78431  0.67524         0.60606  \n",
       "UGDH_2      S100A12      0.82500  0.72917         0.53535  \n",
       "S100A12     UGDH_2       0.82500  0.72917         0.53535  \n",
       "TARS1_2     VPS35_0      0.85714  0.72924         0.51515  \n",
       "VPS35_0     TARS1_2      0.85714  0.72924         0.51515  \n",
       "TARS1_2     PSMD2        0.85000  0.72760         0.52525  \n",
       "PSMD2       TARS1_2      0.85000  0.72760         0.52525  \n",
       "ENO1_0      DCN_1        0.80000  0.71044         0.21212  \n",
       "DCN_1       ENO1_0       0.80000  0.71044         0.21212  \n",
       "LDHA_0      DCN_1        0.84722  0.71333         0.21212  \n",
       "DCN_1       LDHA_0       0.84722  0.71333         0.21212  \n",
       "LDHA_1      NAMPT_1      0.76744  0.66352         0.59596  \n",
       "NAMPT_1     LDHA_1       0.76744  0.66352         0.59596  \n",
       "LDHA_0      DCN_1        0.81667  0.69935         0.19192  "
      ]
     },
     "execution_count": 16,
     "metadata": {},
     "output_type": "execute_result"
    }
   ],
   "source": [
    "df_400_results_biomarker_ratio_max_3 = pd.read_csv(f'{RESULTS_PATH}/biomarker_ratio/max_3.csv', sep=',', index_col=[0,1], header=0)\n",
    "df_400_results_biomarker_ratio_max_3.head(15)"
   ]
  },
  {
   "cell_type": "code",
   "execution_count": 17,
   "metadata": {},
   "outputs": [
    {
     "data": {
      "text/plain": [
       "<Axes: xlabel='DCN_1', ylabel='Count'>"
      ]
     },
     "execution_count": 17,
     "metadata": {},
     "output_type": "execute_result"
    },
    {
     "data": {
      "image/png": "[encoded data removed]",
      "text/plain": [
       "<Figure size 640x480 with 1 Axes>"
      ]
     },
     "metadata": {},
     "output_type": "display_data"
    }
   ],
   "source": [
    "sns.histplot(df_400, x='DCN_1', hue='Condition', bins=20, kde=True, log_scale=True)\n"
   ]
  },
  {
   "cell_type": "code",
   "execution_count": 19,
   "metadata": {},
   "outputs": [
    {
     "data": {
      "text/plain": [
       "<Axes: xlabel='NAMPT_1', ylabel='Count'>"
      ]
     },
     "execution_count": 19,
     "metadata": {},
     "output_type": "execute_result"
    },
    {
     "data": {
      "image/png": "[encoded data removed]",
      "text/plain": [
       "<Figure size 640x480 with 1 Axes>"
      ]
     },
     "metadata": {},
     "output_type": "display_data"
    }
   ],
   "source": [
    "sns.histplot(df_400, x='NAMPT_1', hue='Condition', bins=20, kde=True, log_scale=True)"
   ]
  },
  {
   "cell_type": "code",
   "execution_count": 20,
   "metadata": {},
   "outputs": [
    {
     "data": {
      "text/html": [
       "<div>\n",
       "<style scoped>\n",
       "    .dataframe tbody tr th:only-of-type {\n",
       "        vertical-align: middle;\n",
       "    }\n",
       "\n",
       "    .dataframe tbody tr th {\n",
       "        vertical-align: top;\n",
       "    }\n",
       "\n",
       "    .dataframe thead th {\n",
       "        text-align: right;\n",
       "    }\n",
       "</style>\n",
       "<table border=\"1\" class=\"dataframe\">\n",
       "  <thead>\n",
       "    <tr style=\"text-align: right;\">\n",
       "      <th></th>\n",
       "      <th></th>\n",
       "      <th></th>\n",
       "      <th>AUC</th>\n",
       "      <th>Sensitivity</th>\n",
       "      <th>Specificity</th>\n",
       "      <th>NPV</th>\n",
       "      <th>PPV</th>\n",
       "      <th>Best_Threshold</th>\n",
       "    </tr>\n",
       "    <tr>\n",
       "      <th>Biomarker_1</th>\n",
       "      <th>Biomarker_2</th>\n",
       "      <th>Biomarker_3</th>\n",
       "      <th></th>\n",
       "      <th></th>\n",
       "      <th></th>\n",
       "      <th></th>\n",
       "      <th></th>\n",
       "      <th></th>\n",
       "    </tr>\n",
       "  </thead>\n",
       "  <tbody>\n",
       "    <tr>\n",
       "      <th rowspan=\"2\" valign=\"top\">DCN_1</th>\n",
       "      <th>FASN</th>\n",
       "      <th>AGRN_0</th>\n",
       "      <td>0.90802</td>\n",
       "      <td>0.95392</td>\n",
       "      <td>0.34959</td>\n",
       "      <td>0.81132</td>\n",
       "      <td>0.72125</td>\n",
       "      <td>0.32323</td>\n",
       "    </tr>\n",
       "    <tr>\n",
       "      <th>ENO1_0</th>\n",
       "      <th>GSTP1_1</th>\n",
       "      <td>0.90134</td>\n",
       "      <td>0.96226</td>\n",
       "      <td>0.28788</td>\n",
       "      <td>0.82609</td>\n",
       "      <td>0.68456</td>\n",
       "      <td>0.20202</td>\n",
       "    </tr>\n",
       "    <tr>\n",
       "      <th>FASN</th>\n",
       "      <th>DCN_0</th>\n",
       "      <th>AGRN_0</th>\n",
       "      <td>0.90122</td>\n",
       "      <td>0.95673</td>\n",
       "      <td>0.41880</td>\n",
       "      <td>0.84483</td>\n",
       "      <td>0.74532</td>\n",
       "      <td>0.36364</td>\n",
       "    </tr>\n",
       "    <tr>\n",
       "      <th>DCN_1</th>\n",
       "      <th>CACYBP_1</th>\n",
       "      <th>AGRN_0</th>\n",
       "      <td>0.90046</td>\n",
       "      <td>0.95045</td>\n",
       "      <td>0.34586</td>\n",
       "      <td>0.80702</td>\n",
       "      <td>0.70805</td>\n",
       "      <td>0.33333</td>\n",
       "    </tr>\n",
       "    <tr>\n",
       "      <th rowspan=\"2\" valign=\"top\">FASN</th>\n",
       "      <th>LDHA_0</th>\n",
       "      <th>DCN_0</th>\n",
       "      <td>0.89933</td>\n",
       "      <td>0.95215</td>\n",
       "      <td>0.26400</td>\n",
       "      <td>0.76744</td>\n",
       "      <td>0.68385</td>\n",
       "      <td>0.30303</td>\n",
       "    </tr>\n",
       "    <tr>\n",
       "      <th>LDHA_1</th>\n",
       "      <th>DCN_0</th>\n",
       "      <td>0.89844</td>\n",
       "      <td>0.95215</td>\n",
       "      <td>0.27419</td>\n",
       "      <td>0.77273</td>\n",
       "      <td>0.68858</td>\n",
       "      <td>0.31313</td>\n",
       "    </tr>\n",
       "    <tr>\n",
       "      <th rowspan=\"4\" valign=\"top\">DCN_1</th>\n",
       "      <th>VPS35_0</th>\n",
       "      <th>LDHA_0</th>\n",
       "      <td>0.89790</td>\n",
       "      <td>0.95305</td>\n",
       "      <td>0.30597</td>\n",
       "      <td>0.80392</td>\n",
       "      <td>0.68581</td>\n",
       "      <td>0.37374</td>\n",
       "    </tr>\n",
       "    <tr>\n",
       "      <th rowspan=\"2\" valign=\"top\">FASN</th>\n",
       "      <th>MVP_0</th>\n",
       "      <td>0.89769</td>\n",
       "      <td>0.95455</td>\n",
       "      <td>0.31818</td>\n",
       "      <td>0.80769</td>\n",
       "      <td>0.70000</td>\n",
       "      <td>0.32323</td>\n",
       "    </tr>\n",
       "    <tr>\n",
       "      <th>LDHA_0</th>\n",
       "      <td>0.89747</td>\n",
       "      <td>0.96364</td>\n",
       "      <td>0.27820</td>\n",
       "      <td>0.82222</td>\n",
       "      <td>0.68831</td>\n",
       "      <td>0.31313</td>\n",
       "    </tr>\n",
       "    <tr>\n",
       "      <th>ENO1_0</th>\n",
       "      <th>FASN</th>\n",
       "      <td>0.89728</td>\n",
       "      <td>0.95455</td>\n",
       "      <td>0.28788</td>\n",
       "      <td>0.79167</td>\n",
       "      <td>0.69079</td>\n",
       "      <td>0.33333</td>\n",
       "    </tr>\n",
       "    <tr>\n",
       "      <th>ENO1_0</th>\n",
       "      <th>FASN</th>\n",
       "      <th>DCN_0</th>\n",
       "      <td>0.89678</td>\n",
       "      <td>0.95694</td>\n",
       "      <td>0.32258</td>\n",
       "      <td>0.81633</td>\n",
       "      <td>0.70423</td>\n",
       "      <td>0.35354</td>\n",
       "    </tr>\n",
       "    <tr>\n",
       "      <th rowspan=\"4\" valign=\"top\">DCN_1</th>\n",
       "      <th>FASN</th>\n",
       "      <th>LDHA_1</th>\n",
       "      <td>0.89669</td>\n",
       "      <td>0.95455</td>\n",
       "      <td>0.27273</td>\n",
       "      <td>0.78261</td>\n",
       "      <td>0.68627</td>\n",
       "      <td>0.32323</td>\n",
       "    </tr>\n",
       "    <tr>\n",
       "      <th rowspan=\"2\" valign=\"top\">GSTP1_1</th>\n",
       "      <th>LDHA_0</th>\n",
       "      <td>0.89623</td>\n",
       "      <td>0.95283</td>\n",
       "      <td>0.33835</td>\n",
       "      <td>0.81818</td>\n",
       "      <td>0.69655</td>\n",
       "      <td>0.24242</td>\n",
       "    </tr>\n",
       "    <tr>\n",
       "      <th>FASN</th>\n",
       "      <td>0.89581</td>\n",
       "      <td>0.95169</td>\n",
       "      <td>0.39167</td>\n",
       "      <td>0.82456</td>\n",
       "      <td>0.72963</td>\n",
       "      <td>0.34343</td>\n",
       "    </tr>\n",
       "    <tr>\n",
       "      <th>FASN</th>\n",
       "      <th>GMDS_2</th>\n",
       "      <td>0.89571</td>\n",
       "      <td>0.95434</td>\n",
       "      <td>0.24615</td>\n",
       "      <td>0.76190</td>\n",
       "      <td>0.68078</td>\n",
       "      <td>0.25253</td>\n",
       "    </tr>\n",
       "  </tbody>\n",
       "</table>\n",
       "</div>"
      ],
      "text/plain": [
       "                                         AUC  Sensitivity  Specificity  \\\n",
       "Biomarker_1 Biomarker_2 Biomarker_3                                      \n",
       "DCN_1       FASN        AGRN_0       0.90802      0.95392      0.34959   \n",
       "            ENO1_0      GSTP1_1      0.90134      0.96226      0.28788   \n",
       "FASN        DCN_0       AGRN_0       0.90122      0.95673      0.41880   \n",
       "DCN_1       CACYBP_1    AGRN_0       0.90046      0.95045      0.34586   \n",
       "FASN        LDHA_0      DCN_0        0.89933      0.95215      0.26400   \n",
       "            LDHA_1      DCN_0        0.89844      0.95215      0.27419   \n",
       "DCN_1       VPS35_0     LDHA_0       0.89790      0.95305      0.30597   \n",
       "            FASN        MVP_0        0.89769      0.95455      0.31818   \n",
       "                        LDHA_0       0.89747      0.96364      0.27820   \n",
       "            ENO1_0      FASN         0.89728      0.95455      0.28788   \n",
       "ENO1_0      FASN        DCN_0        0.89678      0.95694      0.32258   \n",
       "DCN_1       FASN        LDHA_1       0.89669      0.95455      0.27273   \n",
       "            GSTP1_1     LDHA_0       0.89623      0.95283      0.33835   \n",
       "                        FASN         0.89581      0.95169      0.39167   \n",
       "            FASN        GMDS_2       0.89571      0.95434      0.24615   \n",
       "\n",
       "                                         NPV      PPV  Best_Threshold  \n",
       "Biomarker_1 Biomarker_2 Biomarker_3                                    \n",
       "DCN_1       FASN        AGRN_0       0.81132  0.72125         0.32323  \n",
       "            ENO1_0      GSTP1_1      0.82609  0.68456         0.20202  \n",
       "FASN        DCN_0       AGRN_0       0.84483  0.74532         0.36364  \n",
       "DCN_1       CACYBP_1    AGRN_0       0.80702  0.70805         0.33333  \n",
       "FASN        LDHA_0      DCN_0        0.76744  0.68385         0.30303  \n",
       "            LDHA_1      DCN_0        0.77273  0.68858         0.31313  \n",
       "DCN_1       VPS35_0     LDHA_0       0.80392  0.68581         0.37374  \n",
       "            FASN        MVP_0        0.80769  0.70000         0.32323  \n",
       "                        LDHA_0       0.82222  0.68831         0.31313  \n",
       "            ENO1_0      FASN         0.79167  0.69079         0.33333  \n",
       "ENO1_0      FASN        DCN_0        0.81633  0.70423         0.35354  \n",
       "DCN_1       FASN        LDHA_1       0.78261  0.68627         0.32323  \n",
       "            GSTP1_1     LDHA_0       0.81818  0.69655         0.24242  \n",
       "                        FASN         0.82456  0.72963         0.34343  \n",
       "            FASN        GMDS_2       0.76190  0.68078         0.25253  "
      ]
     },
     "execution_count": 20,
     "metadata": {},
     "output_type": "execute_result"
    }
   ],
   "source": [
    "df_400_results_direct_max_3 = pd.read_csv(f'{RESULTS_PATH}/direct/max_3.csv', sep=',', index_col=[0,1,2], header=0)\n",
    "df_400_results_direct_max_3.head(15)"
   ]
  },
  {
   "cell_type": "markdown",
   "metadata": {},
   "source": [
    "Let's compare the AUCs for the same indices in the two dataframes."
   ]
  },
  {
   "cell_type": "code",
   "execution_count": 22,
   "metadata": {},
   "outputs": [
    {
     "data": {
      "text/plain": [
       "<Axes: xlabel='AUC', ylabel='Count'>"
      ]
     },
     "execution_count": 22,
     "metadata": {},
     "output_type": "execute_result"
    },
    {
     "data": {
      "image/png": "[encoded data removed]",
      "text/plain": [
       "<Figure size 640x480 with 1 Axes>"
      ]
     },
     "metadata": {},
     "output_type": "display_data"
    }
   ],
   "source": [
    "sns.histplot(df_400_results_direct_max_3['AUC'] - df_400_results_biomarker_ratio_max_3['AUC'])"
   ]
  },
  {
   "cell_type": "markdown",
   "metadata": {},
   "source": [
    "As can be observed, very few have a a bigger AUC and by very small margin, but generally the AUCs of the ratios are generally small."
   ]
  }
 ],
 "metadata": {
  "kernelspec": {
   "display_name": ".venv",
   "language": "python",
   "name": "python3"
  },
  "language_info": {
   "codemirror_mode": {
    "name": "ipython",
    "version": 3
   },
   "file_extension": ".py",
   "mimetype": "text/x-python",
   "name": "python",
   "nbconvert_exporter": "python",
   "pygments_lexer": "ipython3",
   "version": "3.12.3"
  }
 },
 "nbformat": 4,
 "nbformat_minor": 2
}
