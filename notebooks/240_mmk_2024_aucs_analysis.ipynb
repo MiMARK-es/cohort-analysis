{
 "cells": [
  {
   "cell_type": "markdown",
   "metadata": {},
   "source": [
    "# Cohort 240 MMK AUCs analysis\n",
    "\n",
    "### Imports and environment setup\n",
    "\n",
    "- Date of run: 2024-09-19\n",
    "- Environment: python 3.12\n",
    "- Packages required: pandas, numpy, sklearn, statsmodels, seaborn, matplotlib"
   ]
  },
  {
   "cell_type": "code",
   "execution_count": 1,
   "metadata": {},
   "outputs": [],
   "source": [
    "# Include in the environment the code directory with the utils function\n",
    "import sys\n",
    "sys.path.append('../code/')"
   ]
  },
  {
   "cell_type": "code",
   "execution_count": 2,
   "metadata": {},
   "outputs": [],
   "source": [
    "# Library imports\n",
    "import pandas as pd\n",
    "from IPython.display import display, HTML\n",
    "import matplotlib.pyplot as plt\n",
    "import seaborn as sns\n",
    "import numpy as np\n",
    "\n",
    "# Utils imports\n",
    "import cohort_analysis_utils as utils"
   ]
  },
  {
   "cell_type": "code",
   "execution_count": 3,
   "metadata": {},
   "outputs": [],
   "source": [
    "# Remove warnings for readability\n",
    "import warnings\n",
    "warnings.filterwarnings('ignore')\n",
    "\n",
    "# Remove cell printing limits\n",
    "pd.set_option('display.max_rows', None)\n"
   ]
  },
  {
   "cell_type": "markdown",
   "metadata": {},
   "source": [
    "# Data loading and preprosessing"
   ]
  },
  {
   "cell_type": "markdown",
   "metadata": {},
   "source": [
    "The original excel file (available [here](<https://mimarkdx.sharepoint.com/:x:/s/Scientific/ESh2d12eFKVCi0_fbjrINmQBCBuutU-z5ni4lsReuJA-5w?e=WFNgxI>)) was saved into a CSV file in the data folder of this repository (available [here](<../data/mmk_240_20240919.csv>)), as a CSV."
   ]
  },
  {
   "cell_type": "code",
   "execution_count": 4,
   "metadata": {},
   "outputs": [],
   "source": [
    "df_240 = pd.read_csv('../data/mmk_240_20240919.csv', sep=',', index_col=0, header=0)"
   ]
  },
  {
   "cell_type": "code",
   "execution_count": 5,
   "metadata": {},
   "outputs": [],
   "source": [
    "# Harmonization of column names\n",
    "df_240 = utils.normalize_column_names(df_240)\n",
    "\n",
    "# To harmonize with other analyses, change _MIMARK to _MMK in column names\n",
    "df_240.columns = [col.replace('_MIMARK', '_MMK') for col in df_240.columns]"
   ]
  },
  {
   "cell_type": "code",
   "execution_count": 6,
   "metadata": {},
   "outputs": [
    {
     "data": {
      "text/plain": [
       "Index(['Condition', 'TP_2022', 'AGRIN_MMK', 'KPYM_MMK', 'HSPB1_MMK',\n",
       "       'PERM_MMK', 'MMP9_MMK', 'TP_2024'],\n",
       "      dtype='object')"
      ]
     },
     "execution_count": 6,
     "metadata": {},
     "output_type": "execute_result"
    }
   ],
   "source": [
    "df_240.columns"
   ]
  },
  {
   "cell_type": "code",
   "execution_count": 7,
   "metadata": {},
   "outputs": [],
   "source": [
    "# Ensure numeric columns are treated as such\n",
    "cols_240_to_num = ['TP_2022', 'AGRIN_MMK', 'KPYM_MMK', 'HSPB1_MMK',\n",
    "                   'PERM_MMK', 'MMP9_MMK', 'TP_2024']\n",
    "df_240 = utils.cols_as_numbers(df_240, cols_240_to_num)\n"
   ]
  },
  {
   "cell_type": "code",
   "execution_count": 8,
   "metadata": {},
   "outputs": [],
   "source": [
    "# Rename Condition column to Pathology\n",
    "df_240.rename(columns={'Condition': 'Pathology'}, inplace=True)\n",
    "\n",
    "# Ensure categorical columns are treated as such\n",
    "df_240 = utils.cols_as_category(df_240, {'Pathology':{'Benign': 0, 'Endometrial cancer': 1}})"
   ]
  },
  {
   "cell_type": "markdown",
   "metadata": {},
   "source": [
    "# Execution parameters"
   ]
  },
  {
   "cell_type": "code",
   "execution_count": 9,
   "metadata": {},
   "outputs": [],
   "source": [
    "PLOT_ROCS = True\n",
    "MAX_BIOMARKER_COUNT = 3\n",
    "RESULTS_PATH = '../data/results/240_MMK_2024'\n",
    "\n",
    "# Columns to be considered as biomarkers\n",
    "BIOMARKERS_240 = ['AGRIN_MMK', 'KPYM_MMK', 'HSPB1_MMK',\n",
    "                   'PERM_MMK', 'MMP9_MMK']\n",
    "\n",
    "NORMALIZING_COL_240 = 'TP_2024' # Column to be used for normalizing the biomarkers"
   ]
  },
  {
   "cell_type": "markdown",
   "metadata": {},
   "source": [
    "## Methods\n",
    "\n",
    "Description of the methods used to compute the AUCS\n",
    "\n",
    "### Direct\n",
    "\n",
    "No transformations were made to the readout of each biomarker.\n",
    "\n",
    "Due to the different treatment the samples have undergone, the performance of the biomarkers in the 60x60 is masking the correlation of the target variable (disease) with the volume variable because the biomarkers (and total protein) readouts correlate with the collected volume. While the volume is a good classification variable, we want to get rid of it because we cannot control it.  \n",
    "\n",
    "### Normalized\n",
    "\n",
    "To get rid of the volume, the total protein variable was proposed as a normalizing variable. The values used for classification are then the ratios of the concentrations $[Bmk]/[TP]$.\n",
    "\n",
    "After discussions with the collaborators from Santiago, they noted the fact that ratios can be misleading, especially if the denominator variable is not independent of the numerator or other variables in the analysis. \n",
    "\n"
   ]
  },
  {
   "cell_type": "code",
   "execution_count": 10,
   "metadata": {},
   "outputs": [],
   "source": [
    "METHODS = ['direct', 'normalized']"
   ]
  },
  {
   "cell_type": "markdown",
   "metadata": {},
   "source": [
    "# Computing the models\n",
    "\n",
    "All the functions to generate the models are included in the [cohort_analysis_utils.py](../code/cohort_analysis_utils.py) file."
   ]
  },
  {
   "cell_type": "code",
   "execution_count": 11,
   "metadata": {},
   "outputs": [],
   "source": [
    "models_240_with_cis = utils.compute_all_models_and_save(\n",
    "                            df=df_240,\n",
    "                            biomarkers=BIOMARKERS_240,\n",
    "                            normalizing_col=NORMALIZING_COL_240, \n",
    "                            volume_col= None,\n",
    "                            volume_added=0.5,\n",
    "                            apply_log=True,\n",
    "                            avoid_same_biomarker=True,\n",
    "                            methods=METHODS,\n",
    "                            max_biomarker_count=MAX_BIOMARKER_COUNT,\n",
    "                            folder_name=RESULTS_PATH,\n",
    "                            plot_rocs=PLOT_ROCS,\n",
    "                            )"
   ]
  },
  {
   "cell_type": "code",
   "execution_count": 12,
   "metadata": {},
   "outputs": [],
   "source": [
    "# For individual biomarkers, compute the confidence intervals \n",
    "\n",
    "models_240_with_cis = utils.compute_all_models_and_save(\n",
    "                            df=df_240,\n",
    "                            biomarkers=BIOMARKERS_240,\n",
    "                            normalizing_col=NORMALIZING_COL_240, \n",
    "                            volume_col= None,\n",
    "                            volume_added=0.5,\n",
    "                            apply_log=True,\n",
    "                            avoid_same_biomarker=True,\n",
    "                            methods=METHODS,\n",
    "                            max_biomarker_count=1,\n",
    "                            folder_name=RESULTS_PATH,\n",
    "                            plot_rocs=PLOT_ROCS,\n",
    "                            compute_auc_ci=True,\n",
    "                            )"
   ]
  },
  {
   "cell_type": "markdown",
   "metadata": {},
   "source": [
    "## Running other analyses\n",
    "\n",
    "### Create scatterplots for all the pairs of biomarkers"
   ]
  },
  {
   "cell_type": "code",
   "execution_count": 13,
   "metadata": {},
   "outputs": [],
   "source": [
    "for biomarker1 in BIOMARKERS_240:\n",
    "    for biomarker2 in BIOMARKERS_240[BIOMARKERS_240.index(biomarker1)+1:]:\n",
    "        utils.plot_scatter_to_file(df_240, \n",
    "                                biomarker1, \n",
    "                                biomarker2, \n",
    "                                normalizing_col=NORMALIZING_COL_240, \n",
    "                                apply_log_x=True,\n",
    "                                apply_log_y=True,\n",
    "                                hue='Pathology', \n",
    "                                folder=RESULTS_PATH+'/scatters/')"
   ]
  },
  {
   "cell_type": "markdown",
   "metadata": {},
   "source": [
    "# Results\n",
    "\n",
    "## Direct\n",
    "\n",
    "Here are presented results for the __direct__ method. Remember you can see the full results [here](<../data/results/240_MMK_2024/direct/max_3.csv>) (they are stored in the folder \"data/results/240_MMK_2024/direct/\")."
   ]
  },
  {
   "cell_type": "code",
   "execution_count": 14,
   "metadata": {},
   "outputs": [
    {
     "data": {
      "text/html": [
       "<div>\n",
       "<style scoped>\n",
       "    .dataframe tbody tr th:only-of-type {\n",
       "        vertical-align: middle;\n",
       "    }\n",
       "\n",
       "    .dataframe tbody tr th {\n",
       "        vertical-align: top;\n",
       "    }\n",
       "\n",
       "    .dataframe thead th {\n",
       "        text-align: right;\n",
       "    }\n",
       "</style>\n",
       "<table border=\"1\" class=\"dataframe\">\n",
       "  <thead>\n",
       "    <tr style=\"text-align: right;\">\n",
       "      <th></th>\n",
       "      <th>Biomarker_1</th>\n",
       "      <th>Biomarker_2</th>\n",
       "      <th>Biomarker_3</th>\n",
       "      <th>AUC</th>\n",
       "    </tr>\n",
       "  </thead>\n",
       "  <tbody>\n",
       "    <tr>\n",
       "      <th>0</th>\n",
       "      <td>MMP9_MMK</td>\n",
       "      <td>NaN</td>\n",
       "      <td>NaN</td>\n",
       "      <td>0.82037</td>\n",
       "    </tr>\n",
       "    <tr>\n",
       "      <th>1</th>\n",
       "      <td>PERM_MMK</td>\n",
       "      <td>NaN</td>\n",
       "      <td>NaN</td>\n",
       "      <td>0.79593</td>\n",
       "    </tr>\n",
       "    <tr>\n",
       "      <th>2</th>\n",
       "      <td>KPYM_MMK</td>\n",
       "      <td>HSPB1_MMK</td>\n",
       "      <td>MMP9_MMK</td>\n",
       "      <td>0.78960</td>\n",
       "    </tr>\n",
       "    <tr>\n",
       "      <th>3</th>\n",
       "      <td>KPYM_MMK</td>\n",
       "      <td>NaN</td>\n",
       "      <td>NaN</td>\n",
       "      <td>0.78312</td>\n",
       "    </tr>\n",
       "    <tr>\n",
       "      <th>4</th>\n",
       "      <td>KPYM_MMK</td>\n",
       "      <td>HSPB1_MMK</td>\n",
       "      <td>PERM_MMK</td>\n",
       "      <td>0.77418</td>\n",
       "    </tr>\n",
       "    <tr>\n",
       "      <th>5</th>\n",
       "      <td>AGRIN_MMK</td>\n",
       "      <td>HSPB1_MMK</td>\n",
       "      <td>MMP9_MMK</td>\n",
       "      <td>0.77023</td>\n",
       "    </tr>\n",
       "    <tr>\n",
       "      <th>6</th>\n",
       "      <td>HSPB1_MMK</td>\n",
       "      <td>PERM_MMK</td>\n",
       "      <td>MMP9_MMK</td>\n",
       "      <td>0.76737</td>\n",
       "    </tr>\n",
       "    <tr>\n",
       "      <th>7</th>\n",
       "      <td>HSPB1_MMK</td>\n",
       "      <td>MMP9_MMK</td>\n",
       "      <td>NaN</td>\n",
       "      <td>0.76672</td>\n",
       "    </tr>\n",
       "    <tr>\n",
       "      <th>8</th>\n",
       "      <td>AGRIN_MMK</td>\n",
       "      <td>HSPB1_MMK</td>\n",
       "      <td>PERM_MMK</td>\n",
       "      <td>0.73574</td>\n",
       "    </tr>\n",
       "    <tr>\n",
       "      <th>9</th>\n",
       "      <td>HSPB1_MMK</td>\n",
       "      <td>PERM_MMK</td>\n",
       "      <td>NaN</td>\n",
       "      <td>0.73117</td>\n",
       "    </tr>\n",
       "  </tbody>\n",
       "</table>\n",
       "</div>"
      ],
      "text/plain": [
       "  Biomarker_1 Biomarker_2 Biomarker_3      AUC\n",
       "0    MMP9_MMK         NaN         NaN  0.82037\n",
       "1    PERM_MMK         NaN         NaN  0.79593\n",
       "2    KPYM_MMK   HSPB1_MMK    MMP9_MMK  0.78960\n",
       "3    KPYM_MMK         NaN         NaN  0.78312\n",
       "4    KPYM_MMK   HSPB1_MMK    PERM_MMK  0.77418\n",
       "5   AGRIN_MMK   HSPB1_MMK    MMP9_MMK  0.77023\n",
       "6   HSPB1_MMK    PERM_MMK    MMP9_MMK  0.76737\n",
       "7   HSPB1_MMK    MMP9_MMK         NaN  0.76672\n",
       "8   AGRIN_MMK   HSPB1_MMK    PERM_MMK  0.73574\n",
       "9   HSPB1_MMK    PERM_MMK         NaN  0.73117"
      ]
     },
     "execution_count": 14,
     "metadata": {},
     "output_type": "execute_result"
    }
   ],
   "source": [
    "df_results_240_direct = pd.read_csv(RESULTS_PATH+'/direct/max_3.csv', sep=',', header=0)\n",
    "df_results_240_direct[['Biomarker_1','Biomarker_2','Biomarker_3','AUC']].head(n=10)\n"
   ]
  },
  {
   "cell_type": "markdown",
   "metadata": {},
   "source": [
    "Let's see also how the biomarkers performed individually."
   ]
  },
  {
   "cell_type": "code",
   "execution_count": 15,
   "metadata": {},
   "outputs": [
    {
     "data": {
      "text/html": [
       "<div>\n",
       "<style scoped>\n",
       "    .dataframe tbody tr th:only-of-type {\n",
       "        vertical-align: middle;\n",
       "    }\n",
       "\n",
       "    .dataframe tbody tr th {\n",
       "        vertical-align: top;\n",
       "    }\n",
       "\n",
       "    .dataframe thead th {\n",
       "        text-align: right;\n",
       "    }\n",
       "</style>\n",
       "<table border=\"1\" class=\"dataframe\">\n",
       "  <thead>\n",
       "    <tr style=\"text-align: right;\">\n",
       "      <th></th>\n",
       "      <th>Biomarker_1</th>\n",
       "      <th>AUC</th>\n",
       "    </tr>\n",
       "  </thead>\n",
       "  <tbody>\n",
       "    <tr>\n",
       "      <th>0</th>\n",
       "      <td>MMP9_MMK</td>\n",
       "      <td>0.82037</td>\n",
       "    </tr>\n",
       "    <tr>\n",
       "      <th>1</th>\n",
       "      <td>PERM_MMK</td>\n",
       "      <td>0.79593</td>\n",
       "    </tr>\n",
       "    <tr>\n",
       "      <th>3</th>\n",
       "      <td>KPYM_MMK</td>\n",
       "      <td>0.78312</td>\n",
       "    </tr>\n",
       "    <tr>\n",
       "      <th>10</th>\n",
       "      <td>AGRIN_MMK</td>\n",
       "      <td>0.72786</td>\n",
       "    </tr>\n",
       "    <tr>\n",
       "      <th>24</th>\n",
       "      <td>HSPB1_MMK</td>\n",
       "      <td>0.61578</td>\n",
       "    </tr>\n",
       "  </tbody>\n",
       "</table>\n",
       "</div>"
      ],
      "text/plain": [
       "   Biomarker_1      AUC\n",
       "0     MMP9_MMK  0.82037\n",
       "1     PERM_MMK  0.79593\n",
       "3     KPYM_MMK  0.78312\n",
       "10   AGRIN_MMK  0.72786\n",
       "24   HSPB1_MMK  0.61578"
      ]
     },
     "execution_count": 15,
     "metadata": {},
     "output_type": "execute_result"
    }
   ],
   "source": [
    "df_results_240_direct[df_results_240_direct['Biomarker_2'].isnull() & df_results_240_direct['Biomarker_3'].isnull()][['Biomarker_1','AUC']]"
   ]
  },
  {
   "cell_type": "markdown",
   "metadata": {},
   "source": [
    "## Normalized\n",
    "\n",
    "Here are presented results for the __normalized__ method. Remember you can see the full results [here](<../data/results/240_MMK_2024/normalized/max_3.csv>) (they are stored in the folder \"data/results/240_MMK_2024/direct/\")."
   ]
  },
  {
   "cell_type": "code",
   "execution_count": 16,
   "metadata": {},
   "outputs": [
    {
     "data": {
      "text/html": [
       "<div>\n",
       "<style scoped>\n",
       "    .dataframe tbody tr th:only-of-type {\n",
       "        vertical-align: middle;\n",
       "    }\n",
       "\n",
       "    .dataframe tbody tr th {\n",
       "        vertical-align: top;\n",
       "    }\n",
       "\n",
       "    .dataframe thead th {\n",
       "        text-align: right;\n",
       "    }\n",
       "</style>\n",
       "<table border=\"1\" class=\"dataframe\">\n",
       "  <thead>\n",
       "    <tr style=\"text-align: right;\">\n",
       "      <th></th>\n",
       "      <th>Biomarker_1</th>\n",
       "      <th>Biomarker_2</th>\n",
       "      <th>Biomarker_3</th>\n",
       "      <th>AUC</th>\n",
       "    </tr>\n",
       "  </thead>\n",
       "  <tbody>\n",
       "    <tr>\n",
       "      <th>0</th>\n",
       "      <td>MMP9_MMK</td>\n",
       "      <td>NaN</td>\n",
       "      <td>NaN</td>\n",
       "      <td>0.76928</td>\n",
       "    </tr>\n",
       "    <tr>\n",
       "      <th>1</th>\n",
       "      <td>KPYM_MMK</td>\n",
       "      <td>HSPB1_MMK</td>\n",
       "      <td>MMP9_MMK</td>\n",
       "      <td>0.76789</td>\n",
       "    </tr>\n",
       "    <tr>\n",
       "      <th>2</th>\n",
       "      <td>AGRIN_MMK</td>\n",
       "      <td>HSPB1_MMK</td>\n",
       "      <td>MMP9_MMK</td>\n",
       "      <td>0.75456</td>\n",
       "    </tr>\n",
       "    <tr>\n",
       "      <th>3</th>\n",
       "      <td>KPYM_MMK</td>\n",
       "      <td>HSPB1_MMK</td>\n",
       "      <td>PERM_MMK</td>\n",
       "      <td>0.75290</td>\n",
       "    </tr>\n",
       "    <tr>\n",
       "      <th>4</th>\n",
       "      <td>HSPB1_MMK</td>\n",
       "      <td>MMP9_MMK</td>\n",
       "      <td>NaN</td>\n",
       "      <td>0.74913</td>\n",
       "    </tr>\n",
       "    <tr>\n",
       "      <th>5</th>\n",
       "      <td>HSPB1_MMK</td>\n",
       "      <td>PERM_MMK</td>\n",
       "      <td>MMP9_MMK</td>\n",
       "      <td>0.74661</td>\n",
       "    </tr>\n",
       "    <tr>\n",
       "      <th>6</th>\n",
       "      <td>PERM_MMK</td>\n",
       "      <td>NaN</td>\n",
       "      <td>NaN</td>\n",
       "      <td>0.73687</td>\n",
       "    </tr>\n",
       "    <tr>\n",
       "      <th>7</th>\n",
       "      <td>AGRIN_MMK</td>\n",
       "      <td>HSPB1_MMK</td>\n",
       "      <td>PERM_MMK</td>\n",
       "      <td>0.72659</td>\n",
       "    </tr>\n",
       "    <tr>\n",
       "      <th>8</th>\n",
       "      <td>KPYM_MMK</td>\n",
       "      <td>NaN</td>\n",
       "      <td>NaN</td>\n",
       "      <td>0.72038</td>\n",
       "    </tr>\n",
       "    <tr>\n",
       "      <th>9</th>\n",
       "      <td>AGRIN_MMK</td>\n",
       "      <td>PERM_MMK</td>\n",
       "      <td>MMP9_MMK</td>\n",
       "      <td>0.71711</td>\n",
       "    </tr>\n",
       "  </tbody>\n",
       "</table>\n",
       "</div>"
      ],
      "text/plain": [
       "  Biomarker_1 Biomarker_2 Biomarker_3      AUC\n",
       "0    MMP9_MMK         NaN         NaN  0.76928\n",
       "1    KPYM_MMK   HSPB1_MMK    MMP9_MMK  0.76789\n",
       "2   AGRIN_MMK   HSPB1_MMK    MMP9_MMK  0.75456\n",
       "3    KPYM_MMK   HSPB1_MMK    PERM_MMK  0.75290\n",
       "4   HSPB1_MMK    MMP9_MMK         NaN  0.74913\n",
       "5   HSPB1_MMK    PERM_MMK    MMP9_MMK  0.74661\n",
       "6    PERM_MMK         NaN         NaN  0.73687\n",
       "7   AGRIN_MMK   HSPB1_MMK    PERM_MMK  0.72659\n",
       "8    KPYM_MMK         NaN         NaN  0.72038\n",
       "9   AGRIN_MMK    PERM_MMK    MMP9_MMK  0.71711"
      ]
     },
     "execution_count": 16,
     "metadata": {},
     "output_type": "execute_result"
    }
   ],
   "source": [
    "df_results_240_normalized = pd.read_csv(RESULTS_PATH+'/normalized/max_3.csv', sep=',', header=0)\n",
    "df_results_240_normalized[['Biomarker_1','Biomarker_2','Biomarker_3','AUC']].head(n=10)"
   ]
  },
  {
   "cell_type": "code",
   "execution_count": 17,
   "metadata": {},
   "outputs": [
    {
     "data": {
      "text/html": [
       "<div>\n",
       "<style scoped>\n",
       "    .dataframe tbody tr th:only-of-type {\n",
       "        vertical-align: middle;\n",
       "    }\n",
       "\n",
       "    .dataframe tbody tr th {\n",
       "        vertical-align: top;\n",
       "    }\n",
       "\n",
       "    .dataframe thead th {\n",
       "        text-align: right;\n",
       "    }\n",
       "</style>\n",
       "<table border=\"1\" class=\"dataframe\">\n",
       "  <thead>\n",
       "    <tr style=\"text-align: right;\">\n",
       "      <th></th>\n",
       "      <th>Biomarker_1</th>\n",
       "      <th>AUC</th>\n",
       "    </tr>\n",
       "  </thead>\n",
       "  <tbody>\n",
       "    <tr>\n",
       "      <th>0</th>\n",
       "      <td>MMP9_MMK</td>\n",
       "      <td>0.76928</td>\n",
       "    </tr>\n",
       "    <tr>\n",
       "      <th>6</th>\n",
       "      <td>PERM_MMK</td>\n",
       "      <td>0.73687</td>\n",
       "    </tr>\n",
       "    <tr>\n",
       "      <th>8</th>\n",
       "      <td>KPYM_MMK</td>\n",
       "      <td>0.72038</td>\n",
       "    </tr>\n",
       "    <tr>\n",
       "      <th>18</th>\n",
       "      <td>AGRIN_MMK</td>\n",
       "      <td>0.67359</td>\n",
       "    </tr>\n",
       "  </tbody>\n",
       "</table>\n",
       "</div>"
      ],
      "text/plain": [
       "   Biomarker_1      AUC\n",
       "0     MMP9_MMK  0.76928\n",
       "6     PERM_MMK  0.73687\n",
       "8     KPYM_MMK  0.72038\n",
       "18   AGRIN_MMK  0.67359"
      ]
     },
     "execution_count": 17,
     "metadata": {},
     "output_type": "execute_result"
    }
   ],
   "source": [
    "df_results_240_normalized[df_results_240_normalized['Biomarker_2'].isnull() & df_results_240_normalized['Biomarker_3'].isnull()][['Biomarker_1','AUC']]"
   ]
  },
  {
   "cell_type": "markdown",
   "metadata": {},
   "source": [
    "## ROC curves\n",
    "\n",
    "All the ROC curves for all the methods over all the combinations in all the cohorts were computed. If you want to check any ROC curve, the folder structure is the following: \"data/results/240_MMK_2024/<\"method\">/<max_biomarkers>/rocs/. \n",
    "\n",
    "What we have observed is that, if we set as a threshold 0.95 sensitivity, this comes at the price of poor specificity. Just as an example, let’s take a look to the best scored biomarker, MMP9, using _direct_ method. This ROC image is located at \"data/results/240_MMK_2024/direct/max_3/rocs/MMP9_MMK.png\". \n",
    "\n",
    " "
   ]
  },
  {
   "cell_type": "code",
   "execution_count": 18,
   "metadata": {},
   "outputs": [
    {
     "data": {
      "text/html": [
       "<img src='../data/results/240_MMK_2024/direct/max_3/rocs/MMP9_MMK.png'>"
      ],
      "text/plain": [
       "<IPython.core.display.HTML object>"
      ]
     },
     "metadata": {},
     "output_type": "display_data"
    }
   ],
   "source": [
    "roc_image_path = RESULTS_PATH+\"/direct/max_3/rocs/MMP9_MMK.png\"\n",
    "display(HTML(\"<img src='\"+roc_image_path+\"'>\"))\n"
   ]
  },
  {
   "cell_type": "markdown",
   "metadata": {},
   "source": [
    "All the sensitivities and specificities for all the tresholds are located in the same folder, in CSV files.\n"
   ]
  },
  {
   "cell_type": "markdown",
   "metadata": {},
   "source": [
    "## AUCs confidence interval\n",
    "\n",
    "AUCs confidence intervals are computed with the bootstraping method. Bootstrapping to compute confidence intervals for AUC involves repeatedly resampling the original dataset with replacement to create many bootstrap samples, calculating the AUC for each sample, and then constructing a distribution of these AUC values. The confidence interval is determined by taking the appropriate percentiles (e.g., 2.5th and 97.5th for a 95% CI) from the sorted bootstrap AUC values, providing a range that estimates where the true AUC likely falls."
   ]
  },
  {
   "cell_type": "code",
   "execution_count": 19,
   "metadata": {},
   "outputs": [],
   "source": [
    "aucs = []\n",
    "auc_cis = []\n",
    "models = []\n",
    "\n",
    "models_with_cis = models_240_with_cis['direct'][(list(models_240_with_cis['direct'].keys())[0])]\n",
    "\n",
    "for model in models_with_cis.keys():\n",
    "    model_name = model[0]\n",
    "    model_auc = models_with_cis[model]['auc']\n",
    "    model_auc_ci = models_with_cis[model]['auc_ci']\n",
    "    aucs.append(float(model_auc))\n",
    "    auc_cis.append([float(model_auc_ci[0]), float(model_auc_ci[1])])\n",
    "    models.append(model_name)"
   ]
  },
  {
   "cell_type": "code",
   "execution_count": 20,
   "metadata": {},
   "outputs": [
    {
     "data": {
      "image/png": "[encoded data removed]",
      "text/plain": [
       "<Figure size 1000x500 with 1 Axes>"
      ]
     },
     "metadata": {},
     "output_type": "display_data"
    }
   ],
   "source": [
    "auc_cis = np.array(auc_cis)\n",
    "\n",
    "# Calculate the errors\n",
    "lower_err = aucs - auc_cis[:, 0]\n",
    "upper_err = auc_cis[:, 1] - aucs\n",
    "yerr = [lower_err, upper_err]\n",
    "\n",
    "plt.figure(figsize=(10,5))\n",
    "plt.bar(models, aucs, yerr=yerr, capsize=5, align='center')\n",
    "plt.xticks(rotation=90)\n",
    "plt.ylabel('AUC')\n",
    "plt.title('AUCs with Confidence Intervals')\n",
    "plt.show()"
   ]
  }
 ],
 "metadata": {
  "kernelspec": {
   "display_name": ".venv",
   "language": "python",
   "name": "python3"
  },
  "language_info": {
   "codemirror_mode": {
    "name": "ipython",
    "version": 3
   },
   "file_extension": ".py",
   "mimetype": "text/x-python",
   "name": "python",
   "nbconvert_exporter": "python",
   "pygments_lexer": "ipython3",
   "version": "3.12.3"
  }
 },
 "nbformat": 4,
 "nbformat_minor": 2
}
