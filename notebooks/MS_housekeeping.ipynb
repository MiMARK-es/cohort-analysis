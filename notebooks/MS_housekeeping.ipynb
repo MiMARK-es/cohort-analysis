{
 "cells": [
  {
   "cell_type": "markdown",
   "metadata": {},
   "source": [
    "# Mass Spec cohort housekeeping protein analysis \n",
    "\n",
    "### Imports and environment setup\n",
    "\n",
    "- Date of run: 2024-10-03\n",
    "- Environment: python 3.12\n",
    "- Packages required: pandas, numpy, sklearn, statsmodels, seaborn, matplotlib"
   ]
  },
  {
   "cell_type": "code",
   "execution_count": 1,
   "metadata": {},
   "outputs": [],
   "source": [
    "# Include in the environment the code directory with the utils function\n",
    "import sys\n",
    "sys.path.append('../code/')"
   ]
  },
  {
   "cell_type": "code",
   "execution_count": 2,
   "metadata": {},
   "outputs": [],
   "source": [
    "# Library imports\n",
    "import pandas as pd\n",
    "from IPython.display import display, HTML\n",
    "import matplotlib.pyplot as plt\n",
    "import seaborn as sns\n",
    "import numpy as np\n",
    "\n",
    "# Utils imports\n",
    "import cohort_analysis_utils as utils\n",
    "import ms_utils"
   ]
  },
  {
   "cell_type": "code",
   "execution_count": 3,
   "metadata": {},
   "outputs": [],
   "source": [
    "# Remove warnings for readability\n",
    "import warnings\n",
    "warnings.filterwarnings('ignore')\n",
    "\n",
    "# Remove cell printing limits\n",
    "pd.set_option('display.max_rows', None)"
   ]
  },
  {
   "cell_type": "markdown",
   "metadata": {},
   "source": [
    "# Data loading and preprocessing"
   ]
  },
  {
   "cell_type": "markdown",
   "metadata": {},
   "source": [
    "## 38 dataset"
   ]
  },
  {
   "cell_type": "code",
   "execution_count": 4,
   "metadata": {},
   "outputs": [],
   "source": [
    "MS_38_PATH = \"../data/ms/MS_verification_38.csv\"\n",
    "df_38 = pd.read_csv(MS_38_PATH, sep=\"\\t\", header=[0,1], index_col=0)\n",
    "\n",
    "RESULTS_PATH_38 = \"../data/results/38\"\n",
    "df_38_results_direct_max_1 = pd.read_csv(f'{RESULTS_PATH_38}/direct/max_1.csv', sep=',', index_col=0, header=0)\n",
    "\n",
    "# Combine the names of headers at level 0 and 1 and make them the new headers\n",
    "df_38.columns = [\"_\".join(filter(lambda x: x != '', col)).strip() for col in df_38.columns.values]\n",
    "\n",
    "# Rename the column 0 to \"Pathology\" and make it categorical\n",
    "df_38 = df_38.rename(columns={df_38.columns[0]: \"Pathology\"})\n",
    "df_38 = utils.cols_as_category(df_38, {'Pathology':{'C2': 0, 'T1': 1}})\n",
    "\n",
    "BIOMARKERS_38 = df_38.columns[1:]"
   ]
  },
  {
   "cell_type": "markdown",
   "metadata": {},
   "source": [
    "## 215 dataset"
   ]
  },
  {
   "cell_type": "code",
   "execution_count": 5,
   "metadata": {},
   "outputs": [],
   "source": [
    "MS_215_PATH = \"../data/ms/MS_215_ratios.csv\"\n",
    "df_215 = pd.read_csv(MS_215_PATH, sep=\",\", header=[0,1], index_col=0)\n",
    "\n",
    "# Combine the names of headers at level 0 and 1 and make them the new headers\n",
    "df_215.columns = [\"_\".join(filter(lambda x: x != '', col)).strip() for col in df_215.columns.values]\n",
    "\n",
    "df_215 = df_215.rename(columns={df_215.columns[0]: \"Pathology\"})\n",
    "df_215['Pathology'] = df_215['Pathology'].apply(lambda x: 1 if x.startswith(\"T\") else 0)\n",
    "\n",
    "# Rename the first column as \"Pathology\" and make it categorical\n",
    "df_215 = df_215.rename(columns={df_215.columns[0]: \"Pathology\"})\n",
    "\n",
    "# Delete the second and thiird columns\n",
    "df_215 = df_215.drop(columns=df_215.columns[1:3])\n",
    "\n",
    "BIOMARKERS_215 = df_215.columns[1:]"
   ]
  },
  {
   "cell_type": "markdown",
   "metadata": {},
   "source": [
    "## 107 dataset"
   ]
  },
  {
   "cell_type": "code",
   "execution_count": 6,
   "metadata": {},
   "outputs": [],
   "source": [
    "MS_107_PATH = \"../data/ms/MS_validation_107_9_hyperplasias.csv\"\n",
    "df_107 = pd.read_csv(MS_107_PATH, sep=\"\\t\", header=[0,1], index_col=0)\n",
    "\n",
    "RESULTS_PATH_107 = \"../data/results/107\"\n",
    "df_107_results_direct_max_1 = pd.read_csv(f'{RESULTS_PATH_107}/direct/max_1.csv', sep=',', index_col=0, header=0)\n",
    "\n",
    "# Combine the names of headers at level 0 and 1 and make them the new headers\n",
    "df_107.columns = [\"_\".join(filter(lambda x: x != '', col)).strip() for col in df_107.columns.values]\n",
    "\n",
    "df_107 = df_107.rename(columns={df_107.columns[0]: \"Pathology\"})\n",
    "df_107['Pathology'] = df_107['Pathology'].apply(lambda x: 1 if x.startswith(\"T\") else 0)\n",
    "\n",
    "\n",
    "# Rename the first column as \"Pathology\" and make it categorical\n",
    "df_107 = df_107.rename(columns={df_107.columns[0]: \"Pathology\"})\n",
    "\n",
    "BIOMARKERS_107 = df_107.columns[1:]"
   ]
  },
  {
   "cell_type": "markdown",
   "metadata": {},
   "source": [
    "# Computing the variation coefficient of each peptide"
   ]
  },
  {
   "cell_type": "code",
   "execution_count": 7,
   "metadata": {},
   "outputs": [],
   "source": [
    "def compute_variation_coefficient(df):\n",
    "    mean_std_df = df.describe().loc[['mean', 'std']].T\n",
    "    mean_std_df['std'] = mean_std_df['std'].round(2)\n",
    "    mean_std_df['mean'] = mean_std_df['mean'].round(2)\n",
    "    mean_std_df['variation_coefficient'] = (mean_std_df['std'] / mean_std_df['mean']).round(2)\n",
    "    mean_std_df = mean_std_df.sort_values(by='variation_coefficient', ascending=True)\n",
    "    return mean_std_df"
   ]
  },
  {
   "cell_type": "code",
   "execution_count": 8,
   "metadata": {},
   "outputs": [],
   "source": [
    "df_38_mean_std = compute_variation_coefficient(df_38)\n",
    "df_215_mean_std = compute_variation_coefficient(df_215)\n",
    "df_107_mean_std = compute_variation_coefficient(df_107)\n"
   ]
  },
  {
   "cell_type": "markdown",
   "metadata": {},
   "source": [
    "As an example, let's see how this computed datasets looks like:"
   ]
  },
  {
   "cell_type": "code",
   "execution_count": 9,
   "metadata": {},
   "outputs": [
    {
     "data": {
      "text/html": [
       "<div>\n",
       "<style scoped>\n",
       "    .dataframe tbody tr th:only-of-type {\n",
       "        vertical-align: middle;\n",
       "    }\n",
       "\n",
       "    .dataframe tbody tr th {\n",
       "        vertical-align: top;\n",
       "    }\n",
       "\n",
       "    .dataframe thead th {\n",
       "        text-align: right;\n",
       "    }\n",
       "</style>\n",
       "<table border=\"1\" class=\"dataframe\">\n",
       "  <thead>\n",
       "    <tr style=\"text-align: right;\">\n",
       "      <th></th>\n",
       "      <th>mean</th>\n",
       "      <th>std</th>\n",
       "      <th>variation_coefficient</th>\n",
       "    </tr>\n",
       "  </thead>\n",
       "  <tbody>\n",
       "    <tr>\n",
       "      <th>CALU_TFDQLTPEESK</th>\n",
       "      <td>0.19</td>\n",
       "      <td>0.11</td>\n",
       "      <td>0.58</td>\n",
       "    </tr>\n",
       "    <tr>\n",
       "      <th>SODC_AVCVLK</th>\n",
       "      <td>4.69</td>\n",
       "      <td>2.97</td>\n",
       "      <td>0.63</td>\n",
       "    </tr>\n",
       "    <tr>\n",
       "      <th>SODC_TLVVHEK</th>\n",
       "      <td>2.90</td>\n",
       "      <td>1.86</td>\n",
       "      <td>0.64</td>\n",
       "    </tr>\n",
       "    <tr>\n",
       "      <th>PEBP1_VLTPTQVK</th>\n",
       "      <td>4.49</td>\n",
       "      <td>2.97</td>\n",
       "      <td>0.66</td>\n",
       "    </tr>\n",
       "    <tr>\n",
       "      <th>PEBP1_LYEQLSGK</th>\n",
       "      <td>5.70</td>\n",
       "      <td>3.96</td>\n",
       "      <td>0.69</td>\n",
       "    </tr>\n",
       "    <tr>\n",
       "      <th>LEG1_SFVLNLGK</th>\n",
       "      <td>1.09</td>\n",
       "      <td>0.81</td>\n",
       "      <td>0.74</td>\n",
       "    </tr>\n",
       "    <tr>\n",
       "      <th>PPIA_FEDENFILK</th>\n",
       "      <td>1.23</td>\n",
       "      <td>0.92</td>\n",
       "      <td>0.75</td>\n",
       "    </tr>\n",
       "    <tr>\n",
       "      <th>SPIT1_WYYDPTEQICK</th>\n",
       "      <td>0.29</td>\n",
       "      <td>0.22</td>\n",
       "      <td>0.76</td>\n",
       "    </tr>\n",
       "    <tr>\n",
       "      <th>TIMP2_EVDSGNDIYGNPIK</th>\n",
       "      <td>0.17</td>\n",
       "      <td>0.13</td>\n",
       "      <td>0.76</td>\n",
       "    </tr>\n",
       "    <tr>\n",
       "      <th>PPIA_VSFELFADK</th>\n",
       "      <td>1.85</td>\n",
       "      <td>1.40</td>\n",
       "      <td>0.76</td>\n",
       "    </tr>\n",
       "  </tbody>\n",
       "</table>\n",
       "</div>"
      ],
      "text/plain": [
       "                      mean   std  variation_coefficient\n",
       "CALU_TFDQLTPEESK      0.19  0.11                   0.58\n",
       "SODC_AVCVLK           4.69  2.97                   0.63\n",
       "SODC_TLVVHEK          2.90  1.86                   0.64\n",
       "PEBP1_VLTPTQVK        4.49  2.97                   0.66\n",
       "PEBP1_LYEQLSGK        5.70  3.96                   0.69\n",
       "LEG1_SFVLNLGK         1.09  0.81                   0.74\n",
       "PPIA_FEDENFILK        1.23  0.92                   0.75\n",
       "SPIT1_WYYDPTEQICK     0.29  0.22                   0.76\n",
       "TIMP2_EVDSGNDIYGNPIK  0.17  0.13                   0.76\n",
       "PPIA_VSFELFADK        1.85  1.40                   0.76"
      ]
     },
     "execution_count": 9,
     "metadata": {},
     "output_type": "execute_result"
    }
   ],
   "source": [
    "df_38_mean_std.head(10)"
   ]
  },
  {
   "cell_type": "markdown",
   "metadata": {},
   "source": [
    "Since the peptides in each experiment could be different, we will focus only on the proteins. Let's take the gene names fron the index and make the peptides a column not part of the index. "
   ]
  },
  {
   "cell_type": "code",
   "execution_count": 10,
   "metadata": {},
   "outputs": [],
   "source": [
    "df_38_mean_std['gene'] = df_38_mean_std.index.str.split('_').str[0]\n",
    "df_38_mean_std['peptide'] = df_38_mean_std.index.str.split('_').str[1]\n",
    "df_38_mean_std = df_38_mean_std.set_index('gene')\n",
    "\n",
    "df_215_mean_std['gene'] = df_215_mean_std.index.str.split('_').str[0]\n",
    "df_215_mean_std['peptide'] = df_215_mean_std.index.str.split('_').str[1]\n",
    "df_215_mean_std = df_215_mean_std.set_index('gene')\n",
    "\n",
    "df_107_mean_std['gene'] = df_107_mean_std.index.str.split('_').str[0]\n",
    "df_107_mean_std['peptide'] = df_107_mean_std.index.str.split('_').str[1]\n",
    "df_107_mean_std = df_107_mean_std.set_index('gene')\n"
   ]
  },
  {
   "cell_type": "markdown",
   "metadata": {},
   "source": [
    "Now it looks as follows:"
   ]
  },
  {
   "cell_type": "code",
   "execution_count": 11,
   "metadata": {},
   "outputs": [
    {
     "data": {
      "text/html": [
       "<div>\n",
       "<style scoped>\n",
       "    .dataframe tbody tr th:only-of-type {\n",
       "        vertical-align: middle;\n",
       "    }\n",
       "\n",
       "    .dataframe tbody tr th {\n",
       "        vertical-align: top;\n",
       "    }\n",
       "\n",
       "    .dataframe thead th {\n",
       "        text-align: right;\n",
       "    }\n",
       "</style>\n",
       "<table border=\"1\" class=\"dataframe\">\n",
       "  <thead>\n",
       "    <tr style=\"text-align: right;\">\n",
       "      <th></th>\n",
       "      <th>mean</th>\n",
       "      <th>std</th>\n",
       "      <th>variation_coefficient</th>\n",
       "      <th>peptide</th>\n",
       "    </tr>\n",
       "    <tr>\n",
       "      <th>gene</th>\n",
       "      <th></th>\n",
       "      <th></th>\n",
       "      <th></th>\n",
       "      <th></th>\n",
       "    </tr>\n",
       "  </thead>\n",
       "  <tbody>\n",
       "    <tr>\n",
       "      <th>CALU</th>\n",
       "      <td>0.19</td>\n",
       "      <td>0.11</td>\n",
       "      <td>0.58</td>\n",
       "      <td>TFDQLTPEESK</td>\n",
       "    </tr>\n",
       "    <tr>\n",
       "      <th>SODC</th>\n",
       "      <td>4.69</td>\n",
       "      <td>2.97</td>\n",
       "      <td>0.63</td>\n",
       "      <td>AVCVLK</td>\n",
       "    </tr>\n",
       "    <tr>\n",
       "      <th>SODC</th>\n",
       "      <td>2.90</td>\n",
       "      <td>1.86</td>\n",
       "      <td>0.64</td>\n",
       "      <td>TLVVHEK</td>\n",
       "    </tr>\n",
       "    <tr>\n",
       "      <th>PEBP1</th>\n",
       "      <td>4.49</td>\n",
       "      <td>2.97</td>\n",
       "      <td>0.66</td>\n",
       "      <td>VLTPTQVK</td>\n",
       "    </tr>\n",
       "    <tr>\n",
       "      <th>PEBP1</th>\n",
       "      <td>5.70</td>\n",
       "      <td>3.96</td>\n",
       "      <td>0.69</td>\n",
       "      <td>LYEQLSGK</td>\n",
       "    </tr>\n",
       "    <tr>\n",
       "      <th>LEG1</th>\n",
       "      <td>1.09</td>\n",
       "      <td>0.81</td>\n",
       "      <td>0.74</td>\n",
       "      <td>SFVLNLGK</td>\n",
       "    </tr>\n",
       "    <tr>\n",
       "      <th>PPIA</th>\n",
       "      <td>1.23</td>\n",
       "      <td>0.92</td>\n",
       "      <td>0.75</td>\n",
       "      <td>FEDENFILK</td>\n",
       "    </tr>\n",
       "    <tr>\n",
       "      <th>SPIT1</th>\n",
       "      <td>0.29</td>\n",
       "      <td>0.22</td>\n",
       "      <td>0.76</td>\n",
       "      <td>WYYDPTEQICK</td>\n",
       "    </tr>\n",
       "    <tr>\n",
       "      <th>TIMP2</th>\n",
       "      <td>0.17</td>\n",
       "      <td>0.13</td>\n",
       "      <td>0.76</td>\n",
       "      <td>EVDSGNDIYGNPIK</td>\n",
       "    </tr>\n",
       "    <tr>\n",
       "      <th>PPIA</th>\n",
       "      <td>1.85</td>\n",
       "      <td>1.40</td>\n",
       "      <td>0.76</td>\n",
       "      <td>VSFELFADK</td>\n",
       "    </tr>\n",
       "  </tbody>\n",
       "</table>\n",
       "</div>"
      ],
      "text/plain": [
       "       mean   std  variation_coefficient         peptide\n",
       "gene                                                    \n",
       "CALU   0.19  0.11                   0.58     TFDQLTPEESK\n",
       "SODC   4.69  2.97                   0.63          AVCVLK\n",
       "SODC   2.90  1.86                   0.64         TLVVHEK\n",
       "PEBP1  4.49  2.97                   0.66        VLTPTQVK\n",
       "PEBP1  5.70  3.96                   0.69        LYEQLSGK\n",
       "LEG1   1.09  0.81                   0.74        SFVLNLGK\n",
       "PPIA   1.23  0.92                   0.75       FEDENFILK\n",
       "SPIT1  0.29  0.22                   0.76     WYYDPTEQICK\n",
       "TIMP2  0.17  0.13                   0.76  EVDSGNDIYGNPIK\n",
       "PPIA   1.85  1.40                   0.76       VSFELFADK"
      ]
     },
     "execution_count": 11,
     "metadata": {},
     "output_type": "execute_result"
    }
   ],
   "source": [
    "df_38_mean_std.head(10)"
   ]
  },
  {
   "cell_type": "markdown",
   "metadata": {},
   "source": [
    "Each protein will have a heavy and a light peptide, let's take of them the one that variates the most."
   ]
  },
  {
   "cell_type": "code",
   "execution_count": 12,
   "metadata": {},
   "outputs": [],
   "source": [
    "df_38_mean_std = df_38_mean_std.groupby('gene').max().sort_values(by='variation_coefficient', ascending=True)\n",
    "df_215_mean_std = df_215_mean_std.groupby('gene').max().sort_values(by='variation_coefficient', ascending=True)\n",
    "df_107_mean_std = df_107_mean_std.groupby('gene').max().sort_values(by='variation_coefficient', ascending=True)"
   ]
  },
  {
   "cell_type": "code",
   "execution_count": 13,
   "metadata": {},
   "outputs": [],
   "source": [
    "# drop nan values\n",
    "df_38_mean_std = df_38_mean_std.dropna()\n",
    "df_215_mean_std = df_215_mean_std.dropna()\n",
    "df_107_mean_std = df_107_mean_std.dropna()"
   ]
  },
  {
   "cell_type": "markdown",
   "metadata": {},
   "source": [
    "Let's plot the distribution of the C.V."
   ]
  },
  {
   "cell_type": "code",
   "execution_count": 14,
   "metadata": {},
   "outputs": [
    {
     "data": {
      "image/png": "[encoded data removed]",
      "text/plain": [
       "<Figure size 1000x400 with 1 Axes>"
      ]
     },
     "metadata": {},
     "output_type": "display_data"
    }
   ],
   "source": [
    "# Plot in a single kdeplo the variation coefficient of the three datasets\n",
    "fig, ax = plt.subplots(figsize=(10, 4))\n",
    "sns.kdeplot(df_38_mean_std['variation_coefficient'], label=f\"MS 38, mean={df_38_mean_std['variation_coefficient'].mean()}\")\n",
    "sns.kdeplot(df_215_mean_std['variation_coefficient'], label=f\"MS 215, mean={df_215_mean_std['variation_coefficient'].mean()}\")\n",
    "sns.kdeplot(df_107_mean_std['variation_coefficient'], label=f\"MS 107, mean={df_107_mean_std['variation_coefficient'].mean()}\")\n",
    "plt.title(\"Variation coefficient distribution of the three datasets\")\n",
    "plt.xlabel(\"Variation coefficient\")\n",
    "plt.ylabel(\"Density\")\n",
    "plt.legend()\n",
    "plt.show()"
   ]
  },
  {
   "cell_type": "markdown",
   "metadata": {},
   "source": [
    "As an example, let's see the variation among groups for the less-variating protein"
   ]
  },
  {
   "cell_type": "code",
   "execution_count": 15,
   "metadata": {},
   "outputs": [
    {
     "data": {
      "text/plain": [
       "<Axes: xlabel='Pathology', ylabel='CALU_TFDQLTPEESK'>"
      ]
     },
     "execution_count": 15,
     "metadata": {},
     "output_type": "execute_result"
    },
    {
     "data": {
      "image/png": "[encoded data removed]",
      "text/plain": [
       "<Figure size 640x480 with 1 Axes>"
      ]
     },
     "metadata": {},
     "output_type": "display_data"
    }
   ],
   "source": [
    "sns.boxplot(x=df_38['Pathology'], y=df_38[df_38_mean_std.iloc[0].name+\"_\"+df_38_mean_std.iloc[0].peptide].apply(np.log))"
   ]
  },
  {
   "cell_type": "markdown",
   "metadata": {},
   "source": [
    "And let's compare it with the second most variating protein."
   ]
  },
  {
   "cell_type": "code",
   "execution_count": 16,
   "metadata": {},
   "outputs": [
    {
     "data": {
      "text/plain": [
       "<Axes: xlabel='Pathology', ylabel='PAEP_VLVEDDEIMQGFIR'>"
      ]
     },
     "execution_count": 16,
     "metadata": {},
     "output_type": "execute_result"
    },
    {
     "data": {
      "image/png": "[encoded data removed]",
      "text/plain": [
       "<Figure size 640x480 with 1 Axes>"
      ]
     },
     "metadata": {},
     "output_type": "display_data"
    }
   ],
   "source": [
    "sns.boxplot(x=df_38['Pathology'], y=df_38[df_38_mean_std.iloc[-1].name+\"_\"+df_38_mean_std.iloc[-1].peptide].apply(np.log))"
   ]
  },
  {
   "cell_type": "markdown",
   "metadata": {},
   "source": [
    "Ok, that didn't worked. This protein is wide in distribution but both overlaps. Let's compare it with the second most variating protein."
   ]
  },
  {
   "cell_type": "code",
   "execution_count": 17,
   "metadata": {},
   "outputs": [
    {
     "data": {
      "text/plain": [
       "<Axes: xlabel='Pathology', ylabel='PERM_VVLEGGIDPILR'>"
      ]
     },
     "execution_count": 17,
     "metadata": {},
     "output_type": "execute_result"
    },
    {
     "data": {
      "image/png": "[encoded data removed]",
      "text/plain": [
       "<Figure size 640x480 with 1 Axes>"
      ]
     },
     "metadata": {},
     "output_type": "display_data"
    }
   ],
   "source": [
    "sns.boxplot(x=df_38['Pathology'] , y=df_38[df_38_mean_std.iloc[-2].name+\"_\"+df_38_mean_std.iloc[-2].peptide].apply(np.log)) "
   ]
  },
  {
   "cell_type": "markdown",
   "metadata": {},
   "source": [
    "What we observe is that variation and distribution of the conditions is not the same, we should look into both things."
   ]
  },
  {
   "cell_type": "markdown",
   "metadata": {},
   "source": [
    "# Computing the variation among benign and EC conditions"
   ]
  },
  {
   "cell_type": "code",
   "execution_count": 18,
   "metadata": {},
   "outputs": [],
   "source": [
    "# Compute for Pathology 1 and 0 how much the distribution of the biomarkers differ\n",
    "# from each other using statistics libraries\n",
    "import scipy.stats as stats\n",
    "\n",
    "def compute_p_values(df, biomarkers):\n",
    "    p_values = {}\n",
    "    for biomarker in biomarkers:\n",
    "        p_values[biomarker] = stats.ttest_ind(df[df['Pathology'] == 1][biomarker], df[df['Pathology'] == 0][biomarker])[1]\n",
    "    return p_values\n",
    "\n",
    "p_values_38 = compute_p_values(df_38, BIOMARKERS_38)\n",
    "for row in df_38_mean_std.iterrows():\n",
    "    df_38_mean_std.loc[row[0], 'p_value'] = p_values_38[row[0]+\"_\"+row[1].peptide]\n",
    "\n",
    "p_values_215 = compute_p_values(df_215, BIOMARKERS_215)\n",
    "for row in df_215_mean_std.iterrows():\n",
    "    df_215_mean_std.loc[row[0], 'p_value'] = p_values_215[row[0]+\"_\"+row[1].peptide]\n",
    "\n",
    "p_values_107 = compute_p_values(df_107, BIOMARKERS_107)\n",
    "for row in df_107_mean_std.iterrows():\n",
    "    df_107_mean_std.loc[row[0], 'p_value'] = p_values_107[row[0]+\"_\"+row[1].peptide]\n",
    "    "
   ]
  },
  {
   "cell_type": "code",
   "execution_count": 19,
   "metadata": {},
   "outputs": [],
   "source": [
    "df_38_candidates = df_38_mean_std[(df_38_mean_std['p_value'] > 0.05) & (df_38_mean_std['variation_coefficient'] < df_38_mean_std['variation_coefficient'].mean())]\n",
    "df_215_candidates = df_215_mean_std[(df_215_mean_std['p_value'] > 0.05) & (df_215_mean_std['variation_coefficient'] < df_215_mean_std['variation_coefficient'].mean())]\n",
    "df_107_candidates = df_107_mean_std[(df_107_mean_std['p_value'] > 0.05) & (df_107_mean_std['variation_coefficient'] < df_107_mean_std['variation_coefficient'].mean())]"
   ]
  },
  {
   "cell_type": "code",
   "execution_count": 20,
   "metadata": {},
   "outputs": [
    {
     "data": {
      "text/plain": [
       "set()"
      ]
     },
     "execution_count": 20,
     "metadata": {},
     "output_type": "execute_result"
    }
   ],
   "source": [
    "# Are there any common candidates between the three datasets?\n",
    "common_candidates = set(df_38_candidates.index) & set(df_215_candidates.index) & set(df_107_candidates.index)\n",
    "\n",
    "common_candidates"
   ]
  },
  {
   "cell_type": "code",
   "execution_count": 21,
   "metadata": {},
   "outputs": [
    {
     "name": "stdout",
     "output_type": "stream",
     "text": [
      "common_candidates_38_215  set()\n",
      "common_candidates_38_107  {'VIME', 'SERPH', 'TIMP2', 'FSCN1'}\n",
      "common_candidates_215_107  set()\n"
     ]
    }
   ],
   "source": [
    "# Are there any common candidates between the two datasets?\n",
    "common_candidates_38_215 = set(df_38_candidates.index) & set(df_215_candidates.index)\n",
    "common_candidates_38_107 = set(df_38_candidates.index) & set(df_107_candidates.index)\n",
    "common_candidates_215_107 = set(df_215_candidates.index) & set(df_107_candidates.index)\n",
    "\n",
    "print(\"common_candidates_38_215 \", common_candidates_38_215)\n",
    "print(\"common_candidates_38_107 \", common_candidates_38_107)\n",
    "print(\"common_candidates_215_107 \", common_candidates_215_107)\n"
   ]
  },
  {
   "cell_type": "code",
   "execution_count": 22,
   "metadata": {},
   "outputs": [
    {
     "name": "stdout",
     "output_type": "stream",
     "text": [
      "All:  29\n",
      "38 and 215:  29\n",
      "38 and 107:  52\n",
      "215 and 107:  29\n",
      "38 only:  0\n",
      "215 only:  22\n",
      "107 only:  0\n"
     ]
    }
   ],
   "source": [
    "# How many genes are in the three datasets? How many are in the two datasets? How many are in only one dataset?\n",
    "print(\"All: \", len(set(df_38_mean_std.index) & set(df_215_mean_std.index) & set(df_107_mean_std.index)))\n",
    "\n",
    "print(\"38 and 215: \", len(set(df_38_mean_std.index) & set(df_215_mean_std.index)))\n",
    "print(\"38 and 107: \", len(set(df_38_mean_std.index) & set(df_107_mean_std.index)))\n",
    "print(\"215 and 107: \", len(set(df_215_mean_std.index) & set(df_107_mean_std.index)))\n",
    "\n",
    "print(\"38 only: \", len(set(df_38_mean_std.index) - set(df_215_mean_std.index) - set(df_107_mean_std.index)))\n",
    "print(\"215 only: \", len(set(df_215_mean_std.index) - set(df_38_mean_std.index) - set(df_107_mean_std.index)))\n",
    "print(\"107 only: \", len(set(df_107_mean_std.index) - set(df_38_mean_std.index) - set(df_215_mean_std.index)))\n",
    "\n"
   ]
  },
  {
   "cell_type": "code",
   "execution_count": 23,
   "metadata": {},
   "outputs": [],
   "source": [
    "candidates_215_not_38_107 =  df_215_candidates[~df_215_candidates.index.isin(set(df_38_mean_std.index) & set(df_107_mean_std.index))].index\n",
    "candidates_38_107_not_215 = df_38_candidates[df_38_candidates.index.isin(common_candidates_38_107) & ~df_38_candidates.index.isin(df_215_mean_std.index)].index"
   ]
  },
  {
   "cell_type": "code",
   "execution_count": 24,
   "metadata": {},
   "outputs": [],
   "source": [
    "PROTEIN_DATA_PATH = '../data/ms/Womec_DIA_protein_data.csv'\n",
    "df_protein_data = pd.read_csv(PROTEIN_DATA_PATH, sep='\\t', index_col='Genes', header=0)"
   ]
  },
  {
   "cell_type": "code",
   "execution_count": 27,
   "metadata": {},
   "outputs": [],
   "source": [
    "def find_candidates(candidates, df_protein_data, label):\n",
    "    print(f\"Candidates in {label}:\")\n",
    "\n",
    "    for p in candidates:\n",
    "        found = False\n",
    "\n",
    "        # Search in index\n",
    "        for idx in df_protein_data.index:\n",
    "            if p in str(idx).split(';'):\n",
    "                print(p, df_protein_data.loc[idx]['First.Protein.Description'])\n",
    "                found = True\n",
    "                break\n",
    "\n",
    "        if found:\n",
    "            continue\n",
    "\n",
    "        # Search in 'Protein.Names' column\n",
    "        for _, row in df_protein_data.iterrows():\n",
    "            if p + \"_HUMAN\" in row['Protein.Names'].split(';'):\n",
    "                print(p, row['First.Protein.Description'])\n",
    "                found = True\n",
    "                break\n",
    "\n",
    "        if not found:\n",
    "            print(f\"{p} not found\")"
   ]
  },
  {
   "cell_type": "code",
   "execution_count": 28,
   "metadata": {},
   "outputs": [
    {
     "name": "stdout",
     "output_type": "stream",
     "text": [
      "Candidates in 215 not studied in 38 and 107:\n",
      "LAT1 Large neutral amino acids transporter small subunit 1\n",
      "SH3L3 SH3 domain-binding glutamic acid-rich-like protein 3\n",
      "RAB8A Ras-related protein Rab-3D\n",
      "RL11 60S ribosomal protein L11\n",
      "SMD3 Small nuclear ribonucleoprotein Sm D3\n",
      "ITA3 Integrin alpha-3\n",
      "VAMP8 Vesicle-associated membrane protein 8\n",
      "IMB1 Importin subunit beta-1\n",
      "MVP Major vault protein\n",
      "RL12 60S ribosomal protein L12\n",
      "RL29 60S ribosomal protein L29\n",
      "RL13A 60S ribosomal protein L13a\n",
      "-----\n",
      "Candidates in 38 and 107 not studied in 215:\n",
      "TIMP2 Metalloproteinase inhibitor 2\n",
      "FSCN1 Fascin\n",
      "VIME Keratin, type II cytoskeletal 6B\n",
      "SERPH Serpin H1\n"
     ]
    }
   ],
   "source": [
    "find_candidates(candidates_215_not_38_107, df_protein_data, \"215 not studied in 38 and 107\")\n",
    "print(\"-----\")\n",
    "find_candidates(candidates_38_107_not_215, df_protein_data, \"38 and 107 not studied in 215\")"
   ]
  },
  {
   "cell_type": "code",
   "execution_count": null,
   "metadata": {},
   "outputs": [
    {
     "data": {
      "text/html": [
       "<div>\n",
       "<style scoped>\n",
       "    .dataframe tbody tr th:only-of-type {\n",
       "        vertical-align: middle;\n",
       "    }\n",
       "\n",
       "    .dataframe tbody tr th {\n",
       "        vertical-align: top;\n",
       "    }\n",
       "\n",
       "    .dataframe thead th {\n",
       "        text-align: right;\n",
       "    }\n",
       "</style>\n",
       "<table border=\"1\" class=\"dataframe\">\n",
       "  <thead>\n",
       "    <tr style=\"text-align: right;\">\n",
       "      <th></th>\n",
       "      <th>mean</th>\n",
       "      <th>std</th>\n",
       "      <th>variation_coefficient</th>\n",
       "      <th>peptide</th>\n",
       "      <th>p_value</th>\n",
       "    </tr>\n",
       "    <tr>\n",
       "      <th>gene</th>\n",
       "      <th></th>\n",
       "      <th></th>\n",
       "      <th></th>\n",
       "      <th></th>\n",
       "      <th></th>\n",
       "    </tr>\n",
       "  </thead>\n",
       "  <tbody>\n",
       "    <tr>\n",
       "      <th>TIMP2</th>\n",
       "      <td>0.17</td>\n",
       "      <td>0.13</td>\n",
       "      <td>0.76</td>\n",
       "      <td>EVDSGNDIYGNPIK</td>\n",
       "      <td>0.938162</td>\n",
       "    </tr>\n",
       "  </tbody>\n",
       "</table>\n",
       "</div>"
      ],
      "text/plain": [
       "       mean   std  variation_coefficient         peptide   p_value\n",
       "gene                                                              \n",
       "TIMP2  0.17  0.13                   0.76  EVDSGNDIYGNPIK  0.938162"
      ]
     },
     "execution_count": 26,
     "metadata": {},
     "output_type": "execute_result"
    }
   ],
   "source": [
    "df_38_mean_std[df_38_mean_std.index == \"TIMP2\"]"
   ]
  },
  {
   "cell_type": "code",
   "execution_count": null,
   "metadata": {},
   "outputs": [
    {
     "data": {
      "text/html": [
       "<div>\n",
       "<style scoped>\n",
       "    .dataframe tbody tr th:only-of-type {\n",
       "        vertical-align: middle;\n",
       "    }\n",
       "\n",
       "    .dataframe tbody tr th {\n",
       "        vertical-align: top;\n",
       "    }\n",
       "\n",
       "    .dataframe thead th {\n",
       "        text-align: right;\n",
       "    }\n",
       "</style>\n",
       "<table border=\"1\" class=\"dataframe\">\n",
       "  <thead>\n",
       "    <tr style=\"text-align: right;\">\n",
       "      <th></th>\n",
       "      <th>mean</th>\n",
       "      <th>std</th>\n",
       "      <th>variation_coefficient</th>\n",
       "      <th>peptide</th>\n",
       "      <th>p_value</th>\n",
       "    </tr>\n",
       "    <tr>\n",
       "      <th>gene</th>\n",
       "      <th></th>\n",
       "      <th></th>\n",
       "      <th></th>\n",
       "      <th></th>\n",
       "      <th></th>\n",
       "    </tr>\n",
       "  </thead>\n",
       "  <tbody>\n",
       "    <tr>\n",
       "      <th>TIMP2</th>\n",
       "      <td>0.16</td>\n",
       "      <td>0.13</td>\n",
       "      <td>0.81</td>\n",
       "      <td>EVDSGNDIYGNPIK</td>\n",
       "      <td>0.113771</td>\n",
       "    </tr>\n",
       "  </tbody>\n",
       "</table>\n",
       "</div>"
      ],
      "text/plain": [
       "       mean   std  variation_coefficient         peptide   p_value\n",
       "gene                                                              \n",
       "TIMP2  0.16  0.13                   0.81  EVDSGNDIYGNPIK  0.113771"
      ]
     },
     "execution_count": 27,
     "metadata": {},
     "output_type": "execute_result"
    }
   ],
   "source": [
    "df_107_mean_std[df_107_mean_std.index == \"TIMP2\"]"
   ]
  },
  {
   "cell_type": "code",
   "execution_count": null,
   "metadata": {},
   "outputs": [
    {
     "data": {
      "text/plain": [
       "<Axes: xlabel='Pathology', ylabel='TIMP2_EVDSGNDIYGNPIK'>"
      ]
     },
     "execution_count": 28,
     "metadata": {},
     "output_type": "execute_result"
    },
    {
     "data": {
      "image/png": "[encoded data removed]",
      "text/plain": [
       "<Figure size 640x480 with 1 Axes>"
      ]
     },
     "metadata": {},
     "output_type": "display_data"
    }
   ],
   "source": [
    "sns.boxplot(x=df_38['Pathology'] , y=df_38[\"TIMP2_EVDSGNDIYGNPIK\"].apply(np.log)) \n"
   ]
  },
  {
   "cell_type": "code",
   "execution_count": 33,
   "metadata": {},
   "outputs": [
    {
     "data": {
      "text/html": [
       "<div>\n",
       "<style scoped>\n",
       "    .dataframe tbody tr th:only-of-type {\n",
       "        vertical-align: middle;\n",
       "    }\n",
       "\n",
       "    .dataframe tbody tr th {\n",
       "        vertical-align: top;\n",
       "    }\n",
       "\n",
       "    .dataframe thead th {\n",
       "        text-align: right;\n",
       "    }\n",
       "</style>\n",
       "<table border=\"1\" class=\"dataframe\">\n",
       "  <thead>\n",
       "    <tr style=\"text-align: right;\">\n",
       "      <th></th>\n",
       "      <th>AUC</th>\n",
       "      <th>Sensitivity</th>\n",
       "      <th>Specificity</th>\n",
       "      <th>NPV</th>\n",
       "      <th>PPV</th>\n",
       "      <th>Best_Threshold</th>\n",
       "    </tr>\n",
       "    <tr>\n",
       "      <th>Biomarker_1</th>\n",
       "      <th></th>\n",
       "      <th></th>\n",
       "      <th></th>\n",
       "      <th></th>\n",
       "      <th></th>\n",
       "      <th></th>\n",
       "    </tr>\n",
       "  </thead>\n",
       "  <tbody>\n",
       "    <tr>\n",
       "      <th>TIMP2_EVDSGNDIYGNPIK</th>\n",
       "      <td>0.48056</td>\n",
       "      <td>0.1</td>\n",
       "      <td>0.94444</td>\n",
       "      <td>0.48571</td>\n",
       "      <td>0.66667</td>\n",
       "      <td>0.53535</td>\n",
       "    </tr>\n",
       "  </tbody>\n",
       "</table>\n",
       "</div>"
      ],
      "text/plain": [
       "                          AUC  Sensitivity  Specificity      NPV      PPV  \\\n",
       "Biomarker_1                                                                 \n",
       "TIMP2_EVDSGNDIYGNPIK  0.48056          0.1      0.94444  0.48571  0.66667   \n",
       "\n",
       "                      Best_Threshold  \n",
       "Biomarker_1                           \n",
       "TIMP2_EVDSGNDIYGNPIK         0.53535  "
      ]
     },
     "execution_count": 33,
     "metadata": {},
     "output_type": "execute_result"
    }
   ],
   "source": [
    "df_38_results_direct_max_1[df_38_results_direct_max_1.index.str[0:5] == \"TIMP2\"]"
   ]
  },
  {
   "cell_type": "code",
   "execution_count": 32,
   "metadata": {},
   "outputs": [
    {
     "data": {
      "text/html": [
       "<div>\n",
       "<style scoped>\n",
       "    .dataframe tbody tr th:only-of-type {\n",
       "        vertical-align: middle;\n",
       "    }\n",
       "\n",
       "    .dataframe tbody tr th {\n",
       "        vertical-align: top;\n",
       "    }\n",
       "\n",
       "    .dataframe thead th {\n",
       "        text-align: right;\n",
       "    }\n",
       "</style>\n",
       "<table border=\"1\" class=\"dataframe\">\n",
       "  <thead>\n",
       "    <tr style=\"text-align: right;\">\n",
       "      <th></th>\n",
       "      <th>AUC</th>\n",
       "      <th>Sensitivity</th>\n",
       "      <th>Specificity</th>\n",
       "      <th>NPV</th>\n",
       "      <th>PPV</th>\n",
       "      <th>Best_Threshold</th>\n",
       "    </tr>\n",
       "    <tr>\n",
       "      <th>Biomarker_1</th>\n",
       "      <th></th>\n",
       "      <th></th>\n",
       "      <th></th>\n",
       "      <th></th>\n",
       "      <th></th>\n",
       "      <th></th>\n",
       "    </tr>\n",
       "  </thead>\n",
       "  <tbody>\n",
       "    <tr>\n",
       "      <th>TIMP2_EVDSGNDIYGNPIK</th>\n",
       "      <td>0.56388</td>\n",
       "      <td>0.18841</td>\n",
       "      <td>0.94737</td>\n",
       "      <td>0.3913</td>\n",
       "      <td>0.86667</td>\n",
       "      <td>0.72727</td>\n",
       "    </tr>\n",
       "  </tbody>\n",
       "</table>\n",
       "</div>"
      ],
      "text/plain": [
       "                          AUC  Sensitivity  Specificity     NPV      PPV  \\\n",
       "Biomarker_1                                                                \n",
       "TIMP2_EVDSGNDIYGNPIK  0.56388      0.18841      0.94737  0.3913  0.86667   \n",
       "\n",
       "                      Best_Threshold  \n",
       "Biomarker_1                           \n",
       "TIMP2_EVDSGNDIYGNPIK         0.72727  "
      ]
     },
     "execution_count": 32,
     "metadata": {},
     "output_type": "execute_result"
    }
   ],
   "source": [
    "df_107_results_direct_max_1[df_107_results_direct_max_1.index.str[0:5] == \"TIMP2\"]"
   ]
  },
  {
   "cell_type": "code",
   "execution_count": 34,
   "metadata": {},
   "outputs": [
    {
     "data": {
      "text/html": [
       "<div>\n",
       "<style scoped>\n",
       "    .dataframe tbody tr th:only-of-type {\n",
       "        vertical-align: middle;\n",
       "    }\n",
       "\n",
       "    .dataframe tbody tr th {\n",
       "        vertical-align: top;\n",
       "    }\n",
       "\n",
       "    .dataframe thead th {\n",
       "        text-align: right;\n",
       "    }\n",
       "</style>\n",
       "<table border=\"1\" class=\"dataframe\">\n",
       "  <thead>\n",
       "    <tr style=\"text-align: right;\">\n",
       "      <th></th>\n",
       "      <th>AUC</th>\n",
       "      <th>Sensitivity</th>\n",
       "      <th>Specificity</th>\n",
       "      <th>NPV</th>\n",
       "      <th>PPV</th>\n",
       "      <th>Best_Threshold</th>\n",
       "    </tr>\n",
       "    <tr>\n",
       "      <th>Biomarker_1</th>\n",
       "      <th></th>\n",
       "      <th></th>\n",
       "      <th></th>\n",
       "      <th></th>\n",
       "      <th></th>\n",
       "      <th></th>\n",
       "    </tr>\n",
       "  </thead>\n",
       "  <tbody>\n",
       "    <tr>\n",
       "      <th>MMP9_SLGPALLLLQK</th>\n",
       "      <td>0.91389</td>\n",
       "      <td>0.95</td>\n",
       "      <td>0.83333</td>\n",
       "      <td>0.93750</td>\n",
       "      <td>0.86364</td>\n",
       "      <td>0.60606</td>\n",
       "    </tr>\n",
       "    <tr>\n",
       "      <th>MMP9_AFALWSAVTPLTFTR</th>\n",
       "      <td>0.91389</td>\n",
       "      <td>0.95</td>\n",
       "      <td>0.77778</td>\n",
       "      <td>0.93333</td>\n",
       "      <td>0.82609</td>\n",
       "      <td>0.58586</td>\n",
       "    </tr>\n",
       "  </tbody>\n",
       "</table>\n",
       "</div>"
      ],
      "text/plain": [
       "                          AUC  Sensitivity  Specificity      NPV      PPV  \\\n",
       "Biomarker_1                                                                 \n",
       "MMP9_SLGPALLLLQK      0.91389         0.95      0.83333  0.93750  0.86364   \n",
       "MMP9_AFALWSAVTPLTFTR  0.91389         0.95      0.77778  0.93333  0.82609   \n",
       "\n",
       "                      Best_Threshold  \n",
       "Biomarker_1                           \n",
       "MMP9_SLGPALLLLQK             0.60606  \n",
       "MMP9_AFALWSAVTPLTFTR         0.58586  "
      ]
     },
     "execution_count": 34,
     "metadata": {},
     "output_type": "execute_result"
    }
   ],
   "source": [
    "df_38_results_direct_max_1[df_38_results_direct_max_1.index.str[0:4] == \"MMP9\"]"
   ]
  },
  {
   "cell_type": "code",
   "execution_count": 35,
   "metadata": {},
   "outputs": [
    {
     "data": {
      "text/html": [
       "<div>\n",
       "<style scoped>\n",
       "    .dataframe tbody tr th:only-of-type {\n",
       "        vertical-align: middle;\n",
       "    }\n",
       "\n",
       "    .dataframe tbody tr th {\n",
       "        vertical-align: top;\n",
       "    }\n",
       "\n",
       "    .dataframe thead th {\n",
       "        text-align: right;\n",
       "    }\n",
       "</style>\n",
       "<table border=\"1\" class=\"dataframe\">\n",
       "  <thead>\n",
       "    <tr style=\"text-align: right;\">\n",
       "      <th></th>\n",
       "      <th>AUC</th>\n",
       "      <th>Sensitivity</th>\n",
       "      <th>Specificity</th>\n",
       "      <th>NPV</th>\n",
       "      <th>PPV</th>\n",
       "      <th>Best_Threshold</th>\n",
       "    </tr>\n",
       "    <tr>\n",
       "      <th>Biomarker_1</th>\n",
       "      <th></th>\n",
       "      <th></th>\n",
       "      <th></th>\n",
       "      <th></th>\n",
       "      <th></th>\n",
       "      <th></th>\n",
       "    </tr>\n",
       "  </thead>\n",
       "  <tbody>\n",
       "    <tr>\n",
       "      <th>MMP9_SLGPALLLLQK</th>\n",
       "      <td>0.89340</td>\n",
       "      <td>0.85507</td>\n",
       "      <td>0.81579</td>\n",
       "      <td>0.7561</td>\n",
       "      <td>0.89394</td>\n",
       "      <td>0.64646</td>\n",
       "    </tr>\n",
       "    <tr>\n",
       "      <th>MMP9_AFALWSAVTPLTFTR</th>\n",
       "      <td>0.89321</td>\n",
       "      <td>0.86957</td>\n",
       "      <td>0.81579</td>\n",
       "      <td>0.7750</td>\n",
       "      <td>0.89552</td>\n",
       "      <td>0.61616</td>\n",
       "    </tr>\n",
       "  </tbody>\n",
       "</table>\n",
       "</div>"
      ],
      "text/plain": [
       "                          AUC  Sensitivity  Specificity     NPV      PPV  \\\n",
       "Biomarker_1                                                                \n",
       "MMP9_SLGPALLLLQK      0.89340      0.85507      0.81579  0.7561  0.89394   \n",
       "MMP9_AFALWSAVTPLTFTR  0.89321      0.86957      0.81579  0.7750  0.89552   \n",
       "\n",
       "                      Best_Threshold  \n",
       "Biomarker_1                           \n",
       "MMP9_SLGPALLLLQK             0.64646  \n",
       "MMP9_AFALWSAVTPLTFTR         0.61616  "
      ]
     },
     "execution_count": 35,
     "metadata": {},
     "output_type": "execute_result"
    }
   ],
   "source": [
    "df_107_results_direct_max_1[df_107_results_direct_max_1.index.str[0:4] == \"MMP9\"]"
   ]
  },
  {
   "cell_type": "code",
   "execution_count": null,
   "metadata": {},
   "outputs": [],
   "source": [
    "_ = utils.compute_all_models_and_save(df=df_400, \n",
    "                                      biomarkers=['MMP9_SLGPALLLLQK','TIMP2_EVDSGNDIYGNPIK'], \n",
    "                                      target_col='Pathology', \n",
    "                                      methods=['biomarker_ratio'], \n",
    "                                      max_biomarker_count=2,\n",
    "                                      folder_name=\"../data/results/107_ratios\",\n",
    "                                      auc_threshold=0.85)"
   ]
  }
 ],
 "metadata": {
  "kernelspec": {
   "display_name": ".venv",
   "language": "python",
   "name": "python3"
  },
  "language_info": {
   "codemirror_mode": {
    "name": "ipython",
    "version": 3
   },
   "file_extension": ".py",
   "mimetype": "text/x-python",
   "name": "python",
   "nbconvert_exporter": "python",
   "pygments_lexer": "ipython3",
   "version": "3.12.3"
  }
 },
 "nbformat": 4,
 "nbformat_minor": 2
}
