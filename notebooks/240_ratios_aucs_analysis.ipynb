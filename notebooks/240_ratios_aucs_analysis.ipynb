{
 "cells": [
  {
   "cell_type": "markdown",
   "metadata": {},
   "source": [
    "# Cohort 240 downregulated AUCs ratios analysis\n",
    "\n",
    "### Imports and environment setup\n",
    "\n",
    "- Date of run: 2025-02-17\n",
    "- Environment: python 3.12\n",
    "- Packages required: pandas, numpy, sklearn, statsmodels, seaborn, matplotlib"
   ]
  },
  {
   "cell_type": "code",
   "execution_count": 21,
   "metadata": {},
   "outputs": [],
   "source": [
    "# Include in the environment the code directory with the utils function\n",
    "import sys\n",
    "sys.path.append('../code/')"
   ]
  },
  {
   "cell_type": "code",
   "execution_count": 22,
   "metadata": {},
   "outputs": [],
   "source": [
    "# Library imports\n",
    "import pandas as pd\n",
    "import numpy as np\n",
    "from IPython.display import display, HTML\n",
    "import matplotlib.pyplot as plt\n",
    "import seaborn as sns\n",
    "\n",
    "# Utils imports\n",
    "import cohort_analysis_utils as utils"
   ]
  },
  {
   "cell_type": "code",
   "execution_count": 23,
   "metadata": {},
   "outputs": [],
   "source": [
    "# Remove warnings for readability\n",
    "import warnings\n",
    "warnings.filterwarnings('ignore')\n",
    "\n",
    "# Remove cell printing limits\n",
    "pd.set_option('display.max_rows', None)\n"
   ]
  },
  {
   "cell_type": "markdown",
   "metadata": {},
   "source": [
    "# Data loading and preprosessing"
   ]
  },
  {
   "cell_type": "markdown",
   "metadata": {},
   "source": [
    "The original excel file was saved into a CSV file in the data folder of this repository, separating fields by TABs."
   ]
  },
  {
   "cell_type": "code",
   "execution_count": 24,
   "metadata": {},
   "outputs": [],
   "source": [
    "df_240 = pd.read_csv('../data/mmk_240_20240926.csv', sep=',', index_col=0, header=0)\n"
   ]
  },
  {
   "cell_type": "code",
   "execution_count": 25,
   "metadata": {},
   "outputs": [],
   "source": [
    "# Harmonization of column names\n",
    "df_240 = utils.normalize_column_names(df_240)\n",
    "\n",
    "# To harmonize with other analyses, change _MIMARK to _MMK in column names\n",
    "df_240.columns = [col.replace('_MIMARK', '') for col in df_240.columns]"
   ]
  },
  {
   "cell_type": "code",
   "execution_count": 26,
   "metadata": {},
   "outputs": [],
   "source": [
    "df_240_dr = pd.read_csv('../data/mmk_240_TIMP_ADIPOQ_20250217.csv', sep='\\t', index_col=0, header=0)\n"
   ]
  },
  {
   "cell_type": "code",
   "execution_count": 27,
   "metadata": {},
   "outputs": [],
   "source": [
    "# Join the two dataframes by the index (named Sample)\n",
    "df_240 = df_240.join(df_240_dr, how='inner')"
   ]
  },
  {
   "cell_type": "code",
   "execution_count": 28,
   "metadata": {},
   "outputs": [
    {
     "data": {
      "text/html": [
       "<div>\n",
       "<style scoped>\n",
       "    .dataframe tbody tr th:only-of-type {\n",
       "        vertical-align: middle;\n",
       "    }\n",
       "\n",
       "    .dataframe tbody tr th {\n",
       "        vertical-align: top;\n",
       "    }\n",
       "\n",
       "    .dataframe thead th {\n",
       "        text-align: right;\n",
       "    }\n",
       "</style>\n",
       "<table border=\"1\" class=\"dataframe\">\n",
       "  <thead>\n",
       "    <tr style=\"text-align: right;\">\n",
       "      <th></th>\n",
       "      <th>Condition</th>\n",
       "      <th>TP_2022</th>\n",
       "      <th>AGRIN</th>\n",
       "      <th>KPYM</th>\n",
       "      <th>HSPB1</th>\n",
       "      <th>PERM</th>\n",
       "      <th>MMP9</th>\n",
       "      <th>TP_2024</th>\n",
       "      <th>TIMP-2</th>\n",
       "      <th>ADIPOQ</th>\n",
       "    </tr>\n",
       "    <tr>\n",
       "      <th>Sample</th>\n",
       "      <th></th>\n",
       "      <th></th>\n",
       "      <th></th>\n",
       "      <th></th>\n",
       "      <th></th>\n",
       "      <th></th>\n",
       "      <th></th>\n",
       "      <th></th>\n",
       "      <th></th>\n",
       "      <th></th>\n",
       "    </tr>\n",
       "  </thead>\n",
       "  <tbody>\n",
       "    <tr>\n",
       "      <th>54</th>\n",
       "      <td>Benign</td>\n",
       "      <td>30.85</td>\n",
       "      <td>506.13</td>\n",
       "      <td>794.66</td>\n",
       "      <td>24701.90</td>\n",
       "      <td>360.97</td>\n",
       "      <td>36.51</td>\n",
       "      <td>37.64</td>\n",
       "      <td>65.112</td>\n",
       "      <td>547.727</td>\n",
       "    </tr>\n",
       "    <tr>\n",
       "      <th>309</th>\n",
       "      <td>Benign</td>\n",
       "      <td>9.21</td>\n",
       "      <td>108.91</td>\n",
       "      <td>168.89</td>\n",
       "      <td>5413.39</td>\n",
       "      <td>125.01</td>\n",
       "      <td>28.33</td>\n",
       "      <td>5.31</td>\n",
       "      <td>155.195</td>\n",
       "      <td>387.162</td>\n",
       "    </tr>\n",
       "    <tr>\n",
       "      <th>382</th>\n",
       "      <td>Benign</td>\n",
       "      <td>26.81</td>\n",
       "      <td>1445.13</td>\n",
       "      <td>2256.77</td>\n",
       "      <td>12927.05</td>\n",
       "      <td>558.55</td>\n",
       "      <td>207.37</td>\n",
       "      <td>22.60</td>\n",
       "      <td>0.402</td>\n",
       "      <td>733.204</td>\n",
       "    </tr>\n",
       "    <tr>\n",
       "      <th>433</th>\n",
       "      <td>Benign</td>\n",
       "      <td>20.08</td>\n",
       "      <td>129.36</td>\n",
       "      <td>254.48</td>\n",
       "      <td>3177.59</td>\n",
       "      <td>176.67</td>\n",
       "      <td>27.31</td>\n",
       "      <td>14.49</td>\n",
       "      <td>36.535</td>\n",
       "      <td>1930.970</td>\n",
       "    </tr>\n",
       "    <tr>\n",
       "      <th>484</th>\n",
       "      <td>Benign</td>\n",
       "      <td>28.27</td>\n",
       "      <td>677.80</td>\n",
       "      <td>1217.30</td>\n",
       "      <td>18193.34</td>\n",
       "      <td>389.55</td>\n",
       "      <td>139.50</td>\n",
       "      <td>17.80</td>\n",
       "      <td>95.949</td>\n",
       "      <td>834.905</td>\n",
       "    </tr>\n",
       "  </tbody>\n",
       "</table>\n",
       "</div>"
      ],
      "text/plain": [
       "       Condition TP_2022    AGRIN     KPYM     HSPB1    PERM    MMP9  TP_2024  \\\n",
       "Sample                                                                          \n",
       "54        Benign   30.85   506.13   794.66  24701.90  360.97   36.51    37.64   \n",
       "309       Benign    9.21   108.91   168.89   5413.39  125.01   28.33     5.31   \n",
       "382       Benign   26.81  1445.13  2256.77  12927.05  558.55  207.37    22.60   \n",
       "433       Benign   20.08   129.36   254.48   3177.59  176.67   27.31    14.49   \n",
       "484       Benign   28.27   677.80  1217.30  18193.34  389.55  139.50    17.80   \n",
       "\n",
       "         TIMP-2    ADIPOQ  \n",
       "Sample                     \n",
       "54       65.112   547.727  \n",
       "309     155.195   387.162  \n",
       "382       0.402   733.204  \n",
       "433      36.535  1930.970  \n",
       "484      95.949   834.905  "
      ]
     },
     "execution_count": 28,
     "metadata": {},
     "output_type": "execute_result"
    }
   ],
   "source": [
    "df_240.head()"
   ]
  },
  {
   "cell_type": "code",
   "execution_count": 33,
   "metadata": {},
   "outputs": [
    {
     "data": {
      "text/plain": [
       "Condition\n",
       "Endometrial cancer    55\n",
       "Benign                50\n",
       "Name: count, dtype: int64"
      ]
     },
     "execution_count": 33,
     "metadata": {},
     "output_type": "execute_result"
    }
   ],
   "source": [
    "df_240.value_counts('Condition')"
   ]
  },
  {
   "cell_type": "code",
   "execution_count": 30,
   "metadata": {},
   "outputs": [],
   "source": [
    "# Ensure numeric columns are treated as such\n",
    "cols_to_num = [\"TP_2022\",\"AGRIN\",\"KPYM\",\"HSPB1\",\"PERM\",\"MMP9\",\"TP_2024\",\"TIMP-2\",\"ADIPOQ\"]\n",
    "df_240 = utils.cols_as_numbers(df_240, cols_to_num)"
   ]
  },
  {
   "cell_type": "code",
   "execution_count": 31,
   "metadata": {},
   "outputs": [],
   "source": [
    "# Columns to be considered as biomarkers\n",
    "BIOMARKERS_240 = ['MMP9', 'HSPB1', 'PERM', 'ADIPOQ', 'TIMP-2', 'AGRIN', 'KPYM']\n"
   ]
  },
  {
   "cell_type": "markdown",
   "metadata": {},
   "source": [
    "### Create new columns for biomarker ratios"
   ]
  },
  {
   "cell_type": "code",
   "execution_count": 32,
   "metadata": {},
   "outputs": [],
   "source": [
    "# Create new columns with the ratios between the biomarkers\n",
    "for biomarker1 in BIOMARKERS_240:\n",
    "    for biomarker2 in BIOMARKERS_240:\n",
    "        if biomarker1 != biomarker2:\n",
    "            df_240[f'{biomarker1}_{biomarker2}'] = df_240[biomarker1].div(df_240[biomarker2], axis=0)\n",
    "            # Make infinite values NaN\n",
    "            df_240[f'{biomarker1}_{biomarker2}'] = df_240[f'{biomarker1}_{biomarker2}'].replace([np.inf, -np.inf], np.nan)\n",
    "    "
   ]
  },
  {
   "cell_type": "code",
   "execution_count": 34,
   "metadata": {},
   "outputs": [],
   "source": [
    "# Ensure categorical columns are treated as such\n",
    "df_240 = utils.cols_as_category(df_240, {'Condition':{'Benign': 0, 'Endometrial cancer': 1}})"
   ]
  },
  {
   "cell_type": "code",
   "execution_count": 40,
   "metadata": {},
   "outputs": [],
   "source": [
    "# Rename 'Condition' column to 'Pathology'\n",
    "df_240.rename(columns={'Condition': 'Pathology'}, inplace=True)"
   ]
  },
  {
   "cell_type": "markdown",
   "metadata": {},
   "source": [
    "# Execution parameters"
   ]
  },
  {
   "cell_type": "code",
   "execution_count": 37,
   "metadata": {},
   "outputs": [],
   "source": [
    "PLOT_ROCS = False\n",
    "RESULTS_PATH = '../data/results/240_dr_ratios'\n",
    "\n",
    "# The biomarkers now include the ratios\n",
    "BIOMARKERS_240 = [f\"{biomarker1}_{biomarker2}\" for biomarker1 in BIOMARKERS_240 for biomarker2 in BIOMARKERS_240 if biomarker1 != biomarker2]\n",
    "\n",
    "NORMALIZING_COL_240 = ''\n",
    "VOLUME_COL = ''"
   ]
  },
  {
   "cell_type": "markdown",
   "metadata": {},
   "source": [
    "Since we are using ratios, we are interested only in the $direct$ method."
   ]
  },
  {
   "cell_type": "code",
   "execution_count": 38,
   "metadata": {},
   "outputs": [],
   "source": [
    "METHODS = ['direct']"
   ]
  },
  {
   "cell_type": "markdown",
   "metadata": {},
   "source": [
    "# Computing the models\n",
    "\n",
    "All the functions to generate the models are included in the [cohort_analysis_utils.py](../code/cohort_analysis_utils.py) file."
   ]
  },
  {
   "cell_type": "code",
   "execution_count": 45,
   "metadata": {},
   "outputs": [],
   "source": [
    "MAX_BIOMARKER_COUNT = 3\n",
    "\n",
    "models_240 = utils.compute_all_models_and_save(\n",
    "                            df=df_240,\n",
    "                            biomarkers=BIOMARKERS_240,\n",
    "                            normalizing_col=NORMALIZING_COL_240, \n",
    "                            volume_col= VOLUME_COL,\n",
    "                            volume_added=0.5,\n",
    "                            apply_log=True,\n",
    "                            avoid_same_biomarker=True,\n",
    "                            methods=METHODS,\n",
    "                            max_biomarker_count=MAX_BIOMARKER_COUNT,\n",
    "                            folder_name=RESULTS_PATH,\n",
    "                            plot_rocs=False,\n",
    "                            auc_threshold=0.0,\n",
    "                            )"
   ]
  },
  {
   "cell_type": "markdown",
   "metadata": {},
   "source": [
    "Let's do the same for single biomarkers."
   ]
  },
  {
   "cell_type": "code",
   "execution_count": 47,
   "metadata": {},
   "outputs": [],
   "source": [
    "MAX_BIOMARKER_COUNT = 1\n",
    "\n",
    "models_240_1 = utils.compute_all_models_and_save(\n",
    "                            df=df_240,\n",
    "                            biomarkers=BIOMARKERS_240,\n",
    "                            normalizing_col=NORMALIZING_COL_240, \n",
    "                            volume_col= VOLUME_COL,\n",
    "                            volume_added=0.5,\n",
    "                            apply_log=True,\n",
    "                            avoid_same_biomarker=True,\n",
    "                            methods=METHODS,\n",
    "                            max_biomarker_count=MAX_BIOMARKER_COUNT,\n",
    "                            folder_name=RESULTS_PATH,\n",
    "                            plot_rocs=True,\n",
    "                            auc_threshold=0.0,\n",
    "                            compute_auc_ci=True\n",
    "                            )"
   ]
  },
  {
   "cell_type": "markdown",
   "metadata": {},
   "source": [
    "# Results\n",
    "\n",
    "Given the number of models computed for different amounts of ratios, AUC results are not shown here but saved in the correspondent results folder."
   ]
  },
  {
   "cell_type": "markdown",
   "metadata": {},
   "source": [
    "## AUCs confidence interval\n",
    "\n",
    "AUCs confidence intervals are computed with the bootstraping method. Bootstrapping to compute confidence intervals for AUC involves repeatedly resampling the original dataset with replacement to create many bootstrap samples, calculating the AUC for each sample, and then constructing a distribution of these AUC values. The confidence interval is determined by taking the appropriate percentiles (e.g., 2.5th and 97.5th for a 95% CI) from the sorted bootstrap AUC values, providing a range that estimates where the true AUC likely falls."
   ]
  },
  {
   "cell_type": "code",
   "execution_count": 50,
   "metadata": {},
   "outputs": [],
   "source": [
    "aucs = []\n",
    "auc_cis = []\n",
    "models = []\n",
    "\n",
    "for model in models_240_1['direct'][(list(models_240_1['direct'].keys())[0])].keys():\n",
    "    model_name = model[0]\n",
    "    model_auc = models_240_1['direct'][(list(models_240_1['direct'].keys())[0])][model]['auc']\n",
    "    if model_auc > 0.7 or model_auc < 0.3:\n",
    "        model_auc_ci = models_240_1['direct'][(list(models_240_1['direct'].keys())[0])][model]['auc_ci']\n",
    "        aucs.append(float(model_auc))\n",
    "        auc_cis.append([float(model_auc_ci[0]), float(model_auc_ci[1])])\n",
    "        models.append(model_name)"
   ]
  },
  {
   "cell_type": "code",
   "execution_count": 51,
   "metadata": {},
   "outputs": [
    {
     "data": {
      "image/png": "[encoded data removed]",
      "text/plain": [
       "<Figure size 1000x500 with 1 Axes>"
      ]
     },
     "metadata": {},
     "output_type": "display_data"
    }
   ],
   "source": [
    "custom_palette = {0: \"#f789c8\", 1: \"#f41c11\"}  # Use MMK colors\n",
    "\n",
    "auc_cis = np.array(auc_cis)\n",
    "\n",
    "# Calculate the errors\n",
    "lower_err = aucs - auc_cis[:, 0]\n",
    "upper_err = auc_cis[:, 1] - aucs\n",
    "yerr = [lower_err, upper_err]\n",
    "\n",
    "plt.figure(figsize=(10,5))\n",
    "plt.bar(\n",
    "    models,\n",
    "    aucs,\n",
    "    yerr=yerr,\n",
    "    capsize=5,\n",
    "    align='center',\n",
    "    color=custom_palette[0],\n",
    "    error_kw={'elinewidth': 1.5, 'alpha': 0.5, 'ecolor': 'gray'}  # Customize error bars\n",
    ")\n",
    "\n",
    "# Add text with the value of the bar in the top center of the error bars\n",
    "for i in range(len(models)):\n",
    "    plt.text(i, aucs[i] + 0.01, f'{aucs[i]:.2f}', ha='center')\n",
    "\n",
    "\n",
    "plt.xticks(rotation=90)\n",
    "plt.ylabel('AUC')\n",
    "plt.title('AUCs with Confidence Intervals')\n",
    "plt.show()"
   ]
  }
 ],
 "metadata": {
  "kernelspec": {
   "display_name": ".venv",
   "language": "python",
   "name": "python3"
  },
  "language_info": {
   "codemirror_mode": {
    "name": "ipython",
    "version": 3
   },
   "file_extension": ".py",
   "mimetype": "text/x-python",
   "name": "python",
   "nbconvert_exporter": "python",
   "pygments_lexer": "ipython3",
   "version": "3.12.3"
  }
 },
 "nbformat": 4,
 "nbformat_minor": 2
}
