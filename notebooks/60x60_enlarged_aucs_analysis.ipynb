{
 "cells": [
  {
   "cell_type": "markdown",
   "metadata": {},
   "source": [
    "# Cohort 60x60 AUCs enlarged analysis\n",
    "\n",
    "### Imports and environment setup\n",
    "\n",
    "- Date of run: 2024-09-26\n",
    "- Environment: python 3.12\n",
    "- Packages required: pandas, numpy, sklearn, statsmodels, seaborn, matplotlib"
   ]
  },
  {
   "cell_type": "code",
   "execution_count": 1,
   "metadata": {},
   "outputs": [],
   "source": [
    "# Include in the environment the code directory with the utils function\n",
    "import sys\n",
    "sys.path.append('../code/')"
   ]
  },
  {
   "cell_type": "code",
   "execution_count": 2,
   "metadata": {},
   "outputs": [],
   "source": [
    "# Library imports\n",
    "import pandas as pd\n",
    "import numpy as np\n",
    "from IPython.display import display, HTML\n",
    "import matplotlib.pyplot as plt\n",
    "import seaborn as sns\n",
    "\n",
    "# Utils imports\n",
    "import cohort_analysis_utils as utils"
   ]
  },
  {
   "cell_type": "code",
   "execution_count": 3,
   "metadata": {},
   "outputs": [],
   "source": [
    "# Remove warnings for readability\n",
    "import warnings\n",
    "warnings.filterwarnings('ignore')\n",
    "\n",
    "# Remove cell printing limits\n",
    "pd.set_option('display.max_rows', None)\n"
   ]
  },
  {
   "cell_type": "markdown",
   "metadata": {},
   "source": [
    "# Data loading and preprosessing"
   ]
  },
  {
   "cell_type": "markdown",
   "metadata": {},
   "source": [
    "The original excel file (available [here](<https://mimarkdx.sharepoint.com/sites/Scientific/Documentos compartidos/General/PHASE 6 - SOFTWARE DEVELOPMENT/DATA/../../../../../../:x:/s/Scientific/Eaw9d-fa2BREg_iZB1SL02YBG4mfVaJtoylG46bROmXVJA?e=8chcN7>)) was saved into a CSV file in the data folder of this repository, separating fields by TABs."
   ]
  },
  {
   "cell_type": "code",
   "execution_count": 4,
   "metadata": {},
   "outputs": [],
   "source": [
    "df_120 = pd.read_csv('../data/60x60_enlarged_20240926.csv' , sep='\\t', index_col=0, header=0)\n"
   ]
  },
  {
   "cell_type": "code",
   "execution_count": 5,
   "metadata": {},
   "outputs": [],
   "source": [
    "# Harmonization of column names\n",
    "df_120 = utils.normalize_column_names(df_120)"
   ]
  },
  {
   "cell_type": "code",
   "execution_count": 6,
   "metadata": {},
   "outputs": [],
   "source": [
    "# Ensure numeric columns are treated as such\n",
    "cols_120_to_num = ['Collected_volume_mL',\n",
    "                    'MMP9_MMK', 'HSPB1_MMK', 'AGRIN_MMK',\n",
    "                    'KPYM_MMK', 'PERM_MMK',\n",
    "                    'Total_protein_BCA']\n",
    "df_120 = utils.cols_as_numbers(df_120, cols_120_to_num)"
   ]
  },
  {
   "cell_type": "code",
   "execution_count": 7,
   "metadata": {},
   "outputs": [],
   "source": [
    "# Ensure categorical columns are treated as such\n",
    "df_120 = utils.cols_as_category(df_120, {'Pathology':{'Benign': 0, 'Endometrial cancer': 1}})"
   ]
  },
  {
   "cell_type": "markdown",
   "metadata": {},
   "source": [
    "# Execution parameters"
   ]
  },
  {
   "cell_type": "code",
   "execution_count": 8,
   "metadata": {},
   "outputs": [],
   "source": [
    "PLOT_ROCS = True\n",
    "MAX_BIOMARKER_COUNT = 3\n",
    "RESULTS_PATH = '../data/results/60x60_enlarged'\n",
    "\n",
    "# Columns to be considered as biomarkers\n",
    "BIOMARKERS_120 = ['MMP9_MMK', 'HSPB1_MMK', 'AGRIN_MMK', 'KPYM_MMK', 'PERM_MMK']\n",
    "\n",
    "NORMALIZING_COL_120 = 'Total_protein_BCA' # Column to be used for normalizing the biomarkers\n",
    "VOLUME_COL = 'Collected_volume_mL' # Column to be used as volume for scatters and undoing the dilution\n",
    "\n",
    "MAX_BIOMARKER_COUNT = 3"
   ]
  },
  {
   "cell_type": "markdown",
   "metadata": {},
   "source": [
    "## Methods\n",
    "\n",
    "Description of the methods used to compute the AUCS\n",
    "\n",
    "### Direct\n",
    "\n",
    "No transformations were made to the readout of each biomarker.\n",
    "\n",
    "Due to the different treatment the samples have undergone, the performance of the biomarkers in the 60x60 is masking the correlation of the target variable (disease) with the volume variable because the biomarkers (and total protein) readouts correlate with the collected volume. While the volume is a good classification variable, we want to get rid of it because we cannot control it.  \n",
    "\n",
    "### Normalized\n",
    "\n",
    "To get rid of the volume, the total protein variable was proposed as a normalizing variable. The values used for classification are then the ratios of the concentrations $[Bmk]/[TP]$.\n",
    "\n",
    "About the pros and cons of this method: \n",
    "- As a pro, the total protein correlates with the volume (in the 60x60 cohort) so normalizing by it allows to get rid of the volume. \n",
    "- Total protein (unlike volume) is determined experimentally and not manually and is not extraction/technician/clinician dependent.  \n",
    "- While it correlates with the volume (in the 60x60 cohort), the concentration of total protein is a variable itself. It could be explained to some extent by the volume but also by other causes, then using it as a means of getting rid of the volume could come at the price of adding a biological interpretation layer to the results. \n",
    "- After discussions with the collaborators from Santiago, they noted the fact that ratios can be misleading, especially if the denominator variable is not independent of the numerator or other variables in the analysis. \n",
    "\n",
    "### Undo dilution\n",
    "\n",
    "In this method, to undo the dilution and use the samples expressed in the concentration they had in terms of their collected volume, we have applied the rule of three: \n",
    "\n",
    "$f.v.\\to [BMK]_{f.v.}$\n",
    "\n",
    "$c.v. \\to [BMK]_{c.v.} = \\frac{c.v.}{f.v.} * [BMK]_{f.v.}$\n",
    "\n",
    "\n",
    "In the 240 cohort this method will have the same performance as the direct method since $c.v./f.v.$ will be always a constant (½) affecting equally all the observations. For the 60x60 cohort, the $f.v.$ is $c.v.+0.5mL$, making the ratio close to one for bigger volumes and closer to zero for smaller ones. Said that, only results for the 60x60 cohort are presented: "
   ]
  },
  {
   "cell_type": "code",
   "execution_count": 9,
   "metadata": {},
   "outputs": [],
   "source": [
    "METHODS = ['direct', 'normalized', 'undo_dilution']"
   ]
  },
  {
   "cell_type": "markdown",
   "metadata": {},
   "source": [
    "# Computing the models\n",
    "\n",
    "All the functions to generate the models are included in the [cohort_analysis_utils.py](../code/cohort_analysis_utils.py) file."
   ]
  },
  {
   "cell_type": "markdown",
   "metadata": {},
   "source": [
    "Let's do the same for single biomarkers."
   ]
  },
  {
   "cell_type": "code",
   "execution_count": 10,
   "metadata": {},
   "outputs": [],
   "source": [
    "models_120 = utils.compute_all_models_and_save(\n",
    "                            df=df_120,\n",
    "                            biomarkers=BIOMARKERS_120,\n",
    "                            normalizing_col=NORMALIZING_COL_120, \n",
    "                            volume_col= VOLUME_COL,\n",
    "                            volume_added=0.5,\n",
    "                            apply_log=True,\n",
    "                            avoid_same_biomarker=True,\n",
    "                            methods=METHODS,\n",
    "                            max_biomarker_count=MAX_BIOMARKER_COUNT,\n",
    "                            folder_name=RESULTS_PATH,\n",
    "                            plot_rocs=True,\n",
    "                            compute_auc_ci=False\n",
    "                            )"
   ]
  },
  {
   "cell_type": "code",
   "execution_count": 11,
   "metadata": {},
   "outputs": [],
   "source": [
    "models_120_1 = utils.compute_all_models_and_save(\n",
    "                            df=df_120,\n",
    "                            biomarkers=BIOMARKERS_120,\n",
    "                            normalizing_col=NORMALIZING_COL_120, \n",
    "                            volume_col= VOLUME_COL,\n",
    "                            volume_added=0.5,\n",
    "                            apply_log=True,\n",
    "                            avoid_same_biomarker=True,\n",
    "                            methods=METHODS,\n",
    "                            max_biomarker_count=1,\n",
    "                            folder_name=RESULTS_PATH,\n",
    "                            plot_rocs=True,\n",
    "                            compute_auc_ci=True\n",
    "                            )"
   ]
  },
  {
   "cell_type": "markdown",
   "metadata": {},
   "source": [
    "# Results\n",
    "\n",
    "## Direct\n",
    "\n",
    "Here are presented the top 10 results for the direct method. Remember you can see the full results [here](<../data/results/60x60/direct/max_3.csv>) (they are stored in the folder \"data/results/60x60/direct/\")."
   ]
  },
  {
   "cell_type": "code",
   "execution_count": 12,
   "metadata": {},
   "outputs": [
    {
     "data": {
      "text/html": [
       "<div>\n",
       "<style scoped>\n",
       "    .dataframe tbody tr th:only-of-type {\n",
       "        vertical-align: middle;\n",
       "    }\n",
       "\n",
       "    .dataframe tbody tr th {\n",
       "        vertical-align: top;\n",
       "    }\n",
       "\n",
       "    .dataframe thead th {\n",
       "        text-align: right;\n",
       "    }\n",
       "</style>\n",
       "<table border=\"1\" class=\"dataframe\">\n",
       "  <thead>\n",
       "    <tr style=\"text-align: right;\">\n",
       "      <th></th>\n",
       "      <th>Biomarker_1</th>\n",
       "      <th>Biomarker_2</th>\n",
       "      <th>Biomarker_3</th>\n",
       "      <th>AUC</th>\n",
       "    </tr>\n",
       "  </thead>\n",
       "  <tbody>\n",
       "    <tr>\n",
       "      <th>0</th>\n",
       "      <td>AGRIN_MMK</td>\n",
       "      <td>NaN</td>\n",
       "      <td>NaN</td>\n",
       "      <td>0.82038</td>\n",
       "    </tr>\n",
       "    <tr>\n",
       "      <th>1</th>\n",
       "      <td>PERM_MMK</td>\n",
       "      <td>NaN</td>\n",
       "      <td>NaN</td>\n",
       "      <td>0.81846</td>\n",
       "    </tr>\n",
       "    <tr>\n",
       "      <th>2</th>\n",
       "      <td>MMP9_MMK</td>\n",
       "      <td>NaN</td>\n",
       "      <td>NaN</td>\n",
       "      <td>0.80783</td>\n",
       "    </tr>\n",
       "    <tr>\n",
       "      <th>3</th>\n",
       "      <td>KPYM_MMK</td>\n",
       "      <td>NaN</td>\n",
       "      <td>NaN</td>\n",
       "      <td>0.80754</td>\n",
       "    </tr>\n",
       "    <tr>\n",
       "      <th>4</th>\n",
       "      <td>AGRIN_MMK</td>\n",
       "      <td>PERM_MMK</td>\n",
       "      <td>NaN</td>\n",
       "      <td>0.77098</td>\n",
       "    </tr>\n",
       "    <tr>\n",
       "      <th>5</th>\n",
       "      <td>HSPB1_MMK</td>\n",
       "      <td>NaN</td>\n",
       "      <td>NaN</td>\n",
       "      <td>0.75614</td>\n",
       "    </tr>\n",
       "    <tr>\n",
       "      <th>6</th>\n",
       "      <td>MMP9_MMK</td>\n",
       "      <td>KPYM_MMK</td>\n",
       "      <td>NaN</td>\n",
       "      <td>0.75544</td>\n",
       "    </tr>\n",
       "    <tr>\n",
       "      <th>7</th>\n",
       "      <td>MMP9_MMK</td>\n",
       "      <td>HSPB1_MMK</td>\n",
       "      <td>AGRIN_MMK</td>\n",
       "      <td>0.74316</td>\n",
       "    </tr>\n",
       "    <tr>\n",
       "      <th>8</th>\n",
       "      <td>HSPB1_MMK</td>\n",
       "      <td>AGRIN_MMK</td>\n",
       "      <td>KPYM_MMK</td>\n",
       "      <td>0.73493</td>\n",
       "    </tr>\n",
       "    <tr>\n",
       "      <th>9</th>\n",
       "      <td>MMP9_MMK</td>\n",
       "      <td>HSPB1_MMK</td>\n",
       "      <td>KPYM_MMK</td>\n",
       "      <td>0.73191</td>\n",
       "    </tr>\n",
       "  </tbody>\n",
       "</table>\n",
       "</div>"
      ],
      "text/plain": [
       "  Biomarker_1 Biomarker_2 Biomarker_3      AUC\n",
       "0   AGRIN_MMK         NaN         NaN  0.82038\n",
       "1    PERM_MMK         NaN         NaN  0.81846\n",
       "2    MMP9_MMK         NaN         NaN  0.80783\n",
       "3    KPYM_MMK         NaN         NaN  0.80754\n",
       "4   AGRIN_MMK    PERM_MMK         NaN  0.77098\n",
       "5   HSPB1_MMK         NaN         NaN  0.75614\n",
       "6    MMP9_MMK    KPYM_MMK         NaN  0.75544\n",
       "7    MMP9_MMK   HSPB1_MMK   AGRIN_MMK  0.74316\n",
       "8   HSPB1_MMK   AGRIN_MMK    KPYM_MMK  0.73493\n",
       "9    MMP9_MMK   HSPB1_MMK    KPYM_MMK  0.73191"
      ]
     },
     "execution_count": 12,
     "metadata": {},
     "output_type": "execute_result"
    }
   ],
   "source": [
    "df_results_120_direct = pd.read_csv(RESULTS_PATH+'/direct/max_3.csv', sep=',', header=0)\n",
    "df_results_120_direct[['Biomarker_1','Biomarker_2','Biomarker_3','AUC']].head(n=10)\n"
   ]
  },
  {
   "cell_type": "markdown",
   "metadata": {},
   "source": [
    "Let's see also how the biomarkers performed individually."
   ]
  },
  {
   "cell_type": "code",
   "execution_count": 13,
   "metadata": {},
   "outputs": [
    {
     "data": {
      "text/html": [
       "<div>\n",
       "<style scoped>\n",
       "    .dataframe tbody tr th:only-of-type {\n",
       "        vertical-align: middle;\n",
       "    }\n",
       "\n",
       "    .dataframe tbody tr th {\n",
       "        vertical-align: top;\n",
       "    }\n",
       "\n",
       "    .dataframe thead th {\n",
       "        text-align: right;\n",
       "    }\n",
       "</style>\n",
       "<table border=\"1\" class=\"dataframe\">\n",
       "  <thead>\n",
       "    <tr style=\"text-align: right;\">\n",
       "      <th></th>\n",
       "      <th>Biomarker_1</th>\n",
       "      <th>AUC</th>\n",
       "    </tr>\n",
       "  </thead>\n",
       "  <tbody>\n",
       "    <tr>\n",
       "      <th>0</th>\n",
       "      <td>AGRIN_MMK</td>\n",
       "      <td>0.82038</td>\n",
       "    </tr>\n",
       "    <tr>\n",
       "      <th>1</th>\n",
       "      <td>PERM_MMK</td>\n",
       "      <td>0.81846</td>\n",
       "    </tr>\n",
       "    <tr>\n",
       "      <th>2</th>\n",
       "      <td>MMP9_MMK</td>\n",
       "      <td>0.80783</td>\n",
       "    </tr>\n",
       "    <tr>\n",
       "      <th>3</th>\n",
       "      <td>KPYM_MMK</td>\n",
       "      <td>0.80754</td>\n",
       "    </tr>\n",
       "    <tr>\n",
       "      <th>5</th>\n",
       "      <td>HSPB1_MMK</td>\n",
       "      <td>0.75614</td>\n",
       "    </tr>\n",
       "  </tbody>\n",
       "</table>\n",
       "</div>"
      ],
      "text/plain": [
       "  Biomarker_1      AUC\n",
       "0   AGRIN_MMK  0.82038\n",
       "1    PERM_MMK  0.81846\n",
       "2    MMP9_MMK  0.80783\n",
       "3    KPYM_MMK  0.80754\n",
       "5   HSPB1_MMK  0.75614"
      ]
     },
     "execution_count": 13,
     "metadata": {},
     "output_type": "execute_result"
    }
   ],
   "source": [
    "df_results_120_direct[df_results_120_direct['Biomarker_2'].isnull() & df_results_120_direct['Biomarker_3'].isnull()][['Biomarker_1','AUC']]"
   ]
  },
  {
   "cell_type": "markdown",
   "metadata": {},
   "source": [
    "## Normalized"
   ]
  },
  {
   "cell_type": "code",
   "execution_count": 14,
   "metadata": {},
   "outputs": [
    {
     "data": {
      "text/html": [
       "<div>\n",
       "<style scoped>\n",
       "    .dataframe tbody tr th:only-of-type {\n",
       "        vertical-align: middle;\n",
       "    }\n",
       "\n",
       "    .dataframe tbody tr th {\n",
       "        vertical-align: top;\n",
       "    }\n",
       "\n",
       "    .dataframe thead th {\n",
       "        text-align: right;\n",
       "    }\n",
       "</style>\n",
       "<table border=\"1\" class=\"dataframe\">\n",
       "  <thead>\n",
       "    <tr style=\"text-align: right;\">\n",
       "      <th></th>\n",
       "      <th>Biomarker_1</th>\n",
       "      <th>Biomarker_2</th>\n",
       "      <th>Biomarker_3</th>\n",
       "      <th>AUC</th>\n",
       "    </tr>\n",
       "  </thead>\n",
       "  <tbody>\n",
       "    <tr>\n",
       "      <th>0</th>\n",
       "      <td>MMP9_MMK</td>\n",
       "      <td>KPYM_MMK</td>\n",
       "      <td>NaN</td>\n",
       "      <td>0.76912</td>\n",
       "    </tr>\n",
       "    <tr>\n",
       "      <th>1</th>\n",
       "      <td>AGRIN_MMK</td>\n",
       "      <td>NaN</td>\n",
       "      <td>NaN</td>\n",
       "      <td>0.76039</td>\n",
       "    </tr>\n",
       "    <tr>\n",
       "      <th>2</th>\n",
       "      <td>KPYM_MMK</td>\n",
       "      <td>NaN</td>\n",
       "      <td>NaN</td>\n",
       "      <td>0.74333</td>\n",
       "    </tr>\n",
       "    <tr>\n",
       "      <th>3</th>\n",
       "      <td>HSPB1_MMK</td>\n",
       "      <td>AGRIN_MMK</td>\n",
       "      <td>KPYM_MMK</td>\n",
       "      <td>0.71360</td>\n",
       "    </tr>\n",
       "    <tr>\n",
       "      <th>4</th>\n",
       "      <td>MMP9_MMK</td>\n",
       "      <td>HSPB1_MMK</td>\n",
       "      <td>AGRIN_MMK</td>\n",
       "      <td>0.70982</td>\n",
       "    </tr>\n",
       "    <tr>\n",
       "      <th>5</th>\n",
       "      <td>HSPB1_MMK</td>\n",
       "      <td>AGRIN_MMK</td>\n",
       "      <td>NaN</td>\n",
       "      <td>0.70298</td>\n",
       "    </tr>\n",
       "    <tr>\n",
       "      <th>6</th>\n",
       "      <td>HSPB1_MMK</td>\n",
       "      <td>AGRIN_MMK</td>\n",
       "      <td>PERM_MMK</td>\n",
       "      <td>0.69586</td>\n",
       "    </tr>\n",
       "    <tr>\n",
       "      <th>7</th>\n",
       "      <td>MMP9_MMK</td>\n",
       "      <td>HSPB1_MMK</td>\n",
       "      <td>KPYM_MMK</td>\n",
       "      <td>0.69316</td>\n",
       "    </tr>\n",
       "    <tr>\n",
       "      <th>8</th>\n",
       "      <td>AGRIN_MMK</td>\n",
       "      <td>PERM_MMK</td>\n",
       "      <td>NaN</td>\n",
       "      <td>0.68634</td>\n",
       "    </tr>\n",
       "    <tr>\n",
       "      <th>9</th>\n",
       "      <td>HSPB1_MMK</td>\n",
       "      <td>KPYM_MMK</td>\n",
       "      <td>NaN</td>\n",
       "      <td>0.67253</td>\n",
       "    </tr>\n",
       "  </tbody>\n",
       "</table>\n",
       "</div>"
      ],
      "text/plain": [
       "  Biomarker_1 Biomarker_2 Biomarker_3      AUC\n",
       "0    MMP9_MMK    KPYM_MMK         NaN  0.76912\n",
       "1   AGRIN_MMK         NaN         NaN  0.76039\n",
       "2    KPYM_MMK         NaN         NaN  0.74333\n",
       "3   HSPB1_MMK   AGRIN_MMK    KPYM_MMK  0.71360\n",
       "4    MMP9_MMK   HSPB1_MMK   AGRIN_MMK  0.70982\n",
       "5   HSPB1_MMK   AGRIN_MMK         NaN  0.70298\n",
       "6   HSPB1_MMK   AGRIN_MMK    PERM_MMK  0.69586\n",
       "7    MMP9_MMK   HSPB1_MMK    KPYM_MMK  0.69316\n",
       "8   AGRIN_MMK    PERM_MMK         NaN  0.68634\n",
       "9   HSPB1_MMK    KPYM_MMK         NaN  0.67253"
      ]
     },
     "execution_count": 14,
     "metadata": {},
     "output_type": "execute_result"
    }
   ],
   "source": [
    "df_results_120_normalized = pd.read_csv(RESULTS_PATH+'/normalized/max_3.csv', sep=',', header=0)\n",
    "df_results_120_normalized[['Biomarker_1','Biomarker_2','Biomarker_3','AUC']].head(n=10)"
   ]
  },
  {
   "cell_type": "code",
   "execution_count": 15,
   "metadata": {},
   "outputs": [
    {
     "data": {
      "text/html": [
       "<div>\n",
       "<style scoped>\n",
       "    .dataframe tbody tr th:only-of-type {\n",
       "        vertical-align: middle;\n",
       "    }\n",
       "\n",
       "    .dataframe tbody tr th {\n",
       "        vertical-align: top;\n",
       "    }\n",
       "\n",
       "    .dataframe thead th {\n",
       "        text-align: right;\n",
       "    }\n",
       "</style>\n",
       "<table border=\"1\" class=\"dataframe\">\n",
       "  <thead>\n",
       "    <tr style=\"text-align: right;\">\n",
       "      <th></th>\n",
       "      <th>Biomarker_1</th>\n",
       "      <th>AUC</th>\n",
       "    </tr>\n",
       "  </thead>\n",
       "  <tbody>\n",
       "    <tr>\n",
       "      <th>1</th>\n",
       "      <td>AGRIN_MMK</td>\n",
       "      <td>0.76039</td>\n",
       "    </tr>\n",
       "    <tr>\n",
       "      <th>2</th>\n",
       "      <td>KPYM_MMK</td>\n",
       "      <td>0.74333</td>\n",
       "    </tr>\n",
       "    <tr>\n",
       "      <th>10</th>\n",
       "      <td>MMP9_MMK</td>\n",
       "      <td>0.66949</td>\n",
       "    </tr>\n",
       "    <tr>\n",
       "      <th>11</th>\n",
       "      <td>PERM_MMK</td>\n",
       "      <td>0.66572</td>\n",
       "    </tr>\n",
       "    <tr>\n",
       "      <th>14</th>\n",
       "      <td>HSPB1_MMK</td>\n",
       "      <td>0.64737</td>\n",
       "    </tr>\n",
       "  </tbody>\n",
       "</table>\n",
       "</div>"
      ],
      "text/plain": [
       "   Biomarker_1      AUC\n",
       "1    AGRIN_MMK  0.76039\n",
       "2     KPYM_MMK  0.74333\n",
       "10    MMP9_MMK  0.66949\n",
       "11    PERM_MMK  0.66572\n",
       "14   HSPB1_MMK  0.64737"
      ]
     },
     "execution_count": 15,
     "metadata": {},
     "output_type": "execute_result"
    }
   ],
   "source": [
    "df_results_120_normalized[df_results_120_normalized['Biomarker_2'].isnull() & df_results_120_normalized['Biomarker_3'].isnull()][['Biomarker_1','AUC']]"
   ]
  },
  {
   "cell_type": "markdown",
   "metadata": {},
   "source": [
    "## Undo dilution"
   ]
  },
  {
   "cell_type": "code",
   "execution_count": 16,
   "metadata": {},
   "outputs": [
    {
     "data": {
      "text/html": [
       "<div>\n",
       "<style scoped>\n",
       "    .dataframe tbody tr th:only-of-type {\n",
       "        vertical-align: middle;\n",
       "    }\n",
       "\n",
       "    .dataframe tbody tr th {\n",
       "        vertical-align: top;\n",
       "    }\n",
       "\n",
       "    .dataframe thead th {\n",
       "        text-align: right;\n",
       "    }\n",
       "</style>\n",
       "<table border=\"1\" class=\"dataframe\">\n",
       "  <thead>\n",
       "    <tr style=\"text-align: right;\">\n",
       "      <th></th>\n",
       "      <th>Biomarker_1</th>\n",
       "      <th>Biomarker_2</th>\n",
       "      <th>Biomarker_3</th>\n",
       "      <th>AUC</th>\n",
       "    </tr>\n",
       "  </thead>\n",
       "  <tbody>\n",
       "    <tr>\n",
       "      <th>0</th>\n",
       "      <td>AGRIN_MMK</td>\n",
       "      <td>KPYM_MMK</td>\n",
       "      <td>NaN</td>\n",
       "      <td>0.84761</td>\n",
       "    </tr>\n",
       "    <tr>\n",
       "      <th>1</th>\n",
       "      <td>PERM_MMK</td>\n",
       "      <td>NaN</td>\n",
       "      <td>NaN</td>\n",
       "      <td>0.84624</td>\n",
       "    </tr>\n",
       "    <tr>\n",
       "      <th>2</th>\n",
       "      <td>AGRIN_MMK</td>\n",
       "      <td>NaN</td>\n",
       "      <td>NaN</td>\n",
       "      <td>0.83790</td>\n",
       "    </tr>\n",
       "    <tr>\n",
       "      <th>3</th>\n",
       "      <td>KPYM_MMK</td>\n",
       "      <td>NaN</td>\n",
       "      <td>NaN</td>\n",
       "      <td>0.83603</td>\n",
       "    </tr>\n",
       "    <tr>\n",
       "      <th>4</th>\n",
       "      <td>MMP9_MMK</td>\n",
       "      <td>NaN</td>\n",
       "      <td>NaN</td>\n",
       "      <td>0.82154</td>\n",
       "    </tr>\n",
       "    <tr>\n",
       "      <th>5</th>\n",
       "      <td>AGRIN_MMK</td>\n",
       "      <td>PERM_MMK</td>\n",
       "      <td>NaN</td>\n",
       "      <td>0.81495</td>\n",
       "    </tr>\n",
       "    <tr>\n",
       "      <th>6</th>\n",
       "      <td>HSPB1_MMK</td>\n",
       "      <td>NaN</td>\n",
       "      <td>NaN</td>\n",
       "      <td>0.79896</td>\n",
       "    </tr>\n",
       "    <tr>\n",
       "      <th>7</th>\n",
       "      <td>AGRIN_MMK</td>\n",
       "      <td>KPYM_MMK</td>\n",
       "      <td>PERM_MMK</td>\n",
       "      <td>0.79881</td>\n",
       "    </tr>\n",
       "    <tr>\n",
       "      <th>8</th>\n",
       "      <td>KPYM_MMK</td>\n",
       "      <td>PERM_MMK</td>\n",
       "      <td>NaN</td>\n",
       "      <td>0.79663</td>\n",
       "    </tr>\n",
       "    <tr>\n",
       "      <th>9</th>\n",
       "      <td>HSPB1_MMK</td>\n",
       "      <td>AGRIN_MMK</td>\n",
       "      <td>KPYM_MMK</td>\n",
       "      <td>0.78130</td>\n",
       "    </tr>\n",
       "  </tbody>\n",
       "</table>\n",
       "</div>"
      ],
      "text/plain": [
       "  Biomarker_1 Biomarker_2 Biomarker_3      AUC\n",
       "0   AGRIN_MMK    KPYM_MMK         NaN  0.84761\n",
       "1    PERM_MMK         NaN         NaN  0.84624\n",
       "2   AGRIN_MMK         NaN         NaN  0.83790\n",
       "3    KPYM_MMK         NaN         NaN  0.83603\n",
       "4    MMP9_MMK         NaN         NaN  0.82154\n",
       "5   AGRIN_MMK    PERM_MMK         NaN  0.81495\n",
       "6   HSPB1_MMK         NaN         NaN  0.79896\n",
       "7   AGRIN_MMK    KPYM_MMK    PERM_MMK  0.79881\n",
       "8    KPYM_MMK    PERM_MMK         NaN  0.79663\n",
       "9   HSPB1_MMK   AGRIN_MMK    KPYM_MMK  0.78130"
      ]
     },
     "execution_count": 16,
     "metadata": {},
     "output_type": "execute_result"
    }
   ],
   "source": [
    "df_results_120_undo_dilution = pd.read_csv(RESULTS_PATH+'/undo_dilution/max_3.csv', sep=',', header=0)\n",
    "df_results_120_undo_dilution[['Biomarker_1','Biomarker_2','Biomarker_3','AUC']].head(n=10)"
   ]
  },
  {
   "cell_type": "code",
   "execution_count": 17,
   "metadata": {},
   "outputs": [
    {
     "data": {
      "text/html": [
       "<div>\n",
       "<style scoped>\n",
       "    .dataframe tbody tr th:only-of-type {\n",
       "        vertical-align: middle;\n",
       "    }\n",
       "\n",
       "    .dataframe tbody tr th {\n",
       "        vertical-align: top;\n",
       "    }\n",
       "\n",
       "    .dataframe thead th {\n",
       "        text-align: right;\n",
       "    }\n",
       "</style>\n",
       "<table border=\"1\" class=\"dataframe\">\n",
       "  <thead>\n",
       "    <tr style=\"text-align: right;\">\n",
       "      <th></th>\n",
       "      <th>Biomarker_1</th>\n",
       "      <th>AUC</th>\n",
       "    </tr>\n",
       "  </thead>\n",
       "  <tbody>\n",
       "    <tr>\n",
       "      <th>1</th>\n",
       "      <td>PERM_MMK</td>\n",
       "      <td>0.84624</td>\n",
       "    </tr>\n",
       "    <tr>\n",
       "      <th>2</th>\n",
       "      <td>AGRIN_MMK</td>\n",
       "      <td>0.83790</td>\n",
       "    </tr>\n",
       "    <tr>\n",
       "      <th>3</th>\n",
       "      <td>KPYM_MMK</td>\n",
       "      <td>0.83603</td>\n",
       "    </tr>\n",
       "    <tr>\n",
       "      <th>4</th>\n",
       "      <td>MMP9_MMK</td>\n",
       "      <td>0.82154</td>\n",
       "    </tr>\n",
       "    <tr>\n",
       "      <th>6</th>\n",
       "      <td>HSPB1_MMK</td>\n",
       "      <td>0.79896</td>\n",
       "    </tr>\n",
       "  </tbody>\n",
       "</table>\n",
       "</div>"
      ],
      "text/plain": [
       "  Biomarker_1      AUC\n",
       "1    PERM_MMK  0.84624\n",
       "2   AGRIN_MMK  0.83790\n",
       "3    KPYM_MMK  0.83603\n",
       "4    MMP9_MMK  0.82154\n",
       "6   HSPB1_MMK  0.79896"
      ]
     },
     "execution_count": 17,
     "metadata": {},
     "output_type": "execute_result"
    }
   ],
   "source": [
    "df_results_120_undo_dilution[df_results_120_undo_dilution['Biomarker_2'].isnull() & df_results_120_undo_dilution['Biomarker_3'].isnull()][['Biomarker_1','AUC']]"
   ]
  },
  {
   "cell_type": "markdown",
   "metadata": {},
   "source": [
    "## AUCs confidence interval\n",
    "\n",
    "AUCs confidence intervals are computed with the bootstraping method. Bootstrapping to compute confidence intervals for AUC involves repeatedly resampling the original dataset with replacement to create many bootstrap samples, calculating the AUC for each sample, and then constructing a distribution of these AUC values. The confidence interval is determined by taking the appropriate percentiles (e.g., 2.5th and 97.5th for a 95% CI) from the sorted bootstrap AUC values, providing a range that estimates where the true AUC likely falls."
   ]
  },
  {
   "cell_type": "code",
   "execution_count": 18,
   "metadata": {},
   "outputs": [],
   "source": [
    "aucs = []\n",
    "auc_cis = []\n",
    "models = []\n",
    "\n",
    "for model in models_120_1['direct'][(list(models_120_1['direct'].keys())[0])].keys():\n",
    "    model_name = model[0]\n",
    "    model_auc = models_120_1['direct'][(list(models_120_1['direct'].keys())[0])][model]['auc']\n",
    "    model_auc_ci = models_120_1['direct'][(list(models_120_1['direct'].keys())[0])][model]['auc_ci']\n",
    "    aucs.append(float(model_auc))\n",
    "    auc_cis.append([float(model_auc_ci[0]), float(model_auc_ci[1])])\n",
    "    models.append(model_name)"
   ]
  },
  {
   "cell_type": "code",
   "execution_count": 19,
   "metadata": {},
   "outputs": [
    {
     "data": {
      "image/png": "[encoded data removed]",
      "text/plain": [
       "<Figure size 1000x500 with 1 Axes>"
      ]
     },
     "metadata": {},
     "output_type": "display_data"
    }
   ],
   "source": [
    "auc_cis = np.array(auc_cis)\n",
    "\n",
    "# Calculate the errors\n",
    "lower_err = aucs - auc_cis[:, 0]\n",
    "upper_err = auc_cis[:, 1] - aucs\n",
    "yerr = [lower_err, upper_err]\n",
    "\n",
    "plt.figure(figsize=(10,5))\n",
    "plt.bar(models, aucs, yerr=yerr, capsize=5, align='center')\n",
    "plt.xticks(rotation=90)\n",
    "plt.ylabel('AUC')\n",
    "plt.title('AUCs with Confidence Intervals')\n",
    "plt.show()"
   ]
  }
 ],
 "metadata": {
  "kernelspec": {
   "display_name": ".venv",
   "language": "python",
   "name": "python3"
  },
  "language_info": {
   "codemirror_mode": {
    "name": "ipython",
    "version": 3
   },
   "file_extension": ".py",
   "mimetype": "text/x-python",
   "name": "python",
   "nbconvert_exporter": "python",
   "pygments_lexer": "ipython3",
   "version": "3.12.3"
  }
 },
 "nbformat": 4,
 "nbformat_minor": 2
}
