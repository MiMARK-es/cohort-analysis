{
 "cells": [
  {
   "cell_type": "markdown",
   "metadata": {},
   "source": [
    "# Cohort 60x60 normalizing by ADIPOQ AUCs analysis\n",
    "\n",
    "### Imports and environment setup\n",
    "\n",
    "- Date of run: 2025-01-10\n",
    "- Environment: python 3.12\n",
    "- Packages required: pandas, numpy, sklearn, statsmodels, seaborn, matplotlib"
   ]
  },
  {
   "cell_type": "code",
   "execution_count": 1,
   "metadata": {},
   "outputs": [],
   "source": [
    "# Include in the environment the code directory with the utils function\n",
    "import sys\n",
    "sys.path.append('../code/')"
   ]
  },
  {
   "cell_type": "code",
   "execution_count": 2,
   "metadata": {},
   "outputs": [],
   "source": [
    "# Library imports\n",
    "import pandas as pd\n",
    "import numpy as np\n",
    "from IPython.display import display, HTML\n",
    "import matplotlib.pyplot as plt\n",
    "import seaborn as sns\n",
    "\n",
    "# Utils imports\n",
    "import cohort_analysis_utils as utils"
   ]
  },
  {
   "cell_type": "code",
   "execution_count": 3,
   "metadata": {},
   "outputs": [],
   "source": [
    "# Remove warnings for readability\n",
    "import warnings\n",
    "warnings.filterwarnings('ignore')\n",
    "\n",
    "# Remove cell printing limits\n",
    "pd.set_option('display.max_rows', None)\n"
   ]
  },
  {
   "cell_type": "markdown",
   "metadata": {},
   "source": [
    "# Data loading and preprosessing"
   ]
  },
  {
   "cell_type": "markdown",
   "metadata": {},
   "source": [
    "The original excel file was saved into a CSV file in the data folder of this repository, separating fields by TABs."
   ]
  },
  {
   "cell_type": "code",
   "execution_count": 4,
   "metadata": {},
   "outputs": [],
   "source": [
    "df_120 = pd.read_csv('../data/60x60_dr_mmk_20241209.csv' , sep='\\t', index_col=0, header=0)\n"
   ]
  },
  {
   "cell_type": "code",
   "execution_count": 5,
   "metadata": {},
   "outputs": [],
   "source": [
    "# Harmonization of column names\n",
    "df_120 = utils.normalize_column_names(df_120)"
   ]
  },
  {
   "cell_type": "code",
   "execution_count": 6,
   "metadata": {},
   "outputs": [],
   "source": [
    "# Ensure numeric columns are treated as such\n",
    "cols_120_to_num = ['Collected_volume_mL', 'pH',\n",
    "                    'MMP9', 'HSPB1', 'PERM', 'ADIPOQ', 'TIMP-2', 'AGRIN', 'KPYM', 'Total_protein_BCA']\n",
    "df_120 = utils.cols_as_numbers(df_120, cols_120_to_num)"
   ]
  },
  {
   "cell_type": "code",
   "execution_count": 7,
   "metadata": {},
   "outputs": [],
   "source": [
    "# Columns to be considered as biomarkers\n",
    "BIOMARKERS_120 = ['MMP9', 'HSPB1', 'PERM', 'ADIPOQ', 'TIMP-2', 'AGRIN', 'KPYM']\n"
   ]
  },
  {
   "cell_type": "markdown",
   "metadata": {},
   "source": [
    "### Create new columns for biomarker ratios"
   ]
  },
  {
   "cell_type": "code",
   "execution_count": 8,
   "metadata": {},
   "outputs": [],
   "source": [
    "# Create new columns with the ratios between the biomarkers\n",
    "for biomarker1 in ['MMP9', 'HSPB1', 'PERM', 'TIMP-2', 'AGRIN', 'KPYM']:\n",
    "    df_120[f'{biomarker1}_ADIPOQ'] = df_120[biomarker1].div(df_120[\"ADIPOQ\"], axis=0)\n",
    "    # Make infinite values NaN\n",
    "    df_120[f'{biomarker1}_ADIPOQ'] = df_120[f'{biomarker1}_ADIPOQ'].replace([np.inf, -np.inf], np.nan)\n"
   ]
  },
  {
   "cell_type": "code",
   "execution_count": 9,
   "metadata": {},
   "outputs": [],
   "source": [
    "# Ensure categorical columns are treated as such\n",
    "df_120 = utils.cols_as_category(df_120, {'Pathology':{'Benign': 0, 'Endometrial cancer': 1}})"
   ]
  },
  {
   "cell_type": "markdown",
   "metadata": {},
   "source": [
    "# Execution parameters"
   ]
  },
  {
   "cell_type": "code",
   "execution_count": 10,
   "metadata": {},
   "outputs": [],
   "source": [
    "PLOT_ROCS = False\n",
    "MAX_BIOMARKER_COUNT = 3\n",
    "RESULTS_PATH = '../data/results/60x60_dr_ratios_mmk_div_adipoq'\n",
    "\n",
    "# The biomarkers now include the ratios\n",
    "BIOMARKERS_120 = [f\"{biomarker1}_ADIPOQ\" for biomarker1 in ['MMP9', 'HSPB1', 'PERM', 'TIMP-2', 'AGRIN', 'KPYM']]\n",
    "\n",
    "NORMALIZING_COL_120 = 'Total_protein_BCA' # Column to be used for normalizing the biomarkers\n",
    "VOLUME_COL = 'Collected_volume_mL' # Column to be used as volume for scatters and undoing the dilution"
   ]
  },
  {
   "cell_type": "markdown",
   "metadata": {},
   "source": [
    "Since we are using ratios, we are interested only in the $direct$ method."
   ]
  },
  {
   "cell_type": "code",
   "execution_count": 11,
   "metadata": {},
   "outputs": [],
   "source": [
    "METHODS = ['direct']"
   ]
  },
  {
   "cell_type": "markdown",
   "metadata": {},
   "source": [
    "# Computing the models\n",
    "\n",
    "All the functions to generate the models are included in the [cohort_analysis_utils.py](../code/cohort_analysis_utils.py) file."
   ]
  },
  {
   "cell_type": "code",
   "execution_count": 14,
   "metadata": {},
   "outputs": [],
   "source": [
    "models_120_1 = utils.compute_all_models_and_save(\n",
    "                            df=df_120,\n",
    "                            biomarkers=BIOMARKERS_120,\n",
    "                            normalizing_col=NORMALIZING_COL_120, \n",
    "                            volume_col= VOLUME_COL,\n",
    "                            volume_added=0.5,\n",
    "                            apply_log=True,\n",
    "                            avoid_same_biomarker=True,\n",
    "                            methods=METHODS,\n",
    "                            max_biomarker_count=1,\n",
    "                            folder_name=RESULTS_PATH,\n",
    "                            plot_rocs=True,\n",
    "                            auc_threshold=0.5,\n",
    "                            compute_auc_ci=True\n",
    "                            )"
   ]
  },
  {
   "cell_type": "markdown",
   "metadata": {},
   "source": [
    "# Results"
   ]
  },
  {
   "cell_type": "markdown",
   "metadata": {},
   "source": [
    "## AUCs confidence interval\n",
    "\n",
    "AUCs confidence intervals are computed with the bootstraping method. Bootstrapping to compute confidence intervals for AUC involves repeatedly resampling the original dataset with replacement to create many bootstrap samples, calculating the AUC for each sample, and then constructing a distribution of these AUC values. The confidence interval is determined by taking the appropriate percentiles (e.g., 2.5th and 97.5th for a 95% CI) from the sorted bootstrap AUC values, providing a range that estimates where the true AUC likely falls."
   ]
  },
  {
   "cell_type": "code",
   "execution_count": 15,
   "metadata": {},
   "outputs": [],
   "source": [
    "aucs = []\n",
    "auc_cis = []\n",
    "models = []\n",
    "\n",
    "for model in models_120_1['direct'][(list(models_120_1['direct'].keys())[0])].keys():\n",
    "    model_name = model[0]\n",
    "    model_auc = models_120_1['direct'][(list(models_120_1['direct'].keys())[0])][model]['auc']\n",
    "    model_auc_ci = models_120_1['direct'][(list(models_120_1['direct'].keys())[0])][model]['auc_ci']\n",
    "    aucs.append(float(model_auc))\n",
    "    auc_cis.append([float(model_auc_ci[0]), float(model_auc_ci[1])])\n",
    "    models.append(model_name)"
   ]
  },
  {
   "cell_type": "code",
   "execution_count": 16,
   "metadata": {},
   "outputs": [
    {
     "data": {
      "image/png": "[encoded data removed]",
      "text/plain": [
       "<Figure size 1000x500 with 1 Axes>"
      ]
     },
     "metadata": {},
     "output_type": "display_data"
    }
   ],
   "source": [
    "custom_palette = {0: \"#f789c8\", 1: \"#f41c11\"}  # Use MMK colors\n",
    "\n",
    "auc_cis = np.array(auc_cis)\n",
    "\n",
    "# Calculate the errors\n",
    "lower_err = aucs - auc_cis[:, 0]\n",
    "upper_err = auc_cis[:, 1] - aucs\n",
    "yerr = [lower_err, upper_err]\n",
    "\n",
    "plt.figure(figsize=(10,5))\n",
    "plt.bar(\n",
    "    models,\n",
    "    aucs,\n",
    "    yerr=yerr,\n",
    "    capsize=5,\n",
    "    align='center',\n",
    "    color=custom_palette[0],\n",
    "    error_kw={'elinewidth': 1.5, 'alpha': 0.5, 'ecolor': 'gray'}  # Customize error bars\n",
    ")\n",
    "\n",
    "# Add text with the value of the bar in the top center of the error bars\n",
    "for i in range(len(models)):\n",
    "    plt.text(i, aucs[i] + 0.01, f'{aucs[i]:.2f}', ha='center')\n",
    "\n",
    "\n",
    "plt.xticks(rotation=90)\n",
    "plt.ylabel('AUC')\n",
    "plt.title('AUCs with Confidence Intervals')\n",
    "plt.show()"
   ]
  }
 ],
 "metadata": {
  "kernelspec": {
   "display_name": ".venv",
   "language": "python",
   "name": "python3"
  },
  "language_info": {
   "codemirror_mode": {
    "name": "ipython",
    "version": 3
   },
   "file_extension": ".py",
   "mimetype": "text/x-python",
   "name": "python",
   "nbconvert_exporter": "python",
   "pygments_lexer": "ipython3",
   "version": "3.12.3"
  }
 },
 "nbformat": 4,
 "nbformat_minor": 2
}
