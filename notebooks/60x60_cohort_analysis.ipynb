{
 "cells": [
  {
   "cell_type": "code",
   "execution_count": 1,
   "metadata": {},
   "outputs": [],
   "source": [
    "import sys\n",
    "sys.path.append('../code/')"
   ]
  },
  {
   "cell_type": "code",
   "execution_count": 2,
   "metadata": {},
   "outputs": [],
   "source": [
    "import pandas as pd\n",
    "import cohort_analysis_utils as utils"
   ]
  },
  {
   "cell_type": "code",
   "execution_count": 3,
   "metadata": {},
   "outputs": [],
   "source": [
    "# Remove warnings\n",
    "import warnings\n",
    "warnings.filterwarnings('ignore')"
   ]
  },
  {
   "cell_type": "code",
   "execution_count": 4,
   "metadata": {},
   "outputs": [],
   "source": [
    "df_120 = pd.read_csv('../data/ruo_vs_mmk_20240723.csv' , sep='\\t', index_col=0, header=0)\n"
   ]
  },
  {
   "cell_type": "code",
   "execution_count": 5,
   "metadata": {},
   "outputs": [],
   "source": [
    "df_120 = utils.normalize_column_names(df_120)"
   ]
  },
  {
   "cell_type": "code",
   "execution_count": 6,
   "metadata": {},
   "outputs": [],
   "source": [
    "cols_120_to_num = ['Collected_volume_mL', 'pH',\n",
    "                    'MMP9_RUO', 'HSPB1_RUO', 'PERM_RUO',\n",
    "                    'MMP9_MMK', 'HSPB1_MMK', 'AGRIN_MMK',\n",
    "                    'KPYM_MMK', 'PERM_MMK', 'Total_protein_UCFP',\n",
    "                    'Total_protein_BCA']\n",
    "df_120 = utils.cols_as_numbers(df_120, cols_120_to_num)"
   ]
  },
  {
   "cell_type": "code",
   "execution_count": 7,
   "metadata": {},
   "outputs": [],
   "source": [
    "df_120 = utils.cols_as_category(df_120, {'Pathology':{'Benign': 0, 'Endometrial cancer': 1}})"
   ]
  },
  {
   "cell_type": "code",
   "execution_count": 8,
   "metadata": {},
   "outputs": [],
   "source": [
    "PLOT_ROCS = True\n",
    "METHODS = ['normalized', 'kronmal', 'direct', 'undo_dilution']\n",
    "MAX_BIOMARKER_COUNT = 3\n",
    "RESULTS_PATH = '../data/results/60x60'\n"
   ]
  },
  {
   "cell_type": "code",
   "execution_count": 9,
   "metadata": {},
   "outputs": [],
   "source": [
    "BIOMARKERS_120 = ['MMP9_RUO', 'HSPB1_RUO', 'PERM_RUO', 'MMP9_MMK', 'HSPB1_MMK', 'AGRIN_MMK', 'KPYM_MMK', 'PERM_MMK']\n",
    "NORMALIZING_COL_120 = 'Total_protein_BCA'\n",
    "VOLUME_COL = 'Collected_volume_mL'"
   ]
  },
  {
   "cell_type": "code",
   "execution_count": 10,
   "metadata": {},
   "outputs": [],
   "source": [
    "models_120 = utils.compute_all_models_and_save(\n",
    "                            df=df_120,\n",
    "                            biomarkers=BIOMARKERS_120,\n",
    "                            normalizing_col=NORMALIZING_COL_120, \n",
    "                            volume_col= VOLUME_COL,\n",
    "                            volume_added=0.5,\n",
    "                            apply_log=True,\n",
    "                            avoid_same_biomarker=True,\n",
    "                            methods=METHODS,\n",
    "                            max_biomarker_count=MAX_BIOMARKER_COUNT,\n",
    "                            folder_name=RESULTS_PATH,\n",
    "                            plot_rocs=PLOT_ROCS,\n",
    "                            )"
   ]
  },
  {
   "cell_type": "code",
   "execution_count": 11,
   "metadata": {},
   "outputs": [],
   "source": [
    "for biomarker1 in BIOMARKERS_120:\n",
    "    for biomarker2 in BIOMARKERS_120[BIOMARKERS_120.index(biomarker1)+1:]:\n",
    "        utils.plot_scatter_to_file(df_120, \n",
    "                                biomarker1, \n",
    "                                biomarker2, \n",
    "                                normalizing_col=NORMALIZING_COL_120, \n",
    "                                apply_log_x=True,\n",
    "                                apply_log_y=True,\n",
    "                                hue='Pathology', \n",
    "                                folder=RESULTS_PATH+'/scatters/')"
   ]
  },
  {
   "cell_type": "code",
   "execution_count": 12,
   "metadata": {},
   "outputs": [],
   "source": [
    "for biomarker1 in BIOMARKERS_120+['Total_protein_BCA']:\n",
    "        utils.plot_scatter_to_file(df_120, \n",
    "                                biomarker1, \n",
    "                                VOLUME_COL, \n",
    "                                normalizing_col=None, \n",
    "                                apply_log_x=True,\n",
    "                                apply_log_y=False,\n",
    "                                hue='Pathology', \n",
    "                                folder=RESULTS_PATH+'/volume_scatters/diluted/')"
   ]
  },
  {
   "cell_type": "code",
   "execution_count": 13,
   "metadata": {},
   "outputs": [],
   "source": [
    "df_120_undiluted = df_120.copy()\n",
    "df_120_undiluted['Final_volume'] = df_120_undiluted['Collected_volume_mL'] + 0.5\n",
    "df_120_undiluted['MMP9_RUO'] = df_120_undiluted['MMP9_RUO'].multiply(df_120_undiluted['Final_volume'].div(df_120_undiluted['Collected_volume_mL'], axis=0), axis=0)\n",
    "df_120_undiluted['HSPB1_RUO'] = df_120_undiluted['HSPB1_RUO'].multiply(df_120_undiluted['Final_volume'].div(df_120_undiluted['Collected_volume_mL'], axis=0), axis=0)\n",
    "df_120_undiluted['PERM_RUO'] = df_120_undiluted['PERM_RUO'].multiply(df_120_undiluted['Final_volume'].div(df_120_undiluted['Collected_volume_mL'], axis=0), axis=0)\n",
    "df_120_undiluted['MMP9_MMK'] = df_120_undiluted['MMP9_MMK'].multiply(df_120_undiluted['Final_volume'].div(df_120_undiluted['Collected_volume_mL'], axis=0), axis=0)\n",
    "df_120_undiluted['HSPB1_MMK'] = df_120_undiluted['HSPB1_MMK'].multiply(df_120_undiluted['Final_volume'].div(df_120_undiluted['Collected_volume_mL'], axis=0), axis=0)\n",
    "df_120_undiluted['AGRIN_MMK'] = df_120_undiluted['AGRIN_MMK'].multiply(df_120_undiluted['Final_volume'].div(df_120_undiluted['Collected_volume_mL'], axis=0), axis=0)\n",
    "df_120_undiluted['KPYM_MMK'] = df_120_undiluted['KPYM_MMK'].multiply(df_120_undiluted['Final_volume'].div(df_120_undiluted['Collected_volume_mL'], axis=0), axis=0)\n",
    "df_120_undiluted['PERM_MMK'] = df_120_undiluted['PERM_MMK'].multiply(df_120_undiluted['Final_volume'].div(df_120_undiluted['Collected_volume_mL'], axis=0), axis=0)\n",
    "df_120_undiluted['Total_protein_UCFP'] = df_120_undiluted['Total_protein_UCFP'].multiply(df_120_undiluted['Final_volume'].div(df_120_undiluted['Collected_volume_mL'], axis=0), axis=0)\n",
    "df_120_undiluted['Total_protein_BCA'] = df_120_undiluted['Total_protein_BCA'].multiply(df_120_undiluted['Final_volume'].div(df_120_undiluted['Collected_volume_mL'], axis=0), axis=0)\n"
   ]
  },
  {
   "cell_type": "code",
   "execution_count": 14,
   "metadata": {},
   "outputs": [],
   "source": [
    "for biomarker1 in BIOMARKERS_120+['Total_protein_BCA']:\n",
    "        utils.plot_scatter_to_file(df_120_undiluted, \n",
    "                                biomarker1, \n",
    "                                VOLUME_COL, \n",
    "                                normalizing_col=None, \n",
    "                                apply_log_x=True,\n",
    "                                apply_log_y=False,\n",
    "                                hue='Pathology', \n",
    "                                folder=RESULTS_PATH+'/volume_scatters/undiluted/')"
   ]
  },
  {
   "cell_type": "code",
   "execution_count": null,
   "metadata": {},
   "outputs": [],
   "source": []
  }
 ],
 "metadata": {
  "kernelspec": {
   "display_name": ".venv",
   "language": "python",
   "name": "python3"
  },
  "language_info": {
   "codemirror_mode": {
    "name": "ipython",
    "version": 3
   },
   "file_extension": ".py",
   "mimetype": "text/x-python",
   "name": "python",
   "nbconvert_exporter": "python",
   "pygments_lexer": "ipython3",
   "version": "3.12.3"
  }
 },
 "nbformat": 4,
 "nbformat_minor": 2
}
