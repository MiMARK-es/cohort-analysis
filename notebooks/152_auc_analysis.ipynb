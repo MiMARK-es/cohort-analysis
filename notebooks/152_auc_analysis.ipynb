{
 "cells": [
  {
   "cell_type": "markdown",
   "metadata": {},
   "source": [
    "# Cohort 152 AUCs analysis\n",
    "\n",
    "### Imports and environment setup\n",
    "\n",
    "- Date of run: 2025-05-06\n",
    "- Environment: python 3.12\n",
    "- Packages required: pandas, numpy, sklearn, statsmodels, seaborn, matplotlib"
   ]
  },
  {
   "cell_type": "code",
   "execution_count": 1,
   "metadata": {},
   "outputs": [],
   "source": [
    "# Include in the environment the code directory with the utils function\n",
    "import sys\n",
    "sys.path.append('../code/')"
   ]
  },
  {
   "cell_type": "code",
   "execution_count": 2,
   "metadata": {},
   "outputs": [],
   "source": [
    "# Library imports\n",
    "import pandas as pd\n",
    "import numpy as np\n",
    "from IPython.display import display, HTML\n",
    "import matplotlib.pyplot as plt\n",
    "import seaborn as sns\n",
    "\n",
    "# import all functions from ../code/cohort_analysis_utils.py\n",
    "import cohort_analysis_utils as utils"
   ]
  },
  {
   "cell_type": "code",
   "execution_count": 3,
   "metadata": {},
   "outputs": [],
   "source": [
    "# Remove warnings for readability\n",
    "import warnings\n",
    "warnings.filterwarnings('ignore')\n",
    "\n",
    "# Remove cell printing limits\n",
    "pd.set_option('display.max_rows', None)"
   ]
  },
  {
   "cell_type": "markdown",
   "metadata": {},
   "source": [
    "# Data loading and preprosessing"
   ]
  },
  {
   "cell_type": "markdown",
   "metadata": {},
   "source": [
    "## Samples data"
   ]
  },
  {
   "cell_type": "code",
   "execution_count": 4,
   "metadata": {},
   "outputs": [],
   "source": [
    "df = pd.read_csv('../data/60x60_dr_mmk_20250224.csv' , sep='\\t', index_col=0, header=0)"
   ]
  },
  {
   "cell_type": "code",
   "execution_count": 5,
   "metadata": {},
   "outputs": [],
   "source": [
    "# Harmonization of column names\n",
    "df_samples = utils.normalize_column_names(df)"
   ]
  },
  {
   "cell_type": "code",
   "execution_count": 6,
   "metadata": {},
   "outputs": [],
   "source": [
    "df = df[['Collection_center', 'Age', 'Pathology', 'Hystology_grade',\n",
    "       'Hystology_type', 'Time_between_collection_and_processing_h', 'Group_time',\n",
    "       'Collected_volume_mL', 'Total_protein_BCA']]"
   ]
  },
  {
   "cell_type": "code",
   "execution_count": 7,
   "metadata": {},
   "outputs": [],
   "source": [
    "df = utils.cols_as_category(df, {'Pathology':{'Benign': 0, 'Endometrial cancer': 1}})"
   ]
  },
  {
   "cell_type": "markdown",
   "metadata": {},
   "source": [
    "## Readouts"
   ]
  },
  {
   "cell_type": "code",
   "execution_count": 8,
   "metadata": {},
   "outputs": [],
   "source": [
    "BIOMARKERS = [\"MMP9\", \"KPYM\", \"AGRIN\", \"HSPB1\", \"PERM\", \"PIGR\", \"TIMP2\", \"CLIC1\"]"
   ]
  },
  {
   "cell_type": "code",
   "execution_count": 9,
   "metadata": {},
   "outputs": [],
   "source": [
    "for biomarker in BIOMARKERS:\n",
    "    df_readouts = pd.read_excel(\"../data/152_20250423.xlsx\", sheet_name=biomarker, header=0, index_col=0)\n",
    "    df_readouts = utils.normalize_column_names(df_readouts)\n",
    "    df_readouts = df_readouts.rename(columns={'Repeat': f'Repeat_{biomarker}'})\n",
    "    # merge with df_samples\n",
    "    df = pd.merge(df, df_readouts, left_index=True, right_index=True, how='left')\n",
    "\n",
    "\n"
   ]
  },
  {
   "cell_type": "markdown",
   "metadata": {},
   "source": [
    "# Model computation"
   ]
  },
  {
   "cell_type": "code",
   "execution_count": 10,
   "metadata": {},
   "outputs": [],
   "source": [
    "# Which column take into account for the readout\n",
    "READOUT_COLUMN_SUFFIX = '_G1_repeats'\n",
    "# READOUT_COLUMN_SUFFIX = '_G2'\n",
    "# READOUT_COLUMN_SUFFIX = '_G3'\n",
    "\n",
    "#RESULTS_PATH = f'../data/results/152_ratios/{READOUT_COLUMN_SUFFIX}_bad_removed/'\n",
    "RESULTS_PATH = f'../data/results/152/{READOUT_COLUMN_SUFFIX}/'"
   ]
  },
  {
   "cell_type": "code",
   "execution_count": 11,
   "metadata": {},
   "outputs": [],
   "source": [
    "#df = df.drop(index=['002-0006', '012-0009', '012-0026', '012-0029'], axis=0)\n",
    "#df = df.drop(index=['003-0044', '003-0035', '003-0007', '002-0007', '012-0005','001-0034', '012-0026', '012-0029', '002-0006'], axis=0)"
   ]
  },
  {
   "cell_type": "markdown",
   "metadata": {},
   "source": [
    "## Compute ratios"
   ]
  },
  {
   "cell_type": "code",
   "execution_count": 12,
   "metadata": {},
   "outputs": [],
   "source": [
    "for biomarker in BIOMARKERS:\n",
    "    df[f'{biomarker}'] =  pd.to_numeric(df[f'{biomarker}{READOUT_COLUMN_SUFFIX}'], errors='coerce')"
   ]
  },
  {
   "cell_type": "markdown",
   "metadata": {},
   "source": [
    "## Execution parameters"
   ]
  },
  {
   "cell_type": "code",
   "execution_count": null,
   "metadata": {},
   "outputs": [],
   "source": [
    "PLOT_ROCS = False\n",
    "\n",
    "NORMALIZING_COL = 'Total_protein_BCA' \n",
    "VOLUME_COL = 'Collected_volume_mL'\n",
    "\n",
    "METHODS = ['direct', 'normalized']"
   ]
  },
  {
   "cell_type": "markdown",
   "metadata": {},
   "source": [
    "## Models creation"
   ]
  },
  {
   "cell_type": "code",
   "execution_count": null,
   "metadata": {},
   "outputs": [],
   "source": [
    "for biomarker_count in range(1, 4):\n",
    "        print(f'Number of biomarkers: {biomarker_count}')\n",
    "\n",
    "        models = utils.compute_all_models_and_save(\n",
    "                                    df=df,\n",
    "                                    biomarkers=BIOMARKERS,\n",
    "                                    normalizing_col=NORMALIZING_COL, \n",
    "                                    volume_col= VOLUME_COL,\n",
    "                                    volume_added=0.5,\n",
    "                                    apply_log=False,\n",
    "                                    avoid_same_biomarker=True,\n",
    "                                    methods=METHODS,\n",
    "                                    max_biomarker_count=biomarker_count,\n",
    "                                    folder_name=RESULTS_PATH,\n",
    "                                    plot_rocs=True,\n",
    "                                    auc_threshold=0.6,\n",
    "                                    compute_auc_ci=True if biomarker_count == 1 else False,\n",
    "                                    )\n",
    "\n",
    "        if biomarker_count == 1:\n",
    "            # Reserve the models with confidence intervals for the final analysis\n",
    "            models_with_auc_ci = models\n",
    "        \n",
    "        print(f'Number of biomarkers: {biomarker_count} done')\n"
   ]
  },
  {
   "cell_type": "code",
   "execution_count": 16,
   "metadata": {},
   "outputs": [],
   "source": [
    "models = utils.compute_all_models_and_save(\n",
    "                            df=df,\n",
    "                            biomarkers=RATIOS_COLUMNS,\n",
    "                            normalizing_col=NORMALIZING_COL, \n",
    "                            volume_col= VOLUME_COL,\n",
    "                            volume_added=0.5,\n",
    "                            apply_log=False,\n",
    "                            avoid_same_biomarker=True,\n",
    "                            methods=METHODS,\n",
    "                            max_biomarker_count=2,\n",
    "                            folder_name=RESULTS_PATH,\n",
    "                            plot_rocs=True,\n",
    "                            auc_threshold=0.8,\n",
    "                            compute_auc_ci=False,\n",
    "                            )"
   ]
  },
  {
   "cell_type": "code",
   "execution_count": 17,
   "metadata": {},
   "outputs": [
    {
     "name": "stdout",
     "output_type": "stream",
     "text": [
      "{'002-0015', '001-0004', '004-0003', '002-0008', '001-0005', '001-0009', '010-0007', '001-0012', '001-0007', '005-0003', '004-0006', '002-0028', '002-0027', '002-0004', '013-0003', '012-0018', '012-0001', '008-0035', '012-0030', '013-0006', '012-0028', '020-0049', '007-0004', '002-0020', '012-0013', '003-0062', '012-0008', '003-0012', '006-0009', '020-0047', '012-0027', '001-0017', '001-0006', '002-0026', '020-0034', '020-0050', '020-0006', '002-0024', '020-0001', '003-0050', '002-0019', '001-0008', '001-0025', '020-0014', '003-0013', '016-0033', '002-0013', '012-0014', '003-0011', '003-0043', '002-0016', '016-0043', '001-0024', '006-0001', '020-0015', '012-0012', '003-0028', '002-0001', '020-0008', '002-0025', '011-0002', '003-0047', '012-0003', '007-0002', '018-0006', '012-0015', '018-0016', '003-0002', '001-0040', '018-0002', '002-0005', '001-0013', '001-0011', '007-0006', '005-0008', '012-0025', '012-0002', '020-0037', '020-0023', '012-0009', '003-0049', '020-0007', '010-0012', '018-0001', '002-0022', '001-0019', '002-0002', '002-0012', '007-0009', '008-0034', '005-0004', '014-0026', '001-0014', '020-0004', '003-0030', '003-0039', '012-0016', '007-0011', '007-0012', '002-0018', '007-0010', '002-0023', '004-0008', '011-0032', '004-0009', '020-0002', '007-0013', '004-0001', '012-0007', '005-0007', '012-0023'}\n",
      "Number of bad systematic: 0\n",
      "Bad systematic: set()\n"
     ]
    }
   ],
   "source": [
    "tk = list(models['direct'].keys())[0]\n",
    "ks = list(models['direct'][tk].keys())\n",
    "\n",
    "bad_systematic = set(df.index)\n",
    "print(bad_systematic)\n",
    "for k in ks:\n",
    "    #print(models['direct'][tk][k]['y_true'])\n",
    "    y_pred = models['direct'][tk][k]['y_pred']\n",
    "    y_true = models['direct'][tk][k]['y_true']\n",
    "\n",
    "    indices = y_true[(y_true == 0) & (y_pred > 0.10)].index\n",
    "    #indices = y_true[(y_true == 1) & (y_pred < 0.30)].index\n",
    "\n",
    "    if len(indices)>5:\n",
    "        #print(f'Number of bad systematic: {len(bad_systematic)}')\n",
    "\n",
    "        bad_systematic = bad_systematic.intersection(set(indices))\n",
    "\n",
    "print(f'Number of bad systematic: {len(bad_systematic)}')\n",
    "print(f'Bad systematic: {bad_systematic}')\n",
    "    "
   ]
  },
  {
   "cell_type": "code",
   "execution_count": null,
   "metadata": {},
   "outputs": [],
   "source": []
  }
 ],
 "metadata": {
  "kernelspec": {
   "display_name": "Python 3",
   "language": "python",
   "name": "python3"
  },
  "language_info": {
   "codemirror_mode": {
    "name": "ipython",
    "version": 3
   },
   "file_extension": ".py",
   "mimetype": "text/x-python",
   "name": "python",
   "nbconvert_exporter": "python",
   "pygments_lexer": "ipython3",
   "version": "3.12.2"
  }
 },
 "nbformat": 4,
 "nbformat_minor": 2
}
