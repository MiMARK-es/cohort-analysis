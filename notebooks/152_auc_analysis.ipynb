{
 "cells": [
  {
   "cell_type": "markdown",
   "metadata": {},
   "source": [
    "# Cohort 152 AUCs analysis\n",
    "\n",
    "### Imports and environment setup\n",
    "\n",
    "- Date of run: 2025-05-06\n",
    "- Environment: python 3.12\n",
    "- Packages required: pandas, numpy, sklearn, statsmodels, seaborn, matplotlib"
   ]
  },
  {
   "cell_type": "code",
   "execution_count": 1,
   "metadata": {},
   "outputs": [],
   "source": [
    "# Include in the environment the code directory with the utils function\n",
    "import sys\n",
    "sys.path.append('../code/')"
   ]
  },
  {
   "cell_type": "code",
   "execution_count": 2,
   "metadata": {},
   "outputs": [],
   "source": [
    "# Library imports\n",
    "import pandas as pd\n",
    "import numpy as np\n",
    "from IPython.display import display, HTML\n",
    "import matplotlib.pyplot as plt\n",
    "import seaborn as sns\n",
    "\n",
    "# import all functions from ../code/cohort_analysis_utils.py\n",
    "import cohort_analysis_utils as utils"
   ]
  },
  {
   "cell_type": "code",
   "execution_count": 3,
   "metadata": {},
   "outputs": [],
   "source": [
    "# Remove warnings for readability\n",
    "import warnings\n",
    "warnings.filterwarnings('ignore')\n",
    "\n",
    "# Remove cell printing limits\n",
    "pd.set_option('display.max_rows', None)"
   ]
  },
  {
   "cell_type": "markdown",
   "metadata": {},
   "source": [
    "# Data loading and preprosessing"
   ]
  },
  {
   "cell_type": "markdown",
   "metadata": {},
   "source": [
    "## Samples data"
   ]
  },
  {
   "cell_type": "code",
   "execution_count": 4,
   "metadata": {},
   "outputs": [],
   "source": [
    "df = pd.read_csv('../data/60x60_dr_mmk_20250224.csv' , sep='\\t', index_col=0, header=0)"
   ]
  },
  {
   "cell_type": "code",
   "execution_count": 5,
   "metadata": {},
   "outputs": [],
   "source": [
    "# Harmonization of column names\n",
    "df = utils.normalize_column_names(df)"
   ]
  },
  {
   "cell_type": "code",
   "execution_count": 6,
   "metadata": {},
   "outputs": [],
   "source": [
    "# Create a copy to compare the new values with the original ones\n",
    "df_copy = df.copy()"
   ]
  },
  {
   "cell_type": "code",
   "execution_count": 7,
   "metadata": {},
   "outputs": [],
   "source": [
    "df = df[['Collection_center', 'Age', 'Pathology', 'Hystology_grade',\n",
    "       'Hystology_type', 'Time_between_collection_and_processing_h', 'Group_time',\n",
    "       'Collected_volume_mL', 'Total_protein_BCA']]"
   ]
  },
  {
   "cell_type": "code",
   "execution_count": 8,
   "metadata": {},
   "outputs": [],
   "source": [
    "df = utils.cols_as_category(df, {'Pathology':{'Benign': 0, 'Endometrial cancer': 1}})"
   ]
  },
  {
   "cell_type": "markdown",
   "metadata": {},
   "source": [
    "## Readouts"
   ]
  },
  {
   "cell_type": "code",
   "execution_count": 9,
   "metadata": {},
   "outputs": [],
   "source": [
    "BIOMARKERS = [\"MMP9\", \"KPYM\", \"AGRIN\", \"HSPB1\", \"PERM\", \"PIGR\", \"TIMP2\", \"CLIC1\"]"
   ]
  },
  {
   "cell_type": "code",
   "execution_count": 10,
   "metadata": {},
   "outputs": [],
   "source": [
    "for biomarker in BIOMARKERS:\n",
    "    df_readouts = pd.read_excel(\"../data/152_20250507.xlsx\", sheet_name=biomarker, header=0, index_col=0)\n",
    "    df_readouts = utils.normalize_column_names(df_readouts)\n",
    "    df_readouts = df_readouts.rename(columns={'Repeat': f'Repeat_{biomarker}'})\n",
    "    # merge with df_samples\n",
    "    df = pd.merge(df, df_readouts, left_index=True, right_index=True, how='left')\n",
    "\n",
    "\n"
   ]
  },
  {
   "cell_type": "markdown",
   "metadata": {},
   "source": [
    "# Model computation"
   ]
  },
  {
   "cell_type": "markdown",
   "metadata": {},
   "source": [
    "## Execution parameters"
   ]
  },
  {
   "cell_type": "code",
   "execution_count": 11,
   "metadata": {},
   "outputs": [],
   "source": [
    "PLOT_ROCS = False\n",
    "\n",
    "NORMALIZING_COL = 'Total_protein_BCA' \n",
    "VOLUME_COL = 'Collected_volume_mL'\n",
    "\n",
    "METHODS = ['normalized']"
   ]
  },
  {
   "cell_type": "code",
   "execution_count": null,
   "metadata": {},
   "outputs": [
    {
     "name": "stdout",
     "output_type": "stream",
     "text": [
      "Number of biomarkers: 1\n",
      "Number of biomarkers: 1 done\n",
      "Number of biomarkers: 2\n",
      "Number of biomarkers: 2 done\n",
      "Number of biomarkers: 3\n",
      "Number of biomarkers: 3 done\n",
      "Number of biomarkers: 1\n",
      "Number of biomarkers: 1 done\n",
      "Number of biomarkers: 2\n",
      "Number of biomarkers: 2 done\n",
      "Number of biomarkers: 3\n",
      "Number of biomarkers: 3 done\n",
      "Number of biomarkers: 1\n",
      "Number of biomarkers: 1 done\n",
      "Number of biomarkers: 2\n",
      "Number of biomarkers: 2 done\n",
      "Number of biomarkers: 3\n",
      "Number of biomarkers: 3 done\n"
     ]
    }
   ],
   "source": [
    "suffixes = ['_G1_repeats', '_G2', '_G3']\n",
    "\n",
    "for suffix in suffixes:\n",
    "    RESULTS_PATH = f'../data/results/152/{suffix}/'\n",
    "\n",
    "    for biomarker in BIOMARKERS:\n",
    "        df[f'{biomarker}'] =  pd.to_numeric(df[f'{biomarker}{suffix}'], errors='coerce')\n",
    "\n",
    "    for biomarker_count in range(1, 4):\n",
    "        print(f'Number of biomarkers: {biomarker_count}')\n",
    "\n",
    "        models = utils.compute_all_models_and_save(\n",
    "                                    df=df,\n",
    "                                    biomarkers=BIOMARKERS,\n",
    "                                    normalizing_col=NORMALIZING_COL, \n",
    "                                    volume_col= VOLUME_COL,\n",
    "                                    volume_added=0.5,\n",
    "                                    apply_log=True,\n",
    "                                    avoid_same_biomarker=True,\n",
    "                                    methods=METHODS,\n",
    "                                    max_biomarker_count=biomarker_count,\n",
    "                                    folder_name=RESULTS_PATH,\n",
    "                                    plot_rocs=True,\n",
    "                                    auc_threshold=0.49 + 0.05 * biomarker_count,\n",
    "                                    compute_auc_ci=True if biomarker_count == 1 else False,\n",
    "                                    )\n",
    "\n",
    "        if biomarker_count == 1:\n",
    "            # Reserve the models with confidence intervals for the final analysis\n",
    "            models_with_auc_ci = models\n",
    "        \n",
    "        print(f'Number of biomarkers: {biomarker_count} done')\n",
    "    "
   ]
  },
  {
   "cell_type": "markdown",
   "metadata": {},
   "source": [
    "## Compute the same removing problematic samples"
   ]
  },
  {
   "cell_type": "code",
   "execution_count": 14,
   "metadata": {},
   "outputs": [
    {
     "name": "stdout",
     "output_type": "stream",
     "text": [
      "Number of biomarkers: 1\n",
      "Number of biomarkers: 1 done\n",
      "Number of biomarkers: 2\n",
      "Number of biomarkers: 2 done\n",
      "Number of biomarkers: 3\n",
      "Number of biomarkers: 3 done\n",
      "Number of biomarkers: 1\n",
      "Number of biomarkers: 1 done\n",
      "Number of biomarkers: 2\n",
      "Number of biomarkers: 2 done\n",
      "Number of biomarkers: 3\n",
      "Number of biomarkers: 3 done\n",
      "Number of biomarkers: 1\n",
      "Number of biomarkers: 1 done\n",
      "Number of biomarkers: 2\n",
      "Number of biomarkers: 2 done\n",
      "Number of biomarkers: 3\n",
      "Number of biomarkers: 3 done\n"
     ]
    }
   ],
   "source": [
    "suffixes = ['_G1_repeats', '_G2', '_G3']\n",
    "\n",
    "df_bad_removed = df.drop(index=['003-0044', '003-0035', '003-0007', '002-0007', '012-0005','001-0034', '012-0026', '012-0029', '002-0006'], axis=0)\n",
    "\n",
    "for suffix in suffixes:\n",
    "    RESULTS_PATH = f'../data/results/152/{suffix}_bad_removed/'\n",
    "\n",
    "    \n",
    "    for biomarker in BIOMARKERS:\n",
    "        df_bad_removed[f'{biomarker}'] =  pd.to_numeric(df_bad_removed[f'{biomarker}{suffix}'], errors='coerce')\n",
    "\n",
    "    for biomarker_count in range(1, 4):\n",
    "        print(f'Number of biomarkers: {biomarker_count}')\n",
    "\n",
    "        models = utils.compute_all_models_and_save(\n",
    "                                    df=df_bad_removed,\n",
    "                                    biomarkers=BIOMARKERS,\n",
    "                                    normalizing_col=NORMALIZING_COL, \n",
    "                                    volume_col= VOLUME_COL,\n",
    "                                    volume_added=0.5,\n",
    "                                    apply_log=True,\n",
    "                                    avoid_same_biomarker=True,\n",
    "                                    methods=METHODS,\n",
    "                                    max_biomarker_count=biomarker_count,\n",
    "                                    folder_name=RESULTS_PATH,\n",
    "                                    plot_rocs=True,\n",
    "                                    auc_threshold=0.49 + 0.05 * biomarker_count,\n",
    "                                    compute_auc_ci=True if biomarker_count == 1 else False,\n",
    "                                    )\n",
    "\n",
    "        if biomarker_count == 1:\n",
    "            # Reserve the models with confidence intervals for the final analysis\n",
    "            models_with_auc_ci = models\n",
    "        \n",
    "        print(f'Number of biomarkers: {biomarker_count} done')"
   ]
  },
  {
   "cell_type": "markdown",
   "metadata": {},
   "source": [
    "## Data comparison"
   ]
  },
  {
   "cell_type": "code",
   "execution_count": 24,
   "metadata": {},
   "outputs": [],
   "source": [
    "df_copy.rename(columns={'TIMP-2': 'TIMP2', }, inplace=True)"
   ]
  },
  {
   "cell_type": "code",
   "execution_count": 35,
   "metadata": {},
   "outputs": [],
   "source": [
    "for biomarker in BIOMARKERS:\n",
    "    if biomarker == 'CLIC1':\n",
    "        continue\n",
    "    df[f'{biomarker}'] =  pd.to_numeric(df[f'{biomarker}{suffixes[0]}'], errors='coerce')\n",
    "    df_copy[f'{biomarker}'] =  pd.to_numeric(df_copy[f'{biomarker}'], errors='coerce')\n",
    "    # round to 2 decimal places\n",
    "    df[f'{biomarker}'] = df[f'{biomarker}'].round(1)\n",
    "    df_copy[f'{biomarker}'] = df_copy[f'{biomarker}'].round(1)\n",
    "    \n"
   ]
  },
  {
   "cell_type": "code",
   "execution_count": 38,
   "metadata": {},
   "outputs": [
    {
     "name": "stdout",
     "output_type": "stream",
     "text": [
      "Differences in MMP9:\n",
      "            self   other\n",
      "Sample                  \n",
      "001-0006     NaN     0.2\n",
      "001-0009     NaN     6.1\n",
      "001-0011     NaN    14.9\n",
      "001-0013     NaN     0.0\n",
      "001-0014     NaN    16.6\n",
      "001-0040   296.5   296.6\n",
      "002-0001     NaN    23.2\n",
      "002-0012  2112.6  2396.7\n",
      "002-0013     NaN     4.8\n",
      "002-0016     NaN    11.0\n",
      "002-0027     NaN     8.5\n",
      "004-0008     NaN     4.4\n",
      "012-0013     NaN     7.9\n",
      "012-0028     NaN    14.6\n",
      "012-0029  2695.6     0.0\n",
      "Differences in KPYM:\n",
      "            self    other\n",
      "Sample                   \n",
      "001-0005   103.9    105.9\n",
      "001-0008     NaN    117.2\n",
      "001-0011    39.1    117.2\n",
      "001-0014   538.1    623.8\n",
      "002-0001     NaN     13.0\n",
      "002-0005     NaN     35.6\n",
      "002-0006   300.8    300.7\n",
      "002-0008     NaN      0.0\n",
      "002-0012   555.9    831.5\n",
      "002-0013     NaN      0.0\n",
      "002-0016     NaN      0.0\n",
      "002-0018     1.0     39.0\n",
      "002-0019     NaN     39.0\n",
      "002-0020     NaN     39.0\n",
      "002-0023  1879.1   2182.0\n",
      "002-0027    24.4     39.0\n",
      "002-0028     NaN      1.6\n",
      "003-0035  2404.7   2404.8\n",
      "003-0039  3088.5  15992.3\n",
      "003-0044   445.3    280.8\n",
      "003-0049  3506.0      NaN\n",
      "003-0062   402.8   1582.0\n",
      "005-0004  2318.0   2318.1\n",
      "007-0011     NaN  16326.0\n",
      "007-0012   220.2    311.5\n",
      "008-0034     NaN    138.3\n",
      "011-0032     NaN     68.8\n",
      "012-0001   294.9    401.5\n",
      "012-0007   977.9    978.0\n",
      "012-0025  1840.2   2559.7\n",
      "012-0027     NaN    120.8\n",
      "012-0030   777.9    777.8\n",
      "020-0006     NaN     57.9\n",
      "020-0034   166.6    129.0\n",
      "Differences in AGRIN:\n",
      "            self   other\n",
      "Sample                  \n",
      "002-0006   466.5   466.4\n",
      "002-0016     NaN    10.5\n",
      "002-0019     NaN     6.6\n",
      "002-0027    87.1    87.2\n",
      "010-0007  1041.6   956.8\n",
      "012-0007   479.7   479.6\n",
      "020-0002  2275.5  1137.7\n",
      "020-0007  2188.9  2188.8\n",
      "020-0034  1807.9  1807.8\n",
      "Differences in HSPB1:\n",
      "              self    other\n",
      "Sample                     \n",
      "001-0008    2693.6      NaN\n",
      "001-0040       NaN  34935.2\n",
      "002-0001       NaN      0.0\n",
      "002-0023       NaN  24764.4\n",
      "002-0024       NaN     32.9\n",
      "002-0025       NaN    210.2\n",
      "002-0028       NaN      0.0\n",
      "003-0035   58907.1  58907.0\n",
      "003-0047       NaN  45322.7\n",
      "006-0001   16541.5  16541.6\n",
      "007-0010   15248.3  15248.2\n",
      "007-0013  122026.6  61013.3\n",
      "020-0001       NaN  37808.9\n",
      "020-0004    7050.9   7051.0\n",
      "Differences in PERM:\n",
      "          self  other\n",
      "Sample               \n",
      "001-0009  21.0   12.0\n",
      "001-0013  55.2   59.4\n",
      "004-0009  39.3   45.8\n",
      "011-0032  31.0   11.6\n",
      "No differences in PIGR\n",
      "Differences in TIMP2:\n",
      "           self  other\n",
      "Sample                \n",
      "002-0015   15.7   15.6\n",
      "004-0008   13.1   13.0\n",
      "012-0015    7.5    7.6\n",
      "012-0025   92.2    NaN\n",
      "012-0026  105.1  105.2\n"
     ]
    }
   ],
   "source": [
    "for biomarker in BIOMARKERS:\n",
    "    if biomarker == 'CLIC1':\n",
    "        continue\n",
    "\n",
    "    # compare the biomarker in the df and df_copy and print the differences if any\n",
    "    if not df[biomarker].equals(df_copy[biomarker]):\n",
    "        print(f'Differences in {biomarker}:')\n",
    "        print(df[biomarker].compare(df_copy[biomarker]))\n",
    "    else:\n",
    "        print(f'No differences in {biomarker}')"
   ]
  },
  {
   "cell_type": "code",
   "execution_count": null,
   "metadata": {},
   "outputs": [],
   "source": []
  }
 ],
 "metadata": {
  "kernelspec": {
   "display_name": "Python 3",
   "language": "python",
   "name": "python3"
  },
  "language_info": {
   "codemirror_mode": {
    "name": "ipython",
    "version": 3
   },
   "file_extension": ".py",
   "mimetype": "text/x-python",
   "name": "python",
   "nbconvert_exporter": "python",
   "pygments_lexer": "ipython3",
   "version": "3.12.2"
  }
 },
 "nbformat": 4,
 "nbformat_minor": 2
}
