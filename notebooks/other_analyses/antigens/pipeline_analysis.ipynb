{
 "cells": [
  {
   "cell_type": "markdown",
   "metadata": {},
   "source": [
    "# Antigen analysis\n",
    "\n",
    "After computing all the information needed to evaluate the antigen candidates, we will evaluate some criteria in order to prioritize some targets. Also, we will evaluate the MiMARK antigens to evaluate how \"good\" they are. "
   ]
  },
  {
   "cell_type": "code",
   "execution_count": 1,
   "metadata": {},
   "outputs": [],
   "source": [
    "# Ignore warnings\n",
    "import warnings\n",
    "warnings.filterwarnings(\"ignore\")"
   ]
  },
  {
   "cell_type": "code",
   "execution_count": 2,
   "metadata": {},
   "outputs": [],
   "source": [
    "import pandas as pd"
   ]
  },
  {
   "cell_type": "code",
   "execution_count": 3,
   "metadata": {},
   "outputs": [],
   "source": [
    "# Disable max columns and rows display limit from series and dataframes\n",
    "pd.set_option('display.max_columns', None)\n",
    "pd.set_option('display.max_rows', None)\n",
    "pd.set_option('display.max_colwidth', None)"
   ]
  },
  {
   "cell_type": "code",
   "execution_count": 4,
   "metadata": {},
   "outputs": [],
   "source": [
    "# Load results in a dataframe\n",
    "df = pd.read_excel('data/results/general_summary.xlsx')"
   ]
  },
  {
   "cell_type": "markdown",
   "metadata": {},
   "source": [
    "## MiMARK biomarkers"
   ]
  },
  {
   "cell_type": "code",
   "execution_count": 5,
   "metadata": {},
   "outputs": [],
   "source": [
    "MMK_BIOMARKERS = ['MMP9', 'AGRIN', 'PERM', 'HSPB1', 'KPY1', 'CLIC1']"
   ]
  },
  {
   "cell_type": "code",
   "execution_count": 6,
   "metadata": {},
   "outputs": [
    {
     "data": {
      "text/html": [
       "<div>\n",
       "<style scoped>\n",
       "    .dataframe tbody tr th:only-of-type {\n",
       "        vertical-align: middle;\n",
       "    }\n",
       "\n",
       "    .dataframe tbody tr th {\n",
       "        vertical-align: top;\n",
       "    }\n",
       "\n",
       "    .dataframe thead th {\n",
       "        text-align: right;\n",
       "    }\n",
       "</style>\n",
       "<table border=\"1\" class=\"dataframe\">\n",
       "  <thead>\n",
       "    <tr style=\"text-align: right;\">\n",
       "      <th></th>\n",
       "      <th>Swiss Prot</th>\n",
       "      <th>Gene Name</th>\n",
       "    </tr>\n",
       "  </thead>\n",
       "  <tbody>\n",
       "    <tr>\n",
       "      <th>6</th>\n",
       "      <td>HSPB1_HUMAN</td>\n",
       "      <td>HSPB1</td>\n",
       "    </tr>\n",
       "    <tr>\n",
       "      <th>12</th>\n",
       "      <td>MMP9_HUMAN</td>\n",
       "      <td>MMP9</td>\n",
       "    </tr>\n",
       "    <tr>\n",
       "      <th>43</th>\n",
       "      <td>KPY1_HUMAN</td>\n",
       "      <td>PKM</td>\n",
       "    </tr>\n",
       "    <tr>\n",
       "      <th>151</th>\n",
       "      <td>PERM_HUMAN</td>\n",
       "      <td>MPO</td>\n",
       "    </tr>\n",
       "    <tr>\n",
       "      <th>236</th>\n",
       "      <td>CLIC1_HUMAN</td>\n",
       "      <td>CLIC1</td>\n",
       "    </tr>\n",
       "  </tbody>\n",
       "</table>\n",
       "</div>"
      ],
      "text/plain": [
       "      Swiss Prot Gene Name\n",
       "6    HSPB1_HUMAN     HSPB1\n",
       "12    MMP9_HUMAN      MMP9\n",
       "43    KPY1_HUMAN       PKM\n",
       "151   PERM_HUMAN       MPO\n",
       "236  CLIC1_HUMAN     CLIC1"
      ]
     },
     "execution_count": 6,
     "metadata": {},
     "output_type": "execute_result"
    }
   ],
   "source": [
    "# Select MMK biomarkers where \"Swiss Prot\" is MMK_BIOMARKER + \"_HUMAN\"\n",
    "df_mmk = df[df['Swiss Prot'].isin([b+\"_HUMAN\" for b in MMK_BIOMARKERS])]\n",
    "df_mmk[['Swiss Prot', 'Gene Name']]"
   ]
  },
  {
   "cell_type": "markdown",
   "metadata": {},
   "source": [
    "### HSPB1"
   ]
  },
  {
   "cell_type": "code",
   "execution_count": 7,
   "metadata": {},
   "outputs": [
    {
     "name": "stdout",
     "output_type": "stream",
     "text": [
      "Uniprot ID: P04792\n",
      "Gene Name: HSPB1\n",
      "Protein Name: heat shock 27kDa protein 1\n",
      "Swiss Prot: HSPB1_HUMAN\n",
      "Up/Down Regulated: -1\n",
      "Family: other\n",
      "Biomarker Application: diagnosis\n",
      "(transcriptomics) AUC: 0.37\n",
      "(transcriptomics) Fold Change : 1.04\n",
      "(transcriptomics) Up/Down Regulated : Downregulated\n",
      "Seq Length: 205\n",
      "Glycosylation Sites: 0\n",
      "Modified Residues: 13\n",
      "Subcellular Location: Cytoplasm \\| Nucleus \\| Cytoplasm \\| Cytoskeleton \\| Spindle\n",
      "Discotope Epitope Count: 27.0\n",
      "Critical Aggregation Sites (>50): 0.0\n",
      "Interactor Count: 22\n",
      "Interactors: MAPKAPK2 \\| MAPKAPK5 \\| CYCS \\| HSPA4 \\| AKT1 \\| EIF4G1 \\| HSPA8 \\| BAG3 \\| MAPKAPK3 \\| HSPA1A \\| DAXX \\| PLEC \\| HSP90AA1 \\| TP53 \\| HSP90AB1 \\| CRYAB \\| HSPB8 \\| HSPA1B \\| HNRNPD \\| HSPBAP1 \\| MAPK14 \\| HSPB6\n",
      "Homolog Count: 8\n",
      "Homologs: HSPB2 \\| HSPB7 \\| HSPB3 \\| HSPB8 \\| CRYAB \\| HSPB9 \\| HEL55 \\| CRYAA\n",
      "Max n_uniprots Homo: 10.0\n",
      "Max n_uniprots Hetero: nan\n",
      "Number of Isoforms: 0\n"
     ]
    }
   ],
   "source": [
    "row = df_mmk.iloc[0]\n",
    "formatted_text = \"\\n\".join([f\"{col}: {row[col]}\" for col in df_mmk.columns])\n",
    "print(formatted_text)"
   ]
  },
  {
   "cell_type": "markdown",
   "metadata": {},
   "source": [
    "### MMP9"
   ]
  },
  {
   "cell_type": "code",
   "execution_count": 8,
   "metadata": {},
   "outputs": [
    {
     "name": "stdout",
     "output_type": "stream",
     "text": [
      "Uniprot ID: P14780\n",
      "Gene Name: MMP9\n",
      "Protein Name: metalloproteinases 9\n",
      "Swiss Prot: MMP9_HUMAN\n",
      "Up/Down Regulated: 2\n",
      "Family: peptidase\n",
      "Biomarker Application: diagnosis,disease progression,efficacy,prognosis,unspecified application\n",
      "(transcriptomics) AUC: 0.96\n",
      "(transcriptomics) Fold Change : 1.99\n",
      "(transcriptomics) Up/Down Regulated : Upregulated\n",
      "Seq Length: 707\n",
      "Glycosylation Sites: 3\n",
      "Modified Residues: 0\n",
      "Subcellular Location: nan\n",
      "Discotope Epitope Count: 177.0\n",
      "Critical Aggregation Sites (>50): 23.0\n",
      "Interactor Count: 36\n",
      "Interactors: TIMP1 \\| CD44 \\| TIMP2 \\| LCN2 \\| THBS1 \\| TIMP3 \\| CTSG \\| DMP1 \\| ELN \\| MMP1 \\| ELANE \\| SRC \\| MPO \\| TGFB1 \\| SDC1 \\| THBS2 \\| EDN1 \\| CYBB \\| IL6 \\| CDH1 \\| MMP3 \\| HBEGF \\| NCF1 \\| IL1B \\| SPP1 \\| NCF2 \\| CYBA \\| NCF4 \\| TLR4 \\| TNF \\| IBSP \\| KITLG \\| COL18A1 \\| FGF2 \\| MMP2 \\| COL1A2\n",
      "Homolog Count: 23\n",
      "Homologs: MMP20 \\| MMP10 \\| MMP7 \\| MMP16 \\| MMP12 \\| MMP8 \\| MMP13 \\| MMP15 \\| MMP14 \\| MMP26 \\| MMP19 \\| MMP25 \\| MMP17 \\| MMP23B \\| MMP24 \\| MMP2 \\| HPX \\| MMP1 \\| MMP11 \\| MMP28 \\| MMP21 \\| MMP3 \\| MMP27\n",
      "Max n_uniprots Homo: 2.0\n",
      "Max n_uniprots Hetero: nan\n",
      "Number of Isoforms: 0\n"
     ]
    }
   ],
   "source": [
    "row = df_mmk.iloc[1]\n",
    "formatted_text = \"\\n\".join([f\"{col}: {row[col]}\" for col in df_mmk.columns])\n",
    "print(formatted_text)"
   ]
  },
  {
   "cell_type": "markdown",
   "metadata": {},
   "source": [
    "### KPYM"
   ]
  },
  {
   "cell_type": "code",
   "execution_count": 9,
   "metadata": {},
   "outputs": [
    {
     "name": "stdout",
     "output_type": "stream",
     "text": [
      "Uniprot ID: P14618\n",
      "Gene Name: PKM\n",
      "Protein Name: pyruvate kinase, muscle (PKM2)\n",
      "Swiss Prot: KPY1_HUMAN\n",
      "Up/Down Regulated: 1\n",
      "Family: kinase\n",
      "Biomarker Application: diagnosis,disease progression,unspecified application\n",
      "(transcriptomics) AUC: 0.97\n",
      "(transcriptomics) Fold Change : 1.15\n",
      "(transcriptomics) Up/Down Regulated : Upregulated\n",
      "Seq Length: 531\n",
      "Glycosylation Sites: 0\n",
      "Modified Residues: 28\n",
      "Subcellular Location: Cytoplasm \\| Nucleus \\| Cytoplasm\n",
      "Discotope Epitope Count: 98.0\n",
      "Critical Aggregation Sites (>50): 18.0\n",
      "Interactor Count: 50\n",
      "Interactors: LDHA \\| ENO1 \\| CTNNB1 \\| HIF1A \\| ENO2 \\| ENO3 \\| GPI \\| LDHAL6A \\| ALDOA \\| LDHC \\| PDHB \\| LDHAL6B \\| ENO4 \\| PGAM1 \\| ME1 \\| POU5F1 \\| PC \\| CD44 \\| ME3 \\| TPI1 \\| ME2 \\| H6PD \\| GAPDH \\| PCK2 \\| PCK1 \\| TKT \\| PGAM4 \\| LDHD \\| PDHA2 \\| AK2 \\| ALDOC \\| G6PD \\| PFKM \\| AK1 \\| PGK1 \\| AK3 \\| TKTL2 \\| TKTL1 \\| FGFR1 \\| RRM1 \\| AK4 \\| PRKACA \\| PFKP \\| ITPA \\| PRKACB \\| TALDO1 \\| PRKACG \\| NME2 \\| PGAM2 \\| RRM2\n",
      "Homolog Count: 1\n",
      "Homologs: PKLR\n",
      "Max n_uniprots Homo: 4.0\n",
      "Max n_uniprots Hetero: nan\n",
      "Number of Isoforms: 4\n"
     ]
    }
   ],
   "source": [
    "row = df_mmk.iloc[2]\n",
    "formatted_text = \"\\n\".join([f\"{col}: {row[col]}\" for col in df_mmk.columns])\n",
    "print(formatted_text)"
   ]
  },
  {
   "cell_type": "markdown",
   "metadata": {},
   "source": [
    "### PERM"
   ]
  },
  {
   "cell_type": "code",
   "execution_count": 10,
   "metadata": {},
   "outputs": [
    {
     "name": "stdout",
     "output_type": "stream",
     "text": [
      "Uniprot ID: P05164\n",
      "Gene Name: MPO\n",
      "Protein Name: Myeloperoxidase\n",
      "Swiss Prot: PERM_HUMAN\n",
      "Up/Down Regulated: -1\n",
      "Family: enzyme\n",
      "Biomarker Application: diagnosis,disease progression,efficacy,unspecified application\n",
      "(transcriptomics) AUC: 0.52\n",
      "(transcriptomics) Fold Change : 1.02\n",
      "(transcriptomics) Up/Down Regulated : Upregulated\n",
      "Seq Length: 745\n",
      "Glycosylation Sites: 6\n",
      "Modified Residues: 1\n",
      "Subcellular Location: Lysosome\n",
      "Discotope Epitope Count: 146.0\n",
      "Critical Aggregation Sites (>50): 16.0\n",
      "Interactor Count: 18\n",
      "Interactors: AZU1 \\| PRTN3 \\| ELANE \\| CTSG \\| LTF \\| BPI \\| CAMP \\| MMP9 \\| CP \\| CTSS \\| RUNX1 \\| CES1 \\| CEACAM8 \\| APOA1 \\| RNASE3 \\| LYZ \\| NAT2 \\| NAT1\n",
      "Homolog Count: 5\n",
      "Homologs: PXDNL \\| LPO \\| PXDN \\| TPO \\| EPX\n",
      "Max n_uniprots Homo: 4.0\n",
      "Max n_uniprots Hetero: 3.0\n",
      "Number of Isoforms: 3\n"
     ]
    }
   ],
   "source": [
    "row = df_mmk.iloc[3]\n",
    "formatted_text = \"\\n\".join([f\"{col}: {row[col]}\" for col in df_mmk.columns])\n",
    "print(formatted_text)"
   ]
  },
  {
   "cell_type": "markdown",
   "metadata": {},
   "source": [
    "### CLIC1"
   ]
  },
  {
   "cell_type": "code",
   "execution_count": 11,
   "metadata": {},
   "outputs": [
    {
     "name": "stdout",
     "output_type": "stream",
     "text": [
      "Uniprot ID: O00299\n",
      "Gene Name: CLIC1\n",
      "Protein Name: chloride intracellular channel 1\n",
      "Swiss Prot: CLIC1_HUMAN\n",
      "Up/Down Regulated: 1\n",
      "Family: ion channel\n",
      "Biomarker Application: diagnosis\n",
      "(transcriptomics) AUC: 0.95\n",
      "(transcriptomics) Fold Change : 1.08\n",
      "(transcriptomics) Up/Down Regulated : Upregulated\n",
      "Seq Length: 241\n",
      "Glycosylation Sites: 0\n",
      "Modified Residues: 9\n",
      "Subcellular Location: Nucleus \\| Nucleus membrane \\| Cytoplasm \\| Cell membrane \\| Endoplasmic reticulum\n",
      "Discotope Epitope Count: 56.0\n",
      "Critical Aggregation Sites (>50): 7.0\n",
      "Interactor Count: 0\n",
      "Interactors: nan\n",
      "Homolog Count: 20\n",
      "Homologs: CLIC1 \\| CLIC1 \\| CLIC1 \\| CLIC1 \\| CLIC1 \\| CLIC1 \\| GDAP1L1 \\| CLIC4 \\| GSTZ1 \\| GDAP1 \\| CLIC2 \\| GSTT2 \\| GSTT2B \\| GSTT4 \\| EEF1G \\| CLIC5 \\| HEL-S-21 \\| GSTO2 \\| CLIC6 \\| CLIC3\n",
      "Max n_uniprots Homo: 2.0\n",
      "Max n_uniprots Hetero: nan\n",
      "Number of Isoforms: 0\n"
     ]
    }
   ],
   "source": [
    "row = df_mmk.iloc[4]\n",
    "formatted_text = \"\\n\".join([f\"{col}: {row[col]}\" for col in df_mmk.columns])\n",
    "print(formatted_text)"
   ]
  },
  {
   "cell_type": "markdown",
   "metadata": {},
   "source": [
    "## Proteins downregulated with high AUC and Fold Change"
   ]
  },
  {
   "cell_type": "code",
   "execution_count": 12,
   "metadata": {},
   "outputs": [
    {
     "data": {
      "text/html": [
       "<div>\n",
       "<style scoped>\n",
       "    .dataframe tbody tr th:only-of-type {\n",
       "        vertical-align: middle;\n",
       "    }\n",
       "\n",
       "    .dataframe tbody tr th {\n",
       "        vertical-align: top;\n",
       "    }\n",
       "\n",
       "    .dataframe thead th {\n",
       "        text-align: right;\n",
       "    }\n",
       "</style>\n",
       "<table border=\"1\" class=\"dataframe\">\n",
       "  <thead>\n",
       "    <tr style=\"text-align: right;\">\n",
       "      <th></th>\n",
       "      <th>Uniprot ID</th>\n",
       "      <th>Gene Name</th>\n",
       "      <th>Protein Name</th>\n",
       "      <th>Swiss Prot</th>\n",
       "      <th>Up/Down Regulated</th>\n",
       "      <th>Family</th>\n",
       "      <th>Biomarker Application</th>\n",
       "      <th>(transcriptomics) AUC</th>\n",
       "      <th>(transcriptomics) Fold Change</th>\n",
       "      <th>(transcriptomics) Up/Down Regulated</th>\n",
       "      <th>Seq Length</th>\n",
       "      <th>Glycosylation Sites</th>\n",
       "      <th>Modified Residues</th>\n",
       "      <th>Subcellular Location</th>\n",
       "      <th>Discotope Epitope Count</th>\n",
       "      <th>Critical Aggregation Sites (&gt;50)</th>\n",
       "      <th>Interactor Count</th>\n",
       "      <th>Interactors</th>\n",
       "      <th>Homolog Count</th>\n",
       "      <th>Homologs</th>\n",
       "      <th>Max n_uniprots Homo</th>\n",
       "      <th>Max n_uniprots Hetero</th>\n",
       "      <th>Number of Isoforms</th>\n",
       "    </tr>\n",
       "  </thead>\n",
       "  <tbody>\n",
       "    <tr>\n",
       "      <th>55</th>\n",
       "      <td>P01236</td>\n",
       "      <td>PRL</td>\n",
       "      <td>prolactin</td>\n",
       "      <td>PRL_HUMAN</td>\n",
       "      <td>1</td>\n",
       "      <td>cytokine</td>\n",
       "      <td>diagnosis,efficacy,safety</td>\n",
       "      <td>0.11</td>\n",
       "      <td>2.50</td>\n",
       "      <td>Downregulated</td>\n",
       "      <td>227</td>\n",
       "      <td>1</td>\n",
       "      <td>5</td>\n",
       "      <td>Secreted</td>\n",
       "      <td>55.0</td>\n",
       "      <td>16.0</td>\n",
       "      <td>21</td>\n",
       "      <td>PRLR \\| GH2 \\| LEP \\| POMC \\| GHR \\| CSH2 \\| CSH1 \\| INS \\| TRH \\| JAK2 \\| EPO \\| SEC61A1 \\| GH1 \\| THPO \\| CSF3 \\| CNTF \\| POU1F1 \\| TSHB \\| EGFR \\| STAT5B \\| STAT5A</td>\n",
       "      <td>5</td>\n",
       "      <td>CSH2 \\| CSHL1 \\| GH2 \\| CSH1 \\| GH1</td>\n",
       "      <td>1.0</td>\n",
       "      <td>3.0</td>\n",
       "      <td>0</td>\n",
       "    </tr>\n",
       "    <tr>\n",
       "      <th>56</th>\n",
       "      <td>P01241</td>\n",
       "      <td>GH</td>\n",
       "      <td>Somatotropin / Growth hormone</td>\n",
       "      <td>SOMA_HUMAN</td>\n",
       "      <td>1</td>\n",
       "      <td>growth factor</td>\n",
       "      <td>efficacy</td>\n",
       "      <td>0.06</td>\n",
       "      <td>6.59</td>\n",
       "      <td>Downregulated</td>\n",
       "      <td>217</td>\n",
       "      <td>0</td>\n",
       "      <td>4</td>\n",
       "      <td>Secreted</td>\n",
       "      <td>48.0</td>\n",
       "      <td>14.0</td>\n",
       "      <td>16</td>\n",
       "      <td>GHR \\| PRLR \\| CSH1 \\| CSH2 \\| GHRH \\| EPO \\| GHRL \\| LEP \\| PRL \\| ALB \\| GH2 \\| GHRHR \\| CSF3 \\| IGF1 \\| THPO \\| CNTF</td>\n",
       "      <td>5</td>\n",
       "      <td>GH2 \\| CSH2 \\| CSHL1 \\| CSH1 \\| PRL</td>\n",
       "      <td>2.0</td>\n",
       "      <td>3.0</td>\n",
       "      <td>5</td>\n",
       "    </tr>\n",
       "    <tr>\n",
       "      <th>83</th>\n",
       "      <td>Q15848</td>\n",
       "      <td>ADIPOQ</td>\n",
       "      <td>Adiponectin</td>\n",
       "      <td>ADIPO_HUMAN</td>\n",
       "      <td>-1</td>\n",
       "      <td>other</td>\n",
       "      <td>diagnosis,disease progression,efficacy,prognosis,response to therapy,safety,unspecified application</td>\n",
       "      <td>0.10</td>\n",
       "      <td>8.35</td>\n",
       "      <td>Downregulated</td>\n",
       "      <td>244</td>\n",
       "      <td>6</td>\n",
       "      <td>13</td>\n",
       "      <td>Secreted</td>\n",
       "      <td>50.0</td>\n",
       "      <td>22.0</td>\n",
       "      <td>15</td>\n",
       "      <td>ADIPOR2 \\| ADIPOR1 \\| CDH13 \\| LEP \\| CFD \\| RETN \\| PPARG \\| INS \\| PLIN1 \\| PPARGC1A \\| CEBPA \\| FABP4 \\| RETNLB \\| PPARA \\| CEBPB</td>\n",
       "      <td>23</td>\n",
       "      <td>C1QTNF2 \\| C1QL4 \\| C1QTNF6 \\| C1QTNF3 \\| C1QL2 \\| C1QTNF8 \\| PDCD7 \\| C1QA \\| C1QC \\| C1QL1 \\| OTOL1 \\| ADIE \\| COL8A2 \\| COL10A1 \\| C1QTNF9 \\| C1QTNF9B \\| C1QTNF7 \\| C1QB \\| COL8A1 \\| C1QTNF4 \\| C1QTNF1 \\| COL19A1 \\| ADIJ</td>\n",
       "      <td>3.0</td>\n",
       "      <td>NaN</td>\n",
       "      <td>0</td>\n",
       "    </tr>\n",
       "    <tr>\n",
       "      <th>437</th>\n",
       "      <td>Q9UM07</td>\n",
       "      <td>PADI4</td>\n",
       "      <td>Peptidylarginine deiminase type 4</td>\n",
       "      <td>PADI4_HUMAN</td>\n",
       "      <td>1</td>\n",
       "      <td>enzyme</td>\n",
       "      <td></td>\n",
       "      <td>0.13</td>\n",
       "      <td>2.43</td>\n",
       "      <td>Downregulated</td>\n",
       "      <td>663</td>\n",
       "      <td>0</td>\n",
       "      <td>6</td>\n",
       "      <td>Cytoplasm \\| Nucleus \\| Cytoplasmic granule</td>\n",
       "      <td>139.0</td>\n",
       "      <td>17.0</td>\n",
       "      <td>6</td>\n",
       "      <td>H3C13 \\| H3C12 \\| H3-2 \\| H3-4 \\| H3-3B \\| H3-5</td>\n",
       "      <td>5</td>\n",
       "      <td>PADI4 \\| PADI6 \\| PADI1 \\| PADI3 \\| PADI2</td>\n",
       "      <td>2.0</td>\n",
       "      <td>NaN</td>\n",
       "      <td>0</td>\n",
       "    </tr>\n",
       "  </tbody>\n",
       "</table>\n",
       "</div>"
      ],
      "text/plain": [
       "    Uniprot ID Gene Name                       Protein Name   Swiss Prot  \\\n",
       "55      P01236       PRL                          prolactin    PRL_HUMAN   \n",
       "56      P01241        GH      Somatotropin / Growth hormone   SOMA_HUMAN   \n",
       "83      Q15848    ADIPOQ                        Adiponectin  ADIPO_HUMAN   \n",
       "437     Q9UM07     PADI4  Peptidylarginine deiminase type 4  PADI4_HUMAN   \n",
       "\n",
       "    Up/Down Regulated         Family  \\\n",
       "55                  1       cytokine   \n",
       "56                  1  growth factor   \n",
       "83                 -1          other   \n",
       "437                 1         enzyme   \n",
       "\n",
       "                                                                                   Biomarker Application  \\\n",
       "55                                                                             diagnosis,efficacy,safety   \n",
       "56                                                                                              efficacy   \n",
       "83   diagnosis,disease progression,efficacy,prognosis,response to therapy,safety,unspecified application   \n",
       "437                                                                                                        \n",
       "\n",
       "     (transcriptomics) AUC  (transcriptomics) Fold Change   \\\n",
       "55                    0.11                            2.50   \n",
       "56                    0.06                            6.59   \n",
       "83                    0.10                            8.35   \n",
       "437                   0.13                            2.43   \n",
       "\n",
       "    (transcriptomics) Up/Down Regulated   Seq Length  Glycosylation Sites  \\\n",
       "55                         Downregulated         227                    1   \n",
       "56                         Downregulated         217                    0   \n",
       "83                         Downregulated         244                    6   \n",
       "437                        Downregulated         663                    0   \n",
       "\n",
       "     Modified Residues                         Subcellular Location  \\\n",
       "55                   5                                     Secreted   \n",
       "56                   4                                     Secreted   \n",
       "83                  13                                     Secreted   \n",
       "437                  6  Cytoplasm \\| Nucleus \\| Cytoplasmic granule   \n",
       "\n",
       "     Discotope Epitope Count  Critical Aggregation Sites (>50)  \\\n",
       "55                      55.0                              16.0   \n",
       "56                      48.0                              14.0   \n",
       "83                      50.0                              22.0   \n",
       "437                    139.0                              17.0   \n",
       "\n",
       "     Interactor Count  \\\n",
       "55                 21   \n",
       "56                 16   \n",
       "83                 15   \n",
       "437                 6   \n",
       "\n",
       "                                                                                                                                                                Interactors  \\\n",
       "55   PRLR \\| GH2 \\| LEP \\| POMC \\| GHR \\| CSH2 \\| CSH1 \\| INS \\| TRH \\| JAK2 \\| EPO \\| SEC61A1 \\| GH1 \\| THPO \\| CSF3 \\| CNTF \\| POU1F1 \\| TSHB \\| EGFR \\| STAT5B \\| STAT5A   \n",
       "56                                                  GHR \\| PRLR \\| CSH1 \\| CSH2 \\| GHRH \\| EPO \\| GHRL \\| LEP \\| PRL \\| ALB \\| GH2 \\| GHRHR \\| CSF3 \\| IGF1 \\| THPO \\| CNTF   \n",
       "83                                     ADIPOR2 \\| ADIPOR1 \\| CDH13 \\| LEP \\| CFD \\| RETN \\| PPARG \\| INS \\| PLIN1 \\| PPARGC1A \\| CEBPA \\| FABP4 \\| RETNLB \\| PPARA \\| CEBPB   \n",
       "437                                                                                                                         H3C13 \\| H3C12 \\| H3-2 \\| H3-4 \\| H3-3B \\| H3-5   \n",
       "\n",
       "     Homolog Count  \\\n",
       "55               5   \n",
       "56               5   \n",
       "83              23   \n",
       "437              5   \n",
       "\n",
       "                                                                                                                                                                                                                            Homologs  \\\n",
       "55                                                                                                                                                                                               CSH2 \\| CSHL1 \\| GH2 \\| CSH1 \\| GH1   \n",
       "56                                                                                                                                                                                               GH2 \\| CSH2 \\| CSHL1 \\| CSH1 \\| PRL   \n",
       "83   C1QTNF2 \\| C1QL4 \\| C1QTNF6 \\| C1QTNF3 \\| C1QL2 \\| C1QTNF8 \\| PDCD7 \\| C1QA \\| C1QC \\| C1QL1 \\| OTOL1 \\| ADIE \\| COL8A2 \\| COL10A1 \\| C1QTNF9 \\| C1QTNF9B \\| C1QTNF7 \\| C1QB \\| COL8A1 \\| C1QTNF4 \\| C1QTNF1 \\| COL19A1 \\| ADIJ   \n",
       "437                                                                                                                                                                                        PADI4 \\| PADI6 \\| PADI1 \\| PADI3 \\| PADI2   \n",
       "\n",
       "     Max n_uniprots Homo  Max n_uniprots Hetero  Number of Isoforms  \n",
       "55                   1.0                    3.0                   0  \n",
       "56                   2.0                    3.0                   5  \n",
       "83                   3.0                    NaN                   0  \n",
       "437                  2.0                    NaN                   0  "
      ]
     },
     "execution_count": 12,
     "metadata": {},
     "output_type": "execute_result"
    }
   ],
   "source": [
    "# From df, select those rows with \"(transcriptomics) AUC\" > 0.9 and \"(transcriptomics) Fold Change \" > 2\n",
    "df_downregulated = df[df['(transcriptomics) AUC'] < 0.15][df['(transcriptomics) Fold Change '] > 2][df['(transcriptomics) Up/Down Regulated '] == \"Downregulated\"]\n",
    "df_downregulated"
   ]
  },
  {
   "cell_type": "markdown",
   "metadata": {},
   "source": [
    "### Prolactin"
   ]
  },
  {
   "cell_type": "code",
   "execution_count": 13,
   "metadata": {},
   "outputs": [
    {
     "name": "stdout",
     "output_type": "stream",
     "text": [
      "Uniprot ID: P01236\n",
      "Gene Name: PRL\n",
      "Protein Name: prolactin\n",
      "Swiss Prot: PRL_HUMAN\n",
      "Up/Down Regulated: 1\n",
      "Family: cytokine\n",
      "Biomarker Application: diagnosis,efficacy,safety\n",
      "(transcriptomics) AUC: 0.11\n",
      "(transcriptomics) Fold Change : 2.5\n",
      "(transcriptomics) Up/Down Regulated : Downregulated\n",
      "Seq Length: 227\n",
      "Glycosylation Sites: 1\n",
      "Modified Residues: 5\n",
      "Subcellular Location: Secreted\n",
      "Discotope Epitope Count: 55.0\n",
      "Critical Aggregation Sites (>50): 16.0\n",
      "Interactor Count: 21\n",
      "Interactors: PRLR \\| GH2 \\| LEP \\| POMC \\| GHR \\| CSH2 \\| CSH1 \\| INS \\| TRH \\| JAK2 \\| EPO \\| SEC61A1 \\| GH1 \\| THPO \\| CSF3 \\| CNTF \\| POU1F1 \\| TSHB \\| EGFR \\| STAT5B \\| STAT5A\n",
      "Homolog Count: 5\n",
      "Homologs: CSH2 \\| CSHL1 \\| GH2 \\| CSH1 \\| GH1\n",
      "Max n_uniprots Homo: 1.0\n",
      "Max n_uniprots Hetero: 3.0\n",
      "Number of Isoforms: 0\n"
     ]
    }
   ],
   "source": [
    "row = df_downregulated.iloc[0]\n",
    "formatted_text = \"\\n\".join([f\"{col}: {row[col]}\" for col in df_downregulated.columns])\n",
    "print(formatted_text)"
   ]
  },
  {
   "cell_type": "markdown",
   "metadata": {},
   "source": [
    "### Growth hormone"
   ]
  },
  {
   "cell_type": "code",
   "execution_count": 14,
   "metadata": {},
   "outputs": [
    {
     "name": "stdout",
     "output_type": "stream",
     "text": [
      "Uniprot ID: P01241\n",
      "Gene Name: GH\n",
      "Protein Name: Somatotropin / Growth hormone\n",
      "Swiss Prot: SOMA_HUMAN\n",
      "Up/Down Regulated: 1\n",
      "Family: growth factor\n",
      "Biomarker Application: efficacy\n",
      "(transcriptomics) AUC: 0.06\n",
      "(transcriptomics) Fold Change : 6.59\n",
      "(transcriptomics) Up/Down Regulated : Downregulated\n",
      "Seq Length: 217\n",
      "Glycosylation Sites: 0\n",
      "Modified Residues: 4\n",
      "Subcellular Location: Secreted\n",
      "Discotope Epitope Count: 48.0\n",
      "Critical Aggregation Sites (>50): 14.0\n",
      "Interactor Count: 16\n",
      "Interactors: GHR \\| PRLR \\| CSH1 \\| CSH2 \\| GHRH \\| EPO \\| GHRL \\| LEP \\| PRL \\| ALB \\| GH2 \\| GHRHR \\| CSF3 \\| IGF1 \\| THPO \\| CNTF\n",
      "Homolog Count: 5\n",
      "Homologs: GH2 \\| CSH2 \\| CSHL1 \\| CSH1 \\| PRL\n",
      "Max n_uniprots Homo: 2.0\n",
      "Max n_uniprots Hetero: 3.0\n",
      "Number of Isoforms: 5\n"
     ]
    }
   ],
   "source": [
    "row = df_downregulated.iloc[1]\n",
    "formatted_text = \"\\n\".join([f\"{col}: {row[col]}\" for col in df_downregulated.columns])\n",
    "print(formatted_text)"
   ]
  },
  {
   "cell_type": "markdown",
   "metadata": {},
   "source": [
    "### Adiponectin"
   ]
  },
  {
   "cell_type": "code",
   "execution_count": 15,
   "metadata": {},
   "outputs": [
    {
     "name": "stdout",
     "output_type": "stream",
     "text": [
      "Uniprot ID: Q15848\n",
      "Gene Name: ADIPOQ\n",
      "Protein Name: Adiponectin\n",
      "Swiss Prot: ADIPO_HUMAN\n",
      "Up/Down Regulated: -1\n",
      "Family: other\n",
      "Biomarker Application: diagnosis,disease progression,efficacy,prognosis,response to therapy,safety,unspecified application\n",
      "(transcriptomics) AUC: 0.1\n",
      "(transcriptomics) Fold Change : 8.35\n",
      "(transcriptomics) Up/Down Regulated : Downregulated\n",
      "Seq Length: 244\n",
      "Glycosylation Sites: 6\n",
      "Modified Residues: 13\n",
      "Subcellular Location: Secreted\n",
      "Discotope Epitope Count: 50.0\n",
      "Critical Aggregation Sites (>50): 22.0\n",
      "Interactor Count: 15\n",
      "Interactors: ADIPOR2 \\| ADIPOR1 \\| CDH13 \\| LEP \\| CFD \\| RETN \\| PPARG \\| INS \\| PLIN1 \\| PPARGC1A \\| CEBPA \\| FABP4 \\| RETNLB \\| PPARA \\| CEBPB\n",
      "Homolog Count: 23\n",
      "Homologs: C1QTNF2 \\| C1QL4 \\| C1QTNF6 \\| C1QTNF3 \\| C1QL2 \\| C1QTNF8 \\| PDCD7 \\| C1QA \\| C1QC \\| C1QL1 \\| OTOL1 \\| ADIE \\| COL8A2 \\| COL10A1 \\| C1QTNF9 \\| C1QTNF9B \\| C1QTNF7 \\| C1QB \\| COL8A1 \\| C1QTNF4 \\| C1QTNF1 \\| COL19A1 \\| ADIJ\n",
      "Max n_uniprots Homo: 3.0\n",
      "Max n_uniprots Hetero: nan\n",
      "Number of Isoforms: 0\n"
     ]
    }
   ],
   "source": [
    "row = df_downregulated.iloc[2]\n",
    "formatted_text = \"\\n\".join([f\"{col}: {row[col]}\" for col in df_downregulated.columns])\n",
    "print(formatted_text)"
   ]
  },
  {
   "cell_type": "markdown",
   "metadata": {},
   "source": [
    "### Peptidylarginine deiminase type 4"
   ]
  },
  {
   "cell_type": "code",
   "execution_count": 16,
   "metadata": {},
   "outputs": [
    {
     "name": "stdout",
     "output_type": "stream",
     "text": [
      "Uniprot ID: Q9UM07\n",
      "Gene Name: PADI4\n",
      "Protein Name: Peptidylarginine deiminase type 4\n",
      "Swiss Prot: PADI4_HUMAN\n",
      "Up/Down Regulated: 1\n",
      "Family: enzyme\n",
      "Biomarker Application:  \n",
      "(transcriptomics) AUC: 0.13\n",
      "(transcriptomics) Fold Change : 2.43\n",
      "(transcriptomics) Up/Down Regulated : Downregulated\n",
      "Seq Length: 663\n",
      "Glycosylation Sites: 0\n",
      "Modified Residues: 6\n",
      "Subcellular Location: Cytoplasm \\| Nucleus \\| Cytoplasmic granule\n",
      "Discotope Epitope Count: 139.0\n",
      "Critical Aggregation Sites (>50): 17.0\n",
      "Interactor Count: 6\n",
      "Interactors: H3C13 \\| H3C12 \\| H3-2 \\| H3-4 \\| H3-3B \\| H3-5\n",
      "Homolog Count: 5\n",
      "Homologs: PADI4 \\| PADI6 \\| PADI1 \\| PADI3 \\| PADI2\n",
      "Max n_uniprots Homo: 2.0\n",
      "Max n_uniprots Hetero: nan\n",
      "Number of Isoforms: 0\n"
     ]
    }
   ],
   "source": [
    "row = df_downregulated.iloc[3]\n",
    "formatted_text = \"\\n\".join([f\"{col}: {row[col]}\" for col in df_downregulated.columns])\n",
    "print(formatted_text)"
   ]
  },
  {
   "cell_type": "markdown",
   "metadata": {},
   "source": [
    "###"
   ]
  },
  {
   "cell_type": "markdown",
   "metadata": {},
   "source": [
    "## What about TIMP2?"
   ]
  },
  {
   "cell_type": "code",
   "execution_count": null,
   "metadata": {},
   "outputs": [],
   "source": [
    "df_timp2 = df[df[\"Gene Name\"] == \"TIMP-2\"]"
   ]
  },
  {
   "cell_type": "code",
   "execution_count": null,
   "metadata": {},
   "outputs": [
    {
     "name": "stdout",
     "output_type": "stream",
     "text": [
      "Uniprot ID: P16035\n",
      "Gene Name: TIMP-2\n",
      "Protein Name: Metalloproteinase inhibitor 2\n",
      "Swiss Prot: TIMP2_HUMAN\n",
      "Up/Down Regulated: 2\n",
      "Family: other\n",
      "Biomarker Application: efficacy,prognosis,unspecified application\n",
      "(transcriptomics) AUC: 0.09\n",
      "(transcriptomics) Fold Change : 1.1\n",
      "(transcriptomics) Up/Down Regulated : Downregulated\n",
      "Seq Length: 220\n",
      "Glycosylation Sites: 0\n",
      "Modified Residues: 0\n",
      "Subcellular Location: Secreted\n",
      "Discotope Epitope Count: 51.0\n",
      "Critical Aggregation Sites (>50): 10.0\n",
      "Interactor Count: 11\n",
      "Interactors: MMP14 \\| MMP2 \\| MMP9 \\| MMP10 \\| MMP3 \\| MMP13 \\| MMP7 \\| HPX \\| MMP1 \\| TIMP3 \\| MMP16\n",
      "Homolog Count: 3\n",
      "Homologs: TIMP3 \\| TIMP4 \\| TIMP1\n",
      "Max n_uniprots Homo: 1.0\n",
      "Max n_uniprots Hetero: 2.0\n",
      "Number of Isoforms: 0\n"
     ]
    }
   ],
   "source": [
    "row = df_timp2.iloc[0]\n",
    "formatted_text = \"\\n\".join([f\"{col}: {row[col]}\" for col in df_timp2.columns])\n",
    "print(formatted_text)"
   ]
  },
  {
   "cell_type": "code",
   "execution_count": null,
   "metadata": {},
   "outputs": [],
   "source": []
  }
 ],
 "metadata": {
  "kernelspec": {
   "display_name": ".venv",
   "language": "python",
   "name": "python3"
  },
  "language_info": {
   "codemirror_mode": {
    "name": "ipython",
    "version": 3
   },
   "file_extension": ".py",
   "mimetype": "text/x-python",
   "name": "python",
   "nbconvert_exporter": "python",
   "pygments_lexer": "ipython3",
   "version": "3.12.3"
  }
 },
 "nbformat": 4,
 "nbformat_minor": 2
}
