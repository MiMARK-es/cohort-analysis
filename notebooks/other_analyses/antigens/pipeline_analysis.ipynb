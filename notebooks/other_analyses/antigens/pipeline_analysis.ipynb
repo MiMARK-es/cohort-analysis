{
 "cells": [
  {
   "cell_type": "markdown",
   "metadata": {},
   "source": [
    "# Antigen analysis\n",
    "\n",
    "After computing all the information needed to evaluate the antigen candidates, we will evaluate some criteria in order to prioritize some targets. Also, we will evaluate the MiMARK antigens to evaluate how \"good\" they are. "
   ]
  },
  {
   "cell_type": "code",
   "execution_count": 2,
   "metadata": {},
   "outputs": [],
   "source": [
    "# Ignore warnings\n",
    "import warnings\n",
    "warnings.filterwarnings(\"ignore\")"
   ]
  },
  {
   "cell_type": "code",
   "execution_count": 3,
   "metadata": {},
   "outputs": [],
   "source": [
    "import pandas as pd"
   ]
  },
  {
   "cell_type": "code",
   "execution_count": 4,
   "metadata": {},
   "outputs": [],
   "source": [
    "# Disable max columns and rows display limit from series and dataframes\n",
    "pd.set_option('display.max_columns', None)\n",
    "pd.set_option('display.max_rows', None)\n",
    "pd.set_option('display.max_colwidth', None)"
   ]
  },
  {
   "cell_type": "code",
   "execution_count": 5,
   "metadata": {},
   "outputs": [],
   "source": [
    "# Load results in a dataframe\n",
    "df = pd.read_excel('data/results/general_summary.xlsx')"
   ]
  },
  {
   "cell_type": "markdown",
   "metadata": {},
   "source": [
    "## MiMARK biomarkers"
   ]
  },
  {
   "cell_type": "code",
   "execution_count": 6,
   "metadata": {},
   "outputs": [],
   "source": [
    "MMK_BIOMARKERS = ['MMP9', 'AGRIN', 'PERM', 'HSPB1', 'KPY1', 'CLIC1']"
   ]
  },
  {
   "cell_type": "code",
   "execution_count": 7,
   "metadata": {},
   "outputs": [
    {
     "data": {
      "text/html": [
       "<div>\n",
       "<style scoped>\n",
       "    .dataframe tbody tr th:only-of-type {\n",
       "        vertical-align: middle;\n",
       "    }\n",
       "\n",
       "    .dataframe tbody tr th {\n",
       "        vertical-align: top;\n",
       "    }\n",
       "\n",
       "    .dataframe thead th {\n",
       "        text-align: right;\n",
       "    }\n",
       "</style>\n",
       "<table border=\"1\" class=\"dataframe\">\n",
       "  <thead>\n",
       "    <tr style=\"text-align: right;\">\n",
       "      <th></th>\n",
       "      <th>Swiss Prot</th>\n",
       "      <th>Gene Name</th>\n",
       "    </tr>\n",
       "  </thead>\n",
       "  <tbody>\n",
       "    <tr>\n",
       "      <th>6</th>\n",
       "      <td>HSPB1_HUMAN</td>\n",
       "      <td>HSPB1</td>\n",
       "    </tr>\n",
       "    <tr>\n",
       "      <th>12</th>\n",
       "      <td>MMP9_HUMAN</td>\n",
       "      <td>MMP9</td>\n",
       "    </tr>\n",
       "    <tr>\n",
       "      <th>43</th>\n",
       "      <td>KPY1_HUMAN</td>\n",
       "      <td>PKM</td>\n",
       "    </tr>\n",
       "    <tr>\n",
       "      <th>151</th>\n",
       "      <td>PERM_HUMAN</td>\n",
       "      <td>MPO</td>\n",
       "    </tr>\n",
       "    <tr>\n",
       "      <th>236</th>\n",
       "      <td>CLIC1_HUMAN</td>\n",
       "      <td>CLIC1</td>\n",
       "    </tr>\n",
       "  </tbody>\n",
       "</table>\n",
       "</div>"
      ],
      "text/plain": [
       "      Swiss Prot Gene Name\n",
       "6    HSPB1_HUMAN     HSPB1\n",
       "12    MMP9_HUMAN      MMP9\n",
       "43    KPY1_HUMAN       PKM\n",
       "151   PERM_HUMAN       MPO\n",
       "236  CLIC1_HUMAN     CLIC1"
      ]
     },
     "execution_count": 7,
     "metadata": {},
     "output_type": "execute_result"
    }
   ],
   "source": [
    "# Select MMK biomarkers where \"Swiss Prot\" is MMK_BIOMARKER + \"_HUMAN\"\n",
    "df_mmk = df[df['Swiss Prot'].isin([b+\"_HUMAN\" for b in MMK_BIOMARKERS])]\n",
    "df_mmk[['Swiss Prot', 'Gene Name']]"
   ]
  },
  {
   "cell_type": "markdown",
   "metadata": {},
   "source": [
    "### HSPB1"
   ]
  },
  {
   "cell_type": "code",
   "execution_count": 8,
   "metadata": {},
   "outputs": [
    {
     "name": "stdout",
     "output_type": "stream",
     "text": [
      "Uniprot ID: P04792\n",
      "Gene Name: HSPB1\n",
      "Protein Name: heat shock 27kDa protein 1\n",
      "Swiss Prot: HSPB1_HUMAN\n",
      "Up/Down Regulated: -1\n",
      "Family: other\n",
      "Biomarker Application: diagnosis\n",
      "(transcriptomics) AUC: 0.26\n",
      "(transcriptomics) Fold Change : 1.06\n",
      "(transcriptomics) Up/Down Regulated : Downregulated\n",
      "Seq Length: 205\n",
      "Glycosylation Sites: 0\n",
      "Modified Residues: 13\n",
      "Subcellular Location: Cytoplasm \\| Nucleus \\| Cytoplasm \\| Cytoskeleton \\| Spindle\n",
      "Discotope Epitope Count: 27.0\n",
      "Critical Aggregation Sites (>50): 0.0\n",
      "Interactor Count: 22\n",
      "Interactors: MAPKAPK2 \\| MAPKAPK5 \\| CYCS \\| HSPA4 \\| AKT1 \\| EIF4G1 \\| HSPA8 \\| BAG3 \\| MAPKAPK3 \\| HSPA1A \\| DAXX \\| PLEC \\| HSP90AA1 \\| TP53 \\| HSP90AB1 \\| CRYAB \\| HSPB8 \\| HSPA1B \\| HNRNPD \\| HSPBAP1 \\| MAPK14 \\| HSPB6\n",
      "Homolog Count: 8\n",
      "Homologs: HSPB2 \\| HSPB7 \\| HSPB3 \\| HSPB8 \\| CRYAB \\| HSPB9 \\| HEL55 \\| CRYAA\n",
      "Max n_uniprots Homo: 10.0\n",
      "Max n_uniprots Hetero: nan\n",
      "Number of Isoforms: 0\n"
     ]
    }
   ],
   "source": [
    "row = df_mmk.iloc[0]\n",
    "formatted_text = \"\\n\".join([f\"{col}: {row[col]}\" for col in df_mmk.columns])\n",
    "print(formatted_text)"
   ]
  },
  {
   "cell_type": "markdown",
   "metadata": {},
   "source": [
    "### MMP9"
   ]
  },
  {
   "cell_type": "code",
   "execution_count": 9,
   "metadata": {},
   "outputs": [
    {
     "name": "stdout",
     "output_type": "stream",
     "text": [
      "Uniprot ID: P14780\n",
      "Gene Name: MMP9\n",
      "Protein Name: metalloproteinases 9\n",
      "Swiss Prot: MMP9_HUMAN\n",
      "Up/Down Regulated: 2\n",
      "Family: peptidase\n",
      "Biomarker Application: diagnosis,disease progression,efficacy,prognosis,unspecified application\n",
      "(transcriptomics) AUC: 0.99\n",
      "(transcriptomics) Fold Change : 2.26\n",
      "(transcriptomics) Up/Down Regulated : Upregulated\n",
      "Seq Length: 707\n",
      "Glycosylation Sites: 3\n",
      "Modified Residues: 0\n",
      "Subcellular Location: nan\n",
      "Discotope Epitope Count: 177.0\n",
      "Critical Aggregation Sites (>50): 23.0\n",
      "Interactor Count: 36\n",
      "Interactors: TIMP1 \\| CD44 \\| TIMP2 \\| LCN2 \\| THBS1 \\| TIMP3 \\| CTSG \\| DMP1 \\| ELN \\| MMP1 \\| ELANE \\| SRC \\| MPO \\| TGFB1 \\| SDC1 \\| THBS2 \\| EDN1 \\| CYBB \\| IL6 \\| CDH1 \\| MMP3 \\| HBEGF \\| NCF1 \\| IL1B \\| SPP1 \\| NCF2 \\| CYBA \\| NCF4 \\| TLR4 \\| TNF \\| IBSP \\| KITLG \\| COL18A1 \\| FGF2 \\| MMP2 \\| COL1A2\n",
      "Homolog Count: 23\n",
      "Homologs: MMP20 \\| MMP10 \\| MMP7 \\| MMP16 \\| MMP12 \\| MMP8 \\| MMP13 \\| MMP15 \\| MMP14 \\| MMP26 \\| MMP19 \\| MMP25 \\| MMP17 \\| MMP23B \\| MMP24 \\| MMP2 \\| HPX \\| MMP1 \\| MMP11 \\| MMP28 \\| MMP21 \\| MMP3 \\| MMP27\n",
      "Max n_uniprots Homo: 2.0\n",
      "Max n_uniprots Hetero: nan\n",
      "Number of Isoforms: 0\n"
     ]
    }
   ],
   "source": [
    "row = df_mmk.iloc[1]\n",
    "formatted_text = \"\\n\".join([f\"{col}: {row[col]}\" for col in df_mmk.columns])\n",
    "print(formatted_text)"
   ]
  },
  {
   "cell_type": "markdown",
   "metadata": {},
   "source": [
    "### KPYM"
   ]
  },
  {
   "cell_type": "code",
   "execution_count": 10,
   "metadata": {},
   "outputs": [
    {
     "name": "stdout",
     "output_type": "stream",
     "text": [
      "Uniprot ID: P14618\n",
      "Gene Name: PKM\n",
      "Protein Name: pyruvate kinase, muscle (PKM2)\n",
      "Swiss Prot: KPY1_HUMAN\n",
      "Up/Down Regulated: 1\n",
      "Family: kinase\n",
      "Biomarker Application: diagnosis,disease progression,unspecified application\n",
      "(transcriptomics) AUC: 0.99\n",
      "(transcriptomics) Fold Change : 1.15\n",
      "(transcriptomics) Up/Down Regulated : Upregulated\n",
      "Seq Length: 531\n",
      "Glycosylation Sites: 0\n",
      "Modified Residues: 28\n",
      "Subcellular Location: Cytoplasm \\| Nucleus \\| Cytoplasm\n",
      "Discotope Epitope Count: 98.0\n",
      "Critical Aggregation Sites (>50): 18.0\n",
      "Interactor Count: 50\n",
      "Interactors: LDHA \\| ENO1 \\| CTNNB1 \\| HIF1A \\| ENO2 \\| ENO3 \\| GPI \\| LDHAL6A \\| ALDOA \\| LDHC \\| PDHB \\| LDHAL6B \\| ENO4 \\| PGAM1 \\| ME1 \\| POU5F1 \\| PC \\| CD44 \\| ME3 \\| TPI1 \\| ME2 \\| H6PD \\| GAPDH \\| PCK2 \\| PCK1 \\| TKT \\| PGAM4 \\| LDHD \\| PDHA2 \\| AK2 \\| ALDOC \\| G6PD \\| PFKM \\| AK1 \\| PGK1 \\| AK3 \\| TKTL2 \\| TKTL1 \\| FGFR1 \\| RRM1 \\| AK4 \\| PRKACA \\| PFKP \\| ITPA \\| PRKACB \\| TALDO1 \\| PRKACG \\| NME2 \\| PGAM2 \\| RRM2\n",
      "Homolog Count: 1\n",
      "Homologs: PKLR\n",
      "Max n_uniprots Homo: 4.0\n",
      "Max n_uniprots Hetero: nan\n",
      "Number of Isoforms: 4\n"
     ]
    }
   ],
   "source": [
    "row = df_mmk.iloc[2]\n",
    "formatted_text = \"\\n\".join([f\"{col}: {row[col]}\" for col in df_mmk.columns])\n",
    "print(formatted_text)"
   ]
  },
  {
   "cell_type": "markdown",
   "metadata": {},
   "source": [
    "### PERM"
   ]
  },
  {
   "cell_type": "code",
   "execution_count": 11,
   "metadata": {},
   "outputs": [
    {
     "name": "stdout",
     "output_type": "stream",
     "text": [
      "Uniprot ID: P05164\n",
      "Gene Name: MPO\n",
      "Protein Name: Myeloperoxidase\n",
      "Swiss Prot: PERM_HUMAN\n",
      "Up/Down Regulated: -1\n",
      "Family: enzyme\n",
      "Biomarker Application: diagnosis,disease progression,efficacy,unspecified application\n",
      "(transcriptomics) AUC: 0.63\n",
      "(transcriptomics) Fold Change : 1.32\n",
      "(transcriptomics) Up/Down Regulated : Upregulated\n",
      "Seq Length: 745\n",
      "Glycosylation Sites: 6\n",
      "Modified Residues: 1\n",
      "Subcellular Location: Lysosome\n",
      "Discotope Epitope Count: 146.0\n",
      "Critical Aggregation Sites (>50): 16.0\n",
      "Interactor Count: 18\n",
      "Interactors: AZU1 \\| PRTN3 \\| ELANE \\| CTSG \\| LTF \\| BPI \\| CAMP \\| MMP9 \\| CP \\| CTSS \\| RUNX1 \\| CES1 \\| CEACAM8 \\| APOA1 \\| RNASE3 \\| LYZ \\| NAT2 \\| NAT1\n",
      "Homolog Count: 5\n",
      "Homologs: PXDNL \\| LPO \\| PXDN \\| TPO \\| EPX\n",
      "Max n_uniprots Homo: 4.0\n",
      "Max n_uniprots Hetero: 3.0\n",
      "Number of Isoforms: 3\n"
     ]
    }
   ],
   "source": [
    "row = df_mmk.iloc[3]\n",
    "formatted_text = \"\\n\".join([f\"{col}: {row[col]}\" for col in df_mmk.columns])\n",
    "print(formatted_text)"
   ]
  },
  {
   "cell_type": "markdown",
   "metadata": {},
   "source": [
    "### CLIC1"
   ]
  },
  {
   "cell_type": "code",
   "execution_count": 12,
   "metadata": {},
   "outputs": [
    {
     "name": "stdout",
     "output_type": "stream",
     "text": [
      "Uniprot ID: O00299\n",
      "Gene Name: CLIC1\n",
      "Protein Name: chloride intracellular channel 1\n",
      "Swiss Prot: CLIC1_HUMAN\n",
      "Up/Down Regulated: 1\n",
      "Family: ion channel\n",
      "Biomarker Application: diagnosis\n",
      "(transcriptomics) AUC: 0.89\n",
      "(transcriptomics) Fold Change : 1.07\n",
      "(transcriptomics) Up/Down Regulated : Upregulated\n",
      "Seq Length: 241\n",
      "Glycosylation Sites: 0\n",
      "Modified Residues: 9\n",
      "Subcellular Location: Nucleus \\| Nucleus membrane \\| Cytoplasm \\| Cell membrane \\| Endoplasmic reticulum\n",
      "Discotope Epitope Count: 56.0\n",
      "Critical Aggregation Sites (>50): 7.0\n",
      "Interactor Count: 0\n",
      "Interactors: nan\n",
      "Homolog Count: 20\n",
      "Homologs: CLIC1 \\| CLIC1 \\| CLIC1 \\| CLIC1 \\| CLIC1 \\| CLIC1 \\| GDAP1L1 \\| CLIC4 \\| GSTZ1 \\| GDAP1 \\| CLIC2 \\| GSTT2 \\| GSTT2B \\| GSTT4 \\| EEF1G \\| CLIC5 \\| HEL-S-21 \\| GSTO2 \\| CLIC6 \\| CLIC3\n",
      "Max n_uniprots Homo: 2.0\n",
      "Max n_uniprots Hetero: nan\n",
      "Number of Isoforms: 0\n"
     ]
    }
   ],
   "source": [
    "row = df_mmk.iloc[4]\n",
    "formatted_text = \"\\n\".join([f\"{col}: {row[col]}\" for col in df_mmk.columns])\n",
    "print(formatted_text)"
   ]
  },
  {
   "cell_type": "markdown",
   "metadata": {},
   "source": [
    "## Proteins downregulated with high AUC and Fold Change"
   ]
  },
  {
   "cell_type": "code",
   "execution_count": 12,
   "metadata": {},
   "outputs": [
    {
     "data": {
      "text/html": [
       "<div>\n",
       "<style scoped>\n",
       "    .dataframe tbody tr th:only-of-type {\n",
       "        vertical-align: middle;\n",
       "    }\n",
       "\n",
       "    .dataframe tbody tr th {\n",
       "        vertical-align: top;\n",
       "    }\n",
       "\n",
       "    .dataframe thead th {\n",
       "        text-align: right;\n",
       "    }\n",
       "</style>\n",
       "<table border=\"1\" class=\"dataframe\">\n",
       "  <thead>\n",
       "    <tr style=\"text-align: right;\">\n",
       "      <th></th>\n",
       "      <th>Uniprot ID</th>\n",
       "      <th>Gene Name</th>\n",
       "      <th>Protein Name</th>\n",
       "      <th>Swiss Prot</th>\n",
       "      <th>Up/Down Regulated</th>\n",
       "      <th>Family</th>\n",
       "      <th>Biomarker Application</th>\n",
       "      <th>(transcriptomics) AUC</th>\n",
       "      <th>(transcriptomics) Fold Change</th>\n",
       "      <th>(transcriptomics) Up/Down Regulated</th>\n",
       "      <th>Seq Length</th>\n",
       "      <th>Glycosylation Sites</th>\n",
       "      <th>Modified Residues</th>\n",
       "      <th>Subcellular Location</th>\n",
       "      <th>Discotope Epitope Count</th>\n",
       "      <th>Critical Aggregation Sites (&gt;50)</th>\n",
       "      <th>Interactor Count</th>\n",
       "      <th>Interactors</th>\n",
       "      <th>Homolog Count</th>\n",
       "      <th>Homologs</th>\n",
       "      <th>Max n_uniprots Homo</th>\n",
       "      <th>Max n_uniprots Hetero</th>\n",
       "      <th>Number of Isoforms</th>\n",
       "    </tr>\n",
       "  </thead>\n",
       "  <tbody>\n",
       "    <tr>\n",
       "      <th>45</th>\n",
       "      <td>P06401</td>\n",
       "      <td>PR</td>\n",
       "      <td>Progesterone receptor</td>\n",
       "      <td>PRGR_HUMAN</td>\n",
       "      <td>1</td>\n",
       "      <td>ligand-dependent nuclear receptor</td>\n",
       "      <td>diagnosis,efficacy,response to therapy</td>\n",
       "      <td>0.00</td>\n",
       "      <td>2.49</td>\n",
       "      <td>Downregulated</td>\n",
       "      <td>933</td>\n",
       "      <td>0</td>\n",
       "      <td>11</td>\n",
       "      <td>Nucleus \\| Cytoplasm \\| Nucleus \\| Cytoplasm \\| Mitochondrion outer membrane</td>\n",
       "      <td>277.0</td>\n",
       "      <td>20.0</td>\n",
       "      <td>30</td>\n",
       "      <td>NCOA1 \\| NCOR1 \\| NCOR2 \\| HSP90AA1 \\| NCOA3 \\| ERBB2 \\| HSP90AB1 \\| FKBP4 \\| FKBP5 \\| ESR1 \\| HSPA4 \\| BRCA1 \\| PIK3CA \\| PGRMC1 \\| PRKACB \\| SRC \\| PRKACA \\| PRKACG \\| PIK3R1 \\| MAPK8 \\| PIK3CB \\| MAPK14 \\| PIK3R2 \\| PIK3CD \\| PIK3R3 \\| NCOA2 \\| MAPK12 \\| MAPK11 \\| MAPK9 \\| MAPK13</td>\n",
       "      <td>8</td>\n",
       "      <td>NR3C1 \\| ESR1 \\| NR3C2 \\| ESRRB \\| NR3B3 \\| ESR2 \\| AR \\| ESRRA</td>\n",
       "      <td>2.0</td>\n",
       "      <td>2.0</td>\n",
       "      <td>0</td>\n",
       "    </tr>\n",
       "    <tr>\n",
       "      <th>56</th>\n",
       "      <td>P01241</td>\n",
       "      <td>GH</td>\n",
       "      <td>Somatotropin / Growth hormone</td>\n",
       "      <td>SOMA_HUMAN</td>\n",
       "      <td>1</td>\n",
       "      <td>growth factor</td>\n",
       "      <td>efficacy</td>\n",
       "      <td>0.10</td>\n",
       "      <td>3.77</td>\n",
       "      <td>Downregulated</td>\n",
       "      <td>217</td>\n",
       "      <td>0</td>\n",
       "      <td>4</td>\n",
       "      <td>Secreted</td>\n",
       "      <td>48.0</td>\n",
       "      <td>14.0</td>\n",
       "      <td>16</td>\n",
       "      <td>GHR \\| PRLR \\| CSH1 \\| CSH2 \\| GHRH \\| EPO \\| GHRL \\| LEP \\| PRL \\| ALB \\| GH2 \\| GHRHR \\| CSF3 \\| IGF1 \\| THPO \\| CNTF</td>\n",
       "      <td>5</td>\n",
       "      <td>GH2 \\| CSH2 \\| CSHL1 \\| CSH1 \\| PRL</td>\n",
       "      <td>2.0</td>\n",
       "      <td>3.0</td>\n",
       "      <td>5</td>\n",
       "    </tr>\n",
       "    <tr>\n",
       "      <th>58</th>\n",
       "      <td>P02741</td>\n",
       "      <td>CRP</td>\n",
       "      <td>C-reactive protein</td>\n",
       "      <td>CRP_HUMAN</td>\n",
       "      <td>1</td>\n",
       "      <td>other</td>\n",
       "      <td>diagnosis,disease progression,efficacy,prognosis,safety,unspecified application</td>\n",
       "      <td>0.10</td>\n",
       "      <td>6.12</td>\n",
       "      <td>Downregulated</td>\n",
       "      <td>224</td>\n",
       "      <td>0</td>\n",
       "      <td>1</td>\n",
       "      <td>Secreted</td>\n",
       "      <td>51.0</td>\n",
       "      <td>21.0</td>\n",
       "      <td>14</td>\n",
       "      <td>CFH \\| FCGR2A \\| CFHR4 \\| C3 \\| IL6 \\| OLR1 \\| TNF \\| ALB \\| GPT \\| LEP \\| APCS \\| F2 \\| MBL2 \\| HP</td>\n",
       "      <td>5</td>\n",
       "      <td>NPTX2 \\| NPTX1 \\| PTX4 \\| HEL-S-92n \\| PTX3</td>\n",
       "      <td>10.0</td>\n",
       "      <td>NaN</td>\n",
       "      <td>2</td>\n",
       "    </tr>\n",
       "    <tr>\n",
       "      <th>83</th>\n",
       "      <td>Q15848</td>\n",
       "      <td>ADIPOQ</td>\n",
       "      <td>Adiponectin</td>\n",
       "      <td>ADIPO_HUMAN</td>\n",
       "      <td>-1</td>\n",
       "      <td>other</td>\n",
       "      <td>diagnosis,disease progression,efficacy,prognosis,response to therapy,safety,unspecified application</td>\n",
       "      <td>0.13</td>\n",
       "      <td>4.33</td>\n",
       "      <td>Downregulated</td>\n",
       "      <td>244</td>\n",
       "      <td>6</td>\n",
       "      <td>13</td>\n",
       "      <td>Secreted</td>\n",
       "      <td>50.0</td>\n",
       "      <td>22.0</td>\n",
       "      <td>15</td>\n",
       "      <td>ADIPOR2 \\| ADIPOR1 \\| CDH13 \\| LEP \\| CFD \\| RETN \\| PPARG \\| INS \\| PLIN1 \\| PPARGC1A \\| CEBPA \\| FABP4 \\| RETNLB \\| PPARA \\| CEBPB</td>\n",
       "      <td>23</td>\n",
       "      <td>C1QTNF2 \\| C1QL4 \\| C1QTNF6 \\| C1QTNF3 \\| C1QL2 \\| C1QTNF8 \\| PDCD7 \\| C1QA \\| C1QC \\| C1QL1 \\| OTOL1 \\| ADIE \\| COL8A2 \\| COL10A1 \\| C1QTNF9 \\| C1QTNF9B \\| C1QTNF7 \\| C1QB \\| COL8A1 \\| C1QTNF4 \\| C1QTNF1 \\| COL19A1 \\| ADIJ</td>\n",
       "      <td>3.0</td>\n",
       "      <td>NaN</td>\n",
       "      <td>0</td>\n",
       "    </tr>\n",
       "    <tr>\n",
       "      <th>437</th>\n",
       "      <td>Q9UM07</td>\n",
       "      <td>PADI4</td>\n",
       "      <td>Peptidylarginine deiminase type 4</td>\n",
       "      <td>PADI4_HUMAN</td>\n",
       "      <td>1</td>\n",
       "      <td>enzyme</td>\n",
       "      <td></td>\n",
       "      <td>0.13</td>\n",
       "      <td>2.44</td>\n",
       "      <td>Downregulated</td>\n",
       "      <td>663</td>\n",
       "      <td>0</td>\n",
       "      <td>6</td>\n",
       "      <td>Cytoplasm \\| Nucleus \\| Cytoplasmic granule</td>\n",
       "      <td>139.0</td>\n",
       "      <td>17.0</td>\n",
       "      <td>6</td>\n",
       "      <td>H3C13 \\| H3C12 \\| H3-2 \\| H3-4 \\| H3-3B \\| H3-5</td>\n",
       "      <td>5</td>\n",
       "      <td>PADI4 \\| PADI6 \\| PADI1 \\| PADI3 \\| PADI2</td>\n",
       "      <td>2.0</td>\n",
       "      <td>NaN</td>\n",
       "      <td>0</td>\n",
       "    </tr>\n",
       "    <tr>\n",
       "      <th>495</th>\n",
       "      <td>P35749</td>\n",
       "      <td>MYH11</td>\n",
       "      <td>Myosin-11</td>\n",
       "      <td>MYH11_HUMAN</td>\n",
       "      <td>1</td>\n",
       "      <td>NaN</td>\n",
       "      <td>NaN</td>\n",
       "      <td>0.00</td>\n",
       "      <td>2.02</td>\n",
       "      <td>Downregulated</td>\n",
       "      <td>1972</td>\n",
       "      <td>0</td>\n",
       "      <td>10</td>\n",
       "      <td>Melanosome</td>\n",
       "      <td>331.0</td>\n",
       "      <td>26.0</td>\n",
       "      <td>21</td>\n",
       "      <td>ACTA2 \\| ACTG2 \\| MYL9 \\| MYL6 \\| CBFB \\| MYL12B \\| CNN1 \\| ACTB \\| MYL2 \\| MYL12A \\| MYL6B \\| LMOD1 \\| MYLK \\| CALD1 \\| ACTG1 \\| MYH10 \\| MYH9 \\| TAGLN \\| RUNX1 \\| MYH14 \\| MYL1</td>\n",
       "      <td>44</td>\n",
       "      <td>MYH11 \\| MYH15 \\| MYO5C \\| MYO3B \\| MYH2 \\| MYH14 \\| MYO7B \\| CCDC102A \\| MYH3 \\| MYO1D \\| MYH8 \\| CCDC102B \\| MYO10 \\| MYH10 \\| MYH7B \\| MYO1A \\| MYO19 \\| MYH7 \\| MYO1G \\| MYO1F \\| TMF1 \\| MYO1B \\| MYH6 \\| MYH4 \\| MYH13 \\| MYO1C \\| MYH1 \\| MYO18A \\| CCDC158 \\| MYO7A \\| MYO15A \\| MYO16 \\| MYO5B \\| MYO9B \\| MYO3A \\| MYO18B \\| CGN \\| CGNL1 \\| MYO1H \\| MYO5A \\| MYO1E \\| MYO6 \\| MYO9A \\| MYH9</td>\n",
       "      <td>NaN</td>\n",
       "      <td>NaN</td>\n",
       "      <td>4</td>\n",
       "    </tr>\n",
       "  </tbody>\n",
       "</table>\n",
       "</div>"
      ],
      "text/plain": [
       "    Uniprot ID Gene Name                       Protein Name   Swiss Prot  \\\n",
       "45      P06401        PR              Progesterone receptor   PRGR_HUMAN   \n",
       "56      P01241        GH      Somatotropin / Growth hormone   SOMA_HUMAN   \n",
       "58      P02741       CRP                C-reactive protein     CRP_HUMAN   \n",
       "83      Q15848    ADIPOQ                        Adiponectin  ADIPO_HUMAN   \n",
       "437     Q9UM07     PADI4  Peptidylarginine deiminase type 4  PADI4_HUMAN   \n",
       "495     P35749     MYH11                          Myosin-11  MYH11_HUMAN   \n",
       "\n",
       "    Up/Down Regulated                             Family  \\\n",
       "45                  1  ligand-dependent nuclear receptor   \n",
       "56                  1                      growth factor   \n",
       "58                  1                              other   \n",
       "83                 -1                              other   \n",
       "437                 1                             enzyme   \n",
       "495                 1                                NaN   \n",
       "\n",
       "                                                                                   Biomarker Application  \\\n",
       "45                                                                diagnosis,efficacy,response to therapy   \n",
       "56                                                                                              efficacy   \n",
       "58                       diagnosis,disease progression,efficacy,prognosis,safety,unspecified application   \n",
       "83   diagnosis,disease progression,efficacy,prognosis,response to therapy,safety,unspecified application   \n",
       "437                                                                                                        \n",
       "495                                                                                                  NaN   \n",
       "\n",
       "     (transcriptomics) AUC  (transcriptomics) Fold Change   \\\n",
       "45                    0.00                            2.49   \n",
       "56                    0.10                            3.77   \n",
       "58                    0.10                            6.12   \n",
       "83                    0.13                            4.33   \n",
       "437                   0.13                            2.44   \n",
       "495                   0.00                            2.02   \n",
       "\n",
       "    (transcriptomics) Up/Down Regulated   Seq Length  Glycosylation Sites  \\\n",
       "45                         Downregulated         933                    0   \n",
       "56                         Downregulated         217                    0   \n",
       "58                         Downregulated         224                    0   \n",
       "83                         Downregulated         244                    6   \n",
       "437                        Downregulated         663                    0   \n",
       "495                        Downregulated        1972                    0   \n",
       "\n",
       "     Modified Residues  \\\n",
       "45                  11   \n",
       "56                   4   \n",
       "58                   1   \n",
       "83                  13   \n",
       "437                  6   \n",
       "495                 10   \n",
       "\n",
       "                                                             Subcellular Location  \\\n",
       "45   Nucleus \\| Cytoplasm \\| Nucleus \\| Cytoplasm \\| Mitochondrion outer membrane   \n",
       "56                                                                       Secreted   \n",
       "58                                                                       Secreted   \n",
       "83                                                                       Secreted   \n",
       "437                                   Cytoplasm \\| Nucleus \\| Cytoplasmic granule   \n",
       "495                                                                    Melanosome   \n",
       "\n",
       "     Discotope Epitope Count  Critical Aggregation Sites (>50)  \\\n",
       "45                     277.0                              20.0   \n",
       "56                      48.0                              14.0   \n",
       "58                      51.0                              21.0   \n",
       "83                      50.0                              22.0   \n",
       "437                    139.0                              17.0   \n",
       "495                    331.0                              26.0   \n",
       "\n",
       "     Interactor Count  \\\n",
       "45                 30   \n",
       "56                 16   \n",
       "58                 14   \n",
       "83                 15   \n",
       "437                 6   \n",
       "495                21   \n",
       "\n",
       "                                                                                                                                                                                                                                                                                     Interactors  \\\n",
       "45   NCOA1 \\| NCOR1 \\| NCOR2 \\| HSP90AA1 \\| NCOA3 \\| ERBB2 \\| HSP90AB1 \\| FKBP4 \\| FKBP5 \\| ESR1 \\| HSPA4 \\| BRCA1 \\| PIK3CA \\| PGRMC1 \\| PRKACB \\| SRC \\| PRKACA \\| PRKACG \\| PIK3R1 \\| MAPK8 \\| PIK3CB \\| MAPK14 \\| PIK3R2 \\| PIK3CD \\| PIK3R3 \\| NCOA2 \\| MAPK12 \\| MAPK11 \\| MAPK9 \\| MAPK13   \n",
       "56                                                                                                                                                                       GHR \\| PRLR \\| CSH1 \\| CSH2 \\| GHRH \\| EPO \\| GHRL \\| LEP \\| PRL \\| ALB \\| GH2 \\| GHRHR \\| CSF3 \\| IGF1 \\| THPO \\| CNTF   \n",
       "58                                                                                                                                                                                           CFH \\| FCGR2A \\| CFHR4 \\| C3 \\| IL6 \\| OLR1 \\| TNF \\| ALB \\| GPT \\| LEP \\| APCS \\| F2 \\| MBL2 \\| HP   \n",
       "83                                                                                                                                                          ADIPOR2 \\| ADIPOR1 \\| CDH13 \\| LEP \\| CFD \\| RETN \\| PPARG \\| INS \\| PLIN1 \\| PPARGC1A \\| CEBPA \\| FABP4 \\| RETNLB \\| PPARA \\| CEBPB   \n",
       "437                                                                                                                                                                                                                                              H3C13 \\| H3C12 \\| H3-2 \\| H3-4 \\| H3-3B \\| H3-5   \n",
       "495                                                                                                           ACTA2 \\| ACTG2 \\| MYL9 \\| MYL6 \\| CBFB \\| MYL12B \\| CNN1 \\| ACTB \\| MYL2 \\| MYL12A \\| MYL6B \\| LMOD1 \\| MYLK \\| CALD1 \\| ACTG1 \\| MYH10 \\| MYH9 \\| TAGLN \\| RUNX1 \\| MYH14 \\| MYL1   \n",
       "\n",
       "     Homolog Count  \\\n",
       "45               8   \n",
       "56               5   \n",
       "58               5   \n",
       "83              23   \n",
       "437              5   \n",
       "495             44   \n",
       "\n",
       "                                                                                                                                                                                                                                                                                                                                                                                                    Homologs  \\\n",
       "45                                                                                                                                                                                                                                                                                                                                           NR3C1 \\| ESR1 \\| NR3C2 \\| ESRRB \\| NR3B3 \\| ESR2 \\| AR \\| ESRRA   \n",
       "56                                                                                                                                                                                                                                                                                                                                                                       GH2 \\| CSH2 \\| CSHL1 \\| CSH1 \\| PRL   \n",
       "58                                                                                                                                                                                                                                                                                                                                                               NPTX2 \\| NPTX1 \\| PTX4 \\| HEL-S-92n \\| PTX3   \n",
       "83                                                                                                                                                                           C1QTNF2 \\| C1QL4 \\| C1QTNF6 \\| C1QTNF3 \\| C1QL2 \\| C1QTNF8 \\| PDCD7 \\| C1QA \\| C1QC \\| C1QL1 \\| OTOL1 \\| ADIE \\| COL8A2 \\| COL10A1 \\| C1QTNF9 \\| C1QTNF9B \\| C1QTNF7 \\| C1QB \\| COL8A1 \\| C1QTNF4 \\| C1QTNF1 \\| COL19A1 \\| ADIJ   \n",
       "437                                                                                                                                                                                                                                                                                                                                                                PADI4 \\| PADI6 \\| PADI1 \\| PADI3 \\| PADI2   \n",
       "495  MYH11 \\| MYH15 \\| MYO5C \\| MYO3B \\| MYH2 \\| MYH14 \\| MYO7B \\| CCDC102A \\| MYH3 \\| MYO1D \\| MYH8 \\| CCDC102B \\| MYO10 \\| MYH10 \\| MYH7B \\| MYO1A \\| MYO19 \\| MYH7 \\| MYO1G \\| MYO1F \\| TMF1 \\| MYO1B \\| MYH6 \\| MYH4 \\| MYH13 \\| MYO1C \\| MYH1 \\| MYO18A \\| CCDC158 \\| MYO7A \\| MYO15A \\| MYO16 \\| MYO5B \\| MYO9B \\| MYO3A \\| MYO18B \\| CGN \\| CGNL1 \\| MYO1H \\| MYO5A \\| MYO1E \\| MYO6 \\| MYO9A \\| MYH9   \n",
       "\n",
       "     Max n_uniprots Homo  Max n_uniprots Hetero  Number of Isoforms  \n",
       "45                   2.0                    2.0                   0  \n",
       "56                   2.0                    3.0                   5  \n",
       "58                  10.0                    NaN                   2  \n",
       "83                   3.0                    NaN                   0  \n",
       "437                  2.0                    NaN                   0  \n",
       "495                  NaN                    NaN                   4  "
      ]
     },
     "execution_count": 12,
     "metadata": {},
     "output_type": "execute_result"
    }
   ],
   "source": [
    "# From df, select those rows with \"(transcriptomics) AUC\" > 0.9 and \"(transcriptomics) Fold Change \" > 2\n",
    "df_downregulated = df[df['(transcriptomics) AUC'] < 0.15][df['(transcriptomics) Fold Change '] > 2][df['(transcriptomics) Up/Down Regulated '] == \"Downregulated\"]\n",
    "df_downregulated"
   ]
  },
  {
   "cell_type": "markdown",
   "metadata": {},
   "source": [
    "### Progesterone receptor"
   ]
  },
  {
   "cell_type": "code",
   "execution_count": 13,
   "metadata": {},
   "outputs": [
    {
     "name": "stdout",
     "output_type": "stream",
     "text": [
      "Uniprot ID: P06401\n",
      "Gene Name: PR\n",
      "Protein Name: Progesterone receptor\n",
      "Swiss Prot: PRGR_HUMAN\n",
      "Up/Down Regulated: 1\n",
      "Family: ligand-dependent nuclear receptor\n",
      "Biomarker Application: diagnosis,efficacy,response to therapy\n",
      "(transcriptomics) AUC: 0.0\n",
      "(transcriptomics) Fold Change : 2.49\n",
      "(transcriptomics) Up/Down Regulated : Downregulated\n",
      "Seq Length: 933\n",
      "Glycosylation Sites: 0\n",
      "Modified Residues: 11\n",
      "Subcellular Location: Nucleus \\| Cytoplasm \\| Nucleus \\| Cytoplasm \\| Mitochondrion outer membrane\n",
      "Discotope Epitope Count: 277.0\n",
      "Critical Aggregation Sites (>50): 20.0\n",
      "Interactor Count: 30\n",
      "Interactors: NCOA1 \\| NCOR1 \\| NCOR2 \\| HSP90AA1 \\| NCOA3 \\| ERBB2 \\| HSP90AB1 \\| FKBP4 \\| FKBP5 \\| ESR1 \\| HSPA4 \\| BRCA1 \\| PIK3CA \\| PGRMC1 \\| PRKACB \\| SRC \\| PRKACA \\| PRKACG \\| PIK3R1 \\| MAPK8 \\| PIK3CB \\| MAPK14 \\| PIK3R2 \\| PIK3CD \\| PIK3R3 \\| NCOA2 \\| MAPK12 \\| MAPK11 \\| MAPK9 \\| MAPK13\n",
      "Homolog Count: 8\n",
      "Homologs: NR3C1 \\| ESR1 \\| NR3C2 \\| ESRRB \\| NR3B3 \\| ESR2 \\| AR \\| ESRRA\n",
      "Max n_uniprots Homo: 2.0\n",
      "Max n_uniprots Hetero: 2.0\n",
      "Number of Isoforms: 0\n"
     ]
    }
   ],
   "source": [
    "row = df_downregulated.iloc[0]\n",
    "formatted_text = \"\\n\".join([f\"{col}: {row[col]}\" for col in df_downregulated.columns])\n",
    "print(formatted_text)"
   ]
  },
  {
   "cell_type": "markdown",
   "metadata": {},
   "source": [
    "### GR"
   ]
  },
  {
   "cell_type": "code",
   "execution_count": 14,
   "metadata": {},
   "outputs": [
    {
     "name": "stdout",
     "output_type": "stream",
     "text": [
      "Uniprot ID: P01241\n",
      "Gene Name: GH\n",
      "Protein Name: Somatotropin / Growth hormone\n",
      "Swiss Prot: SOMA_HUMAN\n",
      "Up/Down Regulated: 1\n",
      "Family: growth factor\n",
      "Biomarker Application: efficacy\n",
      "(transcriptomics) AUC: 0.1\n",
      "(transcriptomics) Fold Change : 3.77\n",
      "(transcriptomics) Up/Down Regulated : Downregulated\n",
      "Seq Length: 217\n",
      "Glycosylation Sites: 0\n",
      "Modified Residues: 4\n",
      "Subcellular Location: Secreted\n",
      "Discotope Epitope Count: 48.0\n",
      "Critical Aggregation Sites (>50): 14.0\n",
      "Interactor Count: 16\n",
      "Interactors: GHR \\| PRLR \\| CSH1 \\| CSH2 \\| GHRH \\| EPO \\| GHRL \\| LEP \\| PRL \\| ALB \\| GH2 \\| GHRHR \\| CSF3 \\| IGF1 \\| THPO \\| CNTF\n",
      "Homolog Count: 5\n",
      "Homologs: GH2 \\| CSH2 \\| CSHL1 \\| CSH1 \\| PRL\n",
      "Max n_uniprots Homo: 2.0\n",
      "Max n_uniprots Hetero: 3.0\n",
      "Number of Isoforms: 5\n"
     ]
    }
   ],
   "source": [
    "row = df_downregulated.iloc[1]\n",
    "formatted_text = \"\\n\".join([f\"{col}: {row[col]}\" for col in df_downregulated.columns])\n",
    "print(formatted_text)"
   ]
  },
  {
   "cell_type": "markdown",
   "metadata": {},
   "source": [
    "### CRP"
   ]
  },
  {
   "cell_type": "code",
   "execution_count": 17,
   "metadata": {},
   "outputs": [
    {
     "name": "stdout",
     "output_type": "stream",
     "text": [
      "Uniprot ID: P02741\n",
      "Gene Name: CRP\n",
      "Protein Name: C-reactive protein \n",
      "Swiss Prot: CRP_HUMAN\n",
      "Up/Down Regulated: 1\n",
      "Family: other\n",
      "Biomarker Application: diagnosis,disease progression,efficacy,prognosis,safety,unspecified application\n",
      "(transcriptomics) AUC: 0.1\n",
      "(transcriptomics) Fold Change : 6.12\n",
      "(transcriptomics) Up/Down Regulated : Downregulated\n",
      "Seq Length: 224\n",
      "Glycosylation Sites: 0\n",
      "Modified Residues: 1\n",
      "Subcellular Location: Secreted\n",
      "Discotope Epitope Count: 51.0\n",
      "Critical Aggregation Sites (>50): 21.0\n",
      "Interactor Count: 14\n",
      "Interactors: CFH \\| FCGR2A \\| CFHR4 \\| C3 \\| IL6 \\| OLR1 \\| TNF \\| ALB \\| GPT \\| LEP \\| APCS \\| F2 \\| MBL2 \\| HP\n",
      "Homolog Count: 5\n",
      "Homologs: NPTX2 \\| NPTX1 \\| PTX4 \\| HEL-S-92n \\| PTX3\n",
      "Max n_uniprots Homo: 10.0\n",
      "Max n_uniprots Hetero: nan\n",
      "Number of Isoforms: 2\n"
     ]
    }
   ],
   "source": [
    "row = df_downregulated.iloc[2]\n",
    "formatted_text = \"\\n\".join([f\"{col}: {row[col]}\" for col in df_downregulated.columns])\n",
    "print(formatted_text)"
   ]
  },
  {
   "cell_type": "markdown",
   "metadata": {},
   "source": [
    "### ADIPOQ"
   ]
  },
  {
   "cell_type": "code",
   "execution_count": 18,
   "metadata": {},
   "outputs": [
    {
     "name": "stdout",
     "output_type": "stream",
     "text": [
      "Uniprot ID: Q15848\n",
      "Gene Name: ADIPOQ\n",
      "Protein Name: Adiponectin\n",
      "Swiss Prot: ADIPO_HUMAN\n",
      "Up/Down Regulated: -1\n",
      "Family: other\n",
      "Biomarker Application: diagnosis,disease progression,efficacy,prognosis,response to therapy,safety,unspecified application\n",
      "(transcriptomics) AUC: 0.13\n",
      "(transcriptomics) Fold Change : 4.33\n",
      "(transcriptomics) Up/Down Regulated : Downregulated\n",
      "Seq Length: 244\n",
      "Glycosylation Sites: 6\n",
      "Modified Residues: 13\n",
      "Subcellular Location: Secreted\n",
      "Discotope Epitope Count: 50.0\n",
      "Critical Aggregation Sites (>50): 22.0\n",
      "Interactor Count: 15\n",
      "Interactors: ADIPOR2 \\| ADIPOR1 \\| CDH13 \\| LEP \\| CFD \\| RETN \\| PPARG \\| INS \\| PLIN1 \\| PPARGC1A \\| CEBPA \\| FABP4 \\| RETNLB \\| PPARA \\| CEBPB\n",
      "Homolog Count: 23\n",
      "Homologs: C1QTNF2 \\| C1QL4 \\| C1QTNF6 \\| C1QTNF3 \\| C1QL2 \\| C1QTNF8 \\| PDCD7 \\| C1QA \\| C1QC \\| C1QL1 \\| OTOL1 \\| ADIE \\| COL8A2 \\| COL10A1 \\| C1QTNF9 \\| C1QTNF9B \\| C1QTNF7 \\| C1QB \\| COL8A1 \\| C1QTNF4 \\| C1QTNF1 \\| COL19A1 \\| ADIJ\n",
      "Max n_uniprots Homo: 3.0\n",
      "Max n_uniprots Hetero: nan\n",
      "Number of Isoforms: 0\n"
     ]
    }
   ],
   "source": [
    "row = df_downregulated.iloc[3]\n",
    "formatted_text = \"\\n\".join([f\"{col}: {row[col]}\" for col in df_downregulated.columns])\n",
    "print(formatted_text)"
   ]
  },
  {
   "cell_type": "markdown",
   "metadata": {},
   "source": [
    "### PADI4"
   ]
  },
  {
   "cell_type": "code",
   "execution_count": 19,
   "metadata": {},
   "outputs": [
    {
     "name": "stdout",
     "output_type": "stream",
     "text": [
      "Uniprot ID: Q9UM07\n",
      "Gene Name: PADI4\n",
      "Protein Name: Peptidylarginine deiminase type 4\n",
      "Swiss Prot: PADI4_HUMAN\n",
      "Up/Down Regulated: 1\n",
      "Family: enzyme\n",
      "Biomarker Application:  \n",
      "(transcriptomics) AUC: 0.13\n",
      "(transcriptomics) Fold Change : 2.44\n",
      "(transcriptomics) Up/Down Regulated : Downregulated\n",
      "Seq Length: 663\n",
      "Glycosylation Sites: 0\n",
      "Modified Residues: 6\n",
      "Subcellular Location: Cytoplasm \\| Nucleus \\| Cytoplasmic granule\n",
      "Discotope Epitope Count: 139.0\n",
      "Critical Aggregation Sites (>50): 17.0\n",
      "Interactor Count: 6\n",
      "Interactors: H3C13 \\| H3C12 \\| H3-2 \\| H3-4 \\| H3-3B \\| H3-5\n",
      "Homolog Count: 5\n",
      "Homologs: PADI4 \\| PADI6 \\| PADI1 \\| PADI3 \\| PADI2\n",
      "Max n_uniprots Homo: 2.0\n",
      "Max n_uniprots Hetero: nan\n",
      "Number of Isoforms: 0\n"
     ]
    }
   ],
   "source": [
    "row = df_downregulated.iloc[4]\n",
    "formatted_text = \"\\n\".join([f\"{col}: {row[col]}\" for col in df_downregulated.columns])\n",
    "print(formatted_text)"
   ]
  },
  {
   "cell_type": "markdown",
   "metadata": {},
   "source": [
    "### MYH11"
   ]
  },
  {
   "cell_type": "code",
   "execution_count": 20,
   "metadata": {},
   "outputs": [
    {
     "name": "stdout",
     "output_type": "stream",
     "text": [
      "Uniprot ID: P35749\n",
      "Gene Name: MYH11\n",
      "Protein Name: Myosin-11\n",
      "Swiss Prot: MYH11_HUMAN\n",
      "Up/Down Regulated: 1\n",
      "Family: nan\n",
      "Biomarker Application: nan\n",
      "(transcriptomics) AUC: 0.0\n",
      "(transcriptomics) Fold Change : 2.02\n",
      "(transcriptomics) Up/Down Regulated : Downregulated\n",
      "Seq Length: 1972\n",
      "Glycosylation Sites: 0\n",
      "Modified Residues: 10\n",
      "Subcellular Location: Melanosome\n",
      "Discotope Epitope Count: 331.0\n",
      "Critical Aggregation Sites (>50): 26.0\n",
      "Interactor Count: 21\n",
      "Interactors: ACTA2 \\| ACTG2 \\| MYL9 \\| MYL6 \\| CBFB \\| MYL12B \\| CNN1 \\| ACTB \\| MYL2 \\| MYL12A \\| MYL6B \\| LMOD1 \\| MYLK \\| CALD1 \\| ACTG1 \\| MYH10 \\| MYH9 \\| TAGLN \\| RUNX1 \\| MYH14 \\| MYL1\n",
      "Homolog Count: 44\n",
      "Homologs: MYH11 \\| MYH15 \\| MYO5C \\| MYO3B \\| MYH2 \\| MYH14 \\| MYO7B \\| CCDC102A \\| MYH3 \\| MYO1D \\| MYH8 \\| CCDC102B \\| MYO10 \\| MYH10 \\| MYH7B \\| MYO1A \\| MYO19 \\| MYH7 \\| MYO1G \\| MYO1F \\| TMF1 \\| MYO1B \\| MYH6 \\| MYH4 \\| MYH13 \\| MYO1C \\| MYH1 \\| MYO18A \\| CCDC158 \\| MYO7A \\| MYO15A \\| MYO16 \\| MYO5B \\| MYO9B \\| MYO3A \\| MYO18B \\| CGN \\| CGNL1 \\| MYO1H \\| MYO5A \\| MYO1E \\| MYO6 \\| MYO9A \\| MYH9\n",
      "Max n_uniprots Homo: nan\n",
      "Max n_uniprots Hetero: nan\n",
      "Number of Isoforms: 4\n"
     ]
    }
   ],
   "source": [
    "row = df_downregulated.iloc[5]\n",
    "formatted_text = \"\\n\".join([f\"{col}: {row[col]}\" for col in df_downregulated.columns])\n",
    "print(formatted_text)"
   ]
  },
  {
   "cell_type": "markdown",
   "metadata": {},
   "source": [
    "###"
   ]
  },
  {
   "cell_type": "markdown",
   "metadata": {},
   "source": [
    "## What about TIMP2?"
   ]
  },
  {
   "cell_type": "code",
   "execution_count": 23,
   "metadata": {},
   "outputs": [],
   "source": [
    "df_timp2 = df[df[\"Gene Name\"] == \"TIMP-2\"]"
   ]
  },
  {
   "cell_type": "code",
   "execution_count": 24,
   "metadata": {},
   "outputs": [
    {
     "name": "stdout",
     "output_type": "stream",
     "text": [
      "Uniprot ID: P16035\n",
      "Gene Name: TIMP-2\n",
      "Protein Name: Metalloproteinase inhibitor 2\n",
      "Swiss Prot: TIMP2_HUMAN\n",
      "Up/Down Regulated: 2\n",
      "Family: other\n",
      "Biomarker Application: efficacy,prognosis,unspecified application\n",
      "(transcriptomics) AUC: 0.09\n",
      "(transcriptomics) Fold Change : 1.1\n",
      "(transcriptomics) Up/Down Regulated : Downregulated\n",
      "Seq Length: 220\n",
      "Glycosylation Sites: 0\n",
      "Modified Residues: 0\n",
      "Subcellular Location: Secreted\n",
      "Discotope Epitope Count: 51.0\n",
      "Critical Aggregation Sites (>50): 10.0\n",
      "Interactor Count: 11\n",
      "Interactors: MMP14 \\| MMP2 \\| MMP9 \\| MMP10 \\| MMP3 \\| MMP13 \\| MMP7 \\| HPX \\| MMP1 \\| TIMP3 \\| MMP16\n",
      "Homolog Count: 3\n",
      "Homologs: TIMP3 \\| TIMP4 \\| TIMP1\n",
      "Max n_uniprots Homo: 1.0\n",
      "Max n_uniprots Hetero: 2.0\n",
      "Number of Isoforms: 0\n"
     ]
    }
   ],
   "source": [
    "row = df_timp2.iloc[0]\n",
    "formatted_text = \"\\n\".join([f\"{col}: {row[col]}\" for col in df_timp2.columns])\n",
    "print(formatted_text)"
   ]
  },
  {
   "cell_type": "code",
   "execution_count": null,
   "metadata": {},
   "outputs": [],
   "source": []
  }
 ],
 "metadata": {
  "kernelspec": {
   "display_name": ".venv",
   "language": "python",
   "name": "python3"
  },
  "language_info": {
   "codemirror_mode": {
    "name": "ipython",
    "version": 3
   },
   "file_extension": ".py",
   "mimetype": "text/x-python",
   "name": "python",
   "nbconvert_exporter": "python",
   "pygments_lexer": "ipython3",
   "version": "3.12.3"
  }
 },
 "nbformat": 4,
 "nbformat_minor": 2
}
