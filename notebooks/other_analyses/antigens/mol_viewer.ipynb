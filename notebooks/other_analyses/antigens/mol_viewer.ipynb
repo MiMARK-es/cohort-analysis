{
 "cells": [
  {
   "cell_type": "code",
   "execution_count": 7,
   "metadata": {},
   "outputs": [],
   "source": [
    "import nglview as nv\n",
    "import pandas as pd\n",
    "import ipywidgets as widgets\n",
    "from IPython.display import display, HTML\n",
    "import os"
   ]
  },
  {
   "cell_type": "code",
   "execution_count": 48,
   "metadata": {},
   "outputs": [],
   "source": [
    "def visualize_protein(up_acc):\n",
    "    pdb_path = f\"/data/alphafold/{up_acc[1:3]}/{up_acc}.pdb\"  # AlphaFold PDB file with pLDDT in bfactor\n",
    "    results_dir = f\"data/results/{up_acc[0:2]}/{up_acc}/\"\n",
    "\n",
    "    view = nv.show_file(pdb_path)\n",
    "    view._remote_call(\"setSize\", target=\"Widget\", args=[\"1200px\", \"800px\"])  # Set width and height\n",
    "    view.clear_representations()\n",
    "    view.add_representation('cartoon', color='gray')  # Base representation\n",
    "\n",
    "    # File paths\n",
    "    discotope_path = f\"{results_dir}{up_acc}_A_discotope3.csv\"\n",
    "    aggregation_path = f\"{results_dir}{up_acc}_agg.txt\"\n",
    "    glycosylation_path = f\"{results_dir}{up_acc}_glycosylation.csv\"\n",
    "    modifications_path = f\"{results_dir}{up_acc}_modifications.csv\"\n",
    "\n",
    "    # Initialize data holders\n",
    "    epitope_residues = []\n",
    "    rsa_residues = []\n",
    "    aggregation_residues = []\n",
    "    glycosylation_residues = []\n",
    "    modified_residues = []\n",
    "\n",
    "    # Load the results files\n",
    "        # Load data if files exist\n",
    "    if os.path.exists(discotope_path):\n",
    "        discotope_df = pd.read_csv(discotope_path)\n",
    "        epitope_residues = discotope_df[discotope_df['epitope'] == True]['res_id'].tolist()\n",
    "        rsa_residues = discotope_df[discotope_df['rsa'] > 0.5]['res_id'].tolist()\n",
    "\n",
    "    if os.path.exists(aggregation_path):\n",
    "        aggregation_df = pd.read_csv(aggregation_path, sep='\\t')\n",
    "        aggregation_residues = aggregation_df[aggregation_df['Aggregation'] > 50]['res'].tolist()\n",
    "\n",
    "    if os.path.exists(glycosylation_path):\n",
    "        glycosylation_df = pd.read_csv(glycosylation_path)\n",
    "        glycosylation_residues = glycosylation_df['res'].tolist()\n",
    "\n",
    "    if os.path.exists(modifications_path):\n",
    "        modifications_df = pd.read_csv(modifications_path)\n",
    "        modified_residues = modifications_df['res'].tolist()\n",
    "\n",
    "    # Function to toggle visualizations\n",
    "    def toggle_representation(visible_reps):\n",
    "        view.clear_representations()\n",
    "        view.add_representation('cartoon', color='gray')  # Base representation\n",
    "        if 'epitope' in visible_reps:\n",
    "            view.add_representation('cartoon', selection=' or '.join(map(str, epitope_residues)), color='red')\n",
    "            view.add_representation('licorice', selection=' or '.join(map(str, epitope_residues)), color='red', opacity=0.5)\n",
    "            view.add_representation('surface', selection=' or '.join(map(str, epitope_residues)), color='red', opacity=0)\n",
    "        if 'aggregation' in visible_reps:\n",
    "            view.add_representation('cartoon', selection=' or '.join(map(str, aggregation_residues)), color='orange')\n",
    "            view.add_representation('licorice', selection=' or '.join(map(str, aggregation_residues)), color='orange', opacity=0.5)\n",
    "            view.add_representation('surface', selection=' or '.join(map(str, aggregation_residues)), color='orange', opacity=0)\n",
    "        if 'rsa' in visible_reps:\n",
    "            view.add_representation('cartoon', selection=' or '.join(map(str, rsa_residues)), color='blue')\n",
    "            view.add_representation('licorice', selection=' or '.join(map(str, rsa_residues)), color='blue', opacity=0.5)\n",
    "            view.add_representation('surface', selection=' or '.join(map(str, rsa_residues)), color='blue', opacity=0)\n",
    "        if 'plddt' in visible_reps:\n",
    "            view.add_representation('cartoon', color_scheme='bfactor')\n",
    "        if 'glycosylation' in visible_reps:\n",
    "            view.add_representation('licorice', selection=' or '.join(map(str, glycosylation_residues)), color='cyan', opacity=0.5)\n",
    "            view.add_representation('surface', selection=' or '.join(map(str, glycosylation_residues)), color='cyan', opacity=0)\n",
    "        if 'modification' in visible_reps:\n",
    "            view.add_representation('licorice', selection=' or '.join(map(str, modified_residues)), color='magenta', opacity=0.5)\n",
    "            view.add_representation('surface', selection=' or '.join(map(str, modified_residues)), color='magenta', opacity=0)\n",
    "            \n",
    "\n",
    "    # Set for active toggles\n",
    "    visible_reps = set()\n",
    "\n",
    "    def create_toggle_button(label, key):\n",
    "        button = widgets.ToggleButton(\n",
    "            value=False,\n",
    "            description=label,\n",
    "            icon='eye'\n",
    "        )\n",
    "        \n",
    "        def on_toggle(change):\n",
    "            if change['new']:\n",
    "                visible_reps.add(key)\n",
    "            else:\n",
    "                visible_reps.discard(key)\n",
    "            toggle_representation(visible_reps)\n",
    "\n",
    "        button.observe(on_toggle, names='value')\n",
    "        return button\n",
    "\n",
    "    def take_screenshot(_):\n",
    "        screenshot_path = \"screenshot.png\"\n",
    "        view.download_image(filename=screenshot_path)\n",
    "        print(f\"Screenshot saved to {screenshot_path}\")\n",
    "\n",
    "    screenshot_button = widgets.Button(description=\"Take Screenshot\", icon=\"camera\", button_style=\"info\")\n",
    "    screenshot_button.on_click(take_screenshot)\n",
    "\n",
    "    # Create buttons\n",
    "    epitope_button = create_toggle_button('Show Epitopes', 'epitope')\n",
    "    aggregation_button = create_toggle_button('Show Aggregation', 'aggregation')\n",
    "    rsa_button = create_toggle_button('Show RSA > 0.5', 'rsa')\n",
    "    plddt_button = create_toggle_button('Show pLDDTs', 'plddt')\n",
    "    glycosylation_button = create_toggle_button('Show Glycosylation', 'glycosylation')\n",
    "    modification_button = create_toggle_button('Show Modifications', 'modification')\n",
    "\n",
    "    \n",
    "\n",
    "    display(widgets.HBox([epitope_button, aggregation_button, rsa_button, plddt_button, glycosylation_button, modification_button, screenshot_button]))\n",
    "    display(view)\n",
    "\n",
    "\n"
   ]
  },
  {
   "cell_type": "code",
   "execution_count": 49,
   "metadata": {},
   "outputs": [
    {
     "data": {
      "application/vnd.jupyter.widget-view+json": {
       "model_id": "75446b10c6d04391a6444e3f1ae154e6",
       "version_major": 2,
       "version_minor": 0
      },
      "text/plain": [
       "HBox(children=(ToggleButton(value=False, description='Show Epitopes', icon='eye'), ToggleButton(value=False, d…"
      ]
     },
     "metadata": {},
     "output_type": "display_data"
    },
    {
     "data": {
      "application/vnd.jupyter.widget-view+json": {
       "model_id": "54cf36b78f2a4719b34fe101890606ed",
       "version_major": 2,
       "version_minor": 0
      },
      "text/plain": [
       "NGLWidget()"
      ]
     },
     "metadata": {},
     "output_type": "display_data"
    }
   ],
   "source": [
    "visualize_protein('Q15848')"
   ]
  },
  {
   "cell_type": "code",
   "execution_count": null,
   "metadata": {},
   "outputs": [],
   "source": []
  }
 ],
 "metadata": {
  "kernelspec": {
   "display_name": ".venv",
   "language": "python",
   "name": "python3"
  },
  "language_info": {
   "codemirror_mode": {
    "name": "ipython",
    "version": 3
   },
   "file_extension": ".py",
   "mimetype": "text/x-python",
   "name": "python",
   "nbconvert_exporter": "python",
   "pygments_lexer": "ipython3",
   "version": "3.12.3"
  }
 },
 "nbformat": 4,
 "nbformat_minor": 2
}
