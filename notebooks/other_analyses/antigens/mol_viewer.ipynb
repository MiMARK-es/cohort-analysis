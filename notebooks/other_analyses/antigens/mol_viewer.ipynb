{
 "cells": [
  {
   "cell_type": "code",
   "execution_count": 1,
   "metadata": {},
   "outputs": [
    {
     "data": {
      "application/vnd.jupyter.widget-view+json": {
       "model_id": "fc373726224c48f29833349c8f85b071",
       "version_major": 2,
       "version_minor": 0
      },
      "text/plain": []
     },
     "metadata": {},
     "output_type": "display_data"
    }
   ],
   "source": [
    "import nglview as nv\n",
    "import pandas as pd\n",
    "import ipywidgets as widgets\n",
    "from IPython.display import display, HTML\n",
    "import os"
   ]
  },
  {
   "cell_type": "code",
   "execution_count": 2,
   "metadata": {},
   "outputs": [],
   "source": [
    "def visualize_protein(up_acc):\n",
    "    pdb_path = f\"/data/alphafold/{up_acc[1:3]}/{up_acc}.pdb\"  # AlphaFold PDB file with pLDDT in bfactor\n",
    "    results_dir = f\"data/results/{up_acc[0:2]}/{up_acc}/\"\n",
    "\n",
    "    view = nv.show_file(pdb_path)\n",
    "    view._remote_call(\"setSize\", target=\"Widget\", args=[\"1200px\", \"800px\"])  # Set width and height\n",
    "    view.clear_representations()\n",
    "    view.add_representation('cartoon', color='gray')  # Base representation\n",
    "\n",
    "    # File paths\n",
    "    discotope_path = f\"{results_dir}{up_acc}_A_discotope3.csv\"\n",
    "    aggregation_path = f\"{results_dir}{up_acc}_agg.txt\"\n",
    "    glycosylation_path = f\"{results_dir}{up_acc}_glycosylation.csv\"\n",
    "    modifications_path = f\"{results_dir}{up_acc}_modifications.csv\"\n",
    "\n",
    "    # Initialize data holders\n",
    "    epitope_residues = []\n",
    "    rsa_residues = []\n",
    "    aggregation_residues = []\n",
    "    glycosylation_residues = []\n",
    "    modified_residues = []\n",
    "\n",
    "    # Load the results files\n",
    "    if os.path.exists(discotope_path):\n",
    "        discotope_df = pd.read_csv(discotope_path)\n",
    "        epitope_residues = discotope_df[discotope_df['epitope'] == True]['res_id'].tolist()\n",
    "        rsa_residues = discotope_df[discotope_df['rsa'] > 0.5]['res_id'].tolist()\n",
    "\n",
    "    if os.path.exists(aggregation_path):\n",
    "        aggregation_df = pd.read_csv(aggregation_path, sep='\\t')\n",
    "        aggregation_residues = aggregation_df[aggregation_df['Aggregation'] > 50]['res'].tolist()\n",
    "\n",
    "    if os.path.exists(glycosylation_path):\n",
    "        glycosylation_df = pd.read_csv(glycosylation_path)\n",
    "        glycosylation_residues = glycosylation_df['res'].tolist()\n",
    "\n",
    "    if os.path.exists(modifications_path):\n",
    "        modifications_df = pd.read_csv(modifications_path)\n",
    "        modified_residues = modifications_df['res'].tolist()\n",
    "\n",
    "    # Function to toggle visualizations\n",
    "    def toggle_representation(visible_reps):\n",
    "        view.clear_representations()\n",
    "        view.add_representation('cartoon', color='gray')  # Base representation\n",
    "        if 'epitope' in visible_reps:\n",
    "            view.add_representation('cartoon', selection=' or '.join(map(str, epitope_residues)), color='red')\n",
    "            view.add_representation('licorice', selection=' or '.join(map(str, epitope_residues)), color='red', opacity=0.5)\n",
    "        if 'aggregation' in visible_reps:\n",
    "            view.add_representation('cartoon', selection=' or '.join(map(str, aggregation_residues)), color='orange')\n",
    "            view.add_representation('licorice', selection=' or '.join(map(str, aggregation_residues)), color='orange', opacity=0.5)\n",
    "        if 'rsa' in visible_reps:\n",
    "            view.add_representation('cartoon', selection=' or '.join(map(str, rsa_residues)), color='blue')\n",
    "            view.add_representation('licorice', selection=' or '.join(map(str, rsa_residues)), color='blue', opacity=0.5)\n",
    "        if 'plddt' in visible_reps:\n",
    "            view.add_representation('cartoon', color_scheme='bfactor')\n",
    "        if 'glycosylation' in visible_reps:\n",
    "            view.add_representation('licorice', selection=' or '.join(map(str, glycosylation_residues)), color='cyan', opacity=0.5)\n",
    "        if 'modification' in visible_reps:\n",
    "            view.add_representation('licorice', selection=' or '.join(map(str, modified_residues)), color='magenta', opacity=0.5)\n",
    "    \n",
    "    # Set for active toggles\n",
    "    visible_reps = set()\n",
    "\n",
    "    def create_toggle_button(label, key):\n",
    "        button = widgets.ToggleButton(\n",
    "            value=False,\n",
    "            description=label,\n",
    "            icon='eye'\n",
    "        )\n",
    "        \n",
    "        def on_toggle(change):\n",
    "            if change['new']:\n",
    "                visible_reps.add(key)\n",
    "            else:\n",
    "                visible_reps.discard(key)\n",
    "            toggle_representation(visible_reps)\n",
    "\n",
    "        button.observe(on_toggle, names='value')\n",
    "        return button\n",
    "\n",
    "    def take_screenshot(_):\n",
    "        screenshot_path = \"screenshot.png\"\n",
    "        view.download_image(filename=screenshot_path)\n",
    "        print(f\"Screenshot saved to {screenshot_path}\")\n",
    "\n",
    "    screenshot_button = widgets.Button(description=\"Take Screenshot\", icon=\"camera\", button_style=\"info\")\n",
    "    screenshot_button.on_click(take_screenshot)\n",
    "\n",
    "    # Function to paint a specified linear region\n",
    "    def paint_linear_region(_):\n",
    "        try:\n",
    "            start_residue = int(start_residue_input.value)\n",
    "            end_residue = int(end_residue_input.value)\n",
    "            selection_range = f\"{start_residue}-{end_residue}\"\n",
    "            view.add_representation('cartoon', selection=selection_range, color='purple')\n",
    "            view.add_representation('licorice', selection=selection_range, color='purple', opacity=0.5)\n",
    "        except ValueError:\n",
    "            print(\"Please enter valid integer values for the residue range.\")\n",
    "\n",
    "    # Text inputs for start and end residues\n",
    "    start_residue_input = widgets.Text(\n",
    "        value='',\n",
    "        placeholder='Start residue',\n",
    "        description='Start:',\n",
    "        disabled=False\n",
    "    )\n",
    "    end_residue_input = widgets.Text(\n",
    "        value='',\n",
    "        placeholder='End residue',\n",
    "        description='End:',\n",
    "        disabled=False\n",
    "    )\n",
    "\n",
    "    # Button to apply color to the specified region\n",
    "    paint_region_button = widgets.Button(description=\"Paint Region\", button_style=\"success\")\n",
    "    paint_region_button.on_click(paint_linear_region)\n",
    "\n",
    "    # Create toggle buttons for other visualizations\n",
    "    epitope_button = create_toggle_button('Show Epitopes', 'epitope')\n",
    "    aggregation_button = create_toggle_button('Show Aggregation', 'aggregation')\n",
    "    rsa_button = create_toggle_button('Show RSA > 0.5', 'rsa')\n",
    "    plddt_button = create_toggle_button('Show pLDDTs', 'plddt')\n",
    "    glycosylation_button = create_toggle_button('Show Glycosylation', 'glycosylation')\n",
    "    modification_button = create_toggle_button('Show Modifications', 'modification')\n",
    "\n",
    "    # Display buttons and view\n",
    "    display(widgets.HBox([epitope_button, aggregation_button, rsa_button, plddt_button, glycosylation_button, modification_button, screenshot_button]))\n",
    "    display(widgets.HBox([start_residue_input, end_residue_input, paint_region_button]))\n",
    "    display(view)\n"
   ]
  },
  {
   "cell_type": "code",
   "execution_count": 7,
   "metadata": {},
   "outputs": [
    {
     "data": {
      "application/vnd.jupyter.widget-view+json": {
       "model_id": "3b3a2b2f884b42c1b1845fee634a4ed3",
       "version_major": 2,
       "version_minor": 0
      },
      "text/plain": [
       "HBox(children=(ToggleButton(value=False, description='Show Epitopes', icon='eye'), ToggleButton(value=False, d…"
      ]
     },
     "metadata": {},
     "output_type": "display_data"
    },
    {
     "data": {
      "application/vnd.jupyter.widget-view+json": {
       "model_id": "deb619c9de6c4dc882884decf5f8fa6d",
       "version_major": 2,
       "version_minor": 0
      },
      "text/plain": [
       "HBox(children=(Text(value='', description='Start:', placeholder='Start residue'), Text(value='', description='…"
      ]
     },
     "metadata": {},
     "output_type": "display_data"
    },
    {
     "data": {
      "application/vnd.jupyter.widget-view+json": {
       "model_id": "7f36ad19189745e789dbdc1f5edc959b",
       "version_major": 2,
       "version_minor": 0
      },
      "text/plain": [
       "NGLWidget()"
      ]
     },
     "metadata": {},
     "output_type": "display_data"
    }
   ],
   "source": [
    "visualize_protein('P14780')"
   ]
  },
  {
   "cell_type": "code",
   "execution_count": null,
   "metadata": {},
   "outputs": [],
   "source": []
  }
 ],
 "metadata": {
  "kernelspec": {
   "display_name": ".venv",
   "language": "python",
   "name": "python3"
  },
  "language_info": {
   "codemirror_mode": {
    "name": "ipython",
    "version": 3
   },
   "file_extension": ".py",
   "mimetype": "text/x-python",
   "name": "python",
   "nbconvert_exporter": "python",
   "pygments_lexer": "ipython3",
   "version": "3.12.3"
  }
 },
 "nbformat": 4,
 "nbformat_minor": 2
}
