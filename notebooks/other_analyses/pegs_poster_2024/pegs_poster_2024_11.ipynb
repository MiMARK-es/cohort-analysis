{
 "cells": [
  {
   "cell_type": "code",
   "execution_count": 1,
   "metadata": {},
   "outputs": [],
   "source": [
    "import utils\n",
    "import seaborn as sns\n",
    "import matplotlib.pyplot as plt\n",
    "import pandas as pd\n",
    "import os\n",
    "import numpy as np"
   ]
  },
  {
   "cell_type": "code",
   "execution_count": 2,
   "metadata": {},
   "outputs": [],
   "source": [
    "# Remove warnings for readability\n",
    "import warnings\n",
    "warnings.filterwarnings('ignore')\n",
    "\n",
    "# Remove cell printing limits\n",
    "pd.set_option('display.max_rows', None)"
   ]
  },
  {
   "cell_type": "code",
   "execution_count": 3,
   "metadata": {},
   "outputs": [],
   "source": [
    "HSPB1_PATH = './data/HSPB1_Sample_handling_RStudio.xlsx'\n",
    "MMP9_PATH = './data/MMP9_Sample_handling_RStudio.xlsx'\n",
    "PERM_PATH = './data/PERM_Sample_handling_RStudio.xlsx'\n",
    "\n",
    "BMKS = ['HSPB1', 'MMP9', 'PERM']\n",
    "\n",
    "BMKS_PATHS = {\n",
    "    'HSPB1': HSPB1_PATH,\n",
    "    'MMP9': MMP9_PATH,\n",
    "    'PERM': PERM_PATH\n",
    "}"
   ]
  },
  {
   "cell_type": "code",
   "execution_count": 4,
   "metadata": {},
   "outputs": [],
   "source": [
    "plot_funcs = [sns.boxplot, sns.violinplot, sns.swarmplot]"
   ]
  },
  {
   "cell_type": "markdown",
   "metadata": {},
   "source": [
    "# Generate stats & plots"
   ]
  },
  {
   "cell_type": "code",
   "execution_count": 5,
   "metadata": {},
   "outputs": [],
   "source": [
    "results_dir = './results/direct/'"
   ]
  },
  {
   "cell_type": "code",
   "execution_count": 6,
   "metadata": {},
   "outputs": [
    {
     "name": "stdout",
     "output_type": "stream",
     "text": [
      "Kruskal-Wallis results for HSPB1:\n",
      "{'statistic': 9.594945870772847, 'p_value': 0.04783245889422372, 'significant': True}\n",
      "Significant differences found between groups, results of Dunn and Conover tests saved to results directory.\n",
      "\n",
      "Kruskal-Wallis results for MMP9:\n",
      "{'statistic': 1.1980622603625761, 'p_value': 0.878417550817296, 'significant': False}\n",
      "No significant differences found between groups.\n",
      "\n",
      "Kruskal-Wallis results for PERM:\n",
      "{'statistic': 1.4667669520944173, 'p_value': 0.8325115269330386, 'significant': False}\n",
      "No significant differences found between groups.\n",
      "\n"
     ]
    }
   ],
   "source": [
    "for bmk in BMKS:\n",
    "    df = utils.load_and_clean_data(BMKS_PATHS[bmk])\n",
    "    palette = sns.color_palette(\"husl\", len(df['Condition'].unique()))\n",
    "\n",
    "    kw_results = utils.kruskal_wallis_test(df)\n",
    "    print(f'Kruskal-Wallis results for {bmk}:')\n",
    "    print(kw_results)\n",
    "\n",
    "    if kw_results['significant']:\n",
    "        # Conover test\n",
    "        conover_results = utils.posthoc_conover_test(df)\n",
    "        conover_results.to_csv(os.path.join(results_dir, f'{bmk}_conover_results.csv'), index=True)\n",
    "\n",
    "        # Dunn test\n",
    "        dunn_results = utils.posthoc_dunn_test(df)\n",
    "        dunn_results.to_csv(os.path.join(results_dir, f'{bmk}_dunn_results.csv'), index=True)\n",
    "\n",
    "        print(\"Significant differences found between groups, results of Dunn and Conover tests saved to results directory.\")\n",
    "    else:\n",
    "        print(\"No significant differences found between groups.\")\n",
    "\n",
    "    print(\"\")\n",
    "\n",
    "    for plot_func in plot_funcs:\n",
    "        utils.plot(df, bmk, plot_func, palette=palette, results_dir=results_dir)\n",
    "    utils.plot_heatmap_medians(df, bmk, results_dir=results_dir)\n",
    "\n",
    "    utils.plot_raincloud(df, bmk, results_dir)"
   ]
  },
  {
   "cell_type": "markdown",
   "metadata": {},
   "source": [
    "# Apply log for better viz"
   ]
  },
  {
   "cell_type": "code",
   "execution_count": 7,
   "metadata": {},
   "outputs": [],
   "source": [
    "results_dir = './results/log/'"
   ]
  },
  {
   "cell_type": "code",
   "execution_count": 8,
   "metadata": {},
   "outputs": [
    {
     "name": "stdout",
     "output_type": "stream",
     "text": [
      "Kruskal-Wallis results for HSPB1:\n",
      "{'statistic': 9.594945870772847, 'p_value': 0.04783245889422372, 'significant': True}\n",
      "Significant differences found between groups, results of Dunn and Conover tests saved to results directory.\n",
      "\n",
      "Kruskal-Wallis results for MMP9:\n",
      "{'statistic': 1.1980622603625761, 'p_value': 0.878417550817296, 'significant': False}\n",
      "No significant differences found between groups.\n",
      "\n",
      "Kruskal-Wallis results for PERM:\n",
      "{'statistic': 1.4667669520944173, 'p_value': 0.8325115269330386, 'significant': False}\n",
      "No significant differences found between groups.\n",
      "\n"
     ]
    }
   ],
   "source": [
    "for bmk in BMKS:\n",
    "    df = utils.load_and_clean_data(BMKS_PATHS[bmk])\n",
    "    df['Concentration'] = np.log(df['Concentration'])\n",
    "    palette = sns.color_palette(\"husl\", len(df['Condition'].unique()))\n",
    "\n",
    "    kw_results = utils.kruskal_wallis_test(df)\n",
    "    print(f'Kruskal-Wallis results for {bmk}:')\n",
    "    print(kw_results)\n",
    "\n",
    "    if kw_results['significant']:\n",
    "        # Conover test\n",
    "        conover_results = utils.posthoc_conover_test(df)\n",
    "        conover_results.to_csv(os.path.join(results_dir, f'{bmk}_conover_results.csv'), index=True)\n",
    "\n",
    "        # Dunn test\n",
    "        dunn_results = utils.posthoc_dunn_test(df)\n",
    "        dunn_results.to_csv(os.path.join(results_dir, f'{bmk}_dunn_results.csv'), index=True)\n",
    "\n",
    "        print(\"Significant differences found between groups, results of Dunn and Conover tests saved to results directory.\")\n",
    "    else:\n",
    "        print(\"No significant differences found between groups.\")\n",
    "\n",
    "    print(\"\")\n",
    "\n",
    "    for plot_func in plot_funcs:\n",
    "        utils.plot(df, bmk, plot_func, palette=palette, results_dir=results_dir)\n",
    "    utils.plot_heatmap_medians(df, bmk, results_dir=results_dir)\n",
    "\n",
    "    utils.plot_raincloud(df, bmk, results_dir)"
   ]
  },
  {
   "cell_type": "code",
   "execution_count": null,
   "metadata": {},
   "outputs": [],
   "source": []
  }
 ],
 "metadata": {
  "kernelspec": {
   "display_name": ".venv",
   "language": "python",
   "name": "python3"
  },
  "language_info": {
   "codemirror_mode": {
    "name": "ipython",
    "version": 3
   },
   "file_extension": ".py",
   "mimetype": "text/x-python",
   "name": "python",
   "nbconvert_exporter": "python",
   "pygments_lexer": "ipython3",
   "version": "3.12.3"
  }
 },
 "nbformat": 4,
 "nbformat_minor": 2
}
