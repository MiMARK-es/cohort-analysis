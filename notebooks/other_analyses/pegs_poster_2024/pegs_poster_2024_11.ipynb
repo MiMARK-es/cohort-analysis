{
 "cells": [
  {
   "cell_type": "code",
   "execution_count": 1,
   "metadata": {},
   "outputs": [],
   "source": [
    "import utils\n",
    "\n",
    "import matplotlib.pyplot as plt\n",
    "import pandas as pd\n",
    "import numpy as np\n",
    "import matplotlib.cm as cm\n",
    "from IPython.display import display, HTML\n",
    "import matplotlib.colors as mcolors\n",
    "from scipy.stats import shapiro, kruskal\n",
    "import os"
   ]
  },
  {
   "cell_type": "code",
   "execution_count": 2,
   "metadata": {},
   "outputs": [],
   "source": [
    "# Remove warnings for readability\n",
    "import warnings\n",
    "warnings.filterwarnings('ignore')\n",
    "\n",
    "# Remove cell printing limits\n",
    "pd.set_option('display.max_rows', None)"
   ]
  },
  {
   "cell_type": "code",
   "execution_count": 3,
   "metadata": {},
   "outputs": [],
   "source": [
    "HSPB1_PATH = './data/HSPB1_Sample_handling_RStudio.xlsx'\n",
    "MMP9_PATH = './data/MMP9_Sample_handling_RStudio.xlsx'\n",
    "PERM_PATH = './data/PERM_Sample_handling_RStudio.xlsx'\n",
    "\n",
    "BMKS = ['HSPB1', 'MMP9', 'PERM']\n",
    "\n",
    "BMKS_PATHS = {\n",
    "    'HSPB1': HSPB1_PATH,\n",
    "    'MMP9': MMP9_PATH,\n",
    "    'PERM': PERM_PATH\n",
    "}\n",
    "\n",
    "biomarker_numbers = {\n",
    "    'MMP9': 1,\n",
    "    'HSPB1': 2,\n",
    "    'PERM': 3\n",
    "}\n",
    "\n",
    "results_dir = './results/'"
   ]
  },
  {
   "cell_type": "markdown",
   "metadata": {},
   "source": [
    "# FIGURE 1"
   ]
  },
  {
   "cell_type": "code",
   "execution_count": 4,
   "metadata": {},
   "outputs": [],
   "source": [
    "def plot_combined_boxplot(df, value_col, group_col, biomarker_col, biomarker_numbers, dunn_results=None):\n",
    "    df['Biomarker Number'] = df[biomarker_col].map(biomarker_numbers)\n",
    "    df['Condition Sort Order'] = df[group_col].apply(lambda x: 0 if x == \"Reference\" else 1)\n",
    "    df = df.sort_values(by=['Biomarker Number', 'Condition Sort Order', group_col])\n",
    "\n",
    "    fig, ax = plt.subplots(figsize=(14, 8))\n",
    "    cmap = plt.get_cmap('Purples')\n",
    "\n",
    "    current_position = 0\n",
    "    positions, biomarker_ticks = [], []\n",
    "\n",
    "    for biomarker in df['Biomarker'].unique():\n",
    "        biomarker_data = df[df[biomarker_col] == biomarker]\n",
    "        conditions = biomarker_data[group_col].unique()\n",
    "        condition_positions = []\n",
    "\n",
    "        for condition in conditions:\n",
    "            condition_data = biomarker_data[biomarker_data[group_col] == condition][value_col]\n",
    "            p_value = dunn_results.get(biomarker, {}).get(condition, 1.0)\n",
    "            color = cmap(0.25 + (1 - p_value) * 0.5)\n",
    "\n",
    "            box = ax.boxplot(\n",
    "                condition_data, positions=[current_position], widths=0.8, patch_artist=True,\n",
    "                medianprops={'color': 'black'}, whiskerprops={'color': 'black'},\n",
    "                capprops={'color': 'black'}, boxprops={'edgecolor': 'black', 'facecolor': color},\n",
    "                flierprops={'markerfacecolor': 'black', 'markeredgecolor': 'black'}\n",
    "            )\n",
    "\n",
    "            if p_value != 1.0:\n",
    "                median_value = np.median(condition_data)\n",
    "                ax.text(current_position, median_value * 1.05, f\"{p_value:.2f}\", ha='center', va='bottom', color='black', fontsize=9)\n",
    "\n",
    "            condition_positions.append(current_position)\n",
    "            current_position += 1\n",
    "\n",
    "        midpoint = np.mean(condition_positions)\n",
    "        biomarker_ticks.append((midpoint, f\"Biomarker {biomarker_numbers[biomarker]}\"))\n",
    "        current_position += 1\n",
    "        positions.extend(condition_positions)\n",
    "\n",
    "    ax.set_xticks(positions)\n",
    "    ax.set_xticklabels([row[group_col] for _, row in df.drop_duplicates(subset=['Biomarker Number', group_col]).iterrows()], rotation=45, ha='right')\n",
    "\n",
    "    for midpoint, label in biomarker_ticks:\n",
    "        ax.text(midpoint, -0.2, label, ha='center', va='top', transform=ax.get_xaxis_transform(), fontsize=12, weight='bold')\n",
    "\n",
    "    plt.ylabel(r\"$\\log\\left(\\frac{[Biomarker]}{[TotalProtein]}\\right)$\", fontsize=14)\n",
    "    plt.tight_layout()\n",
    "    plt.savefig(f\"{results_dir}/combined_boxplot.svg\")\n",
    "    plt.show()\n"
   ]
  },
  {
   "cell_type": "code",
   "execution_count": 5,
   "metadata": {},
   "outputs": [],
   "source": [
    "def display_stat_results(biomarker_label, shapiro_results, kw_stat, kw_p_value, dunn_results_bmk=None):\n",
    "    display(HTML(f'<h1>{biomarker_label}</h1>'))\n",
    "    \n",
    "    shapiro_stats_df = pd.DataFrame.from_dict(shapiro_results, orient='index').reset_index()\n",
    "    shapiro_stats_df.columns = ['Condition', 'Statistic', 'p-value', 'Normal']\n",
    "    display(HTML(f'<h3>Shapiro-Wilk Test Results for {biomarker_label}</h3>'))\n",
    "    display(HTML(shapiro_stats_df.to_html(index=False, border=0, justify='center', col_space='150px')))\n",
    "\n",
    "    if not all(result['Normal'] for result in shapiro_results.values()):\n",
    "        display(HTML(f\"<p>Not all conditions are normally distributed for {biomarker_label}. Proceeding with Kruskal-Wallis test.</p>\"))\n",
    "\n",
    "    kw_results_df = pd.DataFrame([{'Statistic': kw_stat, 'p-value': kw_p_value, 'Significant': kw_p_value < 0.05}])\n",
    "    display(HTML(f'<h3>Kruskal-Wallis Test Results for {biomarker_label}</h3>'))\n",
    "    display(HTML(kw_results_df.to_html(index=False, border=0, justify='center', col_space='150px')))\n",
    "\n",
    "    if kw_p_value < 0.05:\n",
    "        display(HTML(f\"<p>Significant differences found in Kruskal-Wallis test for {biomarker_label}. Proceeding with Dunn post-hoc test.</p>\"))\n",
    "        if dunn_results_bmk is not None and isinstance(dunn_results_bmk, pd.DataFrame) and not dunn_results_bmk.empty:\n",
    "            display(HTML(f'<h3>Dunn Test Results for {biomarker_label}</h3>'))\n",
    "            display(HTML(dunn_results_bmk.to_html(border=0, justify='center', col_space='150px')))\n",
    "        else:\n",
    "            display(HTML(f\"<p>Dunn Test Results for {biomarker_label} are not available or invalid.</p>\"))\n",
    "    else:\n",
    "        display(HTML(f\"<p>No significant Kruskal-Wallis results for {biomarker_label}, skipping Dunn test.</p>\"))\n"
   ]
  },
  {
   "cell_type": "code",
   "execution_count": 6,
   "metadata": {},
   "outputs": [
    {
     "data": {
      "text/html": [
       "<h1>Biomarker 1</h1>"
      ],
      "text/plain": [
       "<IPython.core.display.HTML object>"
      ]
     },
     "metadata": {},
     "output_type": "display_data"
    },
    {
     "data": {
      "text/html": [
       "<h3>Shapiro-Wilk Test Results for Biomarker 1</h3>"
      ],
      "text/plain": [
       "<IPython.core.display.HTML object>"
      ]
     },
     "metadata": {},
     "output_type": "display_data"
    },
    {
     "data": {
      "text/html": [
       "<table class=\"dataframe\">\n",
       "  <thead>\n",
       "    <tr style=\"text-align: center;\">\n",
       "      <th style=\"min-width: 150px;\">Condition</th>\n",
       "      <th style=\"min-width: 150px;\">Statistic</th>\n",
       "      <th style=\"min-width: 150px;\">p-value</th>\n",
       "      <th style=\"min-width: 150px;\">Normal</th>\n",
       "    </tr>\n",
       "  </thead>\n",
       "  <tbody>\n",
       "    <tr>\n",
       "      <td>Reference</td>\n",
       "      <td>0.946980</td>\n",
       "      <td>0.152718</td>\n",
       "      <td>True</td>\n",
       "    </tr>\n",
       "    <tr>\n",
       "      <td>24h 4ºC +PBS</td>\n",
       "      <td>0.893245</td>\n",
       "      <td>0.006776</td>\n",
       "      <td>False</td>\n",
       "    </tr>\n",
       "    <tr>\n",
       "      <td>72h 4ºC +PBS</td>\n",
       "      <td>0.900185</td>\n",
       "      <td>0.008487</td>\n",
       "      <td>False</td>\n",
       "    </tr>\n",
       "    <tr>\n",
       "      <td>24h 4ºC -PBS</td>\n",
       "      <td>0.908173</td>\n",
       "      <td>0.013387</td>\n",
       "      <td>False</td>\n",
       "    </tr>\n",
       "    <tr>\n",
       "      <td>72h 4ºC -PBS</td>\n",
       "      <td>0.964610</td>\n",
       "      <td>0.403895</td>\n",
       "      <td>True</td>\n",
       "    </tr>\n",
       "  </tbody>\n",
       "</table>"
      ],
      "text/plain": [
       "<IPython.core.display.HTML object>"
      ]
     },
     "metadata": {},
     "output_type": "display_data"
    },
    {
     "data": {
      "text/html": [
       "<p>Not all conditions are normally distributed for Biomarker 1. Proceeding with Kruskal-Wallis test.</p>"
      ],
      "text/plain": [
       "<IPython.core.display.HTML object>"
      ]
     },
     "metadata": {},
     "output_type": "display_data"
    },
    {
     "data": {
      "text/html": [
       "<h3>Kruskal-Wallis Test Results for Biomarker 1</h3>"
      ],
      "text/plain": [
       "<IPython.core.display.HTML object>"
      ]
     },
     "metadata": {},
     "output_type": "display_data"
    },
    {
     "data": {
      "text/html": [
       "<table class=\"dataframe\">\n",
       "  <thead>\n",
       "    <tr style=\"text-align: center;\">\n",
       "      <th style=\"min-width: 150px;\">Statistic</th>\n",
       "      <th style=\"min-width: 150px;\">p-value</th>\n",
       "      <th style=\"min-width: 150px;\">Significant</th>\n",
       "    </tr>\n",
       "  </thead>\n",
       "  <tbody>\n",
       "    <tr>\n",
       "      <td>1.198062</td>\n",
       "      <td>0.878418</td>\n",
       "      <td>False</td>\n",
       "    </tr>\n",
       "  </tbody>\n",
       "</table>"
      ],
      "text/plain": [
       "<IPython.core.display.HTML object>"
      ]
     },
     "metadata": {},
     "output_type": "display_data"
    },
    {
     "data": {
      "text/html": [
       "<p>No significant Kruskal-Wallis results for Biomarker 1, skipping Dunn test.</p>"
      ],
      "text/plain": [
       "<IPython.core.display.HTML object>"
      ]
     },
     "metadata": {},
     "output_type": "display_data"
    },
    {
     "data": {
      "text/html": [
       "<h1>Biomarker 2</h1>"
      ],
      "text/plain": [
       "<IPython.core.display.HTML object>"
      ]
     },
     "metadata": {},
     "output_type": "display_data"
    },
    {
     "data": {
      "text/html": [
       "<h3>Shapiro-Wilk Test Results for Biomarker 2</h3>"
      ],
      "text/plain": [
       "<IPython.core.display.HTML object>"
      ]
     },
     "metadata": {},
     "output_type": "display_data"
    },
    {
     "data": {
      "text/html": [
       "<table class=\"dataframe\">\n",
       "  <thead>\n",
       "    <tr style=\"text-align: center;\">\n",
       "      <th style=\"min-width: 150px;\">Condition</th>\n",
       "      <th style=\"min-width: 150px;\">Statistic</th>\n",
       "      <th style=\"min-width: 150px;\">p-value</th>\n",
       "      <th style=\"min-width: 150px;\">Normal</th>\n",
       "    </tr>\n",
       "  </thead>\n",
       "  <tbody>\n",
       "    <tr>\n",
       "      <td>Reference</td>\n",
       "      <td>0.935511</td>\n",
       "      <td>0.084992</td>\n",
       "      <td>True</td>\n",
       "    </tr>\n",
       "    <tr>\n",
       "      <td>24h 4ºC +PBS</td>\n",
       "      <td>0.935700</td>\n",
       "      <td>0.077391</td>\n",
       "      <td>True</td>\n",
       "    </tr>\n",
       "    <tr>\n",
       "      <td>72h 4ºC +PBS</td>\n",
       "      <td>0.936835</td>\n",
       "      <td>0.074770</td>\n",
       "      <td>True</td>\n",
       "    </tr>\n",
       "    <tr>\n",
       "      <td>24h 4ºC -PBS</td>\n",
       "      <td>0.913808</td>\n",
       "      <td>0.018586</td>\n",
       "      <td>False</td>\n",
       "    </tr>\n",
       "    <tr>\n",
       "      <td>72h 4ºC -PBS</td>\n",
       "      <td>0.935467</td>\n",
       "      <td>0.068711</td>\n",
       "      <td>True</td>\n",
       "    </tr>\n",
       "  </tbody>\n",
       "</table>"
      ],
      "text/plain": [
       "<IPython.core.display.HTML object>"
      ]
     },
     "metadata": {},
     "output_type": "display_data"
    },
    {
     "data": {
      "text/html": [
       "<p>Not all conditions are normally distributed for Biomarker 2. Proceeding with Kruskal-Wallis test.</p>"
      ],
      "text/plain": [
       "<IPython.core.display.HTML object>"
      ]
     },
     "metadata": {},
     "output_type": "display_data"
    },
    {
     "data": {
      "text/html": [
       "<h3>Kruskal-Wallis Test Results for Biomarker 2</h3>"
      ],
      "text/plain": [
       "<IPython.core.display.HTML object>"
      ]
     },
     "metadata": {},
     "output_type": "display_data"
    },
    {
     "data": {
      "text/html": [
       "<table class=\"dataframe\">\n",
       "  <thead>\n",
       "    <tr style=\"text-align: center;\">\n",
       "      <th style=\"min-width: 150px;\">Statistic</th>\n",
       "      <th style=\"min-width: 150px;\">p-value</th>\n",
       "      <th style=\"min-width: 150px;\">Significant</th>\n",
       "    </tr>\n",
       "  </thead>\n",
       "  <tbody>\n",
       "    <tr>\n",
       "      <td>9.594946</td>\n",
       "      <td>0.047832</td>\n",
       "      <td>True</td>\n",
       "    </tr>\n",
       "  </tbody>\n",
       "</table>"
      ],
      "text/plain": [
       "<IPython.core.display.HTML object>"
      ]
     },
     "metadata": {},
     "output_type": "display_data"
    },
    {
     "data": {
      "text/html": [
       "<p>Significant differences found in Kruskal-Wallis test for Biomarker 2. Proceeding with Dunn post-hoc test.</p>"
      ],
      "text/plain": [
       "<IPython.core.display.HTML object>"
      ]
     },
     "metadata": {},
     "output_type": "display_data"
    },
    {
     "data": {
      "text/html": [
       "<h3>Dunn Test Results for Biomarker 2</h3>"
      ],
      "text/plain": [
       "<IPython.core.display.HTML object>"
      ]
     },
     "metadata": {},
     "output_type": "display_data"
    },
    {
     "data": {
      "text/html": [
       "<table class=\"dataframe\">\n",
       "  <thead>\n",
       "    <tr style=\"text-align: center;\">\n",
       "      <th style=\"min-width: 150px;\"></th>\n",
       "      <th style=\"min-width: 150px;\">24h 4ºC +PBS</th>\n",
       "      <th style=\"min-width: 150px;\">24h 4ºC -PBS</th>\n",
       "      <th style=\"min-width: 150px;\">72h 4ºC +PBS</th>\n",
       "      <th style=\"min-width: 150px;\">72h 4ºC -PBS</th>\n",
       "      <th style=\"min-width: 150px;\">Reference</th>\n",
       "    </tr>\n",
       "  </thead>\n",
       "  <tbody>\n",
       "    <tr>\n",
       "      <th>24h 4ºC +PBS</th>\n",
       "      <td>1.00000</td>\n",
       "      <td>1.000000</td>\n",
       "      <td>1.000000</td>\n",
       "      <td>1.000000</td>\n",
       "      <td>0.574870</td>\n",
       "    </tr>\n",
       "    <tr>\n",
       "      <th>24h 4ºC -PBS</th>\n",
       "      <td>1.00000</td>\n",
       "      <td>1.000000</td>\n",
       "      <td>1.000000</td>\n",
       "      <td>1.000000</td>\n",
       "      <td>0.030947</td>\n",
       "    </tr>\n",
       "    <tr>\n",
       "      <th>72h 4ºC +PBS</th>\n",
       "      <td>1.00000</td>\n",
       "      <td>1.000000</td>\n",
       "      <td>1.000000</td>\n",
       "      <td>1.000000</td>\n",
       "      <td>0.647593</td>\n",
       "    </tr>\n",
       "    <tr>\n",
       "      <th>72h 4ºC -PBS</th>\n",
       "      <td>1.00000</td>\n",
       "      <td>1.000000</td>\n",
       "      <td>1.000000</td>\n",
       "      <td>1.000000</td>\n",
       "      <td>0.211263</td>\n",
       "    </tr>\n",
       "    <tr>\n",
       "      <th>Reference</th>\n",
       "      <td>0.57487</td>\n",
       "      <td>0.030947</td>\n",
       "      <td>0.647593</td>\n",
       "      <td>0.211263</td>\n",
       "      <td>1.000000</td>\n",
       "    </tr>\n",
       "  </tbody>\n",
       "</table>"
      ],
      "text/plain": [
       "<IPython.core.display.HTML object>"
      ]
     },
     "metadata": {},
     "output_type": "display_data"
    },
    {
     "data": {
      "text/html": [
       "<h1>Biomarker 3</h1>"
      ],
      "text/plain": [
       "<IPython.core.display.HTML object>"
      ]
     },
     "metadata": {},
     "output_type": "display_data"
    },
    {
     "data": {
      "text/html": [
       "<h3>Shapiro-Wilk Test Results for Biomarker 3</h3>"
      ],
      "text/plain": [
       "<IPython.core.display.HTML object>"
      ]
     },
     "metadata": {},
     "output_type": "display_data"
    },
    {
     "data": {
      "text/html": [
       "<table class=\"dataframe\">\n",
       "  <thead>\n",
       "    <tr style=\"text-align: center;\">\n",
       "      <th style=\"min-width: 150px;\">Condition</th>\n",
       "      <th style=\"min-width: 150px;\">Statistic</th>\n",
       "      <th style=\"min-width: 150px;\">p-value</th>\n",
       "      <th style=\"min-width: 150px;\">Normal</th>\n",
       "    </tr>\n",
       "  </thead>\n",
       "  <tbody>\n",
       "    <tr>\n",
       "      <td>Reference</td>\n",
       "      <td>0.861718</td>\n",
       "      <td>0.001337</td>\n",
       "      <td>False</td>\n",
       "    </tr>\n",
       "    <tr>\n",
       "      <td>24h 4ºC +PBS</td>\n",
       "      <td>0.920030</td>\n",
       "      <td>0.030545</td>\n",
       "      <td>False</td>\n",
       "    </tr>\n",
       "    <tr>\n",
       "      <td>72h 4ºC +PBS</td>\n",
       "      <td>0.970478</td>\n",
       "      <td>0.552324</td>\n",
       "      <td>True</td>\n",
       "    </tr>\n",
       "    <tr>\n",
       "      <td>24h 4ºC -PBS</td>\n",
       "      <td>0.946667</td>\n",
       "      <td>0.137568</td>\n",
       "      <td>True</td>\n",
       "    </tr>\n",
       "    <tr>\n",
       "      <td>72h 4ºC -PBS</td>\n",
       "      <td>0.986677</td>\n",
       "      <td>0.962194</td>\n",
       "      <td>True</td>\n",
       "    </tr>\n",
       "  </tbody>\n",
       "</table>"
      ],
      "text/plain": [
       "<IPython.core.display.HTML object>"
      ]
     },
     "metadata": {},
     "output_type": "display_data"
    },
    {
     "data": {
      "text/html": [
       "<p>Not all conditions are normally distributed for Biomarker 3. Proceeding with Kruskal-Wallis test.</p>"
      ],
      "text/plain": [
       "<IPython.core.display.HTML object>"
      ]
     },
     "metadata": {},
     "output_type": "display_data"
    },
    {
     "data": {
      "text/html": [
       "<h3>Kruskal-Wallis Test Results for Biomarker 3</h3>"
      ],
      "text/plain": [
       "<IPython.core.display.HTML object>"
      ]
     },
     "metadata": {},
     "output_type": "display_data"
    },
    {
     "data": {
      "text/html": [
       "<table class=\"dataframe\">\n",
       "  <thead>\n",
       "    <tr style=\"text-align: center;\">\n",
       "      <th style=\"min-width: 150px;\">Statistic</th>\n",
       "      <th style=\"min-width: 150px;\">p-value</th>\n",
       "      <th style=\"min-width: 150px;\">Significant</th>\n",
       "    </tr>\n",
       "  </thead>\n",
       "  <tbody>\n",
       "    <tr>\n",
       "      <td>1.466767</td>\n",
       "      <td>0.832512</td>\n",
       "      <td>False</td>\n",
       "    </tr>\n",
       "  </tbody>\n",
       "</table>"
      ],
      "text/plain": [
       "<IPython.core.display.HTML object>"
      ]
     },
     "metadata": {},
     "output_type": "display_data"
    },
    {
     "data": {
      "text/html": [
       "<p>No significant Kruskal-Wallis results for Biomarker 3, skipping Dunn test.</p>"
      ],
      "text/plain": [
       "<IPython.core.display.HTML object>"
      ]
     },
     "metadata": {},
     "output_type": "display_data"
    },
    {
     "data": {
      "image/png": "[encoded data removed]",
      "text/plain": [
       "<Figure size 1400x800 with 1 Axes>"
      ]
     },
     "metadata": {},
     "output_type": "display_data"
    }
   ],
   "source": [
    "\n",
    "combined_data = []\n",
    "dunn_results = {}\n",
    "\n",
    "for bmk in sorted(biomarker_numbers, key=biomarker_numbers.get):\n",
    "    df = utils.load_and_clean_data(BMKS_PATHS[bmk])\n",
    "    df['Concentration'] = np.log(df['Concentration'])\n",
    "    df['Biomarker'] = bmk\n",
    "\n",
    "    biomarker_number = biomarker_numbers[bmk]\n",
    "    biomarker_label = f\"Biomarker {biomarker_number}\"\n",
    "\n",
    "    shapiro_results = utils.shapiro_wilk_test(df, 'Concentration', 'Condition')\n",
    "    grouped_data = [group['Concentration'].values for name, group in df.groupby('Condition')]\n",
    "    kw_stat, kw_p_value = kruskal(*grouped_data)\n",
    "\n",
    "    dunn_results_bmk = None\n",
    "    if kw_p_value < 0.05:\n",
    "        dunn_results_bmk = utils.posthoc_dunn_test(df)\n",
    "        dunn_results_bmk.to_csv(os.path.join(results_dir, f'{bmk}_dunn_results.csv'), index=True)\n",
    "        dunn_results[bmk] = dunn_results_bmk['Reference'].to_dict()\n",
    "    else:\n",
    "        dunn_results[bmk] = {condition: 1.0 for condition in df['Condition'].unique()}\n",
    "\n",
    "    display_stat_results(biomarker_label, shapiro_results, kw_stat, kw_p_value, dunn_results_bmk)\n",
    "    combined_data.append(df)\n",
    "\n",
    "combined_df = pd.concat(combined_data)\n",
    "\n",
    "plot_combined_boxplot(\n",
    "    combined_df,\n",
    "    value_col='Concentration',\n",
    "    group_col='Condition',\n",
    "    biomarker_col='Biomarker',\n",
    "    biomarker_numbers=biomarker_numbers,\n",
    "    dunn_results=dunn_results\n",
    ")\n"
   ]
  },
  {
   "cell_type": "markdown",
   "metadata": {},
   "source": [
    "# FIGURE 2"
   ]
  },
  {
   "cell_type": "code",
   "execution_count": 14,
   "metadata": {},
   "outputs": [],
   "source": [
    "import matplotlib.pyplot as plt\n",
    "import pandas as pd\n",
    "import numpy as np\n",
    "import matplotlib.cm as cm\n",
    "from matplotlib.colors import Normalize\n",
    "from scipy.stats import wilcoxon, ttest_rel\n",
    "from IPython.display import display, HTML\n",
    "from scipy.stats import friedmanchisquare\n",
    "\n",
    "# Load the Excel file\n",
    "excel_path = \"./data/long_term_stability_study.xlsx\"\n"
   ]
  },
  {
   "cell_type": "code",
   "execution_count": 25,
   "metadata": {},
   "outputs": [],
   "source": [
    "# Load and preprocess data\n",
    "def load_and_preprocess_data(filepath):\n",
    "    df = pd.read_excel(filepath, sheet_name='Results')\n",
    "    biomarker_numbers = {'MMP9': 1, 'HSPB1': 2, 'PERM': 3}\n",
    "    df['Biomarker Number'] = df['Biomarker'].map(biomarker_numbers)\n",
    "    df['t1_month_change'] = ((df['t1 month'] - df['t0']) / df['t0']) * 100\n",
    "    df['t3_months_change'] = ((df['t3 months'] - df['t0']) / df['t0']) * 100\n",
    "    return df.dropna(subset=['t0', 't1 month', 't3 months'])"
   ]
  },
  {
   "cell_type": "code",
   "execution_count": 42,
   "metadata": {},
   "outputs": [],
   "source": [
    "# Perform statistical tests\n",
    "def perform_statistical_tests(df):\n",
    "    results = []\n",
    "    for biomarker in df['Biomarker Number'].unique():\n",
    "        biomarker_data = df[df['Biomarker Number'] == biomarker]\n",
    "        t0_values, t1_values, t3_values = biomarker_data['t0'], biomarker_data['t1 month'], biomarker_data['t3 months']\n",
    "\n",
    "        if len(t0_values) > 1 and not t0_values.equals(t1_values):\n",
    "            results.append({\n",
    "                'Biomarker': f'Biomarker {biomarker}',\n",
    "                ('t0 vs t1', 'Wilcoxon', 'Statistic'): wilcoxon(t0_values, t1_values).statistic,\n",
    "                ('t0 vs t1', 'Wilcoxon', 'p-value'): wilcoxon(t0_values, t1_values).pvalue,\n",
    "                ('t0 vs t1', 't-test', 'Statistic'): ttest_rel(t0_values, t1_values).statistic,\n",
    "                ('t0 vs t1', 't-test', 'p-value'): ttest_rel(t0_values, t1_values).pvalue,\n",
    "                ('t0 vs t1', 'Friedman', 'Statistic'): friedmanchisquare(t0_values, t1_values, t3_values).statistic,\n",
    "                ('t0 vs t1', 'Friedman', 'p-value'): friedmanchisquare(t0_values, t1_values, t3_values).pvalue,\n",
    "                ('t0 vs t3', 'Wilcoxon', 'Statistic'): wilcoxon(t0_values, t3_values).statistic,\n",
    "                ('t0 vs t3', 'Wilcoxon', 'p-value'): wilcoxon(t0_values, t3_values).pvalue,\n",
    "                ('t0 vs t3', 't-test', 'Statistic'): ttest_rel(t0_values, t3_values).statistic,\n",
    "                ('t0 vs t3', 't-test', 'p-value'): ttest_rel(t0_values, t3_values).pvalue,\n",
    "                ('t0 vs t3', 'Friedman', 'Statistic'): friedmanchisquare(t0_values, t1_values, t3_values).statistic,\n",
    "                ('t0 vs t3', 'Friedman', 'p-value'): friedmanchisquare(t0_values, t1_values, t3_values).pvalue\n",
    "            })\n",
    "    return pd.DataFrame(results)"
   ]
  },
  {
   "cell_type": "code",
   "execution_count": 43,
   "metadata": {},
   "outputs": [],
   "source": [
    "# Display statistical results\n",
    "def display_statistical_results(stat_results_df):\n",
    "    columns = [\n",
    "        ('Biomarker', '', ''),\n",
    "        ('t0 vs t1', 'Wilcoxon', 'Statistic'), ('t0 vs t1', 'Wilcoxon', 'p-value'),\n",
    "        ('t0 vs t1', 't-test', 'Statistic'), ('t0 vs t1', 't-test', 'p-value'),\n",
    "        ('t0 vs t1', 'Friedman', 'Statistic'), ('t0 vs t1', 'Friedman', 'p-value'),\n",
    "        ('t0 vs t3', 'Wilcoxon', 'Statistic'), ('t0 vs t3', 'Wilcoxon', 'p-value'),\n",
    "        ('t0 vs t3', 't-test', 'Statistic'), ('t0 vs t3', 't-test', 'p-value'),\n",
    "        ('t0 vs t3', 'Friedman', 'Statistic'), ('t0 vs t3', 'Friedman', 'p-value')\n",
    "    ]\n",
    "    stat_results_df.columns = pd.MultiIndex.from_tuples(columns)\n",
    "    html_content = stat_results_df.style.set_table_styles(\n",
    "        [{'selector': 'th', 'props': [('text-align', 'center'), ('border', '1px solid darkgrey')]},\n",
    "         {'selector': 'td', 'props': [('text-align', 'center'), ('border', '1px solid darkgrey')]}]\n",
    "    ).hide(axis='index').to_html()\n",
    "    display(HTML('<h3>Statistical Test Results for Each Biomarker</h3>'))\n",
    "    display(HTML(html_content))\n"
   ]
  },
  {
   "cell_type": "code",
   "execution_count": 44,
   "metadata": {},
   "outputs": [],
   "source": [
    "# Plot percentage changes\n",
    "def plot_percentage_changes(mean_changes):\n",
    "    fig, ax = plt.subplots(figsize=(5, 6))\n",
    "    cmap = cm.get_cmap('Purples')\n",
    "    bar_width = 0.35\n",
    "    x = np.arange(len(mean_changes))\n",
    "\n",
    "    ax.barh(x + bar_width / 2, mean_changes['t1_month_mean_change'], color=cmap(0.6), edgecolor='black', height=bar_width, label='t1 Month')\n",
    "    ax.barh(x - bar_width / 2, mean_changes['t3_months_mean_change'], color=cmap(0.8), edgecolor='black', height=bar_width, label='t3 Months')\n",
    "    ax.axvline(0, color='black', linestyle='--', linewidth=0.8)\n",
    "    ax.set_xlabel('Mean percentage change from t0 (%)')\n",
    "    ax.set_yticks(x)\n",
    "    ax.set_yticklabels([f'Biomarker {int(b)}' for b in mean_changes['Biomarker Number']], rotation=30)\n",
    "    ax.legend()\n",
    "    plt.tight_layout()\n",
    "    plt.savefig(f\"{results_dir}/percentage_changes.svg\")\n",
    "    plt.show()"
   ]
  },
  {
   "cell_type": "code",
   "execution_count": 45,
   "metadata": {},
   "outputs": [
    {
     "data": {
      "text/html": [
       "<h3>Statistical Test Results for Each Biomarker</h3>"
      ],
      "text/plain": [
       "<IPython.core.display.HTML object>"
      ]
     },
     "metadata": {},
     "output_type": "display_data"
    },
    {
     "data": {
      "text/html": [
       "<style type=\"text/css\">\n",
       "#T_f4089 th {\n",
       "  text-align: center;\n",
       "  border: 1px solid darkgrey;\n",
       "}\n",
       "#T_f4089 td {\n",
       "  text-align: center;\n",
       "  border: 1px solid darkgrey;\n",
       "}\n",
       "</style>\n",
       "<table id=\"T_f4089\">\n",
       "  <thead>\n",
       "    <tr>\n",
       "      <th id=\"T_f4089_level0_col0\" class=\"col_heading level0 col0\" >Biomarker</th>\n",
       "      <th id=\"T_f4089_level0_col1\" class=\"col_heading level0 col1\" colspan=\"6\">t0 vs t1</th>\n",
       "      <th id=\"T_f4089_level0_col7\" class=\"col_heading level0 col7\" colspan=\"6\">t0 vs t3</th>\n",
       "    </tr>\n",
       "    <tr>\n",
       "      <th id=\"T_f4089_level1_col0\" class=\"col_heading level1 col0\" ></th>\n",
       "      <th id=\"T_f4089_level1_col1\" class=\"col_heading level1 col1\" colspan=\"2\">Wilcoxon</th>\n",
       "      <th id=\"T_f4089_level1_col3\" class=\"col_heading level1 col3\" colspan=\"2\">t-test</th>\n",
       "      <th id=\"T_f4089_level1_col5\" class=\"col_heading level1 col5\" colspan=\"2\">Friedman</th>\n",
       "      <th id=\"T_f4089_level1_col7\" class=\"col_heading level1 col7\" colspan=\"2\">Wilcoxon</th>\n",
       "      <th id=\"T_f4089_level1_col9\" class=\"col_heading level1 col9\" colspan=\"2\">t-test</th>\n",
       "      <th id=\"T_f4089_level1_col11\" class=\"col_heading level1 col11\" colspan=\"2\">Friedman</th>\n",
       "    </tr>\n",
       "    <tr>\n",
       "      <th id=\"T_f4089_level2_col0\" class=\"col_heading level2 col0\" ></th>\n",
       "      <th id=\"T_f4089_level2_col1\" class=\"col_heading level2 col1\" >Statistic</th>\n",
       "      <th id=\"T_f4089_level2_col2\" class=\"col_heading level2 col2\" >p-value</th>\n",
       "      <th id=\"T_f4089_level2_col3\" class=\"col_heading level2 col3\" >Statistic</th>\n",
       "      <th id=\"T_f4089_level2_col4\" class=\"col_heading level2 col4\" >p-value</th>\n",
       "      <th id=\"T_f4089_level2_col5\" class=\"col_heading level2 col5\" >Statistic</th>\n",
       "      <th id=\"T_f4089_level2_col6\" class=\"col_heading level2 col6\" >p-value</th>\n",
       "      <th id=\"T_f4089_level2_col7\" class=\"col_heading level2 col7\" >Statistic</th>\n",
       "      <th id=\"T_f4089_level2_col8\" class=\"col_heading level2 col8\" >p-value</th>\n",
       "      <th id=\"T_f4089_level2_col9\" class=\"col_heading level2 col9\" >Statistic</th>\n",
       "      <th id=\"T_f4089_level2_col10\" class=\"col_heading level2 col10\" >p-value</th>\n",
       "      <th id=\"T_f4089_level2_col11\" class=\"col_heading level2 col11\" >Statistic</th>\n",
       "      <th id=\"T_f4089_level2_col12\" class=\"col_heading level2 col12\" >p-value</th>\n",
       "    </tr>\n",
       "  </thead>\n",
       "  <tbody>\n",
       "    <tr>\n",
       "      <td id=\"T_f4089_row0_col0\" class=\"data row0 col0\" >Biomarker 1</td>\n",
       "      <td id=\"T_f4089_row0_col1\" class=\"data row0 col1\" >7.000000</td>\n",
       "      <td id=\"T_f4089_row0_col2\" class=\"data row0 col2\" >0.148438</td>\n",
       "      <td id=\"T_f4089_row0_col3\" class=\"data row0 col3\" >-1.801987</td>\n",
       "      <td id=\"T_f4089_row0_col4\" class=\"data row0 col4\" >0.114551</td>\n",
       "      <td id=\"T_f4089_row0_col5\" class=\"data row0 col5\" >0.250000</td>\n",
       "      <td id=\"T_f4089_row0_col6\" class=\"data row0 col6\" >0.882497</td>\n",
       "      <td id=\"T_f4089_row0_col7\" class=\"data row0 col7\" >16.000000</td>\n",
       "      <td id=\"T_f4089_row0_col8\" class=\"data row0 col8\" >0.843750</td>\n",
       "      <td id=\"T_f4089_row0_col9\" class=\"data row0 col9\" >0.850522</td>\n",
       "      <td id=\"T_f4089_row0_col10\" class=\"data row0 col10\" >0.423170</td>\n",
       "      <td id=\"T_f4089_row0_col11\" class=\"data row0 col11\" >0.250000</td>\n",
       "      <td id=\"T_f4089_row0_col12\" class=\"data row0 col12\" >0.882497</td>\n",
       "    </tr>\n",
       "    <tr>\n",
       "      <td id=\"T_f4089_row1_col0\" class=\"data row1 col0\" >Biomarker 2</td>\n",
       "      <td id=\"T_f4089_row1_col1\" class=\"data row1 col1\" >14.000000</td>\n",
       "      <td id=\"T_f4089_row1_col2\" class=\"data row1 col2\" >0.640625</td>\n",
       "      <td id=\"T_f4089_row1_col3\" class=\"data row1 col3\" >0.245004</td>\n",
       "      <td id=\"T_f4089_row1_col4\" class=\"data row1 col4\" >0.813481</td>\n",
       "      <td id=\"T_f4089_row1_col5\" class=\"data row1 col5\" >6.250000</td>\n",
       "      <td id=\"T_f4089_row1_col6\" class=\"data row1 col6\" >0.043937</td>\n",
       "      <td id=\"T_f4089_row1_col7\" class=\"data row1 col7\" >0.000000</td>\n",
       "      <td id=\"T_f4089_row1_col8\" class=\"data row1 col8\" >0.007812</td>\n",
       "      <td id=\"T_f4089_row1_col9\" class=\"data row1 col9\" >2.970631</td>\n",
       "      <td id=\"T_f4089_row1_col10\" class=\"data row1 col10\" >0.020789</td>\n",
       "      <td id=\"T_f4089_row1_col11\" class=\"data row1 col11\" >6.250000</td>\n",
       "      <td id=\"T_f4089_row1_col12\" class=\"data row1 col12\" >0.043937</td>\n",
       "    </tr>\n",
       "    <tr>\n",
       "      <td id=\"T_f4089_row2_col0\" class=\"data row2 col0\" >Biomarker 3</td>\n",
       "      <td id=\"T_f4089_row2_col1\" class=\"data row2 col1\" >11.000000</td>\n",
       "      <td id=\"T_f4089_row2_col2\" class=\"data row2 col2\" >0.687500</td>\n",
       "      <td id=\"T_f4089_row2_col3\" class=\"data row2 col3\" >0.861651</td>\n",
       "      <td id=\"T_f4089_row2_col4\" class=\"data row2 col4\" >0.421975</td>\n",
       "      <td id=\"T_f4089_row2_col5\" class=\"data row2 col5\" >0.000000</td>\n",
       "      <td id=\"T_f4089_row2_col6\" class=\"data row2 col6\" >1.000000</td>\n",
       "      <td id=\"T_f4089_row2_col7\" class=\"data row2 col7\" >13.000000</td>\n",
       "      <td id=\"T_f4089_row2_col8\" class=\"data row2 col8\" >0.937500</td>\n",
       "      <td id=\"T_f4089_row2_col9\" class=\"data row2 col9\" >0.970756</td>\n",
       "      <td id=\"T_f4089_row2_col10\" class=\"data row2 col10\" >0.369160</td>\n",
       "      <td id=\"T_f4089_row2_col11\" class=\"data row2 col11\" >0.000000</td>\n",
       "      <td id=\"T_f4089_row2_col12\" class=\"data row2 col12\" >1.000000</td>\n",
       "    </tr>\n",
       "  </tbody>\n",
       "</table>\n"
      ],
      "text/plain": [
       "<IPython.core.display.HTML object>"
      ]
     },
     "metadata": {},
     "output_type": "display_data"
    },
    {
     "data": {
      "image/png": "[encoded data removed]",
      "text/plain": [
       "<Figure size 500x600 with 1 Axes>"
      ]
     },
     "metadata": {},
     "output_type": "display_data"
    }
   ],
   "source": [
    "# Main execution\n",
    "df_clean = load_and_preprocess_data(excel_path)\n",
    "stat_results_df = perform_statistical_tests(df_clean).sort_values(by='Biomarker')\n",
    "display_statistical_results(stat_results_df)\n",
    "\n",
    "mean_changes = df_clean.groupby('Biomarker Number').agg(\n",
    "    t1_month_mean_change=('t1_month_change', 'mean'),\n",
    "    t3_months_mean_change=('t3_months_change', 'mean')\n",
    ").reset_index().sort_values(by='Biomarker Number')\n",
    "\n",
    "plot_percentage_changes(mean_changes)\n"
   ]
  },
  {
   "cell_type": "code",
   "execution_count": null,
   "metadata": {},
   "outputs": [],
   "source": []
  }
 ],
 "metadata": {
  "kernelspec": {
   "display_name": ".venv",
   "language": "python",
   "name": "python3"
  },
  "language_info": {
   "codemirror_mode": {
    "name": "ipython",
    "version": 3
   },
   "file_extension": ".py",
   "mimetype": "text/x-python",
   "name": "python",
   "nbconvert_exporter": "python",
   "pygments_lexer": "ipython3",
   "version": "3.12.3"
  }
 },
 "nbformat": 4,
 "nbformat_minor": 2
}
