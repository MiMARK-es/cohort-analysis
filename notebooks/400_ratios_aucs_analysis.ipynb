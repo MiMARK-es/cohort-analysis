{
 "cells": [
  {
   "cell_type": "markdown",
   "metadata": {},
   "source": [
    "# Cohort 400 ratios AUCs analysis\n",
    "\n",
    "### Imports and environment setup\n",
    "\n",
    "- Date of run: 2024-08-20\n",
    "- Environment: python 3.12\n",
    "- Packages required: pandas, numpy, sklearn, statsmodels, seaborn, matplotlib"
   ]
  },
  {
   "cell_type": "code",
   "execution_count": 1,
   "metadata": {},
   "outputs": [],
   "source": [
    "# Include in the environment the code directory with the utils function\n",
    "import sys\n",
    "sys.path.append('../code/')"
   ]
  },
  {
   "cell_type": "code",
   "execution_count": 2,
   "metadata": {},
   "outputs": [],
   "source": [
    "# Library imports\n",
    "import pandas as pd\n",
    "from IPython.display import display, HTML\n",
    "import matplotlib.pyplot as plt\n",
    "import seaborn as sns\n",
    "import numpy as np\n",
    "\n",
    "# Utils imports\n",
    "import cohort_analysis_utils as utils\n",
    "import ms_utils"
   ]
  },
  {
   "cell_type": "code",
   "execution_count": 3,
   "metadata": {},
   "outputs": [],
   "source": [
    "# Remove warnings for readability\n",
    "import warnings\n",
    "warnings.filterwarnings('ignore')\n",
    "\n",
    "# Remove cell printing limits\n",
    "pd.set_option('display.max_rows', None)"
   ]
  },
  {
   "cell_type": "markdown",
   "metadata": {},
   "source": [
    "# Data loading and preprosessing\n",
    "\n",
    "For this analysis, we are going to work with the MS ratios file ─located at [\"data/ms/Womec_targetedDIA_ratio.csv\"](<../data/ms/Womec_targetedDIA_ratio.csv>)─. In the same folders there are files for MS areas, untargeted MS, metadata from the patients and protein data."
   ]
  },
  {
   "cell_type": "code",
   "execution_count": 4,
   "metadata": {},
   "outputs": [],
   "source": [
    "METADATA_PATH = '../data/ms/Womec_DIA_patients.csv'\n",
    "WOMEC_DIA_PATH = '../data/ms/Womec_targetedDIA_ratio.csv'\n",
    "PROTEIN_DATA_PATH = '../data/ms/Womec_DIA_protein_data.csv'\n",
    "\n",
    "# Key field to link the metadata with the WOMEC data\n",
    "KEY_COLUMN = 'filename_womec'\n"
   ]
  },
  {
   "cell_type": "code",
   "execution_count": 5,
   "metadata": {},
   "outputs": [],
   "source": [
    "# Load, harmonize and merge the data with the metadata\n",
    "df_400 = ms_utils.load_data_with_metadata(WOMEC_DIA_PATH, METADATA_PATH, KEY_COLUMN)"
   ]
  },
  {
   "cell_type": "code",
   "execution_count": 6,
   "metadata": {},
   "outputs": [],
   "source": [
    "# Different peptides for the same protein will have the same column name, rename then as _0, _1, _2, etc.\n",
    "df_400 = ms_utils.rename_duplicated_columns(df_400)"
   ]
  },
  {
   "cell_type": "code",
   "execution_count": 7,
   "metadata": {},
   "outputs": [],
   "source": [
    "# Ensure categorical columns are treated as such\n",
    "df_400 = utils.cols_as_category(df_400, {'Condition':{'Benigna': 0, 'EC': 1, 'Sarcoma uterino': 1}})"
   ]
  },
  {
   "cell_type": "code",
   "execution_count": 8,
   "metadata": {},
   "outputs": [],
   "source": [
    "# Define the biomarkers columns\n",
    "BIOMARKERS_400 = list(df_400.columns[17:])"
   ]
  },
  {
   "cell_type": "code",
   "execution_count": 9,
   "metadata": {},
   "outputs": [],
   "source": [
    "# Ensure numerical columns are treated as such\n",
    "df_400 = utils.cols_as_numbers(df_400, BIOMARKERS_400)"
   ]
  },
  {
   "cell_type": "code",
   "execution_count": 10,
   "metadata": {},
   "outputs": [],
   "source": [
    "# We load in a separate dataframe the protein data\n",
    "df_protein_data = pd.read_csv(PROTEIN_DATA_PATH, sep='\\t', index_col='Genes', header=0)"
   ]
  },
  {
   "cell_type": "markdown",
   "metadata": {},
   "source": [
    "# Computing the models"
   ]
  },
  {
   "cell_type": "code",
   "execution_count": 11,
   "metadata": {},
   "outputs": [],
   "source": [
    "# General params\n",
    "RESULTS_PATH = '../data/results/400'"
   ]
  },
  {
   "cell_type": "markdown",
   "metadata": {},
   "source": [
    "We will consider only the biomarkers with at least 100 samples for Benign and Cancer conditions with an individual AUC of at least 0.65"
   ]
  },
  {
   "cell_type": "code",
   "execution_count": 12,
   "metadata": {},
   "outputs": [],
   "source": [
    "# Load the results\n",
    "df_400_results_direct_max_1 = pd.read_csv(f'{RESULTS_PATH}/direct/max_1.csv', sep=',', index_col=0, header=0)"
   ]
  },
  {
   "cell_type": "code",
   "execution_count": 13,
   "metadata": {},
   "outputs": [],
   "source": [
    "# Filter out the models that are not significant\n",
    "BEST_BIOMARKERS = []\n",
    "\n",
    "for biomarker in df_400_results_direct_max_1.index:\n",
    "    if df_400_results_direct_max_1.loc[biomarker, 'AUC'] > 0.65:\n",
    "        # Require the biomarker to appear in at least 100 samples of each condition\n",
    "        if df_400[df_400['Condition'] == 1][biomarker].notna().sum() > 100 and (df_400[df_400['Condition'] == 0][biomarker].notna()).sum() > 100:\n",
    "            BEST_BIOMARKERS.append(biomarker)"
   ]
  },
  {
   "cell_type": "code",
   "execution_count": 14,
   "metadata": {},
   "outputs": [
    {
     "name": "stdout",
     "output_type": "stream",
     "text": [
      "79 biomarkers have an AUC > 0.65 and appear in at least 100 samples of each condition\n"
     ]
    }
   ],
   "source": [
    "print(f\"{len(set([bmk.split('_')[0] for bmk in BEST_BIOMARKERS]))} biomarkers have an AUC > 0.65 and appear in at least 100 samples of each condition\")"
   ]
  },
  {
   "cell_type": "markdown",
   "metadata": {},
   "source": [
    "We will consider for computing biomarker ratios only the relevant biomarkers (those with AUC > 0.65 and 100 for each condition)"
   ]
  },
  {
   "cell_type": "code",
   "execution_count": 15,
   "metadata": {},
   "outputs": [],
   "source": [
    "# This is costly, so is commented out to compute it only once\n",
    "\n",
    "# _ = utils.compute_all_models_and_save(df=df_400, \n",
    "#                                       biomarkers=BEST_BIOMARKERS, \n",
    "#                                       target_col='Condition', \n",
    "#                                       methods=['biomarker_ratio'], \n",
    "#                                       max_biomarker_count=2,\n",
    "#                                       folder_name=RESULTS_PATH)"
   ]
  },
  {
   "cell_type": "markdown",
   "metadata": {},
   "source": [
    "# Results\n",
    "\n",
    "Expectedly, as was happening with the usual AUC analysis, the biomarkers ratios with best performance are those with oposite tendencies. But in this scenario, they present slightly smaller AUCs than the classical models."
   ]
  },
  {
   "cell_type": "code",
   "execution_count": 22,
   "metadata": {},
   "outputs": [
    {
     "data": {
      "text/html": [
       "<div>\n",
       "<style scoped>\n",
       "    .dataframe tbody tr th:only-of-type {\n",
       "        vertical-align: middle;\n",
       "    }\n",
       "\n",
       "    .dataframe tbody tr th {\n",
       "        vertical-align: top;\n",
       "    }\n",
       "\n",
       "    .dataframe thead th {\n",
       "        text-align: right;\n",
       "    }\n",
       "</style>\n",
       "<table border=\"1\" class=\"dataframe\">\n",
       "  <thead>\n",
       "    <tr style=\"text-align: right;\">\n",
       "      <th></th>\n",
       "      <th>Biomarker_2</th>\n",
       "      <th>AUC</th>\n",
       "      <th>Sensitivity</th>\n",
       "      <th>Specificity</th>\n",
       "      <th>NPV</th>\n",
       "      <th>PPV</th>\n",
       "      <th>Best_Threshold</th>\n",
       "    </tr>\n",
       "    <tr>\n",
       "      <th>Biomarker_1</th>\n",
       "      <th></th>\n",
       "      <th></th>\n",
       "      <th></th>\n",
       "      <th></th>\n",
       "      <th></th>\n",
       "      <th></th>\n",
       "      <th></th>\n",
       "    </tr>\n",
       "  </thead>\n",
       "  <tbody>\n",
       "    <tr>\n",
       "      <th>TARS1_2</th>\n",
       "      <td>DCN_1</td>\n",
       "      <td>0.87482</td>\n",
       "      <td>0.95067</td>\n",
       "      <td>0.35915</td>\n",
       "      <td>0.82258</td>\n",
       "      <td>0.69967</td>\n",
       "      <td>0.52525</td>\n",
       "    </tr>\n",
       "    <tr>\n",
       "      <th>LDHA_0</th>\n",
       "      <td>DCN_0</td>\n",
       "      <td>0.87143</td>\n",
       "      <td>0.95413</td>\n",
       "      <td>0.25547</td>\n",
       "      <td>0.77778</td>\n",
       "      <td>0.67097</td>\n",
       "      <td>0.58586</td>\n",
       "    </tr>\n",
       "    <tr>\n",
       "      <th>LDHA_0</th>\n",
       "      <td>DCN_1</td>\n",
       "      <td>0.87114</td>\n",
       "      <td>0.96000</td>\n",
       "      <td>0.20408</td>\n",
       "      <td>0.76923</td>\n",
       "      <td>0.64865</td>\n",
       "      <td>0.57576</td>\n",
       "    </tr>\n",
       "    <tr>\n",
       "      <th>TARS1_2</th>\n",
       "      <td>ACE_0</td>\n",
       "      <td>0.87112</td>\n",
       "      <td>0.95575</td>\n",
       "      <td>0.30986</td>\n",
       "      <td>0.81481</td>\n",
       "      <td>0.68790</td>\n",
       "      <td>0.53535</td>\n",
       "    </tr>\n",
       "    <tr>\n",
       "      <th>FASN</th>\n",
       "      <td>DCN_1</td>\n",
       "      <td>0.87071</td>\n",
       "      <td>0.96818</td>\n",
       "      <td>0.21805</td>\n",
       "      <td>0.80556</td>\n",
       "      <td>0.67192</td>\n",
       "      <td>0.51515</td>\n",
       "    </tr>\n",
       "    <tr>\n",
       "      <th>AGRN_0</th>\n",
       "      <td>ACE_0</td>\n",
       "      <td>0.87063</td>\n",
       "      <td>0.96000</td>\n",
       "      <td>0.44361</td>\n",
       "      <td>0.86765</td>\n",
       "      <td>0.74483</td>\n",
       "      <td>0.59596</td>\n",
       "    </tr>\n",
       "    <tr>\n",
       "      <th>PKM_0</th>\n",
       "      <td>DCN_1</td>\n",
       "      <td>0.87023</td>\n",
       "      <td>0.95982</td>\n",
       "      <td>0.19444</td>\n",
       "      <td>0.75676</td>\n",
       "      <td>0.64955</td>\n",
       "      <td>0.58586</td>\n",
       "    </tr>\n",
       "    <tr>\n",
       "      <th>FASN</th>\n",
       "      <td>ACE_0</td>\n",
       "      <td>0.86876</td>\n",
       "      <td>0.95023</td>\n",
       "      <td>0.30827</td>\n",
       "      <td>0.78846</td>\n",
       "      <td>0.69536</td>\n",
       "      <td>0.53535</td>\n",
       "    </tr>\n",
       "    <tr>\n",
       "      <th>FASN</th>\n",
       "      <td>DCN_0</td>\n",
       "      <td>0.86863</td>\n",
       "      <td>0.96651</td>\n",
       "      <td>0.20000</td>\n",
       "      <td>0.78125</td>\n",
       "      <td>0.66887</td>\n",
       "      <td>0.51515</td>\n",
       "    </tr>\n",
       "    <tr>\n",
       "      <th>MCM3_1</th>\n",
       "      <td>DCN_1</td>\n",
       "      <td>0.86788</td>\n",
       "      <td>0.95964</td>\n",
       "      <td>0.24627</td>\n",
       "      <td>0.78571</td>\n",
       "      <td>0.67937</td>\n",
       "      <td>0.51515</td>\n",
       "    </tr>\n",
       "    <tr>\n",
       "      <th>CLIC1_1</th>\n",
       "      <td>DCN_1</td>\n",
       "      <td>0.86757</td>\n",
       "      <td>0.95111</td>\n",
       "      <td>0.27891</td>\n",
       "      <td>0.78846</td>\n",
       "      <td>0.66875</td>\n",
       "      <td>0.57576</td>\n",
       "    </tr>\n",
       "    <tr>\n",
       "      <th>ENO1_0</th>\n",
       "      <td>DCN_1</td>\n",
       "      <td>0.86737</td>\n",
       "      <td>0.96444</td>\n",
       "      <td>0.21233</td>\n",
       "      <td>0.79487</td>\n",
       "      <td>0.65361</td>\n",
       "      <td>0.59596</td>\n",
       "    </tr>\n",
       "    <tr>\n",
       "      <th>PKM_0</th>\n",
       "      <td>DCN_0</td>\n",
       "      <td>0.86654</td>\n",
       "      <td>0.96744</td>\n",
       "      <td>0.20896</td>\n",
       "      <td>0.80000</td>\n",
       "      <td>0.66242</td>\n",
       "      <td>0.59596</td>\n",
       "    </tr>\n",
       "    <tr>\n",
       "      <th>TPD52_1</th>\n",
       "      <td>DCN_1</td>\n",
       "      <td>0.86651</td>\n",
       "      <td>0.96889</td>\n",
       "      <td>0.20690</td>\n",
       "      <td>0.81081</td>\n",
       "      <td>0.65465</td>\n",
       "      <td>0.52525</td>\n",
       "    </tr>\n",
       "    <tr>\n",
       "      <th>LDHA_1</th>\n",
       "      <td>DCN_0</td>\n",
       "      <td>0.86620</td>\n",
       "      <td>0.95413</td>\n",
       "      <td>0.30147</td>\n",
       "      <td>0.80392</td>\n",
       "      <td>0.68647</td>\n",
       "      <td>0.58586</td>\n",
       "    </tr>\n",
       "  </tbody>\n",
       "</table>\n",
       "</div>"
      ],
      "text/plain": [
       "            Biomarker_2      AUC  Sensitivity  Specificity      NPV      PPV  \\\n",
       "Biomarker_1                                                                    \n",
       "TARS1_2           DCN_1  0.87482      0.95067      0.35915  0.82258  0.69967   \n",
       "LDHA_0            DCN_0  0.87143      0.95413      0.25547  0.77778  0.67097   \n",
       "LDHA_0            DCN_1  0.87114      0.96000      0.20408  0.76923  0.64865   \n",
       "TARS1_2           ACE_0  0.87112      0.95575      0.30986  0.81481  0.68790   \n",
       "FASN              DCN_1  0.87071      0.96818      0.21805  0.80556  0.67192   \n",
       "AGRN_0            ACE_0  0.87063      0.96000      0.44361  0.86765  0.74483   \n",
       "PKM_0             DCN_1  0.87023      0.95982      0.19444  0.75676  0.64955   \n",
       "FASN              ACE_0  0.86876      0.95023      0.30827  0.78846  0.69536   \n",
       "FASN              DCN_0  0.86863      0.96651      0.20000  0.78125  0.66887   \n",
       "MCM3_1            DCN_1  0.86788      0.95964      0.24627  0.78571  0.67937   \n",
       "CLIC1_1           DCN_1  0.86757      0.95111      0.27891  0.78846  0.66875   \n",
       "ENO1_0            DCN_1  0.86737      0.96444      0.21233  0.79487  0.65361   \n",
       "PKM_0             DCN_0  0.86654      0.96744      0.20896  0.80000  0.66242   \n",
       "TPD52_1           DCN_1  0.86651      0.96889      0.20690  0.81081  0.65465   \n",
       "LDHA_1            DCN_0  0.86620      0.95413      0.30147  0.80392  0.68647   \n",
       "\n",
       "             Best_Threshold  \n",
       "Biomarker_1                  \n",
       "TARS1_2             0.52525  \n",
       "LDHA_0              0.58586  \n",
       "LDHA_0              0.57576  \n",
       "TARS1_2             0.53535  \n",
       "FASN                0.51515  \n",
       "AGRN_0              0.59596  \n",
       "PKM_0               0.58586  \n",
       "FASN                0.53535  \n",
       "FASN                0.51515  \n",
       "MCM3_1              0.51515  \n",
       "CLIC1_1             0.57576  \n",
       "ENO1_0              0.59596  \n",
       "PKM_0               0.59596  \n",
       "TPD52_1             0.52525  \n",
       "LDHA_1              0.58586  "
      ]
     },
     "execution_count": 22,
     "metadata": {},
     "output_type": "execute_result"
    }
   ],
   "source": [
    "# Show the results\n",
    "df_400_results_direct_max_2 = pd.read_csv(f'{RESULTS_PATH}/biomarker_ratio/max_2.csv', sep=',', index_col=0, header=0)\n",
    "df_400_results_direct_max_2.head(15)"
   ]
  },
  {
   "cell_type": "code",
   "execution_count": 17,
   "metadata": {},
   "outputs": [
    {
     "data": {
      "text/plain": [
       "<Axes: xlabel='DCN_1', ylabel='Count'>"
      ]
     },
     "execution_count": 17,
     "metadata": {},
     "output_type": "execute_result"
    },
    {
     "data": {
      "image/png": "[encoded data removed]",
      "text/plain": [
       "<Figure size 640x480 with 1 Axes>"
      ]
     },
     "metadata": {},
     "output_type": "display_data"
    }
   ],
   "source": [
    "sns.histplot(df_400, x='DCN_1', hue='Condition', bins=20, kde=True, log_scale=True)\n"
   ]
  },
  {
   "cell_type": "code",
   "execution_count": 23,
   "metadata": {},
   "outputs": [
    {
     "data": {
      "text/plain": [
       "<Axes: xlabel='TARS1_2', ylabel='Count'>"
      ]
     },
     "execution_count": 23,
     "metadata": {},
     "output_type": "execute_result"
    },
    {
     "data": {
      "image/png": "[encoded data removed]",
      "text/plain": [
       "<Figure size 640x480 with 1 Axes>"
      ]
     },
     "metadata": {},
     "output_type": "display_data"
    }
   ],
   "source": [
    "sns.histplot(df_400, x='TARS1_2', hue='Condition', bins=20, kde=True, log_scale=True)"
   ]
  }
 ],
 "metadata": {
  "kernelspec": {
   "display_name": ".venv",
   "language": "python",
   "name": "python3"
  },
  "language_info": {
   "codemirror_mode": {
    "name": "ipython",
    "version": 3
   },
   "file_extension": ".py",
   "mimetype": "text/x-python",
   "name": "python",
   "nbconvert_exporter": "python",
   "pygments_lexer": "ipython3",
   "version": "3.12.3"
  }
 },
 "nbformat": 4,
 "nbformat_minor": 2
}
