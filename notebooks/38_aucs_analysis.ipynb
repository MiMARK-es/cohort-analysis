{
 "cells": [
  {
   "cell_type": "markdown",
   "metadata": {},
   "source": [
    "# Cohort 38 AUCs analysis \n",
    "\n",
    "### Imports and environment setup\n",
    "\n",
    "- Date of run: 2024-09-26\n",
    "- Environment: python 3.12\n",
    "- Packages required: pandas, numpy, sklearn, statsmodels, seaborn, matplotlib"
   ]
  },
  {
   "cell_type": "code",
   "execution_count": 1,
   "metadata": {},
   "outputs": [],
   "source": [
    "# Include in the environment the code directory with the utils function\n",
    "import sys\n",
    "sys.path.append('../code/')"
   ]
  },
  {
   "cell_type": "code",
   "execution_count": 2,
   "metadata": {},
   "outputs": [],
   "source": [
    "# Library imports\n",
    "import pandas as pd\n",
    "from IPython.display import display, HTML\n",
    "import matplotlib.pyplot as plt\n",
    "import seaborn as sns\n",
    "import numpy as np\n",
    "\n",
    "# Utils imports\n",
    "import cohort_analysis_utils as utils\n",
    "import ms_utils"
   ]
  },
  {
   "cell_type": "code",
   "execution_count": 3,
   "metadata": {},
   "outputs": [],
   "source": [
    "# Remove warnings for readability\n",
    "import warnings\n",
    "warnings.filterwarnings('ignore')\n",
    "\n",
    "# Remove cell printing limits\n",
    "pd.set_option('display.max_rows', None)"
   ]
  },
  {
   "cell_type": "markdown",
   "metadata": {},
   "source": [
    "# Data loading and preprosessing\n",
    "\n",
    "For this analysis, we are going to work with the MS matrix ─located at [\"data/ms/MS_verification_38.csv\"](<../data/ms/MS_verification_38.csv>)─. For this dataset so far we have no metadata, just values for peptides and pathology condition for the 38 samples."
   ]
  },
  {
   "cell_type": "code",
   "execution_count": 4,
   "metadata": {},
   "outputs": [],
   "source": [
    "MS_38_PATH = \"../data/ms/MS_verification_38.csv\""
   ]
  },
  {
   "cell_type": "code",
   "execution_count": 5,
   "metadata": {},
   "outputs": [],
   "source": [
    "df_38 = pd.read_csv(MS_38_PATH, sep=\"\\t\", header=[0,1], index_col=0)"
   ]
  },
  {
   "cell_type": "code",
   "execution_count": 11,
   "metadata": {},
   "outputs": [],
   "source": [
    "# Combine the names of headers at level 0 and 1 and make them the new headers\n",
    "df_38.columns = [\"_\".join(filter(lambda x: x != '', col)).strip() for col in df_38.columns.values]\n"
   ]
  },
  {
   "cell_type": "code",
   "execution_count": 18,
   "metadata": {},
   "outputs": [],
   "source": [
    "# Rename the column 0 to \"Pathology\" and make it categorical\n",
    "df_38 = df_38.rename(columns={df_38.columns[0]: \"Pathology\"})\n",
    "df_38 = utils.cols_as_category(df_38, {'Pathology':{'C2': 0, 'T1': 1}})"
   ]
  },
  {
   "cell_type": "markdown",
   "metadata": {},
   "source": [
    "# Computing the models"
   ]
  },
  {
   "cell_type": "code",
   "execution_count": 24,
   "metadata": {},
   "outputs": [],
   "source": [
    "# General parames\n",
    "RESULTS_PATH = '../data/results/38'\n",
    "BIOMARKERS_38 = df_38.columns[1:]\n",
    "METHODS = ['direct']"
   ]
  },
  {
   "cell_type": "code",
   "execution_count": 32,
   "metadata": {},
   "outputs": [],
   "source": [
    "# This is costly, so is commented out to compute it only once\n",
    "\n",
    "models_38 = utils.compute_all_models_and_save(df=df_38, \n",
    "                                              biomarkers=BIOMARKERS_38, \n",
    "                                              target_col='Pathology', \n",
    "                                              methods=METHODS, \n",
    "                                              max_biomarker_count=1,\n",
    "                                              folder_name=RESULTS_PATH,\n",
    "                                              auc_threshold=0.0, \n",
    "                                              plot_rocs=True)"
   ]
  },
  {
   "cell_type": "code",
   "execution_count": 31,
   "metadata": {},
   "outputs": [
    {
     "data": {
      "text/html": [
       "<div>\n",
       "<style scoped>\n",
       "    .dataframe tbody tr th:only-of-type {\n",
       "        vertical-align: middle;\n",
       "    }\n",
       "\n",
       "    .dataframe tbody tr th {\n",
       "        vertical-align: top;\n",
       "    }\n",
       "\n",
       "    .dataframe thead th {\n",
       "        text-align: right;\n",
       "    }\n",
       "</style>\n",
       "<table border=\"1\" class=\"dataframe\">\n",
       "  <thead>\n",
       "    <tr style=\"text-align: right;\">\n",
       "      <th></th>\n",
       "      <th>AUC</th>\n",
       "    </tr>\n",
       "    <tr>\n",
       "      <th>Biomarker_1</th>\n",
       "      <th></th>\n",
       "    </tr>\n",
       "  </thead>\n",
       "  <tbody>\n",
       "    <tr>\n",
       "      <th>PERM_IANVFTNAFR</th>\n",
       "      <td>0.96667</td>\n",
       "    </tr>\n",
       "    <tr>\n",
       "      <th>PERM_VVLEGGIDPILR</th>\n",
       "      <td>0.95000</td>\n",
       "    </tr>\n",
       "    <tr>\n",
       "      <th>CADH1_VFYSITGQGADTPPVGVFIIER</th>\n",
       "      <td>0.94444</td>\n",
       "    </tr>\n",
       "    <tr>\n",
       "      <th>SPIT1_SFVYGGCLGNK</th>\n",
       "      <td>0.93333</td>\n",
       "    </tr>\n",
       "    <tr>\n",
       "      <th>CADH1_NLVQIK</th>\n",
       "      <td>0.92500</td>\n",
       "    </tr>\n",
       "    <tr>\n",
       "      <th>SPIT1_WYYDPTEQICK</th>\n",
       "      <td>0.92500</td>\n",
       "    </tr>\n",
       "    <tr>\n",
       "      <th>ENOA_YISPDQLADLYK</th>\n",
       "      <td>0.91944</td>\n",
       "    </tr>\n",
       "    <tr>\n",
       "      <th>KPYM_NTGIICTIGPASR</th>\n",
       "      <td>0.91389</td>\n",
       "    </tr>\n",
       "    <tr>\n",
       "      <th>CASP3_SGTDVDAANLR</th>\n",
       "      <td>0.91389</td>\n",
       "    </tr>\n",
       "    <tr>\n",
       "      <th>MMP9_SLGPALLLLQK</th>\n",
       "      <td>0.91389</td>\n",
       "    </tr>\n",
       "  </tbody>\n",
       "</table>\n",
       "</div>"
      ],
      "text/plain": [
       "                                  AUC\n",
       "Biomarker_1                          \n",
       "PERM_IANVFTNAFR               0.96667\n",
       "PERM_VVLEGGIDPILR             0.95000\n",
       "CADH1_VFYSITGQGADTPPVGVFIIER  0.94444\n",
       "SPIT1_SFVYGGCLGNK             0.93333\n",
       "CADH1_NLVQIK                  0.92500\n",
       "SPIT1_WYYDPTEQICK             0.92500\n",
       "ENOA_YISPDQLADLYK             0.91944\n",
       "KPYM_NTGIICTIGPASR            0.91389\n",
       "CASP3_SGTDVDAANLR             0.91389\n",
       "MMP9_SLGPALLLLQK              0.91389"
      ]
     },
     "execution_count": 31,
     "metadata": {},
     "output_type": "execute_result"
    }
   ],
   "source": [
    "# Load the results\n",
    "df_38_results_direct_max_1 = pd.read_csv(f'{RESULTS_PATH}/direct/max_1.csv', sep=',', index_col=0, header=0)\n",
    "df_38_results_direct_max_1[[\"AUC\"]].head(10)"
   ]
  },
  {
   "cell_type": "code",
   "execution_count": 34,
   "metadata": {},
   "outputs": [
    {
     "data": {
      "text/html": [
       "<img src='../data/results/38/direct/max_1/rocs/PERM_IANVFTNAFR.png'>"
      ],
      "text/plain": [
       "<IPython.core.display.HTML object>"
      ]
     },
     "metadata": {},
     "output_type": "display_data"
    }
   ],
   "source": [
    "roc_image_path = f\"{RESULTS_PATH}/direct/max_1/rocs/PERM_IANVFTNAFR.png\"\n",
    "display(HTML(\"<img src='\"+roc_image_path+\"'>\"))"
   ]
  },
  {
   "cell_type": "code",
   "execution_count": 35,
   "metadata": {},
   "outputs": [
    {
     "data": {
      "text/html": [
       "<div>\n",
       "<style scoped>\n",
       "    .dataframe tbody tr th:only-of-type {\n",
       "        vertical-align: middle;\n",
       "    }\n",
       "\n",
       "    .dataframe tbody tr th {\n",
       "        vertical-align: top;\n",
       "    }\n",
       "\n",
       "    .dataframe thead th {\n",
       "        text-align: right;\n",
       "    }\n",
       "</style>\n",
       "<table border=\"1\" class=\"dataframe\">\n",
       "  <thead>\n",
       "    <tr style=\"text-align: right;\">\n",
       "      <th></th>\n",
       "      <th>Sensitivity</th>\n",
       "      <th>Specificity</th>\n",
       "      <th>NPV</th>\n",
       "      <th>PPV</th>\n",
       "    </tr>\n",
       "    <tr>\n",
       "      <th>Threshold</th>\n",
       "      <th></th>\n",
       "      <th></th>\n",
       "      <th></th>\n",
       "      <th></th>\n",
       "    </tr>\n",
       "  </thead>\n",
       "  <tbody>\n",
       "    <tr>\n",
       "      <th>inf</th>\n",
       "      <td>0.00</td>\n",
       "      <td>1.000000</td>\n",
       "      <td>0.473684</td>\n",
       "      <td>0.000000</td>\n",
       "    </tr>\n",
       "    <tr>\n",
       "      <th>0.999554</th>\n",
       "      <td>0.05</td>\n",
       "      <td>1.000000</td>\n",
       "      <td>0.486486</td>\n",
       "      <td>1.000000</td>\n",
       "    </tr>\n",
       "    <tr>\n",
       "      <th>0.788990</th>\n",
       "      <td>0.75</td>\n",
       "      <td>1.000000</td>\n",
       "      <td>0.782609</td>\n",
       "      <td>1.000000</td>\n",
       "    </tr>\n",
       "    <tr>\n",
       "      <th>0.784620</th>\n",
       "      <td>0.75</td>\n",
       "      <td>0.944444</td>\n",
       "      <td>0.772727</td>\n",
       "      <td>0.937500</td>\n",
       "    </tr>\n",
       "    <tr>\n",
       "      <th>0.780393</th>\n",
       "      <td>0.80</td>\n",
       "      <td>0.944444</td>\n",
       "      <td>0.809524</td>\n",
       "      <td>0.941176</td>\n",
       "    </tr>\n",
       "    <tr>\n",
       "      <th>0.777810</th>\n",
       "      <td>0.80</td>\n",
       "      <td>0.888889</td>\n",
       "      <td>0.800000</td>\n",
       "      <td>0.888889</td>\n",
       "    </tr>\n",
       "    <tr>\n",
       "      <th>0.699762</th>\n",
       "      <td>0.95</td>\n",
       "      <td>0.888889</td>\n",
       "      <td>0.941176</td>\n",
       "      <td>0.904762</td>\n",
       "    </tr>\n",
       "    <tr>\n",
       "      <th>0.595593</th>\n",
       "      <td>0.95</td>\n",
       "      <td>0.722222</td>\n",
       "      <td>0.928571</td>\n",
       "      <td>0.791667</td>\n",
       "    </tr>\n",
       "    <tr>\n",
       "      <th>0.592341</th>\n",
       "      <td>1.00</td>\n",
       "      <td>0.722222</td>\n",
       "      <td>1.000000</td>\n",
       "      <td>0.800000</td>\n",
       "    </tr>\n",
       "    <tr>\n",
       "      <th>0.578491</th>\n",
       "      <td>1.00</td>\n",
       "      <td>0.666667</td>\n",
       "      <td>1.000000</td>\n",
       "      <td>0.769231</td>\n",
       "    </tr>\n",
       "    <tr>\n",
       "      <th>0.529667</th>\n",
       "      <td>1.00</td>\n",
       "      <td>0.000000</td>\n",
       "      <td>0.000000</td>\n",
       "      <td>0.526316</td>\n",
       "    </tr>\n",
       "  </tbody>\n",
       "</table>\n",
       "</div>"
      ],
      "text/plain": [
       "           Sensitivity  Specificity       NPV       PPV\n",
       "Threshold                                              \n",
       "inf               0.00     1.000000  0.473684  0.000000\n",
       "0.999554          0.05     1.000000  0.486486  1.000000\n",
       "0.788990          0.75     1.000000  0.782609  1.000000\n",
       "0.784620          0.75     0.944444  0.772727  0.937500\n",
       "0.780393          0.80     0.944444  0.809524  0.941176\n",
       "0.777810          0.80     0.888889  0.800000  0.888889\n",
       "0.699762          0.95     0.888889  0.941176  0.904762\n",
       "0.595593          0.95     0.722222  0.928571  0.791667\n",
       "0.592341          1.00     0.722222  1.000000  0.800000\n",
       "0.578491          1.00     0.666667  1.000000  0.769231\n",
       "0.529667          1.00     0.000000  0.000000  0.526316"
      ]
     },
     "execution_count": 35,
     "metadata": {},
     "output_type": "execute_result"
    }
   ],
   "source": [
    "roc_csv_path = f\"{RESULTS_PATH}/direct/max_1/rocs/PERM_IANVFTNAFR.csv\"\n",
    "roc_df = pd.read_csv(roc_csv_path, sep=',', index_col=0, header=0)\n",
    "roc_df"
   ]
  },
  {
   "cell_type": "code",
   "execution_count": null,
   "metadata": {},
   "outputs": [],
   "source": []
  }
 ],
 "metadata": {
  "kernelspec": {
   "display_name": ".venv",
   "language": "python",
   "name": "python3"
  },
  "language_info": {
   "codemirror_mode": {
    "name": "ipython",
    "version": 3
   },
   "file_extension": ".py",
   "mimetype": "text/x-python",
   "name": "python",
   "nbconvert_exporter": "python",
   "pygments_lexer": "ipython3",
   "version": "3.12.3"
  }
 },
 "nbformat": 4,
 "nbformat_minor": 2
}
