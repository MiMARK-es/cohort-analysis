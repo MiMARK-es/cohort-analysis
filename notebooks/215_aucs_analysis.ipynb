{
 "cells": [
  {
   "cell_type": "markdown",
   "metadata": {},
   "source": [
    "# Cohort 215 AUCs analysis \n",
    "\n",
    "### Imports and environment setup\n",
    "\n",
    "- Date of run: 2024-10-04\n",
    "- Environment: python 3.12\n",
    "- Packages required: pandas, numpy, sklearn, statsmodels, seaborn, matplotlib"
   ]
  },
  {
   "cell_type": "code",
   "execution_count": 1,
   "metadata": {},
   "outputs": [],
   "source": [
    "# Include in the environment the code directory with the utils function\n",
    "import sys\n",
    "sys.path.append('../code/')"
   ]
  },
  {
   "cell_type": "code",
   "execution_count": 2,
   "metadata": {},
   "outputs": [],
   "source": [
    "# Library imports\n",
    "import pandas as pd\n",
    "from IPython.display import display, HTML\n",
    "import matplotlib.pyplot as plt\n",
    "import seaborn as sns\n",
    "import numpy as np\n",
    "\n",
    "# Utils imports\n",
    "import cohort_analysis_utils as utils\n",
    "import ms_utils"
   ]
  },
  {
   "cell_type": "code",
   "execution_count": 3,
   "metadata": {},
   "outputs": [],
   "source": [
    "# Remove warnings for readability\n",
    "import warnings\n",
    "warnings.filterwarnings('ignore')\n",
    "\n",
    "# Remove cell printing limits\n",
    "pd.set_option('display.max_rows', None)"
   ]
  },
  {
   "cell_type": "markdown",
   "metadata": {},
   "source": [
    "# Data loading and preprosessing\n",
    "\n",
    "For this analysis, we are going to work with the MS matrix ─located at [\"data/ms/MS_verification_215.csv\"](<../data/ms/MS_verification_215.csv>)─. For this dataset so far we have no metadata, just values for peptides and pathology condition for the 215 samples."
   ]
  },
  {
   "cell_type": "code",
   "execution_count": 4,
   "metadata": {},
   "outputs": [],
   "source": [
    "MS_215_PATH = \"../data/ms/MS_215_ratios.csv\""
   ]
  },
  {
   "cell_type": "code",
   "execution_count": 5,
   "metadata": {},
   "outputs": [],
   "source": [
    "df_215 = pd.read_csv(MS_215_PATH, sep=\",\", header=[0,1], index_col=0)"
   ]
  },
  {
   "cell_type": "code",
   "execution_count": 6,
   "metadata": {},
   "outputs": [],
   "source": [
    "# Combine the names of headers at level 0 and 1 and make them the new headers\n",
    "df_215.columns = [\"_\".join(filter(lambda x: x != '', col)).strip() for col in df_215.columns.values]\n"
   ]
  },
  {
   "cell_type": "code",
   "execution_count": 7,
   "metadata": {},
   "outputs": [
    {
     "data": {
      "text/plain": [
       "Index(['Unnamed: 1_level_0_DIAGNOSIS', 'AGR2_LPQTLSR', 'AGR2_LPQTLSR.1',\n",
       "       'AGR2_LAEQFVLLNLVYETTDK', 'AGR2_LAEQFVLLNLVYETTDK.1',\n",
       "       'AGRIN_VLGAPVPAFEGR', 'AGRIN_VLGAPVPAFEGR.1', 'AGRIN_LELGIGPGAATR',\n",
       "       'AGRIN_LELGIGPGAATR.1', 'BCAM_AGAAGTAEATAR',\n",
       "       ...\n",
       "       'PRDX1_LVQAFQFTDK', 'PRDX1_LVQAFQFTDK.1', 'CAYP1_EAVIAAAFAK',\n",
       "       'CAYP1_EAVIAAAFAK.1', 'CAYP1_SGDGVVTVDDLR', 'CAYP1_SGDGVVTVDDLR.1',\n",
       "       'MIF_LLCGLLAER', 'MIF_LLCGLLAER.1', 'MIF_VYINYYDMNAANVGWNNSTFA',\n",
       "       'MIF_VYINYYDMNAANVGWNNSTFA.1'],\n",
       "      dtype='object', length=199)"
      ]
     },
     "execution_count": 7,
     "metadata": {},
     "output_type": "execute_result"
    }
   ],
   "source": [
    "df_215.columns"
   ]
  },
  {
   "cell_type": "code",
   "execution_count": 8,
   "metadata": {},
   "outputs": [],
   "source": [
    "# Rename the column 0 to \"Pathology\" and make it categorical\n",
    "df_215 = df_215.rename(columns={df_215.columns[0]: \"Pathology\"})\n",
    "df_215['Pathology'] = df_215['Pathology'].apply(lambda x: 1 if x.startswith(\"T\") else 0)"
   ]
  },
  {
   "cell_type": "markdown",
   "metadata": {},
   "source": [
    "# Computing the models"
   ]
  },
  {
   "cell_type": "code",
   "execution_count": 9,
   "metadata": {},
   "outputs": [],
   "source": [
    "# General parames\n",
    "RESULTS_PATH = '../data/results/215'\n",
    "BIOMARKERS_215 = df_215.columns[1:]\n",
    "METHODS = ['direct']"
   ]
  },
  {
   "cell_type": "code",
   "execution_count": 10,
   "metadata": {},
   "outputs": [
    {
     "name": "stdout",
     "output_type": "stream",
     "text": [
      "Could not fit the model for biomarkers: ['LAT1_SADGSAPAGEGEGVTLQR']\n",
      "zero-size array to reduction operation maximum which has no identity\n",
      "Could not compute the AUC for biomarkers: ['LAT1_VQDAFAAAK']\n",
      "Could not fit the model for biomarkers: ['RAB8A_LEGNSPQGSNQGVK']\n",
      "zero-size array to reduction operation maximum which has no identity\n",
      "Could not fit the model for biomarkers: ['RL11_ISKEEAMR']\n",
      "zero-size array to reduction operation maximum which has no identity\n",
      "Could not compute the AUC for biomarkers: ['SYIC_EFEDAFPADFIAEGIDQTR']\n"
     ]
    }
   ],
   "source": [
    "models_215 = utils.compute_all_models_and_save(df=df_215, \n",
    "                                              biomarkers=BIOMARKERS_215, \n",
    "                                              target_col='Pathology', \n",
    "                                              methods=METHODS, \n",
    "                                              max_biomarker_count=1,\n",
    "                                              folder_name=RESULTS_PATH,\n",
    "                                              auc_threshold=0.0, \n",
    "                                              plot_rocs=False,\n",
    "                                              compute_auc_ci=True)"
   ]
  },
  {
   "cell_type": "code",
   "execution_count": 11,
   "metadata": {},
   "outputs": [
    {
     "data": {
      "text/html": [
       "<div>\n",
       "<style scoped>\n",
       "    .dataframe tbody tr th:only-of-type {\n",
       "        vertical-align: middle;\n",
       "    }\n",
       "\n",
       "    .dataframe tbody tr th {\n",
       "        vertical-align: top;\n",
       "    }\n",
       "\n",
       "    .dataframe thead th {\n",
       "        text-align: right;\n",
       "    }\n",
       "</style>\n",
       "<table border=\"1\" class=\"dataframe\">\n",
       "  <thead>\n",
       "    <tr style=\"text-align: right;\">\n",
       "      <th></th>\n",
       "      <th>AUC</th>\n",
       "      <th>Sensitivity</th>\n",
       "      <th>Specificity</th>\n",
       "      <th>NPV</th>\n",
       "      <th>PPV</th>\n",
       "      <th>Best_Threshold</th>\n",
       "    </tr>\n",
       "    <tr>\n",
       "      <th>Biomarker_1</th>\n",
       "      <th></th>\n",
       "      <th></th>\n",
       "      <th></th>\n",
       "      <th></th>\n",
       "      <th></th>\n",
       "      <th></th>\n",
       "    </tr>\n",
       "  </thead>\n",
       "  <tbody>\n",
       "    <tr>\n",
       "      <th>RUVB1_LDPSIFESLQK</th>\n",
       "      <td>0.83721</td>\n",
       "      <td>0.69767</td>\n",
       "      <td>0.81250</td>\n",
       "      <td>0.50000</td>\n",
       "      <td>0.90909</td>\n",
       "      <td>0.71717</td>\n",
       "    </tr>\n",
       "    <tr>\n",
       "      <th>MX1_DVPDLTLIDLPGITR</th>\n",
       "      <td>0.83383</td>\n",
       "      <td>0.76389</td>\n",
       "      <td>0.82143</td>\n",
       "      <td>0.57500</td>\n",
       "      <td>0.91667</td>\n",
       "      <td>0.62626</td>\n",
       "    </tr>\n",
       "    <tr>\n",
       "      <th>CASP3_SGTDVDAANLR</th>\n",
       "      <td>0.79223</td>\n",
       "      <td>0.67708</td>\n",
       "      <td>0.83784</td>\n",
       "      <td>0.66667</td>\n",
       "      <td>0.84416</td>\n",
       "      <td>0.64646</td>\n",
       "    </tr>\n",
       "    <tr>\n",
       "      <th>MX1_VAVGNQPADIGYK</th>\n",
       "      <td>0.78022</td>\n",
       "      <td>0.60000</td>\n",
       "      <td>0.90323</td>\n",
       "      <td>0.48276</td>\n",
       "      <td>0.93750</td>\n",
       "      <td>0.63636</td>\n",
       "    </tr>\n",
       "    <tr>\n",
       "      <th>VAMP8_GENLEHLR</th>\n",
       "      <td>0.76923</td>\n",
       "      <td>0.78846</td>\n",
       "      <td>0.57692</td>\n",
       "      <td>0.57692</td>\n",
       "      <td>0.78846</td>\n",
       "      <td>0.65657</td>\n",
       "    </tr>\n",
       "    <tr>\n",
       "      <th>LDHA_VTLTSEEEAR</th>\n",
       "      <td>0.76523</td>\n",
       "      <td>0.58407</td>\n",
       "      <td>0.96078</td>\n",
       "      <td>0.67586</td>\n",
       "      <td>0.94286</td>\n",
       "      <td>0.65657</td>\n",
       "    </tr>\n",
       "    <tr>\n",
       "      <th>LDHA_LVIITAGAR</th>\n",
       "      <td>0.76202</td>\n",
       "      <td>0.63717</td>\n",
       "      <td>0.85294</td>\n",
       "      <td>0.67969</td>\n",
       "      <td>0.82759</td>\n",
       "      <td>0.62626</td>\n",
       "    </tr>\n",
       "    <tr>\n",
       "      <th>AGRIN_LELGIGPGAATR</th>\n",
       "      <td>0.75531</td>\n",
       "      <td>0.60000</td>\n",
       "      <td>0.82716</td>\n",
       "      <td>0.62617</td>\n",
       "      <td>0.81081</td>\n",
       "      <td>0.61616</td>\n",
       "    </tr>\n",
       "    <tr>\n",
       "      <th>OSTP_AIPVAQDLNAPSDWDSR</th>\n",
       "      <td>0.74663</td>\n",
       "      <td>0.75000</td>\n",
       "      <td>0.71591</td>\n",
       "      <td>0.70000</td>\n",
       "      <td>0.76415</td>\n",
       "      <td>0.55556</td>\n",
       "    </tr>\n",
       "    <tr>\n",
       "      <th>AGR2_LAEQFVLLNLVYETTDK.1</th>\n",
       "      <td>0.73798</td>\n",
       "      <td>0.82301</td>\n",
       "      <td>0.51961</td>\n",
       "      <td>0.72603</td>\n",
       "      <td>0.65493</td>\n",
       "      <td>0.55556</td>\n",
       "    </tr>\n",
       "  </tbody>\n",
       "</table>\n",
       "</div>"
      ],
      "text/plain": [
       "                              AUC  Sensitivity  Specificity      NPV      PPV  \\\n",
       "Biomarker_1                                                                     \n",
       "RUVB1_LDPSIFESLQK         0.83721      0.69767      0.81250  0.50000  0.90909   \n",
       "MX1_DVPDLTLIDLPGITR       0.83383      0.76389      0.82143  0.57500  0.91667   \n",
       "CASP3_SGTDVDAANLR         0.79223      0.67708      0.83784  0.66667  0.84416   \n",
       "MX1_VAVGNQPADIGYK         0.78022      0.60000      0.90323  0.48276  0.93750   \n",
       "VAMP8_GENLEHLR            0.76923      0.78846      0.57692  0.57692  0.78846   \n",
       "LDHA_VTLTSEEEAR           0.76523      0.58407      0.96078  0.67586  0.94286   \n",
       "LDHA_LVIITAGAR            0.76202      0.63717      0.85294  0.67969  0.82759   \n",
       "AGRIN_LELGIGPGAATR        0.75531      0.60000      0.82716  0.62617  0.81081   \n",
       "OSTP_AIPVAQDLNAPSDWDSR    0.74663      0.75000      0.71591  0.70000  0.76415   \n",
       "AGR2_LAEQFVLLNLVYETTDK.1  0.73798      0.82301      0.51961  0.72603  0.65493   \n",
       "\n",
       "                          Best_Threshold  \n",
       "Biomarker_1                               \n",
       "RUVB1_LDPSIFESLQK                0.71717  \n",
       "MX1_DVPDLTLIDLPGITR              0.62626  \n",
       "CASP3_SGTDVDAANLR                0.64646  \n",
       "MX1_VAVGNQPADIGYK                0.63636  \n",
       "VAMP8_GENLEHLR                   0.65657  \n",
       "LDHA_VTLTSEEEAR                  0.65657  \n",
       "LDHA_LVIITAGAR                   0.62626  \n",
       "AGRIN_LELGIGPGAATR               0.61616  \n",
       "OSTP_AIPVAQDLNAPSDWDSR           0.55556  \n",
       "AGR2_LAEQFVLLNLVYETTDK.1         0.55556  "
      ]
     },
     "execution_count": 11,
     "metadata": {},
     "output_type": "execute_result"
    }
   ],
   "source": [
    "# Load the results\n",
    "df_215_results_direct_max_1 = pd.read_csv(f'{RESULTS_PATH}/direct/max_1.csv', sep=',', index_col=0, header=0)\n",
    "df_215_results_direct_max_1.head(10)"
   ]
  },
  {
   "cell_type": "code",
   "execution_count": 12,
   "metadata": {},
   "outputs": [
    {
     "data": {
      "image/png": "[encoded data removed]",
      "text/plain": [
       "<Figure size 1000x500 with 1 Axes>"
      ]
     },
     "metadata": {},
     "output_type": "display_data"
    }
   ],
   "source": [
    "BIOMARKERS_215_cis = df_215_results_direct_max_1.head(20).index\n",
    "utils.plot_aucs_with_confidence_intervals(models_215, 'direct', BIOMARKERS_215_cis)"
   ]
  },
  {
   "cell_type": "code",
   "execution_count": 15,
   "metadata": {},
   "outputs": [],
   "source": [
    "BIOMARKERS_205_cis = df_215_results_direct_max_1.head(30).index\n",
    "BIOMARKERS_high = []\n",
    "for bmk in BIOMARKERS_215_cis:\n",
    "    prot = bmk.split('_')[0]\n",
    "    pep = bmk.split('_')[1]\n",
    "    if prot not in  [p.split(\"_\")[0] for p in BIOMARKERS_high]:\n",
    "        BIOMARKERS_high.append(bmk)"
   ]
  },
  {
   "cell_type": "code",
   "execution_count": 16,
   "metadata": {},
   "outputs": [],
   "source": [
    "_ = utils.compute_all_models_and_save(df=df_215, \n",
    "                                        biomarkers=BIOMARKERS_high, \n",
    "                                        target_col='Pathology', \n",
    "                                        methods=METHODS, \n",
    "                                        max_biomarker_count=3,\n",
    "                                        folder_name=RESULTS_PATH,\n",
    "                                        auc_threshold=0.5, \n",
    "                                        plot_rocs=True)"
   ]
  },
  {
   "cell_type": "code",
   "execution_count": 17,
   "metadata": {},
   "outputs": [
    {
     "data": {
      "text/html": [
       "<div>\n",
       "<style scoped>\n",
       "    .dataframe tbody tr th:only-of-type {\n",
       "        vertical-align: middle;\n",
       "    }\n",
       "\n",
       "    .dataframe tbody tr th {\n",
       "        vertical-align: top;\n",
       "    }\n",
       "\n",
       "    .dataframe thead th {\n",
       "        text-align: right;\n",
       "    }\n",
       "</style>\n",
       "<table border=\"1\" class=\"dataframe\">\n",
       "  <thead>\n",
       "    <tr style=\"text-align: right;\">\n",
       "      <th></th>\n",
       "      <th>Biomarker_2</th>\n",
       "      <th>Biomarker_3</th>\n",
       "      <th>AUC</th>\n",
       "      <th>Sensitivity</th>\n",
       "      <th>Specificity</th>\n",
       "      <th>NPV</th>\n",
       "      <th>PPV</th>\n",
       "      <th>Best_Threshold</th>\n",
       "    </tr>\n",
       "    <tr>\n",
       "      <th>Biomarker_1</th>\n",
       "      <th></th>\n",
       "      <th></th>\n",
       "      <th></th>\n",
       "      <th></th>\n",
       "      <th></th>\n",
       "      <th></th>\n",
       "      <th></th>\n",
       "      <th></th>\n",
       "    </tr>\n",
       "  </thead>\n",
       "  <tbody>\n",
       "    <tr>\n",
       "      <th>RUVB1_LDPSIFESLQK</th>\n",
       "      <td>MX1_DVPDLTLIDLPGITR</td>\n",
       "      <td>OSTP_AIPVAQDLNAPSDWDSR</td>\n",
       "      <td>1.00000</td>\n",
       "      <td>1.00000</td>\n",
       "      <td>1.00000</td>\n",
       "      <td>1.00000</td>\n",
       "      <td>1.00000</td>\n",
       "      <td>0.76768</td>\n",
       "    </tr>\n",
       "    <tr>\n",
       "      <th>RUVB1_LDPSIFESLQK</th>\n",
       "      <td>VAMP8_GENLEHLR</td>\n",
       "      <td>OSTP_AIPVAQDLNAPSDWDSR</td>\n",
       "      <td>0.97500</td>\n",
       "      <td>0.87500</td>\n",
       "      <td>1.00000</td>\n",
       "      <td>0.55556</td>\n",
       "      <td>1.00000</td>\n",
       "      <td>0.92929</td>\n",
       "    </tr>\n",
       "    <tr>\n",
       "      <th>RUVB1_LDPSIFESLQK</th>\n",
       "      <td>AGRIN_LELGIGPGAATR</td>\n",
       "      <td>OSTP_AIPVAQDLNAPSDWDSR</td>\n",
       "      <td>0.97308</td>\n",
       "      <td>0.95000</td>\n",
       "      <td>0.92308</td>\n",
       "      <td>0.85714</td>\n",
       "      <td>0.97436</td>\n",
       "      <td>0.71717</td>\n",
       "    </tr>\n",
       "    <tr>\n",
       "      <th>RUVB1_LDPSIFESLQK</th>\n",
       "      <td>MX1_DVPDLTLIDLPGITR</td>\n",
       "      <td>CASP3_SGTDVDAANLR</td>\n",
       "      <td>0.97297</td>\n",
       "      <td>0.91892</td>\n",
       "      <td>1.00000</td>\n",
       "      <td>0.57143</td>\n",
       "      <td>1.00000</td>\n",
       "      <td>0.83838</td>\n",
       "    </tr>\n",
       "    <tr>\n",
       "      <th>RUVB1_LDPSIFESLQK</th>\n",
       "      <td>MX1_DVPDLTLIDLPGITR</td>\n",
       "      <td>LDHA_VTLTSEEEAR</td>\n",
       "      <td>0.95495</td>\n",
       "      <td>0.86486</td>\n",
       "      <td>1.00000</td>\n",
       "      <td>0.54545</td>\n",
       "      <td>1.00000</td>\n",
       "      <td>0.82828</td>\n",
       "    </tr>\n",
       "    <tr>\n",
       "      <th>RUVB1_LDPSIFESLQK</th>\n",
       "      <td>OSTP_AIPVAQDLNAPSDWDSR</td>\n",
       "      <td>NaN</td>\n",
       "      <td>0.94472</td>\n",
       "      <td>0.90244</td>\n",
       "      <td>0.93333</td>\n",
       "      <td>0.77778</td>\n",
       "      <td>0.97368</td>\n",
       "      <td>0.74747</td>\n",
       "    </tr>\n",
       "    <tr>\n",
       "      <th>RUVB1_LDPSIFESLQK</th>\n",
       "      <td>OSTP_AIPVAQDLNAPSDWDSR</td>\n",
       "      <td>CADH1_NLVQIK</td>\n",
       "      <td>0.94472</td>\n",
       "      <td>0.90244</td>\n",
       "      <td>0.93333</td>\n",
       "      <td>0.77778</td>\n",
       "      <td>0.97368</td>\n",
       "      <td>0.74747</td>\n",
       "    </tr>\n",
       "    <tr>\n",
       "      <th>RUVB1_LDPSIFESLQK</th>\n",
       "      <td>OSTP_AIPVAQDLNAPSDWDSR</td>\n",
       "      <td>SMD3_FLILPDMLK.1</td>\n",
       "      <td>0.94309</td>\n",
       "      <td>0.85366</td>\n",
       "      <td>0.93333</td>\n",
       "      <td>0.70000</td>\n",
       "      <td>0.97222</td>\n",
       "      <td>0.76768</td>\n",
       "    </tr>\n",
       "    <tr>\n",
       "      <th>RUVB1_LDPSIFESLQK</th>\n",
       "      <td>OSTP_AIPVAQDLNAPSDWDSR</td>\n",
       "      <td>NAMPT_YDGHLPIEIK</td>\n",
       "      <td>0.94146</td>\n",
       "      <td>0.90244</td>\n",
       "      <td>0.93333</td>\n",
       "      <td>0.77778</td>\n",
       "      <td>0.97368</td>\n",
       "      <td>0.75758</td>\n",
       "    </tr>\n",
       "    <tr>\n",
       "      <th>RUVB1_LDPSIFESLQK</th>\n",
       "      <td>CASP3_SGTDVDAANLR</td>\n",
       "      <td>OSTP_AIPVAQDLNAPSDWDSR</td>\n",
       "      <td>0.93293</td>\n",
       "      <td>0.92683</td>\n",
       "      <td>0.91667</td>\n",
       "      <td>0.78571</td>\n",
       "      <td>0.97436</td>\n",
       "      <td>0.73737</td>\n",
       "    </tr>\n",
       "  </tbody>\n",
       "</table>\n",
       "</div>"
      ],
      "text/plain": [
       "                              Biomarker_2             Biomarker_3      AUC  \\\n",
       "Biomarker_1                                                                  \n",
       "RUVB1_LDPSIFESLQK     MX1_DVPDLTLIDLPGITR  OSTP_AIPVAQDLNAPSDWDSR  1.00000   \n",
       "RUVB1_LDPSIFESLQK          VAMP8_GENLEHLR  OSTP_AIPVAQDLNAPSDWDSR  0.97500   \n",
       "RUVB1_LDPSIFESLQK      AGRIN_LELGIGPGAATR  OSTP_AIPVAQDLNAPSDWDSR  0.97308   \n",
       "RUVB1_LDPSIFESLQK     MX1_DVPDLTLIDLPGITR       CASP3_SGTDVDAANLR  0.97297   \n",
       "RUVB1_LDPSIFESLQK     MX1_DVPDLTLIDLPGITR         LDHA_VTLTSEEEAR  0.95495   \n",
       "RUVB1_LDPSIFESLQK  OSTP_AIPVAQDLNAPSDWDSR                     NaN  0.94472   \n",
       "RUVB1_LDPSIFESLQK  OSTP_AIPVAQDLNAPSDWDSR            CADH1_NLVQIK  0.94472   \n",
       "RUVB1_LDPSIFESLQK  OSTP_AIPVAQDLNAPSDWDSR        SMD3_FLILPDMLK.1  0.94309   \n",
       "RUVB1_LDPSIFESLQK  OSTP_AIPVAQDLNAPSDWDSR        NAMPT_YDGHLPIEIK  0.94146   \n",
       "RUVB1_LDPSIFESLQK       CASP3_SGTDVDAANLR  OSTP_AIPVAQDLNAPSDWDSR  0.93293   \n",
       "\n",
       "                   Sensitivity  Specificity      NPV      PPV  Best_Threshold  \n",
       "Biomarker_1                                                                    \n",
       "RUVB1_LDPSIFESLQK      1.00000      1.00000  1.00000  1.00000         0.76768  \n",
       "RUVB1_LDPSIFESLQK      0.87500      1.00000  0.55556  1.00000         0.92929  \n",
       "RUVB1_LDPSIFESLQK      0.95000      0.92308  0.85714  0.97436         0.71717  \n",
       "RUVB1_LDPSIFESLQK      0.91892      1.00000  0.57143  1.00000         0.83838  \n",
       "RUVB1_LDPSIFESLQK      0.86486      1.00000  0.54545  1.00000         0.82828  \n",
       "RUVB1_LDPSIFESLQK      0.90244      0.93333  0.77778  0.97368         0.74747  \n",
       "RUVB1_LDPSIFESLQK      0.90244      0.93333  0.77778  0.97368         0.74747  \n",
       "RUVB1_LDPSIFESLQK      0.85366      0.93333  0.70000  0.97222         0.76768  \n",
       "RUVB1_LDPSIFESLQK      0.90244      0.93333  0.77778  0.97368         0.75758  \n",
       "RUVB1_LDPSIFESLQK      0.92683      0.91667  0.78571  0.97436         0.73737  "
      ]
     },
     "execution_count": 17,
     "metadata": {},
     "output_type": "execute_result"
    }
   ],
   "source": [
    "df_215_results_direct_max_3 = pd.read_csv(f'{RESULTS_PATH}/direct/max_3.csv', sep=',', index_col=0, header=0)\n",
    "df_215_results_direct_max_3.head(10)"
   ]
  },
  {
   "cell_type": "code",
   "execution_count": null,
   "metadata": {},
   "outputs": [],
   "source": []
  }
 ],
 "metadata": {
  "kernelspec": {
   "display_name": ".venv",
   "language": "python",
   "name": "python3"
  },
  "language_info": {
   "codemirror_mode": {
    "name": "ipython",
    "version": 3
   },
   "file_extension": ".py",
   "mimetype": "text/x-python",
   "name": "python",
   "nbconvert_exporter": "python",
   "pygments_lexer": "ipython3",
   "version": "3.12.3"
  }
 },
 "nbformat": 4,
 "nbformat_minor": 2
}
