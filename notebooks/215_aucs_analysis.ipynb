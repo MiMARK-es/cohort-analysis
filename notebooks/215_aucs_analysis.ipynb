{
 "cells": [
  {
   "cell_type": "markdown",
   "metadata": {},
   "source": [
    "# Cohort 215 AUCs analysis \n",
    "\n",
    "### Imports and environment setup\n",
    "\n",
    "- Date of run: 2024-10-04\n",
    "- Environment: python 3.12\n",
    "- Packages required: pandas, numpy, sklearn, statsmodels, seaborn, matplotlib"
   ]
  },
  {
   "cell_type": "code",
   "execution_count": 1,
   "metadata": {},
   "outputs": [],
   "source": [
    "# Include in the environment the code directory with the utils function\n",
    "import sys\n",
    "sys.path.append('../code/')"
   ]
  },
  {
   "cell_type": "code",
   "execution_count": 2,
   "metadata": {},
   "outputs": [],
   "source": [
    "# Library imports\n",
    "import pandas as pd\n",
    "from IPython.display import display, HTML\n",
    "import matplotlib.pyplot as plt\n",
    "import seaborn as sns\n",
    "import numpy as np\n",
    "\n",
    "# Utils imports\n",
    "import cohort_analysis_utils as utils\n",
    "import ms_utils"
   ]
  },
  {
   "cell_type": "code",
   "execution_count": 3,
   "metadata": {},
   "outputs": [],
   "source": [
    "# Remove warnings for readability\n",
    "import warnings\n",
    "warnings.filterwarnings('ignore')\n",
    "\n",
    "# Remove cell printing limits\n",
    "pd.set_option('display.max_rows', None)"
   ]
  },
  {
   "cell_type": "markdown",
   "metadata": {},
   "source": [
    "# Data loading and preprosessing\n",
    "\n",
    "For this analysis, we are going to work with the MS matrix ─located at [\"data/ms/MS_verification_215.csv\"](<../data/ms/MS_verification_215.csv>)─. For this dataset so far we have no metadata, just values for peptides and pathology condition for the 215 samples."
   ]
  },
  {
   "cell_type": "code",
   "execution_count": 4,
   "metadata": {},
   "outputs": [],
   "source": [
    "MS_215_PATH = \"../data/ms/MS_215_ratios.csv\""
   ]
  },
  {
   "cell_type": "code",
   "execution_count": 5,
   "metadata": {},
   "outputs": [],
   "source": [
    "df_215 = pd.read_csv(MS_215_PATH, sep=\",\", header=[0,1], index_col=0)"
   ]
  },
  {
   "cell_type": "code",
   "execution_count": 6,
   "metadata": {},
   "outputs": [],
   "source": [
    "# Combine the names of headers at level 0 and 1 and make them the new headers\n",
    "df_215.columns = [\"_\".join(filter(lambda x: x != '', col)).strip() for col in df_215.columns.values]\n"
   ]
  },
  {
   "cell_type": "code",
   "execution_count": 7,
   "metadata": {},
   "outputs": [
    {
     "data": {
      "text/plain": [
       "Index(['Unnamed: 1_level_0_DIAGNOSIS', 'AGR2_LPQTLSR', 'AGR2_LPQTLSR.1',\n",
       "       'AGR2_LAEQFVLLNLVYETTDK', 'AGR2_LAEQFVLLNLVYETTDK.1',\n",
       "       'AGRIN_VLGAPVPAFEGR', 'AGRIN_VLGAPVPAFEGR.1', 'AGRIN_LELGIGPGAATR',\n",
       "       'AGRIN_LELGIGPGAATR.1', 'BCAM_AGAAGTAEATAR',\n",
       "       ...\n",
       "       'PRDX1_LVQAFQFTDK', 'PRDX1_LVQAFQFTDK.1', 'CAYP1_EAVIAAAFAK',\n",
       "       'CAYP1_EAVIAAAFAK.1', 'CAYP1_SGDGVVTVDDLR', 'CAYP1_SGDGVVTVDDLR.1',\n",
       "       'MIF_LLCGLLAER', 'MIF_LLCGLLAER.1', 'MIF_VYINYYDMNAANVGWNNSTFA',\n",
       "       'MIF_VYINYYDMNAANVGWNNSTFA.1'],\n",
       "      dtype='object', length=199)"
      ]
     },
     "execution_count": 7,
     "metadata": {},
     "output_type": "execute_result"
    }
   ],
   "source": [
    "df_215.columns"
   ]
  },
  {
   "cell_type": "code",
   "execution_count": 8,
   "metadata": {},
   "outputs": [],
   "source": [
    "# Rename the column 0 to \"Pathology\" and make it categorical\n",
    "df_215 = df_215.rename(columns={df_215.columns[0]: \"Pathology\"})\n",
    "df_215['Pathology'] = df_215['Pathology'].apply(lambda x: 1 if x.startswith(\"T\") else 0)"
   ]
  },
  {
   "cell_type": "markdown",
   "metadata": {},
   "source": [
    "# Computing the models"
   ]
  },
  {
   "cell_type": "code",
   "execution_count": 9,
   "metadata": {},
   "outputs": [],
   "source": [
    "# General parames\n",
    "RESULTS_PATH = '../data/results/215'\n",
    "BIOMARKERS_215 = df_215.columns[1:]\n",
    "METHODS = ['direct']"
   ]
  },
  {
   "cell_type": "code",
   "execution_count": 10,
   "metadata": {},
   "outputs": [
    {
     "name": "stdout",
     "output_type": "stream",
     "text": [
      "Could not fit the model for biomarkers: ['LAT1_SADGSAPAGEGEGVTLQR']\n",
      "zero-size array to reduction operation maximum which has no identity\n"
     ]
    },
    {
     "ename": "ValueError",
     "evalue": "Only one class present in y_true. ROC AUC score is not defined in that case.",
     "output_type": "error",
     "traceback": [
      "\u001b[0;31m---------------------------------------------------------------------------\u001b[0m",
      "\u001b[0;31mValueError\u001b[0m                                Traceback (most recent call last)",
      "\u001b[1;32m/home/leandro/Insync/gdrive/Mimark/code/cohort-analysis/notebooks/215_aucs_analysis.ipynb Cell 13\u001b[0m line \u001b[0;36m1\n\u001b[0;32m----> <a href='vscode-notebook-cell:/home/leandro/Insync/gdrive/Mimark/code/cohort-analysis/notebooks/215_aucs_analysis.ipynb#X14sZmlsZQ%3D%3D?line=0'>1</a>\u001b[0m models_215 \u001b[39m=\u001b[39m utils\u001b[39m.\u001b[39;49mcompute_all_models_and_save(df\u001b[39m=\u001b[39;49mdf_215, \n\u001b[1;32m      <a href='vscode-notebook-cell:/home/leandro/Insync/gdrive/Mimark/code/cohort-analysis/notebooks/215_aucs_analysis.ipynb#X14sZmlsZQ%3D%3D?line=1'>2</a>\u001b[0m                                               biomarkers\u001b[39m=\u001b[39;49mBIOMARKERS_215, \n\u001b[1;32m      <a href='vscode-notebook-cell:/home/leandro/Insync/gdrive/Mimark/code/cohort-analysis/notebooks/215_aucs_analysis.ipynb#X14sZmlsZQ%3D%3D?line=2'>3</a>\u001b[0m                                               target_col\u001b[39m=\u001b[39;49m\u001b[39m'\u001b[39;49m\u001b[39mPathology\u001b[39;49m\u001b[39m'\u001b[39;49m, \n\u001b[1;32m      <a href='vscode-notebook-cell:/home/leandro/Insync/gdrive/Mimark/code/cohort-analysis/notebooks/215_aucs_analysis.ipynb#X14sZmlsZQ%3D%3D?line=3'>4</a>\u001b[0m                                               methods\u001b[39m=\u001b[39;49mMETHODS, \n\u001b[1;32m      <a href='vscode-notebook-cell:/home/leandro/Insync/gdrive/Mimark/code/cohort-analysis/notebooks/215_aucs_analysis.ipynb#X14sZmlsZQ%3D%3D?line=4'>5</a>\u001b[0m                                               max_biomarker_count\u001b[39m=\u001b[39;49m\u001b[39m1\u001b[39;49m,\n\u001b[1;32m      <a href='vscode-notebook-cell:/home/leandro/Insync/gdrive/Mimark/code/cohort-analysis/notebooks/215_aucs_analysis.ipynb#X14sZmlsZQ%3D%3D?line=5'>6</a>\u001b[0m                                               folder_name\u001b[39m=\u001b[39;49mRESULTS_PATH,\n\u001b[1;32m      <a href='vscode-notebook-cell:/home/leandro/Insync/gdrive/Mimark/code/cohort-analysis/notebooks/215_aucs_analysis.ipynb#X14sZmlsZQ%3D%3D?line=6'>7</a>\u001b[0m                                               auc_threshold\u001b[39m=\u001b[39;49m\u001b[39m0.0\u001b[39;49m, \n\u001b[1;32m      <a href='vscode-notebook-cell:/home/leandro/Insync/gdrive/Mimark/code/cohort-analysis/notebooks/215_aucs_analysis.ipynb#X14sZmlsZQ%3D%3D?line=7'>8</a>\u001b[0m                                               plot_rocs\u001b[39m=\u001b[39;49m\u001b[39mTrue\u001b[39;49;00m,\n\u001b[1;32m      <a href='vscode-notebook-cell:/home/leandro/Insync/gdrive/Mimark/code/cohort-analysis/notebooks/215_aucs_analysis.ipynb#X14sZmlsZQ%3D%3D?line=8'>9</a>\u001b[0m                                               compute_auc_ci\u001b[39m=\u001b[39;49m\u001b[39mTrue\u001b[39;49;00m)\n",
      "File \u001b[0;32m~/Insync/leandro.radusky@gmail.com/Google Drive/Mimark/code/cohort-analysis/notebooks/../code/cohort_analysis_utils.py:713\u001b[0m, in \u001b[0;36mcompute_all_models_and_save\u001b[0;34m(df, biomarkers, target_col, normalizing_col, volume_col, volume_added, apply_log, avoid_same_biomarker, methods, max_biomarker_count, folder_name, plot_rocs, compute_auc_ci, auc_threshold)\u001b[0m\n\u001b[1;32m    711\u001b[0m \u001b[39mfor\u001b[39;00m biomarkers_combo \u001b[39min\u001b[39;00m [biomarkers]:\n\u001b[1;32m    712\u001b[0m     num_biomarkers \u001b[39m=\u001b[39m \u001b[39mlen\u001b[39m(biomarkers_combo) \u001b[39mif\u001b[39;00m \u001b[39mlen\u001b[39m(biomarkers_combo) \u001b[39m<\u001b[39m max_biomarker_count \u001b[39melse\u001b[39;00m max_biomarker_count\n\u001b[0;32m--> 713\u001b[0m     models \u001b[39m=\u001b[39m compute_models(df, \n\u001b[1;32m    714\u001b[0m                             biomarkers_combo, \n\u001b[1;32m    715\u001b[0m                             num_biomarkers, \n\u001b[1;32m    716\u001b[0m                             method, \n\u001b[1;32m    717\u001b[0m                             normalizing_col,\n\u001b[1;32m    718\u001b[0m                             volume_col,\n\u001b[1;32m    719\u001b[0m                             volume_added,\n\u001b[1;32m    720\u001b[0m                             apply_log, \n\u001b[1;32m    721\u001b[0m                             avoid_same_biomarker,\n\u001b[1;32m    722\u001b[0m                             target_col,\n\u001b[1;32m    723\u001b[0m                             compute_auc_ci,\n\u001b[1;32m    724\u001b[0m                             auc_threshold,\n\u001b[1;32m    725\u001b[0m                             )\n\u001b[1;32m    727\u001b[0m     \u001b[39mif\u001b[39;00m models \u001b[39m==\u001b[39m \u001b[39mdict\u001b[39m():\n\u001b[1;32m    728\u001b[0m         \u001b[39mcontinue\u001b[39;00m\n",
      "File \u001b[0;32m~/Insync/leandro.radusky@gmail.com/Google Drive/Mimark/code/cohort-analysis/notebooks/../code/cohort_analysis_utils.py:212\u001b[0m, in \u001b[0;36mcompute_models\u001b[0;34m(df, cols, max_combination_size, method, normalizing_col, volume_col, volume_added, apply_log, avoid_same_biomarker, target_col, compute_auc_ci, auc_threshold)\u001b[0m\n\u001b[1;32m    210\u001b[0m     \u001b[39mfor\u001b[39;00m i \u001b[39min\u001b[39;00m \u001b[39mrange\u001b[39m(n_bootstraps):\n\u001b[1;32m    211\u001b[0m         indices \u001b[39m=\u001b[39m np\u001b[39m.\u001b[39mrandom\u001b[39m.\u001b[39mchoice(\u001b[39mlen\u001b[39m(y_pred), \u001b[39mlen\u001b[39m(y_pred), replace\u001b[39m=\u001b[39m\u001b[39mTrue\u001b[39;00m)\n\u001b[0;32m--> 212\u001b[0m         auc_values[i] \u001b[39m=\u001b[39m roc_auc_score(y\u001b[39m.\u001b[39;49mvalues[indices], y_pred\u001b[39m.\u001b[39;49mvalues[indices])\n\u001b[1;32m    213\u001b[0m     auc_ci \u001b[39m=\u001b[39m np\u001b[39m.\u001b[39mpercentile(auc_values, [\u001b[39m2.5\u001b[39m, \u001b[39m97.5\u001b[39m])\n\u001b[1;32m    214\u001b[0m \u001b[39melse\u001b[39;00m:\n",
      "File \u001b[0;32m~/Insync/leandro.radusky@gmail.com/Google Drive/Mimark/code/mimark_analyses/.venv/lib/python3.12/site-packages/sklearn/utils/_param_validation.py:213\u001b[0m, in \u001b[0;36mvalidate_params.<locals>.decorator.<locals>.wrapper\u001b[0;34m(*args, **kwargs)\u001b[0m\n\u001b[1;32m    207\u001b[0m \u001b[39mtry\u001b[39;00m:\n\u001b[1;32m    208\u001b[0m     \u001b[39mwith\u001b[39;00m config_context(\n\u001b[1;32m    209\u001b[0m         skip_parameter_validation\u001b[39m=\u001b[39m(\n\u001b[1;32m    210\u001b[0m             prefer_skip_nested_validation \u001b[39mor\u001b[39;00m global_skip_validation\n\u001b[1;32m    211\u001b[0m         )\n\u001b[1;32m    212\u001b[0m     ):\n\u001b[0;32m--> 213\u001b[0m         \u001b[39mreturn\u001b[39;00m func(\u001b[39m*\u001b[39;49margs, \u001b[39m*\u001b[39;49m\u001b[39m*\u001b[39;49mkwargs)\n\u001b[1;32m    214\u001b[0m \u001b[39mexcept\u001b[39;00m InvalidParameterError \u001b[39mas\u001b[39;00m e:\n\u001b[1;32m    215\u001b[0m     \u001b[39m# When the function is just a wrapper around an estimator, we allow\u001b[39;00m\n\u001b[1;32m    216\u001b[0m     \u001b[39m# the function to delegate validation to the estimator, but we replace\u001b[39;00m\n\u001b[1;32m    217\u001b[0m     \u001b[39m# the name of the estimator by the name of the function in the error\u001b[39;00m\n\u001b[1;32m    218\u001b[0m     \u001b[39m# message to avoid confusion.\u001b[39;00m\n\u001b[1;32m    219\u001b[0m     msg \u001b[39m=\u001b[39m re\u001b[39m.\u001b[39msub(\n\u001b[1;32m    220\u001b[0m         \u001b[39mr\u001b[39m\u001b[39m\"\u001b[39m\u001b[39mparameter of \u001b[39m\u001b[39m\\\u001b[39m\u001b[39mw+ must be\u001b[39m\u001b[39m\"\u001b[39m,\n\u001b[1;32m    221\u001b[0m         \u001b[39mf\u001b[39m\u001b[39m\"\u001b[39m\u001b[39mparameter of \u001b[39m\u001b[39m{\u001b[39;00mfunc\u001b[39m.\u001b[39m\u001b[39m__qualname__\u001b[39m\u001b[39m}\u001b[39;00m\u001b[39m must be\u001b[39m\u001b[39m\"\u001b[39m,\n\u001b[1;32m    222\u001b[0m         \u001b[39mstr\u001b[39m(e),\n\u001b[1;32m    223\u001b[0m     )\n",
      "File \u001b[0;32m~/Insync/leandro.radusky@gmail.com/Google Drive/Mimark/code/mimark_analyses/.venv/lib/python3.12/site-packages/sklearn/metrics/_ranking.py:640\u001b[0m, in \u001b[0;36mroc_auc_score\u001b[0;34m(y_true, y_score, average, sample_weight, max_fpr, multi_class, labels)\u001b[0m\n\u001b[1;32m    638\u001b[0m     labels \u001b[39m=\u001b[39m np\u001b[39m.\u001b[39munique(y_true)\n\u001b[1;32m    639\u001b[0m     y_true \u001b[39m=\u001b[39m label_binarize(y_true, classes\u001b[39m=\u001b[39mlabels)[:, \u001b[39m0\u001b[39m]\n\u001b[0;32m--> 640\u001b[0m     \u001b[39mreturn\u001b[39;00m _average_binary_score(\n\u001b[1;32m    641\u001b[0m         partial(_binary_roc_auc_score, max_fpr\u001b[39m=\u001b[39;49mmax_fpr),\n\u001b[1;32m    642\u001b[0m         y_true,\n\u001b[1;32m    643\u001b[0m         y_score,\n\u001b[1;32m    644\u001b[0m         average,\n\u001b[1;32m    645\u001b[0m         sample_weight\u001b[39m=\u001b[39;49msample_weight,\n\u001b[1;32m    646\u001b[0m     )\n\u001b[1;32m    647\u001b[0m \u001b[39melse\u001b[39;00m:  \u001b[39m# multilabel-indicator\u001b[39;00m\n\u001b[1;32m    648\u001b[0m     \u001b[39mreturn\u001b[39;00m _average_binary_score(\n\u001b[1;32m    649\u001b[0m         partial(_binary_roc_auc_score, max_fpr\u001b[39m=\u001b[39mmax_fpr),\n\u001b[1;32m    650\u001b[0m         y_true,\n\u001b[0;32m   (...)\u001b[0m\n\u001b[1;32m    653\u001b[0m         sample_weight\u001b[39m=\u001b[39msample_weight,\n\u001b[1;32m    654\u001b[0m     )\n",
      "File \u001b[0;32m~/Insync/leandro.radusky@gmail.com/Google Drive/Mimark/code/mimark_analyses/.venv/lib/python3.12/site-packages/sklearn/metrics/_base.py:76\u001b[0m, in \u001b[0;36m_average_binary_score\u001b[0;34m(binary_metric, y_true, y_score, average, sample_weight)\u001b[0m\n\u001b[1;32m     73\u001b[0m     \u001b[39mraise\u001b[39;00m \u001b[39mValueError\u001b[39;00m(\u001b[39m\"\u001b[39m\u001b[39m{0}\u001b[39;00m\u001b[39m format is not supported\u001b[39m\u001b[39m\"\u001b[39m\u001b[39m.\u001b[39mformat(y_type))\n\u001b[1;32m     75\u001b[0m \u001b[39mif\u001b[39;00m y_type \u001b[39m==\u001b[39m \u001b[39m\"\u001b[39m\u001b[39mbinary\u001b[39m\u001b[39m\"\u001b[39m:\n\u001b[0;32m---> 76\u001b[0m     \u001b[39mreturn\u001b[39;00m binary_metric(y_true, y_score, sample_weight\u001b[39m=\u001b[39;49msample_weight)\n\u001b[1;32m     78\u001b[0m check_consistent_length(y_true, y_score, sample_weight)\n\u001b[1;32m     79\u001b[0m y_true \u001b[39m=\u001b[39m check_array(y_true)\n",
      "File \u001b[0;32m~/Insync/leandro.radusky@gmail.com/Google Drive/Mimark/code/mimark_analyses/.venv/lib/python3.12/site-packages/sklearn/metrics/_ranking.py:382\u001b[0m, in \u001b[0;36m_binary_roc_auc_score\u001b[0;34m(y_true, y_score, sample_weight, max_fpr)\u001b[0m\n\u001b[1;32m    380\u001b[0m \u001b[39m\u001b[39m\u001b[39m\"\"\"Binary roc auc score.\"\"\"\u001b[39;00m\n\u001b[1;32m    381\u001b[0m \u001b[39mif\u001b[39;00m \u001b[39mlen\u001b[39m(np\u001b[39m.\u001b[39munique(y_true)) \u001b[39m!=\u001b[39m \u001b[39m2\u001b[39m:\n\u001b[0;32m--> 382\u001b[0m     \u001b[39mraise\u001b[39;00m \u001b[39mValueError\u001b[39;00m(\n\u001b[1;32m    383\u001b[0m         \u001b[39m\"\u001b[39m\u001b[39mOnly one class present in y_true. ROC AUC score \u001b[39m\u001b[39m\"\u001b[39m\n\u001b[1;32m    384\u001b[0m         \u001b[39m\"\u001b[39m\u001b[39mis not defined in that case.\u001b[39m\u001b[39m\"\u001b[39m\n\u001b[1;32m    385\u001b[0m     )\n\u001b[1;32m    387\u001b[0m fpr, tpr, _ \u001b[39m=\u001b[39m roc_curve(y_true, y_score, sample_weight\u001b[39m=\u001b[39msample_weight)\n\u001b[1;32m    388\u001b[0m \u001b[39mif\u001b[39;00m max_fpr \u001b[39mis\u001b[39;00m \u001b[39mNone\u001b[39;00m \u001b[39mor\u001b[39;00m max_fpr \u001b[39m==\u001b[39m \u001b[39m1\u001b[39m:\n",
      "\u001b[0;31mValueError\u001b[0m: Only one class present in y_true. ROC AUC score is not defined in that case."
     ]
    }
   ],
   "source": [
    "models_215 = utils.compute_all_models_and_save(df=df_215, \n",
    "                                              biomarkers=BIOMARKERS_215, \n",
    "                                              target_col='Pathology', \n",
    "                                              methods=METHODS, \n",
    "                                              max_biomarker_count=1,\n",
    "                                              folder_name=RESULTS_PATH,\n",
    "                                              auc_threshold=0.0, \n",
    "                                              plot_rocs=False,\n",
    "                                              compute_auc_ci=True)"
   ]
  },
  {
   "cell_type": "code",
   "execution_count": null,
   "metadata": {},
   "outputs": [
    {
     "ename": "FileNotFoundError",
     "evalue": "[Errno 2] No such file or directory: '../data/results/215/direct/max_1.csv'",
     "output_type": "error",
     "traceback": [
      "\u001b[0;31m---------------------------------------------------------------------------\u001b[0m",
      "\u001b[0;31mFileNotFoundError\u001b[0m                         Traceback (most recent call last)",
      "\u001b[1;32m/home/leandro/Insync/gdrive/Mimark/code/cohort-analysis/notebooks/215_aucs_analysis.ipynb Cell 13\u001b[0m line \u001b[0;36m2\n\u001b[1;32m      <a href='vscode-notebook-cell:/home/leandro/Insync/gdrive/Mimark/code/cohort-analysis/notebooks/215_aucs_analysis.ipynb#X15sZmlsZQ%3D%3D?line=0'>1</a>\u001b[0m \u001b[39m# Load the results\u001b[39;00m\n\u001b[0;32m----> <a href='vscode-notebook-cell:/home/leandro/Insync/gdrive/Mimark/code/cohort-analysis/notebooks/215_aucs_analysis.ipynb#X15sZmlsZQ%3D%3D?line=1'>2</a>\u001b[0m df_215_results_direct_max_1 \u001b[39m=\u001b[39m pd\u001b[39m.\u001b[39;49mread_csv(\u001b[39mf\u001b[39;49m\u001b[39m'\u001b[39;49m\u001b[39m{\u001b[39;49;00mRESULTS_PATH\u001b[39m}\u001b[39;49;00m\u001b[39m/direct/max_1.csv\u001b[39;49m\u001b[39m'\u001b[39;49m, sep\u001b[39m=\u001b[39;49m\u001b[39m'\u001b[39;49m\u001b[39m,\u001b[39;49m\u001b[39m'\u001b[39;49m, index_col\u001b[39m=\u001b[39;49m\u001b[39m0\u001b[39;49m, header\u001b[39m=\u001b[39;49m\u001b[39m0\u001b[39;49m)\n\u001b[1;32m      <a href='vscode-notebook-cell:/home/leandro/Insync/gdrive/Mimark/code/cohort-analysis/notebooks/215_aucs_analysis.ipynb#X15sZmlsZQ%3D%3D?line=2'>3</a>\u001b[0m df_215_results_direct_max_1\u001b[39m.\u001b[39mhead(\u001b[39m10\u001b[39m)\n",
      "File \u001b[0;32m~/Insync/leandro.radusky@gmail.com/Google Drive/Mimark/code/mimark_analyses/.venv/lib/python3.12/site-packages/pandas/io/parsers/readers.py:1026\u001b[0m, in \u001b[0;36mread_csv\u001b[0;34m(filepath_or_buffer, sep, delimiter, header, names, index_col, usecols, dtype, engine, converters, true_values, false_values, skipinitialspace, skiprows, skipfooter, nrows, na_values, keep_default_na, na_filter, verbose, skip_blank_lines, parse_dates, infer_datetime_format, keep_date_col, date_parser, date_format, dayfirst, cache_dates, iterator, chunksize, compression, thousands, decimal, lineterminator, quotechar, quoting, doublequote, escapechar, comment, encoding, encoding_errors, dialect, on_bad_lines, delim_whitespace, low_memory, memory_map, float_precision, storage_options, dtype_backend)\u001b[0m\n\u001b[1;32m   1013\u001b[0m kwds_defaults \u001b[39m=\u001b[39m _refine_defaults_read(\n\u001b[1;32m   1014\u001b[0m     dialect,\n\u001b[1;32m   1015\u001b[0m     delimiter,\n\u001b[0;32m   (...)\u001b[0m\n\u001b[1;32m   1022\u001b[0m     dtype_backend\u001b[39m=\u001b[39mdtype_backend,\n\u001b[1;32m   1023\u001b[0m )\n\u001b[1;32m   1024\u001b[0m kwds\u001b[39m.\u001b[39mupdate(kwds_defaults)\n\u001b[0;32m-> 1026\u001b[0m \u001b[39mreturn\u001b[39;00m _read(filepath_or_buffer, kwds)\n",
      "File \u001b[0;32m~/Insync/leandro.radusky@gmail.com/Google Drive/Mimark/code/mimark_analyses/.venv/lib/python3.12/site-packages/pandas/io/parsers/readers.py:620\u001b[0m, in \u001b[0;36m_read\u001b[0;34m(filepath_or_buffer, kwds)\u001b[0m\n\u001b[1;32m    617\u001b[0m _validate_names(kwds\u001b[39m.\u001b[39mget(\u001b[39m\"\u001b[39m\u001b[39mnames\u001b[39m\u001b[39m\"\u001b[39m, \u001b[39mNone\u001b[39;00m))\n\u001b[1;32m    619\u001b[0m \u001b[39m# Create the parser.\u001b[39;00m\n\u001b[0;32m--> 620\u001b[0m parser \u001b[39m=\u001b[39m TextFileReader(filepath_or_buffer, \u001b[39m*\u001b[39;49m\u001b[39m*\u001b[39;49mkwds)\n\u001b[1;32m    622\u001b[0m \u001b[39mif\u001b[39;00m chunksize \u001b[39mor\u001b[39;00m iterator:\n\u001b[1;32m    623\u001b[0m     \u001b[39mreturn\u001b[39;00m parser\n",
      "File \u001b[0;32m~/Insync/leandro.radusky@gmail.com/Google Drive/Mimark/code/mimark_analyses/.venv/lib/python3.12/site-packages/pandas/io/parsers/readers.py:1620\u001b[0m, in \u001b[0;36mTextFileReader.__init__\u001b[0;34m(self, f, engine, **kwds)\u001b[0m\n\u001b[1;32m   1617\u001b[0m     \u001b[39mself\u001b[39m\u001b[39m.\u001b[39moptions[\u001b[39m\"\u001b[39m\u001b[39mhas_index_names\u001b[39m\u001b[39m\"\u001b[39m] \u001b[39m=\u001b[39m kwds[\u001b[39m\"\u001b[39m\u001b[39mhas_index_names\u001b[39m\u001b[39m\"\u001b[39m]\n\u001b[1;32m   1619\u001b[0m \u001b[39mself\u001b[39m\u001b[39m.\u001b[39mhandles: IOHandles \u001b[39m|\u001b[39m \u001b[39mNone\u001b[39;00m \u001b[39m=\u001b[39m \u001b[39mNone\u001b[39;00m\n\u001b[0;32m-> 1620\u001b[0m \u001b[39mself\u001b[39m\u001b[39m.\u001b[39m_engine \u001b[39m=\u001b[39m \u001b[39mself\u001b[39;49m\u001b[39m.\u001b[39;49m_make_engine(f, \u001b[39mself\u001b[39;49m\u001b[39m.\u001b[39;49mengine)\n",
      "File \u001b[0;32m~/Insync/leandro.radusky@gmail.com/Google Drive/Mimark/code/mimark_analyses/.venv/lib/python3.12/site-packages/pandas/io/parsers/readers.py:1880\u001b[0m, in \u001b[0;36mTextFileReader._make_engine\u001b[0;34m(self, f, engine)\u001b[0m\n\u001b[1;32m   1878\u001b[0m     \u001b[39mif\u001b[39;00m \u001b[39m\"\u001b[39m\u001b[39mb\u001b[39m\u001b[39m\"\u001b[39m \u001b[39mnot\u001b[39;00m \u001b[39min\u001b[39;00m mode:\n\u001b[1;32m   1879\u001b[0m         mode \u001b[39m+\u001b[39m\u001b[39m=\u001b[39m \u001b[39m\"\u001b[39m\u001b[39mb\u001b[39m\u001b[39m\"\u001b[39m\n\u001b[0;32m-> 1880\u001b[0m \u001b[39mself\u001b[39m\u001b[39m.\u001b[39mhandles \u001b[39m=\u001b[39m get_handle(\n\u001b[1;32m   1881\u001b[0m     f,\n\u001b[1;32m   1882\u001b[0m     mode,\n\u001b[1;32m   1883\u001b[0m     encoding\u001b[39m=\u001b[39;49m\u001b[39mself\u001b[39;49m\u001b[39m.\u001b[39;49moptions\u001b[39m.\u001b[39;49mget(\u001b[39m\"\u001b[39;49m\u001b[39mencoding\u001b[39;49m\u001b[39m\"\u001b[39;49m, \u001b[39mNone\u001b[39;49;00m),\n\u001b[1;32m   1884\u001b[0m     compression\u001b[39m=\u001b[39;49m\u001b[39mself\u001b[39;49m\u001b[39m.\u001b[39;49moptions\u001b[39m.\u001b[39;49mget(\u001b[39m\"\u001b[39;49m\u001b[39mcompression\u001b[39;49m\u001b[39m\"\u001b[39;49m, \u001b[39mNone\u001b[39;49;00m),\n\u001b[1;32m   1885\u001b[0m     memory_map\u001b[39m=\u001b[39;49m\u001b[39mself\u001b[39;49m\u001b[39m.\u001b[39;49moptions\u001b[39m.\u001b[39;49mget(\u001b[39m\"\u001b[39;49m\u001b[39mmemory_map\u001b[39;49m\u001b[39m\"\u001b[39;49m, \u001b[39mFalse\u001b[39;49;00m),\n\u001b[1;32m   1886\u001b[0m     is_text\u001b[39m=\u001b[39;49mis_text,\n\u001b[1;32m   1887\u001b[0m     errors\u001b[39m=\u001b[39;49m\u001b[39mself\u001b[39;49m\u001b[39m.\u001b[39;49moptions\u001b[39m.\u001b[39;49mget(\u001b[39m\"\u001b[39;49m\u001b[39mencoding_errors\u001b[39;49m\u001b[39m\"\u001b[39;49m, \u001b[39m\"\u001b[39;49m\u001b[39mstrict\u001b[39;49m\u001b[39m\"\u001b[39;49m),\n\u001b[1;32m   1888\u001b[0m     storage_options\u001b[39m=\u001b[39;49m\u001b[39mself\u001b[39;49m\u001b[39m.\u001b[39;49moptions\u001b[39m.\u001b[39;49mget(\u001b[39m\"\u001b[39;49m\u001b[39mstorage_options\u001b[39;49m\u001b[39m\"\u001b[39;49m, \u001b[39mNone\u001b[39;49;00m),\n\u001b[1;32m   1889\u001b[0m )\n\u001b[1;32m   1890\u001b[0m \u001b[39massert\u001b[39;00m \u001b[39mself\u001b[39m\u001b[39m.\u001b[39mhandles \u001b[39mis\u001b[39;00m \u001b[39mnot\u001b[39;00m \u001b[39mNone\u001b[39;00m\n\u001b[1;32m   1891\u001b[0m f \u001b[39m=\u001b[39m \u001b[39mself\u001b[39m\u001b[39m.\u001b[39mhandles\u001b[39m.\u001b[39mhandle\n",
      "File \u001b[0;32m~/Insync/leandro.radusky@gmail.com/Google Drive/Mimark/code/mimark_analyses/.venv/lib/python3.12/site-packages/pandas/io/common.py:873\u001b[0m, in \u001b[0;36mget_handle\u001b[0;34m(path_or_buf, mode, encoding, compression, memory_map, is_text, errors, storage_options)\u001b[0m\n\u001b[1;32m    868\u001b[0m \u001b[39melif\u001b[39;00m \u001b[39misinstance\u001b[39m(handle, \u001b[39mstr\u001b[39m):\n\u001b[1;32m    869\u001b[0m     \u001b[39m# Check whether the filename is to be opened in binary mode.\u001b[39;00m\n\u001b[1;32m    870\u001b[0m     \u001b[39m# Binary mode does not support 'encoding' and 'newline'.\u001b[39;00m\n\u001b[1;32m    871\u001b[0m     \u001b[39mif\u001b[39;00m ioargs\u001b[39m.\u001b[39mencoding \u001b[39mand\u001b[39;00m \u001b[39m\"\u001b[39m\u001b[39mb\u001b[39m\u001b[39m\"\u001b[39m \u001b[39mnot\u001b[39;00m \u001b[39min\u001b[39;00m ioargs\u001b[39m.\u001b[39mmode:\n\u001b[1;32m    872\u001b[0m         \u001b[39m# Encoding\u001b[39;00m\n\u001b[0;32m--> 873\u001b[0m         handle \u001b[39m=\u001b[39m \u001b[39mopen\u001b[39;49m(\n\u001b[1;32m    874\u001b[0m             handle,\n\u001b[1;32m    875\u001b[0m             ioargs\u001b[39m.\u001b[39;49mmode,\n\u001b[1;32m    876\u001b[0m             encoding\u001b[39m=\u001b[39;49mioargs\u001b[39m.\u001b[39;49mencoding,\n\u001b[1;32m    877\u001b[0m             errors\u001b[39m=\u001b[39;49merrors,\n\u001b[1;32m    878\u001b[0m             newline\u001b[39m=\u001b[39;49m\u001b[39m\"\u001b[39;49m\u001b[39m\"\u001b[39;49m,\n\u001b[1;32m    879\u001b[0m         )\n\u001b[1;32m    880\u001b[0m     \u001b[39melse\u001b[39;00m:\n\u001b[1;32m    881\u001b[0m         \u001b[39m# Binary mode\u001b[39;00m\n\u001b[1;32m    882\u001b[0m         handle \u001b[39m=\u001b[39m \u001b[39mopen\u001b[39m(handle, ioargs\u001b[39m.\u001b[39mmode)\n",
      "\u001b[0;31mFileNotFoundError\u001b[0m: [Errno 2] No such file or directory: '../data/results/215/direct/max_1.csv'"
     ]
    }
   ],
   "source": [
    "# Load the results\n",
    "df_215_results_direct_max_1 = pd.read_csv(f'{RESULTS_PATH}/direct/max_1.csv', sep=',', index_col=0, header=0)\n",
    "df_215_results_direct_max_1.head(10)"
   ]
  },
  {
   "cell_type": "code",
   "execution_count": null,
   "metadata": {},
   "outputs": [],
   "source": [
    "BIOMARKERS_215_cis = df_215_results_direct_max_1.head(20).index\n",
    "utils.plot_aucs_with_confidence_intervals(models_215, 'direct', BIOMARKERS_215_cis)"
   ]
  },
  {
   "cell_type": "code",
   "execution_count": null,
   "metadata": {},
   "outputs": [],
   "source": [
    "# _ = utils.compute_all_models_and_save(df=df_215, \n",
    "#                                         biomarkers=BIOMARKERS_215, \n",
    "#                                         target_col='Pathology', \n",
    "#                                         methods=METHODS, \n",
    "#                                         max_biomarker_count=3,\n",
    "#                                         folder_name=RESULTS_PATH,\n",
    "#                                         auc_threshold=0.0, \n",
    "#                                         plot_rocs=True)"
   ]
  },
  {
   "cell_type": "code",
   "execution_count": null,
   "metadata": {},
   "outputs": [],
   "source": [
    "# df_215_results_direct_max_3 = pd.read_csv(f'{RESULTS_PATH}/direct/max_3.csv', sep=',', index_col=0, header=0)\n",
    "# df_215_results_direct_max_3.head(10)"
   ]
  },
  {
   "cell_type": "code",
   "execution_count": null,
   "metadata": {},
   "outputs": [],
   "source": []
  }
 ],
 "metadata": {
  "kernelspec": {
   "display_name": ".venv",
   "language": "python",
   "name": "python3"
  },
  "language_info": {
   "codemirror_mode": {
    "name": "ipython",
    "version": 3
   },
   "file_extension": ".py",
   "mimetype": "text/x-python",
   "name": "python",
   "nbconvert_exporter": "python",
   "pygments_lexer": "ipython3",
   "version": "3.12.3"
  }
 },
 "nbformat": 4,
 "nbformat_minor": 2
}
